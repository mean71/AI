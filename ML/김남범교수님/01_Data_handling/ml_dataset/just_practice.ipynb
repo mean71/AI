{
 "cells": [
  {
   "cell_type": "markdown",
   "metadata": {},
   "source": [
    "\n",
    "판다스 머신러닝\n",
    "보는 방법\n",
    "개발환경준비\n",
    " - 아나콘다 배포판 설치\n",
    " - 주피터랩\n",
    " - 필수라이브러리 설치\n",
    "\n",
    "판다스 입문\n",
    "- datascientist와 판다스\n",
    "- 판다스 자료구조\n",
    "  - 시리즈\n",
    "    - 생성 / 인덱스 구조 / 원소 선택 / 시리즈를 객체를 생성하는 특수 방법\n",
    "  - DataFrame\n",
    "    - DF생성\n",
    "    - 행인덱스/열 이름설정\n",
    "    - 행/열 삭제\n",
    "    - 행 선택 / 열 선택\n",
    "    - 원소 선택\n",
    "    - 열 추가 / 행추가\n",
    "    - 원소 값 변경\n",
    "    - 행/열의 위치 바꾸기\n",
    "  - 인덱스 활용\n",
    "  - 산술연산\n",
    "  - 필터링\n",
    "  - 텍스트 처리\n",
    "데이터 입출력\n",
    "- 외부파일 읽어오기\n",
    "- 웹(web에서 가져오기)\n",
    "- API 활용하여 데이터 수집하기(1,2)\n",
    "- 데이터 저장하기\n",
    "데이터 살펴보기\n",
    "- DF구조\n",
    "- 통계함수 적용\n",
    "- 판다스 내장 그래프 도구 활용\n",
    "시각화 도구\n",
    "데이터 사전 처리\n",
    "데이터 프레임의 다양한 응용\n",
    "머신러닝 데이터 분석\n",
    "- 개요\n",
    "  - 개념\n",
    "  - 지도학습 / 비지도 학습\n",
    "  - 머신러닝 프로세스\n",
    "- 회귀분석\n",
    "  - 단순회귀분석\n",
    "    - 준비 > 탐색 > 전처리 > 변수선택 > 훈련/검증 데이터 분할 > 모델 학습 및 검증\n",
    "  - 다항회귀분석\n",
    "    - 데이터 준비\n",
    "    - 모델 학습 및 검증\n",
    "  - 다중회귀분석\n",
    "    - 데이터 준비\n",
    "    - 모델 학습 및 검증\n",
    "- 분류\n",
    "  - KNN\n",
    "  - SVM\n",
    "  - Decision Tree\n",
    "- 군집\n",
    "  - k-Means\n",
    "  - DBSCAN"
   ]
  },
  {
   "cell_type": "markdown",
   "metadata": {},
   "source": [
    "탐색 정렬 선택 결합"
   ]
  },
  {
   "cell_type": "code",
   "execution_count": 1,
   "metadata": {},
   "outputs": [],
   "source": [
    "import os\n",
    "import numpy as np\n",
    "import pandas as pd\n",
    "import matplotlib.pyplot as plt\n",
    "import seaborn as sns\n",
    "\n",
    "plt.rc(\"font\", family = \"gulim\")\n",
    "plt.rc(\"axes\", unicode_minus = False)\n",
    "\n",
    "fpath = \"./01_Data_handling/dataset\""
   ]
  },
  {
   "cell_type": "code",
   "execution_count": null,
   "metadata": {},
   "outputs": [],
   "source": [
    "# fname = \"csvfile.csv\"\n",
    "# file = os.path.join(fpath, fname)\n",
    "# pd.read_csv(file)"
   ]
  },
  {
   "cell_type": "code",
   "execution_count": 22,
   "metadata": {},
   "outputs": [
    {
     "name": "stdout",
     "output_type": "stream",
     "text": [
      "<class 'pandas.core.series.Series'> \n",
      "a    1\n",
      "b    2\n",
      "c    3\n",
      "dtype: int64\n"
     ]
    }
   ],
   "source": [
    "# 딕셔너리 -> 시리즈 변환\n",
    "# key값 : value값의 1차원배열\n",
    "dict_data = {'a':1, 'b':2, 'c':3}\n",
    "sr = pd.Series(dict_data)\n",
    "print(f'{type(sr)} \\n{sr}')"
   ]
  },
  {
   "cell_type": "code",
   "execution_count": 25,
   "metadata": {},
   "outputs": [
    {
     "name": "stdout",
     "output_type": "stream",
     "text": [
      "0    2012-01-02\n",
      "1          3.14\n",
      "2           ABC\n",
      "3           100\n",
      "4          True\n",
      "dtype: object\n"
     ]
    }
   ],
   "source": [
    "# 시리즈 인덱스\n",
    "# list -> 시리즈 변환\n",
    "list_data = [\"2012-01-02\", 3.14, \"ABC\",100,True]\n",
    "sr = pd.Series(list_data)\n",
    "print(sr)"
   ]
  }
 ],
 "metadata": {
  "kernelspec": {
   "display_name": "Python 3",
   "language": "python",
   "name": "python3"
  },
  "language_info": {
   "codemirror_mode": {
    "name": "ipython",
    "version": 3
   },
   "file_extension": ".py",
   "mimetype": "text/x-python",
   "name": "python",
   "nbconvert_exporter": "python",
   "pygments_lexer": "ipython3",
   "version": "3.12.4"
  }
 },
 "nbformat": 4,
 "nbformat_minor": 2
}
