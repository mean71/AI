{
 "cells": [
  {
   "cell_type": "code",
   "execution_count": 9,
   "metadata": {},
   "outputs": [
    {
     "name": "stdout",
     "output_type": "stream",
     "text": [
      "Defaulting to user installation because normal site-packages is not writeable\n",
      "Requirement already satisfied: matplotlib in c:\\users\\user\\appdata\\roaming\\python\\python312\\site-packages (3.9.1)\n",
      "Requirement already satisfied: contourpy>=1.0.1 in c:\\users\\user\\appdata\\roaming\\python\\python312\\site-packages (from matplotlib) (1.2.1)\n",
      "Requirement already satisfied: cycler>=0.10 in c:\\users\\user\\appdata\\roaming\\python\\python312\\site-packages (from matplotlib) (0.12.1)\n",
      "Requirement already satisfied: fonttools>=4.22.0 in c:\\users\\user\\appdata\\roaming\\python\\python312\\site-packages (from matplotlib) (4.53.1)\n",
      "Requirement already satisfied: kiwisolver>=1.3.1 in c:\\users\\user\\appdata\\roaming\\python\\python312\\site-packages (from matplotlib) (1.4.5)\n",
      "Requirement already satisfied: numpy>=1.23 in c:\\users\\user\\appdata\\roaming\\python\\python312\\site-packages (from matplotlib) (2.0.1)\n",
      "Requirement already satisfied: packaging>=20.0 in c:\\users\\user\\appdata\\roaming\\python\\python312\\site-packages (from matplotlib) (24.1)\n",
      "Requirement already satisfied: pillow>=8 in c:\\users\\user\\appdata\\roaming\\python\\python312\\site-packages (from matplotlib) (10.4.0)\n",
      "Requirement already satisfied: pyparsing>=2.3.1 in c:\\users\\user\\appdata\\roaming\\python\\python312\\site-packages (from matplotlib) (3.1.2)\n",
      "Requirement already satisfied: python-dateutil>=2.7 in c:\\users\\user\\appdata\\roaming\\python\\python312\\site-packages (from matplotlib) (2.9.0.post0)\n",
      "Requirement already satisfied: six>=1.5 in c:\\users\\user\\appdata\\roaming\\python\\python312\\site-packages (from python-dateutil>=2.7->matplotlib) (1.16.0)\n",
      "2.0.1\n"
     ]
    }
   ],
   "source": [
    "!pip install matplotlib\n",
    "import numpy as np\n",
    "import matplotlib.pyplot as plt\n",
    "\n",
    "print(np.__version__)"
   ]
  },
  {
   "cell_type": "code",
   "execution_count": 12,
   "metadata": {},
   "outputs": [
    {
     "name": "stdout",
     "output_type": "stream",
     "text": [
      "Matrix A = \n",
      " [[ 2  3  4]\n",
      " [10 20 30]]\n",
      "Shape of A =  (2, 3)\n",
      "Dtype A =  int64\n",
      "Matrix A = \n",
      " [[ 2.  3.  4.]\n",
      " [10. 20. 30.]]\n",
      "Shape of A =  (2, 3)\n",
      "Dtype A =  float32\n"
     ]
    }
   ],
   "source": [
    "##\n",
    "A = np.array([[2, 3, 4],\n",
    "             [10,20,30]])\n",
    "\n",
    "B = np.array([[2,3,4],\n",
    "              [10,20,30]], dtype = np.float32)\n",
    "\n",
    "print(\"Matrix A = \\n\", A)\n",
    "print(\"Shape of A = \", A.shape)\n",
    "print(\"Dtype A = \", A.dtype)\n",
    "\n",
    "print(\"Matrix A = \\n\", B)\n",
    "print(\"Shape of A = \", B.shape)\n",
    "print(\"Dtype A = \", B.dtype)"
   ]
  },
  {
   "cell_type": "code",
   "execution_count": 25,
   "metadata": {},
   "outputs": [
    {
     "name": "stdout",
     "output_type": "stream",
     "text": [
      "D_1 = \n",
      " [[1 0 0 0]\n",
      " [0 2 0 0]\n",
      " [0 0 3 0]\n",
      " [0 0 0 4]]\n",
      "D_2 = \n",
      " [[8 0 0 0 0]\n",
      " [0 8 0 0 0]\n",
      " [0 0 8 0 0]\n",
      " [0 0 0 9 0]\n",
      " [0 0 0 0 1]]\n"
     ]
    }
   ],
   "source": [
    "## Diagonal\n",
    "a = np.array([1, 2, 3, 4])\n",
    "\n",
    "D_1 = np.diag(a)\n",
    "print(\"D_1 = \\n\", D_1)\n",
    "\n",
    "b= np.random.randint(1, 10, 5)\n",
    "D_2 = np.diag(b)\n",
    "print(\"D_2 = \\n\", D_2)"
   ]
  },
  {
   "cell_type": "code",
   "execution_count": 24,
   "metadata": {},
   "outputs": [
    {
     "name": "stdout",
     "output_type": "stream",
     "text": [
      "3 x 3 Identity = \n",
      " [[1. 0. 0.]\n",
      " [0. 1. 0.]\n",
      " [0. 0. 1.]]\n",
      "5 x 5 Identity = \n",
      " [[1. 0. 0. 0. 0.]\n",
      " [0. 1. 0. 0. 0.]\n",
      " [0. 0. 1. 0. 0.]\n",
      " [0. 0. 0. 1. 0.]\n",
      " [0. 0. 0. 0. 1.]]\n"
     ]
    }
   ],
   "source": [
    "## 단위 행렬, Identity\n",
    "I_3 = np.eye(3)\n",
    "print(\"3 x 3 Identity = \\n\", I_3)\n",
    "\n",
    "I_5 = np.eye(5)\n",
    "print(\"5 x 5 Identity = \\n\", I_5)"
   ]
  },
  {
   "cell_type": "code",
   "execution_count": 22,
   "metadata": {},
   "outputs": [
    {
     "name": "stdout",
     "output_type": "stream",
     "text": [
      "A = \n",
      " [[1 2 3 4]\n",
      " [5 6 7 8]]\n",
      "transpose A = \n",
      " [[1 5]\n",
      " [2 6]\n",
      " [3 7]\n",
      " [4 8]]\n"
     ]
    }
   ],
   "source": [
    "## 전치 행렬, Matrix transpose\n",
    "A = np.array([[1, 2, 3, 4],\n",
    "             [5, 6, 7, 8]], dtype = np.int64)\n",
    "print(\"A = \\n\", A)\n",
    "print(\"transpose A = \\n\", A.T)"
   ]
  },
  {
   "cell_type": "code",
   "execution_count": 31,
   "metadata": {},
   "outputs": [
    {
     "name": "stdout",
     "output_type": "stream",
     "text": [
      "A*B = \n",
      " [[1 2]\n",
      " [3 8]]\n",
      "A X B = \n",
      " [[ 3  5]\n",
      " [ 7 11]]\n"
     ]
    }
   ],
   "source": [
    "## Matrix product\n",
    "\n",
    "A = np.array([[1, 2],\n",
    "             [3, 4]])\n",
    "B = np.array([[1, 1],\n",
    "             [1, 2]])\n",
    "# 원소끼리 곱하는 프로덕트\n",
    "print(\"A*B = \\n\", A*B)\n",
    "print(\"A X B = \\n\", np.matmul(A, B)) # .matmul 텐서도 맷플랏도 뭣도 matmul명령어 같다?"
   ]
  }
 ],
 "metadata": {
  "kernelspec": {
   "display_name": "Python 3",
   "language": "python",
   "name": "python3"
  },
  "language_info": {
   "codemirror_mode": {
    "name": "ipython",
    "version": 3
   },
   "file_extension": ".py",
   "mimetype": "text/x-python",
   "name": "python",
   "nbconvert_exporter": "python",
   "pygments_lexer": "ipython3",
   "version": "3.12.4"
  }
 },
 "nbformat": 4,
 "nbformat_minor": 2
}
