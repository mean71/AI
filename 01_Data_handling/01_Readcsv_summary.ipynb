{
  "cells": [
    {
      "cell_type": "markdown",
      "metadata": {
        "id": "KKhO9wInXg8O"
      },
      "source": [
        "# 데이터 분석 기초\n",
        "\n"
      ]
    },
    {
      "cell_type": "markdown",
      "metadata": {},
      "source": [
        "## Data 의 종류\n",
        "\n",
        "### 연속형 자료\n",
        "- 등간척도 (Interval): 절대값 0 이 존재하지 않음, 곱셈법칙 적용이 안됨, 예)온도\n",
        "- 비율척도 (Ratio): 절대값 0 이 존재, 예) 키, 몸무게, 혈압\n",
        "\n",
        "### 범주형 자료\n",
        "- 명목척도 (Nominal): 속성을 분류하는 척도, 속성간 순위가 없음, 예) 남/녀, 국어/영어/수학\n",
        "- 순서척도 (Ordinal): 속성간에 순위개념이 존재하는 척도, 예) 상/중/하, 좋음/보통/나쁨"
      ]
    },
    {
      "cell_type": "markdown",
      "metadata": {
        "id": "6eAKJXy0z4H4"
      },
      "source": [
        "\n",
        "\n",
        "> ## 파일로 부터 자료 읽기\n",
        "\n"
      ]
    },
    {
      "cell_type": "code",
      "execution_count": 1,
      "metadata": {
        "id": "DpGc0DCEX_nQ"
      },
      "outputs": [],
      "source": [
        "# 라이브러리\n",
        "import numpy as np\n",
        "import pandas as pd\n",
        "import matplotlib.pyplot as plt\n",
        "import os"
      ]
    },
    {
      "cell_type": "code",
      "execution_count": 2,
      "metadata": {},
      "outputs": [],
      "source": [
        "## 구글 그라이브 마운트 & 파일 업로드\n",
        "# from google.colab import drive, files\n",
        "# drive.mount(\"/content/drive\")\n",
        "# uploaded = files.upload()"
      ]
    },
    {
      "cell_type": "markdown",
      "metadata": {
        "id": "GlzxoIF_0KNN"
      },
      "source": [
        "### CSV 파일 읽기"
      ]
    },
    {
      "cell_type": "code",
      "execution_count": 8,
      "metadata": {},
      "outputs": [],
      "source": [
        "## File path\n",
        "fpath = \"./ml_dataset/dataset\""
      ]
    },
    {
      "cell_type": "code",
      "execution_count": 9,
      "metadata": {
        "colab": {
          "base_uri": "https://localhost:8080/",
          "height": 206
        },
        "id": "iktH9X2fXryt",
        "outputId": "cb5c26b8-f80a-4983-edf4-b44b6753d5f7"
      },
      "outputs": [
        {
          "data": {
            "text/html": [
              "<div>\n",
              "<style scoped>\n",
              "    .dataframe tbody tr th:only-of-type {\n",
              "        vertical-align: middle;\n",
              "    }\n",
              "\n",
              "    .dataframe tbody tr th {\n",
              "        vertical-align: top;\n",
              "    }\n",
              "\n",
              "    .dataframe thead th {\n",
              "        text-align: right;\n",
              "    }\n",
              "</style>\n",
              "<table border=\"1\" class=\"dataframe\">\n",
              "  <thead>\n",
              "    <tr style=\"text-align: right;\">\n",
              "      <th></th>\n",
              "      <th>speed</th>\n",
              "      <th>dist</th>\n",
              "    </tr>\n",
              "  </thead>\n",
              "  <tbody>\n",
              "    <tr>\n",
              "      <th>0</th>\n",
              "      <td>4</td>\n",
              "      <td>2</td>\n",
              "    </tr>\n",
              "    <tr>\n",
              "      <th>1</th>\n",
              "      <td>4</td>\n",
              "      <td>10</td>\n",
              "    </tr>\n",
              "    <tr>\n",
              "      <th>2</th>\n",
              "      <td>7</td>\n",
              "      <td>4</td>\n",
              "    </tr>\n",
              "    <tr>\n",
              "      <th>3</th>\n",
              "      <td>7</td>\n",
              "      <td>22</td>\n",
              "    </tr>\n",
              "    <tr>\n",
              "      <th>4</th>\n",
              "      <td>8</td>\n",
              "      <td>16</td>\n",
              "    </tr>\n",
              "  </tbody>\n",
              "</table>\n",
              "</div>"
            ],
            "text/plain": [
              "   speed  dist\n",
              "0      4     2\n",
              "1      4    10\n",
              "2      7     4\n",
              "3      7    22\n",
              "4      8    16"
            ]
          },
          "execution_count": 9,
          "metadata": {},
          "output_type": "execute_result"
        }
      ],
      "source": [
        "# csv 파일 읽기\n",
        "# header, index_col, sep, names\n",
        "fname = \"cars.csv\"\n",
        "file = os.path.join(fpath, fname)\n",
        "cars_df = pd.read_csv(file)\n",
        "cars_df.head()"
      ]
    },
    {
      "cell_type": "markdown",
      "metadata": {
        "id": "LOeZK1uY0WNh"
      },
      "source": [
        "### 웹에 있는 CSV 파일 읽기"
      ]
    },
    {
      "cell_type": "code",
      "execution_count": 10,
      "metadata": {
        "colab": {
          "base_uri": "https://localhost:8080/"
        },
        "id": "Km8Dr7WejwgS",
        "outputId": "00321ddc-0d7a-4873-f3f0-b24fabdfec68"
      },
      "outputs": [
        {
          "name": "stdout",
          "output_type": "stream",
          "text": [
            "    Species  Weight  Length  Diagonal   Height   Width\n",
            "0     Bream   242.0    25.4      30.0  11.5200  4.0200\n",
            "1     Bream   290.0    26.3      31.2  12.4800  4.3056\n",
            "2     Bream   340.0    26.5      31.1  12.3778  4.6961\n",
            "3     Bream   363.0    29.0      33.5  12.7300  4.4555\n",
            "4     Bream   430.0    29.0      34.0  12.4440  5.1340\n",
            "..      ...     ...     ...       ...      ...     ...\n",
            "154   Smelt    12.2    12.2      13.4   2.0904  1.3936\n",
            "155   Smelt    13.4    12.4      13.5   2.4300  1.2690\n",
            "156   Smelt    12.2    13.0      13.8   2.2770  1.2558\n",
            "157   Smelt    19.7    14.3      15.2   2.8728  2.0672\n",
            "158   Smelt    19.9    15.0      16.2   2.9322  1.8792\n",
            "\n",
            "[159 rows x 6 columns]\n"
          ]
        }
      ],
      "source": [
        "# Read from html\n",
        "fish_df = pd.read_csv('https://bit.ly/fish_csv')\n",
        "print(fish_df)"
      ]
    },
    {
      "cell_type": "markdown",
      "metadata": {
        "id": "6iv25M7Q0ds2"
      },
      "source": [
        "### 엑셀 파일 읽기"
      ]
    },
    {
      "cell_type": "code",
      "execution_count": 11,
      "metadata": {
        "colab": {
          "base_uri": "https://localhost:8080/",
          "height": 241
        },
        "id": "ErbntE_QYnO3",
        "outputId": "a1774a63-4755-43cf-8cdc-73d0e1f2cf29"
      },
      "outputs": [
        {
          "data": {
            "text/html": [
              "<div>\n",
              "<style scoped>\n",
              "    .dataframe tbody tr th:only-of-type {\n",
              "        vertical-align: middle;\n",
              "    }\n",
              "\n",
              "    .dataframe tbody tr th {\n",
              "        vertical-align: top;\n",
              "    }\n",
              "\n",
              "    .dataframe thead th {\n",
              "        text-align: right;\n",
              "    }\n",
              "</style>\n",
              "<table border=\"1\" class=\"dataframe\">\n",
              "  <thead>\n",
              "    <tr style=\"text-align: right;\">\n",
              "      <th></th>\n",
              "      <th>Unnamed: 0</th>\n",
              "      <th>mpg</th>\n",
              "      <th>cyl</th>\n",
              "      <th>disp</th>\n",
              "      <th>hp</th>\n",
              "      <th>drat</th>\n",
              "      <th>wt</th>\n",
              "      <th>qsec</th>\n",
              "      <th>vs</th>\n",
              "      <th>am</th>\n",
              "      <th>gear</th>\n",
              "      <th>carb</th>\n",
              "    </tr>\n",
              "  </thead>\n",
              "  <tbody>\n",
              "    <tr>\n",
              "      <th>0</th>\n",
              "      <td>Mazda RX4</td>\n",
              "      <td>21.0</td>\n",
              "      <td>6</td>\n",
              "      <td>160.0</td>\n",
              "      <td>110</td>\n",
              "      <td>3.90</td>\n",
              "      <td>2.620</td>\n",
              "      <td>16.46</td>\n",
              "      <td>0</td>\n",
              "      <td>1</td>\n",
              "      <td>4</td>\n",
              "      <td>4</td>\n",
              "    </tr>\n",
              "    <tr>\n",
              "      <th>1</th>\n",
              "      <td>Mazda RX4 Wag</td>\n",
              "      <td>21.0</td>\n",
              "      <td>6</td>\n",
              "      <td>160.0</td>\n",
              "      <td>110</td>\n",
              "      <td>3.90</td>\n",
              "      <td>2.875</td>\n",
              "      <td>17.02</td>\n",
              "      <td>0</td>\n",
              "      <td>1</td>\n",
              "      <td>4</td>\n",
              "      <td>4</td>\n",
              "    </tr>\n",
              "    <tr>\n",
              "      <th>2</th>\n",
              "      <td>Datsun 710</td>\n",
              "      <td>22.8</td>\n",
              "      <td>4</td>\n",
              "      <td>108.0</td>\n",
              "      <td>93</td>\n",
              "      <td>3.85</td>\n",
              "      <td>2.320</td>\n",
              "      <td>18.61</td>\n",
              "      <td>1</td>\n",
              "      <td>1</td>\n",
              "      <td>4</td>\n",
              "      <td>1</td>\n",
              "    </tr>\n",
              "    <tr>\n",
              "      <th>3</th>\n",
              "      <td>Hornet 4 Drive</td>\n",
              "      <td>21.4</td>\n",
              "      <td>6</td>\n",
              "      <td>258.0</td>\n",
              "      <td>110</td>\n",
              "      <td>3.08</td>\n",
              "      <td>3.215</td>\n",
              "      <td>19.44</td>\n",
              "      <td>1</td>\n",
              "      <td>0</td>\n",
              "      <td>3</td>\n",
              "      <td>1</td>\n",
              "    </tr>\n",
              "    <tr>\n",
              "      <th>4</th>\n",
              "      <td>Hornet Sportabout</td>\n",
              "      <td>18.7</td>\n",
              "      <td>8</td>\n",
              "      <td>360.0</td>\n",
              "      <td>175</td>\n",
              "      <td>3.15</td>\n",
              "      <td>3.440</td>\n",
              "      <td>17.02</td>\n",
              "      <td>0</td>\n",
              "      <td>0</td>\n",
              "      <td>3</td>\n",
              "      <td>2</td>\n",
              "    </tr>\n",
              "  </tbody>\n",
              "</table>\n",
              "</div>"
            ],
            "text/plain": [
              "          Unnamed: 0   mpg  cyl   disp   hp  drat     wt   qsec  vs  am  gear  \\\n",
              "0          Mazda RX4  21.0    6  160.0  110  3.90  2.620  16.46   0   1     4   \n",
              "1      Mazda RX4 Wag  21.0    6  160.0  110  3.90  2.875  17.02   0   1     4   \n",
              "2         Datsun 710  22.8    4  108.0   93  3.85  2.320  18.61   1   1     4   \n",
              "3     Hornet 4 Drive  21.4    6  258.0  110  3.08  3.215  19.44   1   0     3   \n",
              "4  Hornet Sportabout  18.7    8  360.0  175  3.15  3.440  17.02   0   0     3   \n",
              "\n",
              "   carb  \n",
              "0     4  \n",
              "1     4  \n",
              "2     1  \n",
              "3     1  \n",
              "4     2  "
            ]
          },
          "execution_count": 11,
          "metadata": {},
          "output_type": "execute_result"
        }
      ],
      "source": [
        "# 엑셀 파일 읽기\n",
        "fname = 'mtcars.xlsx'\n",
        "file = os.path.join(fpath, fname)  # './dataset\\\\mtcars.xlsx'\n",
        "\n",
        "mtcars_df = pd.read_excel(file)\n",
        "mtcars_df.head()"
      ]
    },
    {
      "cell_type": "markdown",
      "metadata": {
        "id": "WyO9zIlP0oky"
      },
      "source": [
        "## 자료에 대한 정보 보기"
      ]
    },
    {
      "cell_type": "markdown",
      "metadata": {
        "id": "UzfGphYE07rt"
      },
      "source": [
        "### 자료 인텍스, 크기, 데이터 타입, 변수명"
      ]
    },
    {
      "cell_type": "code",
      "execution_count": 12,
      "metadata": {
        "colab": {
          "base_uri": "https://localhost:8080/"
        },
        "id": "t4uC1yr1ZgNl",
        "outputId": "4e9c7396-ea1f-435c-a45f-6d5fd457768f"
      },
      "outputs": [
        {
          "name": "stdout",
          "output_type": "stream",
          "text": [
            "          Unnamed: 0   mpg  cyl   disp   hp  drat     wt   qsec  vs  am  gear  \\\n",
            "0          Mazda RX4  21.0    6  160.0  110  3.90  2.620  16.46   0   1     4   \n",
            "1      Mazda RX4 Wag  21.0    6  160.0  110  3.90  2.875  17.02   0   1     4   \n",
            "2         Datsun 710  22.8    4  108.0   93  3.85  2.320  18.61   1   1     4   \n",
            "3     Hornet 4 Drive  21.4    6  258.0  110  3.08  3.215  19.44   1   0     3   \n",
            "4  Hornet Sportabout  18.7    8  360.0  175  3.15  3.440  17.02   0   0     3   \n",
            "\n",
            "   carb  \n",
            "0     4  \n",
            "1     4  \n",
            "2     1  \n",
            "3     1  \n",
            "4     2  \n",
            "        Unnamed: 0   mpg  cyl   disp   hp  drat     wt  qsec  vs  am  gear  \\\n",
            "27    Lotus Europa  30.4    4   95.1  113  3.77  1.513  16.9   1   1     5   \n",
            "28  Ford Pantera L  15.8    8  351.0  264  4.22  3.170  14.5   0   1     5   \n",
            "29    Ferrari Dino  19.7    6  145.0  175  3.62  2.770  15.5   0   1     5   \n",
            "30   Maserati Bora  15.0    8  301.0  335  3.54  3.570  14.6   0   1     5   \n",
            "31      Volvo 142E  21.4    4  121.0  109  4.11  2.780  18.6   1   1     4   \n",
            "\n",
            "    carb  \n",
            "27     2  \n",
            "28     4  \n",
            "29     6  \n",
            "30     8  \n",
            "31     2  \n",
            "<class 'pandas.core.frame.DataFrame'>\n",
            "RangeIndex: 32 entries, 0 to 31\n",
            "Data columns (total 12 columns):\n",
            " #   Column      Non-Null Count  Dtype  \n",
            "---  ------      --------------  -----  \n",
            " 0   Unnamed: 0  32 non-null     object \n",
            " 1   mpg         32 non-null     float64\n",
            " 2   cyl         32 non-null     int64  \n",
            " 3   disp        32 non-null     float64\n",
            " 4   hp          32 non-null     int64  \n",
            " 5   drat        32 non-null     float64\n",
            " 6   wt          32 non-null     float64\n",
            " 7   qsec        32 non-null     float64\n",
            " 8   vs          32 non-null     int64  \n",
            " 9   am          32 non-null     int64  \n",
            " 10  gear        32 non-null     int64  \n",
            " 11  carb        32 non-null     int64  \n",
            "dtypes: float64(5), int64(6), object(1)\n",
            "memory usage: 3.1+ KB\n",
            "None\n",
            "RangeIndex(start=0, stop=32, step=1)\n",
            "(32, 12)\n",
            "Unnamed: 0     object\n",
            "mpg           float64\n",
            "cyl             int64\n",
            "disp          float64\n",
            "hp              int64\n",
            "drat          float64\n",
            "wt            float64\n",
            "qsec          float64\n",
            "vs              int64\n",
            "am              int64\n",
            "gear            int64\n",
            "carb            int64\n",
            "dtype: object\n",
            "Index(['Unnamed: 0', 'mpg', 'cyl', 'disp', 'hp', 'drat', 'wt', 'qsec', 'vs',\n",
            "       'am', 'gear', 'carb'],\n",
            "      dtype='object')\n"
          ]
        }
      ],
      "source": [
        "# DataFrame 정보 확인\n",
        "print(mtcars_df.head()) # 5개\n",
        "print(mtcars_df.tail())\n",
        "print(mtcars_df.info())\n",
        "print(mtcars_df.index)\n",
        "print(mtcars_df.shape)\n",
        "print(mtcars_df.dtypes)\n",
        "print(mtcars_df.columns)"
      ]
    },
    {
      "cell_type": "code",
      "execution_count": 13,
      "metadata": {},
      "outputs": [
        {
          "name": "stdout",
          "output_type": "stream",
          "text": [
            "<class 'pandas.core.frame.DataFrame'>\n",
            "RangeIndex: 32 entries, 0 to 31\n",
            "Data columns (total 12 columns):\n",
            " #   Column      Non-Null Count  Dtype   \n",
            "---  ------      --------------  -----   \n",
            " 0   Unnamed: 0  32 non-null     object  \n",
            " 1   mpg         32 non-null     float64 \n",
            " 2   cyl         32 non-null     category\n",
            " 3   disp        32 non-null     float64 \n",
            " 4   hp          32 non-null     int64   \n",
            " 5   drat        32 non-null     float64 \n",
            " 6   wt          32 non-null     float64 \n",
            " 7   qsec        32 non-null     float64 \n",
            " 8   vs          32 non-null     int64   \n",
            " 9   am          32 non-null     int64   \n",
            " 10  gear        32 non-null     int64   \n",
            " 11  carb        32 non-null     int64   \n",
            "dtypes: category(1), float64(5), int64(5), object(1)\n",
            "memory usage: 3.0+ KB\n"
          ]
        }
      ],
      "source": [
        "mtcars_df.cyl = mtcars_df.cyl.astype(\"category\")\n",
        "mtcars_df.info(0)"
      ]
    },
    {
      "cell_type": "code",
      "execution_count": 14,
      "metadata": {
        "colab": {
          "base_uri": "https://localhost:8080/",
          "height": 320
        },
        "id": "bQkSFpGpkzZj",
        "outputId": "7e796620-3564-430e-8256-731002b58fa5"
      },
      "outputs": [
        {
          "data": {
            "text/html": [
              "<div>\n",
              "<style scoped>\n",
              "    .dataframe tbody tr th:only-of-type {\n",
              "        vertical-align: middle;\n",
              "    }\n",
              "\n",
              "    .dataframe tbody tr th {\n",
              "        vertical-align: top;\n",
              "    }\n",
              "\n",
              "    .dataframe thead th {\n",
              "        text-align: right;\n",
              "    }\n",
              "</style>\n",
              "<table border=\"1\" class=\"dataframe\">\n",
              "  <thead>\n",
              "    <tr style=\"text-align: right;\">\n",
              "      <th></th>\n",
              "      <th>mpg</th>\n",
              "      <th>disp</th>\n",
              "      <th>hp</th>\n",
              "      <th>drat</th>\n",
              "      <th>wt</th>\n",
              "      <th>qsec</th>\n",
              "      <th>vs</th>\n",
              "      <th>am</th>\n",
              "      <th>gear</th>\n",
              "      <th>carb</th>\n",
              "    </tr>\n",
              "  </thead>\n",
              "  <tbody>\n",
              "    <tr>\n",
              "      <th>count</th>\n",
              "      <td>32.000000</td>\n",
              "      <td>32.000000</td>\n",
              "      <td>32.000000</td>\n",
              "      <td>32.000000</td>\n",
              "      <td>32.000000</td>\n",
              "      <td>32.000000</td>\n",
              "      <td>32.000000</td>\n",
              "      <td>32.000000</td>\n",
              "      <td>32.000000</td>\n",
              "      <td>32.0000</td>\n",
              "    </tr>\n",
              "    <tr>\n",
              "      <th>mean</th>\n",
              "      <td>20.090625</td>\n",
              "      <td>230.721875</td>\n",
              "      <td>146.687500</td>\n",
              "      <td>3.596563</td>\n",
              "      <td>3.217250</td>\n",
              "      <td>17.848750</td>\n",
              "      <td>0.437500</td>\n",
              "      <td>0.406250</td>\n",
              "      <td>3.687500</td>\n",
              "      <td>2.8125</td>\n",
              "    </tr>\n",
              "    <tr>\n",
              "      <th>std</th>\n",
              "      <td>6.026948</td>\n",
              "      <td>123.938694</td>\n",
              "      <td>68.562868</td>\n",
              "      <td>0.534679</td>\n",
              "      <td>0.978457</td>\n",
              "      <td>1.786943</td>\n",
              "      <td>0.504016</td>\n",
              "      <td>0.498991</td>\n",
              "      <td>0.737804</td>\n",
              "      <td>1.6152</td>\n",
              "    </tr>\n",
              "    <tr>\n",
              "      <th>min</th>\n",
              "      <td>10.400000</td>\n",
              "      <td>71.100000</td>\n",
              "      <td>52.000000</td>\n",
              "      <td>2.760000</td>\n",
              "      <td>1.513000</td>\n",
              "      <td>14.500000</td>\n",
              "      <td>0.000000</td>\n",
              "      <td>0.000000</td>\n",
              "      <td>3.000000</td>\n",
              "      <td>1.0000</td>\n",
              "    </tr>\n",
              "    <tr>\n",
              "      <th>25%</th>\n",
              "      <td>15.425000</td>\n",
              "      <td>120.825000</td>\n",
              "      <td>96.500000</td>\n",
              "      <td>3.080000</td>\n",
              "      <td>2.581250</td>\n",
              "      <td>16.892500</td>\n",
              "      <td>0.000000</td>\n",
              "      <td>0.000000</td>\n",
              "      <td>3.000000</td>\n",
              "      <td>2.0000</td>\n",
              "    </tr>\n",
              "    <tr>\n",
              "      <th>50%</th>\n",
              "      <td>19.200000</td>\n",
              "      <td>196.300000</td>\n",
              "      <td>123.000000</td>\n",
              "      <td>3.695000</td>\n",
              "      <td>3.325000</td>\n",
              "      <td>17.710000</td>\n",
              "      <td>0.000000</td>\n",
              "      <td>0.000000</td>\n",
              "      <td>4.000000</td>\n",
              "      <td>2.0000</td>\n",
              "    </tr>\n",
              "    <tr>\n",
              "      <th>75%</th>\n",
              "      <td>22.800000</td>\n",
              "      <td>326.000000</td>\n",
              "      <td>180.000000</td>\n",
              "      <td>3.920000</td>\n",
              "      <td>3.610000</td>\n",
              "      <td>18.900000</td>\n",
              "      <td>1.000000</td>\n",
              "      <td>1.000000</td>\n",
              "      <td>4.000000</td>\n",
              "      <td>4.0000</td>\n",
              "    </tr>\n",
              "    <tr>\n",
              "      <th>max</th>\n",
              "      <td>33.900000</td>\n",
              "      <td>472.000000</td>\n",
              "      <td>335.000000</td>\n",
              "      <td>4.930000</td>\n",
              "      <td>5.424000</td>\n",
              "      <td>22.900000</td>\n",
              "      <td>1.000000</td>\n",
              "      <td>1.000000</td>\n",
              "      <td>5.000000</td>\n",
              "      <td>8.0000</td>\n",
              "    </tr>\n",
              "  </tbody>\n",
              "</table>\n",
              "</div>"
            ],
            "text/plain": [
              "             mpg        disp          hp       drat         wt       qsec  \\\n",
              "count  32.000000   32.000000   32.000000  32.000000  32.000000  32.000000   \n",
              "mean   20.090625  230.721875  146.687500   3.596563   3.217250  17.848750   \n",
              "std     6.026948  123.938694   68.562868   0.534679   0.978457   1.786943   \n",
              "min    10.400000   71.100000   52.000000   2.760000   1.513000  14.500000   \n",
              "25%    15.425000  120.825000   96.500000   3.080000   2.581250  16.892500   \n",
              "50%    19.200000  196.300000  123.000000   3.695000   3.325000  17.710000   \n",
              "75%    22.800000  326.000000  180.000000   3.920000   3.610000  18.900000   \n",
              "max    33.900000  472.000000  335.000000   4.930000   5.424000  22.900000   \n",
              "\n",
              "              vs         am       gear     carb  \n",
              "count  32.000000  32.000000  32.000000  32.0000  \n",
              "mean    0.437500   0.406250   3.687500   2.8125  \n",
              "std     0.504016   0.498991   0.737804   1.6152  \n",
              "min     0.000000   0.000000   3.000000   1.0000  \n",
              "25%     0.000000   0.000000   3.000000   2.0000  \n",
              "50%     0.000000   0.000000   4.000000   2.0000  \n",
              "75%     1.000000   1.000000   4.000000   4.0000  \n",
              "max     1.000000   1.000000   5.000000   8.0000  "
            ]
          },
          "execution_count": 14,
          "metadata": {},
          "output_type": "execute_result"
        }
      ],
      "source": [
        "## 연속형 변수의 요약통계량\n",
        "mtcars_df.describe()"
      ]
    },
    {
      "cell_type": "markdown",
      "metadata": {
        "id": "b9gn91WD1PYs"
      },
      "source": [
        "## 입력으로 데이터 프레임 만들기"
      ]
    },
    {
      "cell_type": "code",
      "execution_count": 24,
      "metadata": {
        "colab": {
          "base_uri": "https://localhost:8080/"
        },
        "id": "4VASijEtYXQA",
        "outputId": "2555e579-1650-45fc-e802-705727fa856e"
      },
      "outputs": [
        {
          "name": "stdout",
          "output_type": "stream",
          "text": [
            "    name algol basic c++\n",
            "0  Jerry     A     C  B+\n",
            "1   Riah    A+     B   C\n",
            "2   Paul     B    B+  C+\n"
          ]
        }
      ],
      "source": [
        "data = {\n",
        "    'name' : ['Jerry', 'Riah', 'Paul'],\n",
        "    'algol': ['A', 'A+', 'B'],\n",
        "    'basic' : [ \"C\", \"B\", \"B+\"],\n",
        "    'c++' : [ \"B+\", \"C\", \"C+\"],\n",
        "}\n",
        "\n",
        "mydf = pd.DataFrame(data)\n",
        "# mydf.set_index('name', inplace = True)\n",
        "print(mydf)"
      ]
    },
    {
      "cell_type": "code",
      "execution_count": 16,
      "metadata": {},
      "outputs": [
        {
          "name": "stdout",
          "output_type": "stream",
          "text": [
            "   나이 성별   학교\n",
            "0  15  남  덕영중\n",
            "1  17  여  수리중\n",
            "********************\n",
            "RangeIndex(start=0, stop=2, step=1)\n",
            "********************\n",
            "Index(['나이', '성별', '학교'], dtype='object')\n"
          ]
        }
      ],
      "source": [
        "# list로 부터 행 인덱스/열 이름 지정하여, 데이터프레임 만들기\n",
        "school_df = pd.DataFrame([[15, '남', '덕영중'],\n",
        "                          [17, '여', '수리중']],\n",
        "                   columns=['나이', '성별', '학교'])\n",
        "print(school_df)\n",
        "print(\"*\"*20)\n",
        "print(school_df.index)\n",
        "print(\"*\"*20)\n",
        "print(school_df.columns)"
      ]
    },
    {
      "cell_type": "markdown",
      "metadata": {
        "id": "Cz1_LVMu1qXs"
      },
      "source": [
        "## 요약통계량 구하기"
      ]
    },
    {
      "cell_type": "markdown",
      "metadata": {
        "id": "4SsQIsyU1yaZ"
      },
      "source": [
        "### seaborn 예제 자료"
      ]
    },
    {
      "cell_type": "code",
      "execution_count": 17,
      "metadata": {
        "id": "uSSLEIPTsL0m"
      },
      "outputs": [
        {
          "name": "stdout",
          "output_type": "stream",
          "text": [
            "['anagrams', 'anscombe', 'attention', 'brain_networks', 'car_crashes', 'diamonds', 'dots', 'dowjones', 'exercise', 'flights', 'fmri', 'geyser', 'glue', 'healthexp', 'iris', 'mpg', 'penguins', 'planets', 'seaice', 'taxis', 'tips', 'titanic']\n",
            "mpg_df = \n",
            " <bound method NDFrame.head of       mpg  cylinders  displacement  horsepower  weight  acceleration  \\\n",
            "0    18.0          8         307.0       130.0    3504          12.0   \n",
            "1    15.0          8         350.0       165.0    3693          11.5   \n",
            "2    18.0          8         318.0       150.0    3436          11.0   \n",
            "3    16.0          8         304.0       150.0    3433          12.0   \n",
            "4    17.0          8         302.0       140.0    3449          10.5   \n",
            "..    ...        ...           ...         ...     ...           ...   \n",
            "393  27.0          4         140.0        86.0    2790          15.6   \n",
            "394  44.0          4          97.0        52.0    2130          24.6   \n",
            "395  32.0          4         135.0        84.0    2295          11.6   \n",
            "396  28.0          4         120.0        79.0    2625          18.6   \n",
            "397  31.0          4         119.0        82.0    2720          19.4   \n",
            "\n",
            "     model_year  origin                       name  \n",
            "0            70     usa  chevrolet chevelle malibu  \n",
            "1            70     usa          buick skylark 320  \n",
            "2            70     usa         plymouth satellite  \n",
            "3            70     usa              amc rebel sst  \n",
            "4            70     usa                ford torino  \n",
            "..          ...     ...                        ...  \n",
            "393          82     usa            ford mustang gl  \n",
            "394          82  europe                  vw pickup  \n",
            "395          82     usa              dodge rampage  \n",
            "396          82     usa                ford ranger  \n",
            "397          82     usa                 chevy s-10  \n",
            "\n",
            "[398 rows x 9 columns]>\n"
          ]
        }
      ],
      "source": [
        "import seaborn as sns\n",
        "print(sns.get_dataset_names())\n",
        "mpg_df = sns.load_dataset('mpg')\n",
        "print(\"mpg_df = \\n\", mpg_df.head)"
      ]
    },
    {
      "cell_type": "markdown",
      "metadata": {
        "id": "Y_MbEbto15KF"
      },
      "source": [
        "### 이산형 자료 통계량 구하기"
      ]
    },
    {
      "cell_type": "code",
      "execution_count": 18,
      "metadata": {
        "colab": {
          "base_uri": "https://localhost:8080/"
        },
        "id": "_klV8CMpsXr7",
        "outputId": "669ca578-0266-4158-e055-13eee279b163"
      },
      "outputs": [
        {
          "name": "stdout",
          "output_type": "stream",
          "text": [
            "cylinders\n",
            "4    204\n",
            "8    103\n",
            "6     84\n",
            "3      4\n",
            "5      3\n",
            "Name: count, dtype: int64\n",
            "origin\n",
            "usa       249\n",
            "japan      79\n",
            "europe     70\n",
            "Name: count, dtype: int64\n"
          ]
        }
      ],
      "source": [
        "print(mpg_df['cylinders'].value_counts())\n",
        "print(mpg_df['origin'].value_counts())"
      ]
    },
    {
      "cell_type": "markdown",
      "metadata": {
        "id": "e-TXblK12AUP"
      },
      "source": [
        "### 연속형 자료 통계량 구하기"
      ]
    },
    {
      "cell_type": "code",
      "execution_count": 19,
      "metadata": {
        "colab": {
          "base_uri": "https://localhost:8080/"
        },
        "id": "MsuBgzNjtA5w",
        "outputId": "6b90f743-3017-4af0-c1e7-10fdf4dc90a1"
      },
      "outputs": [
        {
          "name": "stdout",
          "output_type": "stream",
          "text": [
            "23.515\n",
            "23.0\n",
            "61.09\n",
            "7.816\n",
            "0.392\n",
            "46.6\n",
            "9.0\n"
          ]
        }
      ],
      "source": [
        "print(mpg_df['mpg'].mean().round(3))\n",
        "print(mpg_df['mpg'].median())\n",
        "print(mpg_df['mpg'].var().round(3))\n",
        "print(mpg_df['mpg'].std().round(3))\n",
        "print(mpg_df['mpg'].sem().round(3))\n",
        "print(mpg_df['mpg'].max())\n",
        "print(mpg_df['mpg'].min())"
      ]
    },
    {
      "cell_type": "code",
      "execution_count": 21,
      "metadata": {
        "colab": {
          "base_uri": "https://localhost:8080/"
        },
        "id": "gOdRSM6lte1R",
        "outputId": "33c76e8f-9e24-4f73-ecf4-c8ea393b8ff2"
      },
      "outputs": [
        {
          "name": "stdout",
          "output_type": "stream",
          "text": [
            "mpg         23.514573\n",
            "weight    2970.424623\n",
            "dtype: float64\n",
            "mpg             61.089611\n",
            "acceleration     7.604848\n",
            "dtype: float64\n",
            "********************\n",
            "quantile 25% =\n",
            "mpg             17.500\n",
            "acceleration    13.825\n",
            "Name: 0.25, dtype: float64\n",
            "********************\n",
            "quantile 75% = \n",
            "mpg             29.000\n",
            "acceleration    17.175\n",
            "Name: 0.75, dtype: float64\n",
            "********************\n",
            "standard error =\n",
            "mpg             0.39178\n",
            "acceleration    0.13823\n",
            "dtype: float64\n"
          ]
        }
      ],
      "source": [
        "print(mpg_df[['mpg', 'weight']].mean()) # output = pandas series\n",
        "print(mpg_df[['mpg', 'acceleration']].var())\n",
        "print(\"*\"*20)\n",
        "\n",
        "print('quantile 25% =')\n",
        "print(mpg_df[['mpg', 'acceleration']].quantile(0.25))\n",
        "print(\"*\"*20)\n",
        "\n",
        "print('quantile 75% = ')\n",
        "print(mpg_df[['mpg', 'acceleration']].quantile(0.75))\n",
        "print(\"*\"*20)\n",
        "\n",
        "print('standard error =')\n",
        "print(mpg_df[['mpg', 'acceleration']].sem())"
      ]
    },
    {
      "cell_type": "markdown",
      "metadata": {
        "id": "ezqHdPJZ2P7f"
      },
      "source": [
        "## Matplotlib 을 이용하여 산점도 그리기"
      ]
    },
    {
      "cell_type": "code",
      "execution_count": 1,
      "metadata": {
        "colab": {
          "base_uri": "https://localhost:8080/",
          "height": 538
        },
        "id": "hzW5ETqJvXhx",
        "outputId": "86bee990-dfe5-47aa-9fd8-5add9772d1cb"
      },
      "outputs": [
        {
          "name": "stdout",
          "output_type": "stream",
          "text": [
            "correlation coefficient = \n",
            "\n"
          ]
        },
        {
          "ename": "NameError",
          "evalue": "name 'mpg_df' is not defined",
          "output_type": "error",
          "traceback": [
            "\u001b[1;31m---------------------------------------------------------------------------\u001b[0m",
            "\u001b[1;31mNameError\u001b[0m                                 Traceback (most recent call last)",
            "Cell \u001b[1;32mIn[1], line 2\u001b[0m\n\u001b[0;32m      1\u001b[0m \u001b[38;5;28mprint\u001b[39m(\u001b[38;5;124m'\u001b[39m\u001b[38;5;124mcorrelation coefficient = \u001b[39m\u001b[38;5;130;01m\\n\u001b[39;00m\u001b[38;5;124m'\u001b[39m)\n\u001b[1;32m----> 2\u001b[0m \u001b[38;5;28mprint\u001b[39m(\u001b[43mmpg_df\u001b[49m[[\u001b[38;5;124m'\u001b[39m\u001b[38;5;124mmpg\u001b[39m\u001b[38;5;124m'\u001b[39m, \u001b[38;5;124m'\u001b[39m\u001b[38;5;124mweight\u001b[39m\u001b[38;5;124m'\u001b[39m]]\u001b[38;5;241m.\u001b[39mcorr())\n\u001b[0;32m      5\u001b[0m plt\u001b[38;5;241m.\u001b[39mscatter(mpg_df[\u001b[38;5;124m'\u001b[39m\u001b[38;5;124mweight\u001b[39m\u001b[38;5;124m'\u001b[39m], mpg_df[\u001b[38;5;124m'\u001b[39m\u001b[38;5;124mmpg\u001b[39m\u001b[38;5;124m'\u001b[39m], s \u001b[38;5;241m=\u001b[39m \u001b[38;5;241m20\u001b[39m)\n\u001b[0;32m      6\u001b[0m plt\u001b[38;5;241m.\u001b[39mtitle(\u001b[38;5;124m\"\u001b[39m\u001b[38;5;124mWeight vs MPG\u001b[39m\u001b[38;5;124m\"\u001b[39m)\n",
            "\u001b[1;31mNameError\u001b[0m: name 'mpg_df' is not defined"
          ]
        }
      ],
      "source": [
        "print('correlation coefficient = \\n')\n",
        "print(mpg_df[['mpg', 'weight']].corr())\n",
        "\n",
        "\n",
        "plt.scatter(mpg_df['weight'], mpg_df['mpg'], s = 20)\n",
        "plt.title(\"Weight vs MPG\")\n",
        "plt.xlabel('weight(kg)')\n",
        "plt.ylabel('mpg')\n",
        "plt.show()"
      ]
    }
  ],
  "metadata": {
    "colab": {
      "provenance": [],
      "toc_visible": true
    },
    "kernelspec": {
      "display_name": "Python 3",
      "name": "python3"
    },
    "language_info": {
      "codemirror_mode": {
        "name": "ipython",
        "version": 3
      },
      "file_extension": ".py",
      "mimetype": "text/x-python",
      "name": "python",
      "nbconvert_exporter": "python",
      "pygments_lexer": "ipython3",
      "version": "3.12.4"
    }
  },
  "nbformat": 4,
  "nbformat_minor": 0
}
