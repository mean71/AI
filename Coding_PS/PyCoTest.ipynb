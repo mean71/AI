{
 "cells": [
  {
   "cell_type": "markdown",
   "metadata": {},
   "source": [
    "https://velog.io/@alkwen0996/posts?tag=%EC%95%8C%EA%B3%A0%EB%A6%AC%EC%A6%98 # 비트마스크? 뭔지 모르겠지만 나중에 공부"
   ]
  },
  {
   "cell_type": "code",
   "execution_count": null,
   "metadata": {},
   "outputs": [],
   "source": [
    "import sys\n",
    "from io import StringIO\n",
    "\n",
    "input_data ='''\n",
    "'''\n",
    "sys.stdin = StringIO(input_data)\n",
    "sys.stdin.readline"
   ]
  },
  {
   "cell_type": "markdown",
   "metadata": {},
   "source": [
    "---\n",
    "# **백준**\n",
    "---"
   ]
  },
  {
   "cell_type": "markdown",
   "metadata": {},
   "source": [
    "## 골드"
   ]
  },
  {
   "cell_type": "code",
   "execution_count": null,
   "metadata": {},
   "outputs": [],
   "source": [
    "def solution(l,r):\n",
    "    for i in range(l,r+1):  \n",
    "        print(i)"
   ]
  },
  {
   "cell_type": "code",
   "execution_count": null,
   "metadata": {},
   "outputs": [],
   "source": [
    "# 외판원 순회 문제(TSP): 비트필드를 이용한 DP⁵ g1"
   ]
  },
  {
   "cell_type": "code",
   "execution_count": null,
   "metadata": {},
   "outputs": [],
   "source": [
    "# DP: 분할 정복을 이용한 거듭제곱⁵, 중간에서 만나기(MITM)⁵, LIS: O(n log n)⁵ g2"
   ]
  },
  {
   "cell_type": "code",
   "execution_count": null,
   "metadata": {},
   "outputs": [],
   "source": [
    "# 벨만-포드⁴, DP: 방향 비순환 그래프(DAG)⁵, 위상 정렬⁵, 선분 교차 판정⁵ g3"
   ]
  },
  {
   "cell_type": "code",
   "execution_count": null,
   "metadata": {},
   "outputs": [],
   "source": [
    "# 트리를 사용한 집합과 맵³, 데이크스트라⁴, 플로이드-워셜⁴, 스택: 단조 스택⁴, 트리에서의 DP⁵, 최소 스패닝 트리(MST)⁵, DP: 원형⁵, 이분 그래프 g4"
   ]
  },
  {
   "cell_type": "code",
   "execution_count": null,
   "metadata": {},
   "outputs": [],
   "source": [
    "# 배낭 문제⁴, DP: LCS⁴, 슬라이딩 윈도우⁴, 0-1 너비 우선 탐색⁴, 분리 집합(DSU, Union-find)⁵, 두 포인터⁵, 기하학: CCW⁵, 다각형의 면적⁵ g5"
   ]
  },
  {
   "cell_type": "markdown",
   "metadata": {},
   "source": [
    "## 실버"
   ]
  },
  {
   "cell_type": "code",
   "execution_count": null,
   "metadata": {},
   "outputs": [],
   "source": [
    "# 최단 경로: BFS³, 분할 정복을 이용한 거듭제곱⁴, DP: 역추적⁵ s1"
   ]
  },
  {
   "cell_type": "code",
   "execution_count": null,
   "metadata": {},
   "outputs": [],
   "source": [
    "# 매개 변수 탐색², 깊이 우선 탐색(DFS)³, 너비 우선 탐색(BFS)³, 플러드 필³, 우선순위 큐³, 분할 정복³, 좌표 압축³, 트리⁴, DP: 가장 긴 증가하는 부분 수열(LIS)⁴, DP: 최대 부분합(Kadane 알고리즘)⁴ s2"
   ]
  },
  {
   "cell_type": "code",
   "execution_count": null,
   "metadata": {},
   "outputs": [],
   "source": [
    "# 에라토스테네스의 체(sieve)², 다이나믹 프로그래밍(DP)³, 누적 합³, 백트래킹⁴ s3"
   ]
  },
  {
   "cell_type": "code",
   "execution_count": null,
   "metadata": {},
   "outputs": [],
   "source": [
    "# 덱² s4"
   ]
  },
  {
   "cell_type": "code",
   "execution_count": null,
   "metadata": {},
   "outputs": [],
   "source": [
    "# 정렬: O(N log N)², 이분 탐색², 해시를 사용한 집합과 맵³, 재귀³, 비트마스킹³, 선형대수학: 행렬곱⁴ s5"
   ]
  },
  {
   "cell_type": "code",
   "execution_count": null,
   "metadata": {},
   "outputs": [],
   "source": [
    "import sys\n",
    "T = int(sys.stdin.readline())\n",
    "for _ in range(T):\n",
    "    x1,y1,r1, x2,y2,r2 = map(int, sys.stdin.readline().split())\n",
    "    x_y, rr = ( (x1-x2)**2 + (y1-y2)**2 )**0.5, r1+r2\n",
    "    \n",
    "    if x_y > rr: print(0) # 멀때\n",
    "    elif x_y == 0: # 중심이 같고 반지름같거나 다를때\n",
    "        if r1 == r2: print(-1)\n",
    "        else: print(0)\n",
    "    elif x_y == rr or x_y == abs(r1-r2): print(1) # 외접 내접\n",
    "    elif x_y < (r1-r2): print(0)\n",
    "    else: print(2)"
   ]
  },
  {
   "cell_type": "code",
   "execution_count": null,
   "metadata": {},
   "outputs": [],
   "source": [
    "import sys\n",
    "\n",
    "T = int(sys.stdin.readline())\n",
    "for _ in range(T):\n",
    "    x1, y1, r1, x2, y2, r2 = map(int, sys.stdin.readline().split())\n",
    "    \n",
    "    # 두 원의 중심 사이의 거리\n",
    "    x_y = ((x1 - x2) ** 2 + (y1 - y2) ** 2) ** 0.5\n",
    "    r_sum = r1 + r2\n",
    "    r_diff = abs(r1 - r2)\n",
    "\n",
    "    if x_y > r_sum:\n",
    "        print(0)  # 멀때\n",
    "    elif x_y == 0:\n",
    "        if r1 == r2:\n",
    "            print(-1)  # 두 원이 완전히 일치함\n",
    "        else:\n",
    "            print(0)\n",
    "    elif x_y == r_sum:\n",
    "        print(1)  # 외접\n",
    "    elif x_y == r_diff:\n",
    "        print(1)  # 내접\n",
    "    elif x_y < r_diff:\n",
    "        print(0)\n",
    "    else:\n",
    "        print(2)"
   ]
  },
  {
   "cell_type": "code",
   "execution_count": null,
   "metadata": {},
   "outputs": [],
   "source": [
    "a = 3\n",
    "for i in range(a):\n",
    "  i= a\n",
    "for j in range(i):\n",
    "  j = i\n",
    "j"
   ]
  },
  {
   "cell_type": "code",
   "execution_count": null,
   "metadata": {},
   "outputs": [],
   "source": [
    "import sys\n",
    "from io import StringIO\n",
    "\n",
    "input_data ='''7\n",
    "pop\n",
    "top\n",
    "push 123\n",
    "top\n",
    "pop\n",
    "top\n",
    "pop'''\n",
    "sys.stdin = StringIO(input_data)\n",
    "# 10828 스택 s4\n",
    "N = int(sys.stdin.readline())\n",
    "stack_lst = []\n",
    "def stack(command):\n",
    "    if command[0] == 'pop':\n",
    "        print(stack_lst.pop() if stack_lst else -1)\n",
    "    elif command[0] == 'size':\n",
    "        print(len(stack_lst))\n",
    "    elif command[0] == 'empty':\n",
    "        print(0 if stack_lst else 1)\n",
    "    elif command[0] == 'top':\n",
    "        print(stack_lst[-1] if stack_lst else -1)\n",
    "    else:\n",
    "        stack_lst.append(command[-1])\n",
    "\n",
    "for i in range(N):\n",
    "    command = sys.stdin.readline().strip().split()\n",
    "    stack(command)"
   ]
  },
  {
   "cell_type": "code",
   "execution_count": null,
   "metadata": {},
   "outputs": [],
   "source": [
    "import sys\n",
    "from io import StringIO\n",
    "\n",
    "input_data ='''3\n",
    "3 7\n",
    "15 7\n",
    "5 2'''\n",
    "sys.stdin = StringIO(input_data)\n",
    "# 2563 색종이 s5\n",
    "n, extent = int(sys.stdin.readline()), []\n",
    "for _ in range(n):\n",
    "    a,b = map(int, sys.stdin.readline().strip().split())\n",
    "    extent += [ (a+i+1,b+j+1) for i in range(10) for j in range(10)]\n",
    "print(len(set(extent)))"
   ]
  },
  {
   "cell_type": "code",
   "execution_count": null,
   "metadata": {},
   "outputs": [],
   "source": [
    "import sys\n",
    "from io import StringIO\n",
    "input_data ='''dz=ak''' # ljes=njak # ddz=z= # nljj # c=c= # dz=ak  # 6 3 3 2 3\n",
    "sys.stdin = StringIO(input_data)\n",
    "# 2941 크로아티아 알파벳 s5\n",
    "w = sys.stdin.readline().split()\n",
    "crap = ('c=','c-','dz=','d-','lj','nj','s=','z=')\n",
    "\n",
    "for i in crap:\n",
    "    if w[0].count(i):\n",
    "        w[0]=w[0].replace(i,'0')\n",
    "\n",
    "print(len(w[0]))"
   ]
  },
  {
   "cell_type": "code",
   "execution_count": null,
   "metadata": {},
   "outputs": [],
   "source": [
    "import sys\n",
    "from io import StringIO\n",
    "input_data ='''ObjectOrientedProgramming1 3.0 A+\n",
    "IntroductiontoComputerEngineering 3.0 A+\n",
    "ObjectOrientedProgramming2 3.0 A0\n",
    "CreativeComputerEngineeringDesign 3.0 A+\n",
    "AssemblyLanguage 3.0 A+\n",
    "InternetProgramming 3.0 B0\n",
    "ApplicationProgramminginJava 3.0 A0\n",
    "SystemProgramming 3.0 B0\n",
    "OperatingSystem 3.0 B0\n",
    "WirelessCommunicationsandNetworking 3.0 C+\n",
    "LogicCircuits 3.0 B0\n",
    "DataStructure 4.0 A+\n",
    "MicroprocessorApplication 3.0 B+\n",
    "EmbeddedSoftware 3.0 C0\n",
    "ComputerSecurity 3.0 D+\n",
    "Database 3.0 C+\n",
    "Algorithm 3.0 B0\n",
    "CapstoneDesigninCSE 3.0 B+\n",
    "CompilerDesign 3.0 D0\n",
    "ProblemSolving 4.0 P'''\n",
    "sys.stdin = StringIO(input_data)\n",
    "# 25206 너의 평점은 s5\n",
    "credits = [sys.stdin.readline().split() for _ in range(20)]\n",
    "subjects = {'A+':4.5, 'A0':4.0, 'B+':3.5, 'B0':3.0,\n",
    "         'C+':2.5, 'C0':2.0, 'D+':1.5, 'D0':1.0, 'F':0.0}\n",
    "lst=[[],[]]\n",
    "\n",
    "for c in credits:\n",
    "    if c[2] != 'P':\n",
    "        lst[1].append(float(c[1])*subjects[c[2]])\n",
    "        lst[0].append(float(c[1]))\n",
    "print(f'{sum(lst[1])/sum(lst[0]):.6f}')"
   ]
  },
  {
   "cell_type": "code",
   "execution_count": null,
   "metadata": {},
   "outputs": [],
   "source": [
    "# 1316 그룹 단어 체커 s5\n",
    "N = int(input())\n",
    "for i in range(N):\n",
    "    words = input()\n",
    "    r=set()\n",
    "    temp = ''\n",
    "    for j in words:\n",
    "        if not temp:\n",
    "            temp = j\n",
    "            r.add(j)\n",
    "            continue\n",
    "        if temp == j:\n",
    "            continue\n",
    "        elif temp != j:\n",
    "            if j in r:\n",
    "                N-=1\n",
    "                break\n",
    "            else:\n",
    "                temp = j\n",
    "                r.add(j)\n",
    "print(N)"
   ]
  },
  {
   "cell_type": "markdown",
   "metadata": {},
   "source": [
    "## 브론즈"
   ]
  },
  {
   "cell_type": "code",
   "execution_count": null,
   "metadata": {},
   "outputs": [],
   "source": [
    "# 11005번 진법 변환 2 b1\n",
    "N,B = map(int, input().split())\n",
    "alpha,dic,res = \"ABCDEFGHIJKLMNOPQRSTUVWXYZ\",{},''\n",
    "for i in zip([x for x in range(10,36)],alpha):\n",
    "    dic[i[0]] = i[1]\n",
    "while N:\n",
    "    if N%B > 9:\n",
    "        res = dic[N%B] + res\n",
    "    else:\n",
    "        res = str(N%B) + res\n",
    "    N = N//B\n",
    "print(res)"
   ]
  },
  {
   "cell_type": "code",
   "execution_count": 8,
   "metadata": {},
   "outputs": [],
   "source": [
    "# 유클리드 호제법², 조합론: 이항 계수², 정렬: 카운팅 정렬² b1"
   ]
  },
  {
   "cell_type": "code",
   "execution_count": 9,
   "metadata": {},
   "outputs": [],
   "source": [
    "# 25501번 재귀의 귀재 b2"
   ]
  },
  {
   "cell_type": "code",
   "execution_count": null,
   "metadata": {},
   "outputs": [],
   "source": [
    "# 정렬: O(N^2)², 소수 판정², 정수론: 진법 변환 b2"
   ]
  },
  {
   "cell_type": "code",
   "execution_count": null,
   "metadata": {},
   "outputs": [],
   "source": [
    "# 브루트포스 알고리즘², 그리디 알고리즘³, 피타고라스 정리² b3"
   ]
  },
  {
   "cell_type": "code",
   "execution_count": null,
   "metadata": {},
   "outputs": [],
   "source": [
    "# 2745번 진법 변환 b2\n",
    "N,B = input().split()\n",
    "print(int(N,int(B)))"
   ]
  },
  {
   "cell_type": "code",
   "execution_count": null,
   "metadata": {},
   "outputs": [],
   "source": [
    "# 2577번 숫자의 개수 b2\n",
    "ABC = str(int(input())*int(input())*int(input()))\n",
    "for i in range(10):\n",
    "    print(ABC.count(str(i)))"
   ]
  },
  {
   "cell_type": "code",
   "execution_count": null,
   "metadata": {},
   "outputs": [],
   "source": [
    "# 2920번 음계 b2\n",
    "N = list(map(int, input().split()))\n",
    "if N == sorted(N):print('ascending')\n",
    "elif N == sorted(N)[::-1]:print('descending')\n",
    "else:print('mixed')"
   ]
  },
  {
   "cell_type": "code",
   "execution_count": null,
   "metadata": {},
   "outputs": [],
   "source": [
    "# 1157번 단어 공부\n",
    "w = input().upper()\n",
    "alpha = 'ABCDEFGHIJKLMNOPQRSTUVWXYZ'\n",
    "count = [0,'']\n",
    "\n",
    "for j in alpha:\n",
    "    if j in w:\n",
    "        if count[0] < w.count(j):\n",
    "            count[0] = w.count(j)\n",
    "            count[1] = j \n",
    "        elif count[0] == w.count(j):\n",
    "            count[1] = '?'\n",
    "print(count[1])"
   ]
  },
  {
   "cell_type": "code",
   "execution_count": null,
   "metadata": {},
   "outputs": [],
   "source": [
    "import sys \n",
    "from io import StringIO\n",
    "input_data ='''OOXXOXXOOO\n",
    "OOXXOOXXOO\n",
    "OXOXOXOXOXOXOX\n",
    "OOOOOOOOOO\n",
    "OOOOXOOOOXOOOOX'''\n",
    "sys.stdin = StringIO(input_data)\n",
    "# 8958번 OX퀴즈\n",
    "T = int(input())\n",
    "for i in range(T):\n",
    "    OX = sys.stdin.readline()\n",
    "    combo,score = 0,0\n",
    "    for j in OX:\n",
    "        if j == 'O':\n",
    "            combo+=1\n",
    "            score+=combo\n",
    "        else:\n",
    "            combo = 0\n",
    "    print(score)"
   ]
  },
  {
   "cell_type": "code",
   "execution_count": null,
   "metadata": {},
   "outputs": [],
   "source": [
    "# 5622번 다이얼 b2\n",
    "word = input()\n",
    "num = {\n",
    "    'A':2,'B':2,'C':2,\n",
    "    'D':3,'E':3,'F':3,\n",
    "    'G':4,'H':4,'I':4,\n",
    "    'J':5,'K':5,'L':5,\n",
    "    'M':6,'N':6,'O':6,\n",
    "    'P':7,'Q':7,'R':7,'S':7,\n",
    "    'T':8,'U':8,'V':8,\n",
    "    'W':9,'X':9,'Y':9,'Z':9\n",
    "    }\n",
    "print(sum(num[i]+1 for i in word))\n"
   ]
  },
  {
   "cell_type": "code",
   "execution_count": null,
   "metadata": {},
   "outputs": [],
   "source": [
    "import sys\n",
    "from io import StringIO\n",
    "input_data ='''3 3\n",
    "1 1 1\n",
    "2 2 2\n",
    "0 1 0\n",
    "3 3 3\n",
    "4 4 4\n",
    "5 5 100\n",
    "'''\n",
    "sys.stdin = StringIO(input_data)\n",
    "# 2738번 행렬 덧셈\n",
    "import sys\n",
    "N, M = map(int, sys.stdin.readline().split())\n",
    "A,B = [],[]\n",
    "for i in range(N):\n",
    "    A.append(list(map(int, sys.stdin.readline().split())))\n",
    "for i in range(N):\n",
    "    B.append(list(map(int, sys.stdin.readline().split())))\n",
    "    for j in range(M):\n",
    "        A[i][j]+=B[i][j]\n",
    "for i in A:\n",
    "    print(*i,end='\\n')"
   ]
  },
  {
   "cell_type": "code",
   "execution_count": null,
   "metadata": {},
   "outputs": [],
   "source": [
    "# 백준 빠른 A+B\n",
    "import sys\n",
    "T = int(input())\n",
    "if 0 <= T <= 1000000:\n",
    "    for t in range(T):\n",
    "        A, B = map(int, sys.stdin.readline().split())\n",
    "        if 1 <= A <= 1000 and 1 <= B <= 1000:\n",
    "            print(A+B)"
   ]
  },
  {
   "cell_type": "code",
   "execution_count": null,
   "metadata": {},
   "outputs": [],
   "source": [
    "# 백준 사칙연산 b5\n",
    "A, B = map(int, input().split())\n",
    "\n",
    "print(A+B)\n",
    "print(A-B)\n",
    "print(A*B)\n",
    "print(A//B)\n",
    "print(A%B)"
   ]
  },
  {
   "cell_type": "code",
   "execution_count": null,
   "metadata": {},
   "outputs": [],
   "source": [
    "import sys\n",
    "\n",
    "read = sys.stdin.readline\n",
    "N, M = read().split() # 다시 공부"
   ]
  },
  {
   "cell_type": "code",
   "execution_count": null,
   "metadata": {},
   "outputs": [],
   "source": [
    "# 10988 팰린드롬인지 확인하기\n",
    "w = 'baekjoonnoojkeab' # w=input()\n",
    "print(int(w==w[::-1]))\n",
    "# print(w, w[::-1] )\n"
   ]
  },
  {
   "cell_type": "code",
   "execution_count": null,
   "metadata": {},
   "outputs": [],
   "source": [
    "# 백준 11654 아스키코드 b5\n",
    "print(ord(input()))\n",
    "# ord() : 주어진문자의 아스키값(유니코드 코드 포인트) 반환\n",
    "# 문자변환 암호화, 문자비교, 문자열처리용 함수"
   ]
  },
  {
   "cell_type": "code",
   "execution_count": null,
   "metadata": {},
   "outputs": [],
   "source": [
    "# 백준 11720 숫자의 합 b5\n",
    "n= input()\n",
    "print(sum(map(int,input())))"
   ]
  },
  {
   "cell_type": "code",
   "execution_count": null,
   "metadata": {},
   "outputs": [],
   "source": [
    "# 백준 2675 문자열 반복\n",
    "T = int(input())\n",
    "str = ''\n",
    "for _ in range(T):\n",
    "  R, S = input().split()\n",
    "  R = int(R)\n",
    "  for i in S:\n",
    "    str += i*R\n",
    "  str += '\\n'\n",
    "print(str)"
   ]
  },
  {
   "cell_type": "code",
   "execution_count": null,
   "metadata": {},
   "outputs": [],
   "source": [
    "import sys\n",
    "from io import StringIO\n",
    "input_data ='''3\n",
    "29\n",
    "38\n",
    "12  \n",
    "57\n",
    "74\n",
    "40\n",
    "85\n",
    "61\n",
    "'''\n",
    "sys.stdin = StringIO(input_data)\n",
    "# 백준 2562 최댓값\n",
    "import sys\n",
    "n = []\n",
    "for i in range(9):\n",
    "  n.append( int(sys.stdin.readline().strip()) )\n",
    "print( f'{max(n)}\\n{n.index(max(n))+1}' )"
   ]
  },
  {
   "cell_type": "code",
   "execution_count": null,
   "metadata": {},
   "outputs": [],
   "source": [
    "# 백준 3052 나머지 b2\n",
    "N = map(lambda x: x%42,[int(input()) for _ in range(10)])\n",
    "print(len(set(N)))\n"
   ]
  },
  {
   "cell_type": "code",
   "execution_count": null,
   "metadata": {},
   "outputs": [],
   "source": [
    "# 백준 5597 과제 안 내신 분..?\n",
    "student_num = [_ for _ in range(1,31)]\n",
    "n=[]\n",
    "for i in range(28):\n",
    "  n.append(int(input()))\n",
    "for i in student_num:\n",
    "  if i not in n:\n",
    "    print(i)"
   ]
  },
  {
   "cell_type": "code",
   "execution_count": null,
   "metadata": {},
   "outputs": [],
   "source": [
    "import sys\n",
    "from io import StringIO\n",
    "input_data ='''9\n",
    "4\n",
    "1 3\n",
    "1 5\n",
    "3\n",
    "2\n",
    "5\n",
    "2\n",
    "2\n",
    "5\n",
    "'''\n",
    "sys.stdin = StringIO(input_data) # 입력을 받는대신 input_data에서 테스트케이스를 읽어온다\n",
    "\n",
    "# 백준 28278 시간초과코드\n",
    "import sys\n",
    "class Node:\n",
    "    def __init__(self, data, next = None):\n",
    "        self.data = data\n",
    "        self.next = next\n",
    "class Link:\n",
    "    def __init__(self):\n",
    "        self.head = None\n",
    "        self.end = None\n",
    "        self.size = 0\n",
    "    \n",
    "    def one(self, elem): # 정수n[1]를 스택에 넣는다\n",
    "        node = Node(elem)\n",
    "        self.size += 1\n",
    "        if self.head is None:\n",
    "            self.head = node\n",
    "            self.end = self.head\n",
    "        else:\n",
    "            self.end.next = node\n",
    "            self.end = node\n",
    "            \n",
    "    def two(self): # 스택에 정수가 있다면 맨 위 정수 빼고 출력한다. 없다면 -1\n",
    "        if self.head is None: return -1\n",
    "        elif self.head == self.end:\n",
    "            res = self.end.data\n",
    "            self.head = None\n",
    "            self.end = None\n",
    "            self.size -= 1\n",
    "            return res\n",
    "        else:\n",
    "            res = self.end.data\n",
    "            cur = self.head\n",
    "            self.size -= 1\n",
    "            while cur.next != self.end:\n",
    "                cur = cur.next\n",
    "            cur.next = None\n",
    "            self.end = cur\n",
    "            self.size -= 1\n",
    "            return res\n",
    "    def three(self): # 스택에 들어있는 정수 개수 출력\n",
    "        return self.size\n",
    "    def four(self): # 스택이 비어있으면 1, 아니면 0 출력\n",
    "        if self.size == 0: return 1\n",
    "        else: return 0\n",
    "    def five(self): # 스택에 정수가 있다면 맨위 정수 출력한다. 없다면 -1\n",
    "        if self.head is None: return -1\n",
    "        else: return self.end.data\n",
    "        \n",
    "def stack():\n",
    "    N = int(sys.stdin.readline())\n",
    "    link = Link()\n",
    "    for i in range(N):\n",
    "        n = list(map(int, sys.stdin.readline().strip().split()))\n",
    "        if n[0] == 1:# 정수n[1]를 스택에 넣는다\n",
    "            link.one(n[1])\n",
    "        elif n[0] == 2:# 스택에 정수가 있다면 맨 위 정수 빼고 출력한다. 없다면 -1\n",
    "            print(link.two())\n",
    "        elif n[0] == 3:# 스택에 들어있는 정수 개수 출력\n",
    "            print(link.three())\n",
    "        elif n[0] == 4:# 스택이 비어있으면 1, 아니면 0 출력\n",
    "            print(link.four())\n",
    "        elif n[0] == 5:# 스택에 정수가 있다면 맨위 정수 출력한다. 없다면 -1  \n",
    "            print(link.five())\n",
    "stack()"
   ]
  },
  {
   "cell_type": "code",
   "execution_count": null,
   "metadata": {},
   "outputs": [],
   "source": [
    "import sys\n",
    "from io import StringIO\n",
    "input_data ='''9\n",
    "4\n",
    "1 3\n",
    "1 5\n",
    "3\n",
    "2\n",
    "5\n",
    "2\n",
    "2\n",
    "5\n",
    "'''\n",
    "sys.stdin = StringIO(input_data) # 입력을 받는대신 input_data에서 테스트케이스를 읽어온다\n",
    "\n",
    "# 백준 28278 통과코드\n",
    "import sys\n",
    "input = sys.stdin.readline\n",
    "\n",
    "class Stack:\n",
    "    def __init__(self):\n",
    "        self.stack = []\n",
    "\n",
    "    def one(self, elem):\n",
    "        self.stack.append(elem)\n",
    "\n",
    "    def two(self):\n",
    "        if not self.stack:\n",
    "            return -1\n",
    "        return self.stack.pop()\n",
    "\n",
    "    def three(self):\n",
    "        return len(self.stack)\n",
    "    \n",
    "    def four(self):\n",
    "        return 1 if not self.stack else 0\n",
    "    \n",
    "    def five(self):\n",
    "        if not self.stack:\n",
    "            return -1\n",
    "        return self.stack[-1]\n",
    "\n",
    "N = int(input())\n",
    "stack = Stack()\n",
    "\n",
    "for _ in range(N):\n",
    "    n = list(map(int, input().split()))\n",
    "    if n[0] == 1:\n",
    "        stack.one(n[1])\n",
    "    elif n[0] == 2:\n",
    "        print(stack.two())\n",
    "    elif n[0] == 3:\n",
    "        print(stack.three())\n",
    "    elif n[0] == 4:\n",
    "        print(stack.four())\n",
    "    elif n[0] == 5:\n",
    "        print(stack.five())"
   ]
  },
  {
   "cell_type": "code",
   "execution_count": null,
   "metadata": {},
   "outputs": [],
   "source": [
    "import sys\n",
    "from io import StringIO\n",
    "input_data ='''5 4\n",
    "1 2 3\n",
    "3 4 4\n",
    "1 4 1\n",
    "2 2 2\n",
    "'''\n",
    "sys.stdin = StringIO(input_data)\n",
    "\n",
    "# 백준 10810 공넣기 b3\n",
    "import sys\n",
    "\n",
    "read = sys.stdin.readline\n",
    "N, M = map(int, read().strip().split())\n",
    "basket = [0]*N\n",
    "\n",
    "for _ in range(M):\n",
    "  i, j, k = map(int, read().strip().split())\n",
    "  for x in range(i,j+1):\n",
    "    basket[x-1] = k\n",
    "print(*basket)"
   ]
  },
  {
   "cell_type": "code",
   "execution_count": null,
   "metadata": {},
   "outputs": [],
   "source": [
    "input_data = '''1234\n",
    "1234'''\n",
    "input=lambda : input_data.splitlines().pop(0)\n",
    "print(input())"
   ]
  },
  {
   "cell_type": "code",
   "execution_count": null,
   "metadata": {},
   "outputs": [],
   "source": [
    "import sys\n",
    "from io import StringIO\n",
    "input_data ='''5 4\n",
    "1 2\n",
    "3 4\n",
    "1 4\n",
    "2 2\n",
    "'''\n",
    "sys.stdin = StringIO(input_data)\n",
    "\n",
    "# 백준 10810 공넣기 b3\n",
    "import sys\n",
    "\n",
    "read = sys.stdin.readline\n",
    "N, M = map(int, read().strip().split())\n",
    "basket = [n+1 for n in range(N)]\n",
    "\n",
    "for _ in range(M):\n",
    "  i, j = map(int, read().strip().split())\n",
    "  i, j = i-1, j-1\n",
    "  basket[i], basket[j] = basket[j], basket[i]\n",
    "print(*basket)"
   ]
  },
  {
   "cell_type": "code",
   "execution_count": null,
   "metadata": {},
   "outputs": [],
   "source": [
    "import sys\n",
    "from io import StringIO\n",
    "input_data ='''3 23 85 34 17 74 25 52 65\n",
    "10 7 39 42 88 52 14 72 63\n",
    "87 42 18 78 53 45 18 84 53\n",
    "34 28 64 85 12 16 75 36 55\n",
    "21 77 45 35 28 75 90 76 1\n",
    "25 87 65 15 28 11 37 28 74\n",
    "65 27 75 41 7 89 78 64 39\n",
    "47 47 70 45 23 65 3 41 44\n",
    "87 13 82 38 31 12 29 29 80'''\n",
    "sys.stdin = StringIO(input_data)\n",
    "\n",
    "# 백준 2566 최댓값 b3   \n",
    "import sys\n",
    "a = [sys.stdin.readline().strip('\\n').split() for _ in range(9)]\n",
    "b=''\n",
    "for i in range(9):\n",
    "    for j in range(9):\n",
    "        if len(b)<len(a[i][j]) or b < a[i][j]:\n",
    "            b = a[i][j]\n",
    "            res = [i+1, j+1]\n",
    "\n",
    "print(f'{b}\\n{res[0]} {res[1]}')\n",
    "# for in range(9):\n",
    "#     for in range(9):"
   ]
  },
  {
   "cell_type": "code",
   "execution_count": null,
   "metadata": {},
   "outputs": [],
   "source": [
    "import sys\n",
    "from io import StringIO\n",
    "input_data ='''5 4\n",
    "1 2\n",
    "3 4\n",
    "1 4\n",
    "2 2\n",
    "'''\n",
    "sys.stdin = StringIO(input_data)\n",
    "# 백준 10811 바구니 뒤집기 b2\n",
    "import sys\n",
    "read = sys.stdin.readline\n",
    "# (1 ≤ i ≤ j ≤ N)\n",
    "N, M = map(int, read().split())\n",
    "basket = [n+1 for n in range(N)]\n",
    "for _ in range(M):\n",
    "  i, j = map(int, read().split())\n",
    "  for k in range((j - i + 1)//2):\n",
    "    basket[i+k-1],basket[j-k-1] = basket[j-k-1], basket[i+k-1]\n",
    "print(*basket)"
   ]
  },
  {
   "cell_type": "code",
   "execution_count": null,
   "metadata": {},
   "outputs": [],
   "source": [
    "# 백준 2908 상수 b2\n",
    "AB = input().split()\n",
    "AB = [AB[0][::-1],AB[1][::-1]]\n",
    "print(f'{max(AB)}')"
   ]
  },
  {
   "cell_type": "code",
   "execution_count": null,
   "metadata": {},
   "outputs": [],
   "source": [
    "# 2444 별 찍기 - 7\n",
    "N = int(input())\n",
    "res = '*'\n",
    "for i in range(N):\n",
    "    print(' '*(N-i-1) + '*'*(i*2+1))\n",
    "for i in range(N-1):\n",
    "    print(' '*(1+i) + '*'*(2*N-3-i*2))"
   ]
  },
  {
   "cell_type": "code",
   "execution_count": null,
   "metadata": {},
   "outputs": [],
   "source": [
    "import random\n",
    "list = [\"빨\",\"주\",\"노\",\"초\",\"파\",\"남\",\"보\"]\n",
    "# 여기에 코드를 작성해 보세요.\n",
    "\n",
    "random.shuffle(list)\n",
    "\n",
    "print(list)"
   ]
  },
  {
   "cell_type": "code",
   "execution_count": null,
   "metadata": {},
   "outputs": [],
   "source": [
    "try:\n",
    "    lst=[]\n",
    "    while 1:\n",
    "        lst.append(input())\n",
    "except:\n",
    "    print(''.join(lst),sep='\\n')"
   ]
  },
  {
   "cell_type": "code",
   "execution_count": null,
   "metadata": {},
   "outputs": [],
   "source": [
    "# 11718 그대로 출력하기\n",
    "while 1:\n",
    "    try:\n",
    "        print(input())\n",
    "    except:\n",
    "        break\n",
    "'''\n",
    "import sys\n",
    "while True:\n",
    "  s = sys.stdin.readline().rstrip()\n",
    "  if s == '':\n",
    "    break\n",
    "  else:\n",
    "    print(s)\n",
    "'''"
   ]
  },
  {
   "cell_type": "code",
   "execution_count": null,
   "metadata": {},
   "outputs": [],
   "source": [
    "# 백준 10809 알파벳 찾기 # find 함수\n",
    "s = input()\n",
    "idx = []\n",
    "for ap in 'abcdefghijklmnopqrstuvwxyz':\n",
    "    print(s.find(ap),end=' ') "
   ]
  },
  {
   "cell_type": "code",
   "execution_count": null,
   "metadata": {},
   "outputs": [],
   "source": [
    "# 3003 킹, 퀸, 룩, 비숍, 나이트, 폰 b5\n",
    "N = list(map(int, input().split()))\n",
    "chess = (1,1,2,2,2,8)\n",
    "\n",
    "for i in range(6):\n",
    "    N[i] = chess[i]-N[i]\n",
    "print(*N)"
   ]
  },
  {
   "cell_type": "code",
   "execution_count": null,
   "metadata": {},
   "outputs": [],
   "source": [
    "# b5 16430번 제리와 톰\n",
    "A,B = map(int, input().split())\n",
    "print(B-A,B)"
   ]
  },
  {
   "cell_type": "markdown",
   "metadata": {},
   "source": [
    "## Solved 클래스"
   ]
  },
  {
   "cell_type": "markdown",
   "metadata": {},
   "source": [
    "### Class4"
   ]
  },
  {
   "cell_type": "code",
   "execution_count": null,
   "metadata": {},
   "outputs": [],
   "source": [
    "# 1991번 트리 순회 s1"
   ]
  },
  {
   "cell_type": "markdown",
   "metadata": {},
   "source": [
    "### Class3"
   ]
  },
  {
   "cell_type": "code",
   "execution_count": null,
   "metadata": {},
   "outputs": [],
   "source": [
    "import sys\n",
    "from io import StringIO\n",
    "text = '''10\n",
    "add 1\n",
    "add 2\n",
    "check 1\n",
    "check 2\n",
    "check 3\n",
    "remove 2\n",
    "check 2\n",
    "toggle 3\n",
    "check 3\n",
    "check 1'''\n",
    "sys.stdin = StringIO(text)\n",
    "# s5 11723 집합\n",
    "# 비트마스크 알고리즘? 그게 뭔데\n",
    "import sys\n",
    "class Setting():\n",
    "    def __init__(self):\n",
    "        self.S = set()\n",
    "        \n",
    "    def add(self, x):\n",
    "        x=int(x)\n",
    "        self.S.add(x)\n",
    "    def remove(self, x):\n",
    "        x=int(x)\n",
    "        self.S.discard(x)\n",
    "    def check(self, x):\n",
    "        x=int(x)\n",
    "        print(int(x in self.S))\n",
    "    def toggle(self, x):\n",
    "        x=int(x)\n",
    "        if x in self.S:\n",
    "            self.S.discard(x)\n",
    "        else:\n",
    "            self.S.add(x)\n",
    "    def all(self):\n",
    "        self.S = {i for i in range(1,21)}\n",
    "    def empty(self):\n",
    "        self.S.clear()\n",
    "\n",
    "M = int(sys.stdin.readline())\n",
    "setting = Setting()\n",
    "\n",
    "for _ in range(M):\n",
    "    cmd = sys.stdin.readline().split()\n",
    "    \n",
    "    if cmd[0] == \"add\":\n",
    "        setting.add(cmd[1])\n",
    "        # print(cmd ,setting.S)\n",
    "    elif cmd[0] == \"remove\":\n",
    "        setting.remove(cmd[1])\n",
    "        # print(cmd ,setting.S)\n",
    "    elif cmd[0] == \"check\":\n",
    "        setting.check(cmd[1])\n",
    "        # print(cmd ,setting.S)\n",
    "    elif cmd[0] == \"toggle\":\n",
    "        setting.toggle(cmd[1])\n",
    "        # print(cmd ,setting.S)\n",
    "    elif cmd[0] == \"all\":\n",
    "        setting.all()\n",
    "        # print(cmd ,setting.S)\n",
    "    elif cmd[0] == \"empty\":\n",
    "        setting.empty()\n",
    "        # print(cmd ,setting.S)\n",
    "    else:\n",
    "        print(\"올바르지 않은 주문\")"
   ]
  },
  {
   "cell_type": "markdown",
   "metadata": {},
   "source": [
    "### Class2"
   ]
  },
  {
   "cell_type": "code",
   "execution_count": null,
   "metadata": {},
   "outputs": [],
   "source": [
    "# s2 1874 스택 수열\n",
    "def output(x, y=None):\n",
    "    global YN\n",
    "    global push_st\n",
    "    if x:\n",
    "        for _ in range(y):\n",
    "            st.append(push_st)\n",
    "            YN+='+'\n",
    "            push_st+=1\n",
    "    else:\n",
    "        ar.append(st.pop())\n",
    "        YN+='-'\n",
    "\n",
    "def stack(n):\n",
    "    global YN\n",
    "    if not st or st[-1] < n:\n",
    "        if push_st > n: YN+='NO'\n",
    "        elif push_st <= n:\n",
    "            output(1, n+1 - push_st)\n",
    "            output(0)\n",
    "    elif st[-1]==n: output(0)\n",
    "    elif st[-1] > n: YN+='NO'\n",
    "\n",
    "N = int(input())\n",
    "st, ar = [],[]\n",
    "YN = ''\n",
    "push_st = 1\n",
    "for _ in range(N):\n",
    "    n = int(input())\n",
    "    stack(n)\n",
    "    if 'NO' in YN:\n",
    "        print('NO')\n",
    "        break\n",
    "if not 'NO' in YN: print(*YN,sep='\\n')"
   ]
  },
  {
   "cell_type": "code",
   "execution_count": null,
   "metadata": {},
   "outputs": [],
   "source": [
    "import sys\n",
    "from io import StringIO\n",
    "text = '''4 11\n",
    "802\n",
    "743\n",
    "457\n",
    "539'''\n",
    "sys.stdin = StringIO(text)\n",
    "# s2 1654 랜선 자르기\n",
    "# 알고리즘 # 이분탐색 # 매개변수탐색 \n",
    "import sys\n",
    "K,N = map(int, sys.stdin.readline().split())\n",
    "k = [int(sys.stdin.readline()) for _ in range(K)]\n",
    "l,r = 1,max(k) # left ~ right 까지\n",
    "while l <= r:\n",
    "    mid = (l+r)//2 # 중간길이\n",
    "    n = sum(map((lambda x:x//mid), k))\n",
    "    if n >= N:\n",
    "        res = mid\n",
    "        l = mid + 1\n",
    "    elif n < N:\n",
    "        r = mid - 1\n",
    "print(res)\n",
    "# 802에서 절반길이로 k//절반길이 합 > N 이면 길이를 늘여서 절반 <N이면 길이를 줄여서 절반 반복"
   ]
  },
  {
   "cell_type": "code",
   "execution_count": null,
   "metadata": {},
   "outputs": [],
   "source": [
    "# s3 2108번 통계학\n",
    "# 오답노트 시간초과& 우측을 읽고 좌측에 대입하기에 N없이 range(N)이 호출됨\n",
    "# count까지 시간복잡도 n^? 나와서 시간초과로 오답\n",
    "'''\n",
    "import sys\n",
    "N,n = int(sys.stdin.readline()), [int(sys.stdin.readline()) for _ in range(N)]\n",
    "count = 0\n",
    "mode = []\n",
    "for i in set(n):\n",
    "    if count < n.count(i):\n",
    "        mode = [i]\n",
    "        count = n.count(i)\n",
    "    elif count == n.count(i):\n",
    "        mode.append(i)\n",
    "if len(mode)!=1:\n",
    "    mode = sorted(mode)[1]\n",
    "else: mode=mode[0]\n",
    "\n",
    "print(round(sum(n)/N))\n",
    "print(sorted(n)[N//2])\n",
    "print(mode)\n",
    "print(max(n)-min(n))\n",
    "'''\n",
    "\n",
    "import sys\n",
    "from collections import Counter\n",
    "\n",
    "N = int(sys.stdin.readline())\n",
    "n = [int(sys.stdin.readline()) for _ in range(N)]\n",
    "\n",
    "counter = Counter(n)\n",
    "mode = counter.most_common()\n",
    "\n",
    "max_frequency = mode[0][1]\n",
    "modes = [k for k, v in mode if v == max_frequency]\n",
    "if len(modes) > 1:\n",
    "    mode_value = sorted(modes)[1]\n",
    "else:\n",
    "    mode_value = modes[0]\n",
    "\n",
    "print(round(sum(n)/N))\n",
    "print(sorted(n)[N//2])\n",
    "print(mode_value)\n",
    "print(max(n) - min(n))"
   ]
  },
  {
   "cell_type": "code",
   "execution_count": null,
   "metadata": {},
   "outputs": [],
   "source": [
    "import collections as cl\n",
    "help(cl.deque.)"
   ]
  },
  {
   "cell_type": "code",
   "execution_count": 16,
   "metadata": {},
   "outputs": [
    {
     "name": "stdout",
     "output_type": "stream",
     "text": [
      "1\n",
      "2\n",
      "5\n"
     ]
    }
   ],
   "source": [
    "import sys\n",
    "from io import StringIO\n",
    "text = '''3\n",
    "1 0\n",
    "5\n",
    "4 2\n",
    "1 2 3 4\n",
    "6 0\n",
    "1 1 9 1 1 1'''\n",
    "sys.stdin = StringIO(text)\n",
    "# s3 1966번 프린터 큐\n",
    "import sys\n",
    "import collections as cl\n",
    "\n",
    "T=int(sys.stdin.readline())\n",
    "for _ in range(T):\n",
    "    N,M=map(int, sys.stdin.readline().split())\n",
    "    W=cl.deque([i for i in enumerate( map(int, sys.stdin.readline().split()) )])\n",
    "    turn=1\n",
    "    while True:\n",
    "        if W[0][1] < max(j[1] for j in W):\n",
    "            W.append(W.popleft())\n",
    "        else:\n",
    "            if W[0][0]==M:\n",
    "                print(turn)\n",
    "                turn=1\n",
    "                break\n",
    "            else:\n",
    "                W.popleft()\n",
    "                turn+=1"
   ]
  },
  {
   "cell_type": "code",
   "execution_count": null,
   "metadata": {},
   "outputs": [],
   "source": [
    "# s4 10845번 큐\n",
    "import sys\n",
    "\n",
    "N = int(input())\n",
    "Q = []\n",
    "for i in range(N):\n",
    "    A = sys.stdin.readline().split()\n",
    "\n",
    "    if A[0] == 'pop':\n",
    "        if len(Q) != 0: print(Q.pop(0))\n",
    "        else: print('-1')\n",
    "\n",
    "    elif A[0] == 'size': print(len(Q))\n",
    "\n",
    "    elif A[0] == 'empty':\n",
    "        if len(Q) == 0: print('1')\n",
    "        else: print('0')\n",
    "\n",
    "    elif A[0] == 'front':\n",
    "        if len(Q) != 0: print(Q[0])\n",
    "        else: print('-1')\n",
    "\n",
    "    elif A[0] == 'back':\n",
    "        if len(Q) != 0: print(Q[-1])\n",
    "        else: print('-1')\n",
    "    \n",
    "    else: Q.append(A[1])"
   ]
  },
  {
   "cell_type": "code",
   "execution_count": null,
   "metadata": {},
   "outputs": [],
   "source": [
    "# s4 10828번 스택\n",
    "import sys\n",
    "\n",
    "N = int(sys.stdin.readline())\n",
    "stack_lst = []\n",
    "def stack(command):\n",
    "    if command[0] == 'pop':\n",
    "        print(stack_lst.pop() if stack_lst else -1)\n",
    "    elif command[0] == 'size':\n",
    "        print(len(stack_lst))\n",
    "    elif command[0] == 'empty':\n",
    "        print(0 if stack_lst else 1)\n",
    "    elif command[0] == 'top':\n",
    "        print(stack_lst[-1] if stack_lst else -1)\n",
    "    else:\n",
    "        stack_lst.append(command[-1])\n",
    "\n",
    "for i in range(N):\n",
    "    command = sys.stdin.readline().strip().split()\n",
    "    stack(command)"
   ]
  },
  {
   "cell_type": "code",
   "execution_count": null,
   "metadata": {},
   "outputs": [],
   "source": [
    "# b1 1546번 평균\n",
    "N = int(input())\n",
    "score = list(map(int,input().strip().split()))\n",
    "def a(N,score):\n",
    "  avg=[]\n",
    "  if N <= 1000:\n",
    "    M = max(score)\n",
    "    for i in range(len(score)):\n",
    "      avg.append(score[i]/M*100)\n",
    "  return sum(avg)/len(avg)\n",
    "print(a(N,score))"
   ]
  },
  {
   "cell_type": "code",
   "execution_count": null,
   "metadata": {},
   "outputs": [],
   "source": [
    "# b3 30802 웰컴 키드\n",
    "N = int(input())\n",
    "size = map(int, input().split())\n",
    "T,P = map(int, input().split())\n",
    "print(sum(map(lambda x: x//T + bool(x%T), size)))\n",
    "print(N//P, N%P)  "
   ]
  },
  {
   "cell_type": "code",
   "execution_count": 97,
   "metadata": {},
   "outputs": [],
   "source": [
    "# b3 4153 직각삼각형\n",
    "while True:\n",
    "    ABC = list(map(int, input().split()))\n",
    "    if ABC[0]*ABC[1]*ABC[2] and ABC[0]+ABC[1] > ABC[2]:\n",
    "        a,b,c = map(lambda x: x**2, sorted(ABC))\n",
    "        print('right' if a+b == c else 'wrong')\n",
    "    else: break"
   ]
  },
  {
   "cell_type": "markdown",
   "metadata": {},
   "source": [
    "### Class1"
   ]
  },
  {
   "cell_type": "code",
   "execution_count": null,
   "metadata": {},
   "outputs": [],
   "source": [
    "# 10250번 ACM 호텔\n",
    "# T = int(input()) # 2\n",
    "# for _ in range(T):\n",
    "#     H,W,N = map(int, input().split()) # 6 12 10 # 30 50 72\n",
    "#     if N <= H*W:\n",
    "#         floor = N%H if N%H else H\n",
    "#         room = 1+(N-1)//H\n",
    "#         print(f'{floor}{room:02d}')\n",
    "\n",
    "# 2475번 검증수 b4\n",
    "# A,B,C = input(), input(), input()\n",
    "# print(int(A)+int(B)-int(C))\n",
    "# print(int(A+B)-int(C))"
   ]
  },
  {
   "cell_type": "markdown",
   "metadata": {},
   "source": [
    "### solved새싹"
   ]
  },
  {
   "cell_type": "code",
   "execution_count": null,
   "metadata": {},
   "outputs": [],
   "source": [
    "# 2475번 검증수 b5\n",
    "print(sum(map(lambda x: int(x)**2, input().split()))%10)"
   ]
  },
  {
   "cell_type": "code",
   "execution_count": null,
   "metadata": {},
   "outputs": [],
   "source": [
    "# 문자열\n",
    "\n",
    "# 2754번 학점계산\n",
    "# s = input()\n",
    "# unit = {'A': 4.0, 'B' : 3.0, 'C': 2.0, 'D':1.0, 'F':0.0, '+':0.3, '-':-0.3, '0':0}\n",
    "# print( unit[s[0]] + unit[s[-1]] )\n",
    "\n",
    "# 2744번 대소문자 바꾸기\n",
    "# print(input().swapcase())\n",
    "\n",
    "# 11718번 그대로 출력하기\n",
    "# import sys\n",
    "# input = sys.stdin.readline\n",
    "# print(input())\n",
    "# 출력\n",
    "\n",
    "# 10699번 오늘 날짜\n",
    "# from datetime import datetime\n",
    "# today = datetime.today()\n",
    "# print(str(today)[0:10])"
   ]
  },
  {
   "cell_type": "markdown",
   "metadata": {},
   "source": [
    "---\n",
    "# **프로그래머스**\n",
    "---"
   ]
  },
  {
   "cell_type": "markdown",
   "metadata": {},
   "source": [
    "## LV3"
   ]
  },
  {
   "cell_type": "markdown",
   "metadata": {},
   "source": [
    "## LV2"
   ]
  },
  {
   "cell_type": "code",
   "execution_count": null,
   "metadata": {},
   "outputs": [],
   "source": [
    "# 최댓값과 최솟값\n",
    "def solution(s):\n",
    "    s = list(map(int,(s.strip().split(' '))))\n",
    "    return f'{min(s)} {max(s)}'"
   ]
  },
  {
   "cell_type": "code",
   "execution_count": null,
   "metadata": {},
   "outputs": [],
   "source": [
    "# 올바른 괄호\n",
    "br='()'\n",
    "def condition(s):\n",
    "    if 0 <= len(s) <= 100000 and ' ' not in s and all(s in br for i in s):\n",
    "        return True\n",
    "def solution(s):\n",
    "    x=0\n",
    "    for i in range(len(s)):\n",
    "        if s[i] == '(':\n",
    "            x+=1\n",
    "        else:\n",
    "            x-=1\n",
    "            if x<0:\n",
    "                return False\n",
    "    if x == 0 : return True\n",
    "    return False"
   ]
  },
  {
   "cell_type": "code",
   "execution_count": null,
   "metadata": {},
   "outputs": [],
   "source": [
    "# 최솟값 만들기\n",
    "def solution(A,B):\n",
    "    return sum(i*j for i,j in zip(sorted(A),sorted(B,reverse=True)))"
   ]
  },
  {
   "cell_type": "code",
   "execution_count": null,
   "metadata": {},
   "outputs": [],
   "source": [
    "# JadenCase 문자열 만들기\n",
    "def solution(s):\n",
    "    s = s.lower()\n",
    "    if s[0].isalpha(): s = s[0].upper() + s[1:]\n",
    "    for i in range(len(s)-1):\n",
    "        if s[i] == ' ':\n",
    "            if s[i+1] != None and s[i+1] != ' ':\n",
    "                s = s[:i+1] + s[i+1].upper() + s[i+2:]\n",
    "    return s\n",
    "\n",
    "  # string = s.split()\n",
    "  # for st in string:\n",
    "  #   # s = s.replace(st, st[0].upper() + st[1:].lower())\n",
    "  #   print(s.replace(st, st[0].upper() + st[1:].lower()))\n",
    "\n",
    "  # for i in range(len(s)):\n",
    "  #   if i == 0 and s[i] != ' ':\n",
    "  #     s[i] = s[i].upper()\n",
    "  #   if s[i] == ' ':\n",
    "  #     is \n",
    "  #     if i+1 != len(s) and s[i+1] != ' ':\n",
    "  #       s[i+1] = s[i+1].upper()\n",
    "      \n",
    "\n",
    "\n",
    "s=\" aB 3pEoPl e             unFollowed   me  dD      \"\n",
    "# s=\"for the l ast    week\"\n",
    "print(solution(s))"
   ]
  },
  {
   "cell_type": "code",
   "execution_count": null,
   "metadata": {},
   "outputs": [],
   "source": [
    "# 이진 변환 반복하기\n",
    "def solution(s):\n",
    "    a=0\n",
    "    zero,count = 0,0\n",
    "    while s != '1':\n",
    "        zero += s.count('0')\n",
    "        count += 1\n",
    "        s = '1'*s.count('1')\n",
    "        binary = len(s)\n",
    "        temp = ''\n",
    "        while binary//2 or binary%2:\n",
    "            print(binary)\n",
    "            if binary%2:\n",
    "                temp += '1'\n",
    "            else:\n",
    "                temp += '0'\n",
    "            binary = binary//2\n",
    "            print(binary)\n",
    "        s = ''.join(reversed(temp))\n",
    "    return [count, zero]\n",
    "solution(\"1111111\")"
   ]
  },
  {
   "cell_type": "code",
   "execution_count": null,
   "metadata": {},
   "outputs": [],
   "source": [
    "# 숫자의 표현\n",
    "def solution(n):\n",
    "    count = 0\n",
    "    for i in range(n):\n",
    "        sumnum = 0\n",
    "        for j in range(1+i,n+1):\n",
    "            sumnum += j\n",
    "            if sumnum > n:\n",
    "                break\n",
    "            if sumnum == n:\n",
    "                count += 1\n",
    "    return count"
   ]
  },
  {
   "cell_type": "code",
   "execution_count": null,
   "metadata": {},
   "outputs": [],
   "source": [
    "# 다음 큰 숫자\n",
    "def solution(n):\n",
    "    N = n\n",
    "    while True:\n",
    "        N += 1\n",
    "        nN = [n,N]\n",
    "        nN1 = [0, 0]\n",
    "        for i in range(2):\n",
    "            print(i)\n",
    "            while nN[i] > 0:\n",
    "                if nN[i]%2:\n",
    "                    nN1[i] += 1\n",
    "                nN[i]=nN[i]//2\n",
    "        print(nN1)\n",
    "        if nN1[0] == nN1[1]:\n",
    "            return N\n",
    "print(solution(78))# 78 83   23 15"
   ]
  },
  {
   "cell_type": "code",
   "execution_count": null,
   "metadata": {},
   "outputs": [],
   "source": [
    "# 피보나치 수\n",
    "# 미해결\n",
    "\n",
    "\n",
    "solution(5)\n",
    "\n",
    "# 오답노트\n",
    "# 방법 1 재귀함수\n",
    "# def solution(n):\n",
    "#     if n==0:\n",
    "#         return 0\n",
    "#     elif n==1:\n",
    "#         return 1        \n",
    "    # return solution(n-1) + solution(n-2)\n",
    "# 재귀 호출 최대 횟수를 넘어서면 런타임 에러가 발생\n",
    "# 방법2 # 일반함수 사용 : 초기값 세팅 후 점화식 loop\n",
    "def solution(n, a=0, b=0):\n",
    "    a,b =0,1\n",
    "    if n==1 and n==2:\n",
    "        a = 1\n",
    "    for i in range(n):\n",
    "        a,b = b, a+b\n",
    "        print(i+1, a,b)\n",
    "    return a\n",
    "# 방법 3 제너레이터\n",
    "def fibo():\n",
    "    a, b = 0, 1\n",
    "    while True:\n",
    "    \ta, b = b, a + b\n",
    "        yield a\n",
    "        \n",
    "f = fibo()\n",
    "next(f)\n",
    "# 방법 4 메모이제이션\n",
    "def fibo(n):\n",
    "    fibList = [1,1]\n",
    "    if n == 1 or n == 2:\n",
    "    \treturn 1\n",
    "    for i in range(2, n):\n",
    "    \tfibList.append(fibList[i-1] + fibList[i-2])\n",
    "        return fibList\n",
    "        \n",
    "print(fibo(5)) # [1, 1, 2, 3, 5]\n",
    "# 방법 5 람다\n",
    "fibo = lambda n: 1 if n <= 2 else fibo(n-1) + fibo(n-2)\n",
    "\n",
    "print(fibo(5)) # 5\n",
    "# 방법 6 람다\n",
    "fibo = lambda n, a=0, b=1 : a if n <= 0 else fibo(n-1, b, a+b)\n",
    "\n",
    "print(fibo(1)) # 5\n",
    "# 방법 7 선형대수학\n",
    "import numpy as np\n",
    "A = np.matrix([1,1], [1,0])\n",
    "print(A**5)[0,1]"
   ]
  },
  {
   "cell_type": "code",
   "execution_count": null,
   "metadata": {},
   "outputs": [],
   "source": [
    "# 짝지어 제거하기\n",
    "# 미해결\n",
    "def solution(s):\n",
    "    while True:\n",
    "        if len(s)==2 and s[0]==s[1]: return 1\n",
    "        elif len(s) >= 2:\n",
    "            for i in range(0,len(s)-1):\n",
    "                print('h',s[i],s[i+1])\n",
    "                if s[i] == s[i+1]:\n",
    "                    print(s , s[i]+s[i+1])\n",
    "                    s = s.replace(s[i]+s[i+1], '', 1)\n",
    "                    print(s)\n",
    "                    continue\n",
    "        else: return 0\n",
    "solution('baabaa')"
   ]
  },
  {
   "cell_type": "code",
   "execution_count": null,
   "metadata": {},
   "outputs": [],
   "source": [
    "# 1003번 피보나치 함수 s3\n",
    "T = int(input())\n",
    "dic = {0:0, 1:1, '0':1, '1':0}\n",
    "for i in range(T):\n",
    "    N = int(input())\n",
    "    for i in range(2,N+1):\n",
    "        dic[i] = dic[i-1] + dic[i-2]\n",
    "        dic[str(i)] = dic[str(i-1)] + dic[str(i-2)]\n",
    "    print(dic[str(N)], dic[N])"
   ]
  },
  {
   "cell_type": "markdown",
   "metadata": {},
   "source": [
    "## LV1"
   ]
  },
  {
   "cell_type": "code",
   "execution_count": null,
   "metadata": {},
   "outputs": [],
   "source": [
    "import string\n",
    "string.ascii_letters.find(\"d\")"
   ]
  },
  {
   "cell_type": "code",
   "execution_count": null,
   "metadata": {},
   "outputs": [],
   "source": [
    "a=[0,1,2,3,4,5,6]\n",
    "print(a[3 if len(a)==7 else 5])"
   ]
  },
  {
   "cell_type": "code",
   "execution_count": null,
   "metadata": {},
   "outputs": [],
   "source": [
    "# 숫자 문자열과 영단어\n",
    "def solution(s):\n",
    "    n,t = '',''\n",
    "    numbers = {\"zero\":'0', \"one\":'1', \"two\":'2', \"three\":'3', \"four\":'4',\n",
    "               \"five\":'5', \"six\":'6', \"seven\":'7', \"eight\":'8', \"nine\":'9'}\n",
    "    for i,j in enumerate(s):\n",
    "        if j.isnumeric():\n",
    "            n += j\n",
    "        else:\n",
    "            t += j\n",
    "            if t in numbers:\n",
    "                n+= numbers[t]\n",
    "                t=''\n",
    "    return int(n)"
   ]
  },
  {
   "cell_type": "code",
   "execution_count": null,
   "metadata": {},
   "outputs": [],
   "source": [
    "# 시저 암호\n",
    "import string\n",
    "up = string.ascii_uppercase\n",
    "lo = string.ascii_lowercase\n",
    "solution = lambda s,n: ''.join([(up[(up.find(i)+n)% 26] if (i in up) else lo[(lo.find(i)+n)% 26] if i.isalpha() else i) for i in s])\n",
    "\n",
    "# solution = lambda s,n: ''.join([chr(ord(i) + (not ord(i)==32)*((n%26) -26*((90<(ord(i)+(n%26))*(ord(i)<91)) + (122<(ord(i)+(n%26)))))) for i in s])\n",
    "# ord()는 문자 -> 정수 변환\n",
    "# chr()는 정수 -> 문자 변환\n",
    "\n",
    "\n",
    "# def solution(s, n):\n",
    "#     res = ''\n",
    "#     for i in s:\n",
    "#         if i.isalpha():\n",
    "#             if i in up:\n",
    "#                 res += up[up.find(i)+n if 25 > up.find(i)+n else up.find(i)+n-26]\n",
    "#             else:\n",
    "#                 res += lo[lo.find(i)+n if 25 > lo.find(i)+n else lo.find(i)+n-26]\n",
    "#         else:\n",
    "#             res += i\n",
    "#     return res"
   ]
  },
  {
   "cell_type": "code",
   "execution_count": null,
   "metadata": {},
   "outputs": [],
   "source": [
    "# 최소직사각형\n",
    "# solution = lambda s: max(max(i) for i in s) * max(min(i) for i in s)\n",
    "solution = lambda s: max(sum(s, [])) * max(min(i) for i in s)"
   ]
  },
  {
   "cell_type": "code",
   "execution_count": null,
   "metadata": {},
   "outputs": [],
   "source": [
    "# 가장 가까운 같은 글자\n",
    "# solution=lambda s: [x-s[:x].rfind(y) if s[:x].rfind(y)+1 else -1 for x,y in enumerate(s)]\n",
    "solution=lambda s: [s[i::-1].find(s[i],1) for i in range(len(s))]"
   ]
  },
  {
   "cell_type": "code",
   "execution_count": null,
   "metadata": {},
   "outputs": [],
   "source": [
    "# 삼총사 #\n",
    "def solution(n):\n",
    "    ln = len(n)\n",
    "    count = 0\n",
    "    for i in range(ln):\n",
    "        for j in range(i + 1, ln):\n",
    "            for k in range(j + 1, ln):\n",
    "                if n[i] + n[j] + n[k] == 0:\n",
    "                    count += 1\n",
    "    return count"
   ]
  },
  {
   "cell_type": "code",
   "execution_count": null,
   "metadata": {},
   "outputs": [],
   "source": [
    "# 이상한 문자 만들기\n",
    "def solution(s):\n",
    "    str=''\n",
    "    sniffling = 0\n",
    "    for i,j in enumerate(s):\n",
    "        if j.isalpha():\n",
    "            if sniffling:\n",
    "                str += s[i].lower()\n",
    "                sniffling = 0\n",
    "            else:\n",
    "                str += s[i].upper()\n",
    "                sniffling = 1\n",
    "        else:\n",
    "            str += ' '\n",
    "            sniffling = 0\n",
    "    return str\n",
    "solution(\"try hello world\")"
   ]
  },
  {
   "cell_type": "code",
   "execution_count": null,
   "metadata": {},
   "outputs": [],
   "source": [
    "# 크기가 작은 부분 문자열\n",
    "def solution(t, p):\n",
    "    lp = len(p)\n",
    "    lst = []\n",
    "\n",
    "    for i in range(len(t)):\n",
    "        if len(t[i:i+lp]) ==lp:\n",
    "            lst.append(''.join(t[i:i+lp]))\n",
    "    lp=0\n",
    "    for i in lst:\n",
    "        if i <= p: lp+=1\n",
    "    return lp"
   ]
  },
  {
   "cell_type": "code",
   "execution_count": 10,
   "metadata": {},
   "outputs": [],
   "source": [
    "# 3진법 뒤집기\n",
    "'''\n",
    "def solution(n):\n",
    "    res = ''\n",
    "    while n > 0:\n",
    "        res = res+str(n%3)\n",
    "        n//=3\n",
    "    return sum([3**i*int(j) for i,j in enumerate(res[::-1])])'''\n",
    "# 진법변환!\n",
    "def solution(n):\n",
    "    tmp = ''\n",
    "    while n:\n",
    "        tmp += str(n%3)\n",
    "        n//=3\n",
    "        print(tmp)\n",
    "    return int(tmp, 3) # 3진법인 tmp를 10진법으로 변환"
   ]
  },
  {
   "cell_type": "code",
   "execution_count": null,
   "metadata": {},
   "outputs": [],
   "source": [
    "# 예산\n",
    "def solution(d, budget):\n",
    "    for i in range(len(d)):\n",
    "        budget -= sorted(d)[i]\n",
    "        if budget < 0:\n",
    "            return i\n",
    "    return i+1"
   ]
  },
  {
   "cell_type": "code",
   "execution_count": null,
   "metadata": {},
   "outputs": [],
   "source": [
    "# [PCCE 기출문제] 4번 / 병과분류\n",
    "code = input()\n",
    "last_four_words = code[-4:]\n",
    "if last_four_words == \"_eye\": print(\"Ophthalmologyc\")\n",
    "elif last_four_words == \"head\": print(\"Neurosurgery\")\n",
    "elif last_four_words == \"infl\": print(\"Orthopedics\")\n",
    "elif last_four_words == \"skin\": print(\"Dermatology\")\n",
    "else: print(\"direct recommendation\")"
   ]
  },
  {
   "cell_type": "code",
   "execution_count": null,
   "metadata": {},
   "outputs": [],
   "source": [
    "# 최대공약수와 최소공배수\n",
    "# 최대공약수(GCD), 최소공배수(LCM), 유클리드 호제법\n",
    "def solution(n, m):\n",
    "    temp = n*m\n",
    "    while m:\n",
    "        n,m = m, n%m\n",
    "    m = temp/n\n",
    "    return [n, m]"
   ]
  },
  {
   "cell_type": "code",
   "execution_count": null,
   "metadata": {},
   "outputs": [],
   "source": [
    "# 직사각형 별찍기\n",
    "n,m = map(int, input().split())\n",
    "# [print(\"*\"*n) for _ in range(m)].clear()\n",
    "print(('*'*n + '\\n')*m)"
   ]
  },
  {
   "cell_type": "code",
   "execution_count": null,
   "metadata": {},
   "outputs": [],
   "source": [
    "# 행렬의 덧셈\n",
    "# solution = lambda a,b: [[sum(e) for e in zip(i,j)] for i,j in zip(a,b)]\n",
    "solution = lambda a,b: [list(map(sum, zip(*i))) for i in zip(a,b)]"
   ]
  },
  {
   "cell_type": "code",
   "execution_count": null,
   "metadata": {},
   "outputs": [],
   "source": [
    "# 문자열 다루기 기본\n",
    "# solution = lambda s: bool(s.isdigit() * (len(s)==4 or len(s)==6))\n",
    "solution = lambda s: s.isdigit() and (len(s) in (4,6))"
   ]
  },
  {
   "cell_type": "code",
   "execution_count": null,
   "metadata": {},
   "outputs": [],
   "source": [
    "# 부족한 금액 계산하기\n",
    "# solution = lambda p,m,c: p*sum((n+1) for n in range(c)) - m if p*sum((n+1) for n in range(c)) > m else 0\n",
    "def solution(price, money, count):\n",
    "    return max(0,price*(count+1)*count//2-money)\n",
    "def solution(price, money, count):\n",
    "    return abs(min(money - sum([price*i for i in range(1,count+1)]),0))\n",
    "def solution(price, money, count):\n",
    "    pay = 0\n",
    "    for i in range(1, count+1):\n",
    "        pay += (price * i)\n",
    "    if money < pay:\n",
    "        return pay - money\n",
    "    else:\n",
    "        return 0"
   ]
  },
  {
   "cell_type": "code",
   "execution_count": null,
   "metadata": {},
   "outputs": [],
   "source": [
    "# 문자열 내림차순으로 배치하기\n",
    "solution = lambda s: ''.join(sorted(s, reverse = True))\n",
    "# 어라"
   ]
  },
  {
   "cell_type": "code",
   "execution_count": null,
   "metadata": {},
   "outputs": [],
   "source": [
    "# 약수의 개수와 덧셈\n",
    "'''약수의 개수를 구하는 알고리즘 학습해보기''' # 나중에\n",
    "def solution(l,r):\n",
    "    res = 0\n",
    "    for i in range(l,r+1):\n",
    "        measure = {'count':0}\n",
    "        for j in range(i):\n",
    "            if not i%(j+1):\n",
    "                measure['count']+=1\n",
    "                print(i,j)\n",
    "        if measure['count']%2:\n",
    "            res-=i\n",
    "        else:\n",
    "            res+=i\n",
    "    return res"
   ]
  },
  {
   "cell_type": "code",
   "execution_count": null,
   "metadata": {},
   "outputs": [],
   "source": [
    "# 내적\n",
    "solution = lambda a,b: sum(i*j for i,j in zip(a,b))"
   ]
  },
  {
   "cell_type": "code",
   "execution_count": null,
   "metadata": {},
   "outputs": [],
   "source": [
    "# 수박수박수박수박수박수?\n",
    "# solution = lambda n: ''.join('박' if i%2 else '수' for i in range(n))\n",
    "solution = lambda n: (\"수박\"*n//2 + '수'*(n%2))[:n]\n",
    "solution = lambda n: (\"수박\"*int(n/2+1))[0:n]"
   ]
  },
  {
   "cell_type": "code",
   "execution_count": null,
   "metadata": {},
   "outputs": [],
   "source": [
    "# 가운데 글자 가져오기\n",
    "# solution = lambda s: (lambda l: s[l] if len(s)%2 else s[l-1:l+1])(len(s)//2)\n",
    "solution = lambda s: s[(len(s)-1)//2 : len(s)//2 + 1]"
   ]
  },
  {
   "cell_type": "code",
   "execution_count": null,
   "metadata": {},
   "outputs": [],
   "source": [
    "# 핸드폰 번호 가리기\n",
    "solution = lambda n: '*'*(len(n)-4)+n[-4:]"
   ]
  },
  {
   "cell_type": "code",
   "execution_count": null,
   "metadata": {},
   "outputs": [],
   "source": [
    "# 제일 작은 수 제거하기\n",
    "def solution(arr):\n",
    "    arr.remove(min(arr))\n",
    "    return arr or [-1]\n",
    "# 오답노트\n",
    "# def solution(arr):\n",
    "#     return [i for i in arr if i != min(arr)] or [-1] # 시간초과\n",
    "# solution = lambda a: [i for i in a if i != min(a)] or [-1] # 시간초과\n",
    "print(solution([4,3,2,1]))\n",
    "\n",
    "solution = lambda l: [i for i in l if i > min(l)]"
   ]
  },
  {
   "cell_type": "code",
   "execution_count": null,
   "metadata": {},
   "outputs": [],
   "source": [
    "# 나누어 떨어지는 숫자 배열\n",
    "# solution = lambda a,d: (lambda x: x if x else [-1])(sorted(e for e in a if not e%d))\n",
    "# print(solution([3,2,6], 10))\n",
    "solution = lambda a,d: sorted([n for n in a if n%d == 0]) or [-1]"
   ]
  },
  {
   "cell_type": "code",
   "execution_count": null,
   "metadata": {},
   "outputs": [],
   "source": [
    "# 없는 숫자 더하기\n",
    "# solution = lambda n: sum(i for i in range(10) if i not in n)\n",
    "# solution = lambda n: 45 - sum(n)\n",
    "solution = lambda x: sum(range(10)) - sum(x)"
   ]
  },
  {
   "cell_type": "code",
   "execution_count": null,
   "metadata": {},
   "outputs": [],
   "source": [
    "# 음양 더하기\n",
    "# solution = lambda absolutes, signs: sum([ absolutes[i] if signs[i] else -1*absolutes[i] for i in range(len(signs)) ])\n",
    "solution = lambda absolutes, signs: sum(absolutes if sign else -absolutes for absolutes, sign in zip(absolutes, signs))\n",
    "solution = lambda absolutes, signs: sum([2*x*y - x for x, y in zip(absolutes, signs)])"
   ]
  },
  {
   "cell_type": "code",
   "execution_count": null,
   "metadata": {},
   "outputs": [],
   "source": [
    "# 콜라츠 추측\n",
    "def solution(x):\n",
    "    count = 0\n",
    "    if x==1: return 0\n",
    "    while x!=1:\n",
    "        if x%2==0: x/=2\n",
    "        else: x=x*3+1\n",
    "        count+=1\n",
    "        if x==1: return count\n",
    "        if count==500: return -1"
   ]
  },
  {
   "cell_type": "code",
   "execution_count": null,
   "metadata": {},
   "outputs": [],
   "source": [
    "# 서울에서 김서방 찾기\n",
    "# solution = lambda s: f\"김서방은 {[i for i,x in enumerate(s) if 'Kim'== x][0]}에 있다\"\n",
    "\n",
    "# def solution(s):\n",
    "#     for i,x in enumerate(s):\n",
    "#         if \"Kim\"== x:return f\"김서방은 {i}에 있다\"\n",
    "\n",
    "solution = lambda s:\"김서방은 {}에 있다\".format(s.index('Kim'))\n",
    "\n",
    "solution = lambda s:'김서방은 %d에 있다' %s.index('Kim')\n",
    "\n",
    "solution([\"Jane\", \"Kim\"])"
   ]
  },
  {
   "cell_type": "code",
   "execution_count": null,
   "metadata": {},
   "outputs": [],
   "source": [
    "s=\"3x + 7 + x\".split(' + ')\n",
    "s[j][:-1] for j in [i for i in range(len(s)) if 'x' in s[i]]\n",
    "\n"
   ]
  },
  {
   "cell_type": "code",
   "execution_count": null,
   "metadata": {},
   "outputs": [],
   "source": [
    "name = (lambda x: lambda y: x(y) )(lambda y: x(y-1) if y>0 else y)\n",
    "name(3)"
   ]
  },
  {
   "cell_type": "code",
   "execution_count": null,
   "metadata": {},
   "outputs": [],
   "source": [
    "# x만큼 간격이 있는 n개의 숫자\n",
    "solution = lambda x, n: [i for i in range(x, x+x*n, x)] if x != 0 else [0]*n"
   ]
  },
  {
   "cell_type": "code",
   "execution_count": null,
   "metadata": {},
   "outputs": [],
   "source": [
    "# 두 정수 사이의 합\n",
    "# solution = lambda a,b: sum( i for i in (range(a,b+1) if a<=b else range(b,a+1)) )\n",
    "# solution = lambda a,b: (abs(a-b)+1)*(a+b)//2\n",
    "# solution = lambda a,b: sum(range(min(a, b), max(a, b)+1))\n",
    "solution(3,7)"
   ]
  },
  {
   "cell_type": "code",
   "execution_count": null,
   "metadata": {},
   "outputs": [],
   "source": [
    "# 하샤드 수\n",
    "# solution = lambda x: not bool(x%sum(map(int,list(str(x)))))\n",
    "# solution = lambda x: not bool(x%sum(int(i) for i in str(x))) # for 문이 더 구릴까?\n",
    "solution(13)"
   ]
  },
  {
   "cell_type": "code",
   "execution_count": null,
   "metadata": {},
   "outputs": [],
   "source": [
    "# 정수 내림차순으로 배치하기 \n",
    "# solution = lambda n: int(''.join(sorted(list(str(n)), reverse=True)))\n",
    "# solution = lambda n: int(''.join(sorted(str(n), reverse=True)))\n",
    "solution(118372)"
   ]
  },
  {
   "cell_type": "code",
   "execution_count": null,
   "metadata": {},
   "outputs": [],
   "source": [
    "# 정수제곱근 판별\n",
    "solution = lambda n: -1 if n**.5%1 else 2*(n**.5) +n +1"
   ]
  },
  {
   "cell_type": "code",
   "execution_count": null,
   "metadata": {},
   "outputs": [],
   "source": [
    "# 나머지가 1이 되는 수 찾기\n",
    "solution = lambda n: next(x for x in range(2,n) if n % x == 1)\n",
    "\n",
    "# def solution(n):\n",
    "#     if not 3 <= n <= 1000000: return None\n",
    "#     for x in range(2,n):\n",
    "#         if n % x == 1: return x\n",
    "\n",
    "# solution = lambda n: min(list(filter(lambda x:n%x==1,range(1,n+1))))"
   ]
  },
  {
   "cell_type": "code",
   "execution_count": null,
   "metadata": {},
   "outputs": [],
   "source": []
  },
  {
   "cell_type": "code",
   "execution_count": null,
   "metadata": {},
   "outputs": [],
   "source": [
    "# 자연수 뒤집어 배열로 만들기\n",
    "solution = lambda n: [int(str(n)[i]) for i in range(-1,-len(str(n))-1,-1)]\n",
    "solution = lambda n: list(map(int, reversed(str(n))))\n",
    "\n",
    "\n",
    "print(solution(12345))"
   ]
  },
  {
   "cell_type": "code",
   "execution_count": null,
   "metadata": {},
   "outputs": [],
   "source": [
    "# 문자열을 정수로 바꾸기\n",
    "solution = int"
   ]
  },
  {
   "cell_type": "code",
   "execution_count": null,
   "metadata": {},
   "outputs": [],
   "source": [
    "# 문자열 내 p와 y의 개수\n",
    "def solution(s):return len(s)<=50 and s.lower().count('p') == s.lower().count('y')"
   ]
  },
  {
   "cell_type": "code",
   "execution_count": null,
   "metadata": {},
   "outputs": [],
   "source": [
    "# 약수의 합\n",
    "'''\n",
    "def solution(n):\n",
    "    a=0\n",
    "    for i in range(n):\n",
    "        if n%(i+1) == 0:\n",
    "            a += i+1\n",
    "    return a\n",
    "'''\n",
    "'''\n",
    "def solution(n):\n",
    "    if n==0: return 0\n",
    "    elif n==1: return 1\n",
    "    else: return sum([i+1 for i in range(1,n//2+1) if not n%(i+1)])+n+1\n",
    "'''\n",
    "def solution(n): return sum([i for i in range(1,n//2+1) if not n%(i)]) + n\n"
   ]
  },
  {
   "cell_type": "code",
   "execution_count": null,
   "metadata": {},
   "outputs": [],
   "source": [
    "# 짝수와 홀수\n",
    "solution = lambda x: 'Odd' if x%2 else 'Even'"
   ]
  },
  {
   "cell_type": "code",
   "execution_count": null,
   "metadata": {},
   "outputs": [],
   "source": [
    "# 평균 구하기\n",
    "solution = lambda x: sum(x)/len(x)"
   ]
  },
  {
   "cell_type": "markdown",
   "metadata": {},
   "source": [
    "## LV0"
   ]
  },
  {
   "cell_type": "code",
   "execution_count": null,
   "metadata": {},
   "outputs": [],
   "source": [
    "# 문자열 출력하기\n",
    "while (str := input()) and 1<=len(str)<=1000000 and \" \" not in str:print(str);break"
   ]
  },
  {
   "cell_type": "code",
   "execution_count": null,
   "metadata": {},
   "outputs": [],
   "source": [
    "# 코드 처리하기\n",
    "def solution(code):\n",
    "  # return \"\".join(code.split(\"1\"))[::2] or \"EMPTY\"\n",
    "  # ㄴ와...\n",
    "    mode=0\n",
    "    ret =\"\"\n",
    "    for idx in range(0, len(code)):\n",
    "        if mode == 0:\n",
    "            if code[idx]==\"1\":\n",
    "                mode = 1\n",
    "            elif idx%2==0:\n",
    "                ret+=code[idx]\n",
    "        elif mode == 1:\n",
    "            if code[idx]==\"1\":\n",
    "                mode = 0\n",
    "            elif idx%2!=0:\n",
    "                ret+=code[idx]\n",
    "    if ret==\"\": return \"EMPTY\"\n",
    "    else: return ret"
   ]
  },
  {
   "cell_type": "code",
   "execution_count": null,
   "metadata": {},
   "outputs": [],
   "source": [
    "# [PCCE 기출문제] 2번 / 각도 합치기\n",
    "angle1 = int(input())\n",
    "angle2 = int(input())\n",
    "sum_angle = (angle1 + angle2)%360\n",
    "print(sum_angle)"
   ]
  },
  {
   "cell_type": "code",
   "execution_count": null,
   "metadata": {},
   "outputs": [],
   "source": [
    "# 같은 숫자는 싫어\n",
    "arr = [1,1,3,3,0,1,1] # [1,3,0,1]\n",
    "# arr = [4,4,4,3,3]\t# [4,3]\n",
    "def solution(arr):\n",
    "    x = [arr[0]]\n",
    "    for i in range(0,len(arr)-1):\n",
    "        if arr[i] != arr[i+1]:\n",
    "            x.append(arr[i+1])\n",
    "    return x\n",
    "print(solution(arr))"
   ]
  },
  {
   "cell_type": "code",
   "execution_count": null,
   "metadata": {},
   "outputs": [],
   "source": [
    "# 배열 원소의 길이\n",
    "solution = lambda s: list(map(len,s))\n",
    "solution([\"We\", \"are\", \"the\", \"world!\"])"
   ]
  },
  {
   "cell_type": "code",
   "execution_count": null,
   "metadata": {},
   "outputs": [],
   "source": [
    "# 중복된 숫자 개수\n",
    "solution = lambda a,n: a.count(n)\n",
    "solution([1, 1, 2, 3, 4, 5], 1)"
   ]
  },
  {
   "cell_type": "code",
   "execution_count": null,
   "metadata": {},
   "outputs": [],
   "source": [
    "def name(n):\n",
    "  print('mean71')\n",
    "  if n>1:\n",
    "    name(n-1)\n",
    "name(5)"
   ]
  },
  {
   "cell_type": "code",
   "execution_count": null,
   "metadata": {},
   "outputs": [],
   "source": [
    "# 2\n",
    "# 스킬체크 lv2\n"
   ]
  },
  {
   "cell_type": "code",
   "execution_count": null,
   "metadata": {},
   "outputs": [],
   "source": [
    "# 2\n",
    "solution = lambda n: sum([i for i in range(10) if i not in n])\n",
    "# 스킬체크 1\n",
    "def solution(s):\n",
    "    if len(s)==1:\n",
    "        return s\n",
    "    if len(s)%2 == 1:\n",
    "        return s[len(s)//2]\n",
    "    else:\n",
    "        return s[len(s)//2-1:len(s)//2+1]\n",
    "solution(\"abcde\")"
   ]
  },
  {
   "cell_type": "code",
   "execution_count": null,
   "metadata": {},
   "outputs": [],
   "source": [
    "solution=lambda l: int(sum(l)**2 > (lambda x,y:[y := y*i for i in l][-1])(l,1))\n",
    "solution([3, 4, 5, 2, 1])"
   ]
  },
  {
   "cell_type": "code",
   "execution_count": null,
   "metadata": {},
   "outputs": [],
   "source": [
    "# 옹알이 (1)\n",
    "def solution(babbling):\n",
    "    baby = 'aya', 'ye', 'woo', 'ma'\n",
    "    count = 0\n",
    "    for ongR in babbling:\n",
    "        for say in baby:\n",
    "            ongR = ongR.replace(say, '0', 1)\n",
    "        if ongR.isdigit():\n",
    "            count += 1\n",
    "    return count\n",
    "# 정수를 나선형으로 배치하기\n",
    "# 평행\n",
    "from functools import reduce\n",
    "def solution(dots):\n",
    "    return int(max(reduce(lambda dict, x: dict.update({x: dict.get(x, 0)+1}) or dict,[(d1[1] - d2[1])/(d1[0]-d2[0]) if d1[0]-d2[0] else \"x\" for d1 in dots for d2 in dots if not d1==d2], {}).values()) > 2)\n",
    "\n",
    "def solution(dots):\n",
    "    [[x1, y1], [x2, y2], [x3, y3], [x4, y4]]=dots\n",
    "    answer1 = ((y1-y2)*(x3-x4) == (y3-y4)*(x1-x2))\n",
    "    answer2 = ((y1-y3)*(x2-x4) == (y2-y4)*(x1-x3))\n",
    "    answer3 = ((y1-y4)*(x2-x3) == (y2-y3)*(x1-x4))\n",
    "    return 1 if answer1 or answer2 or answer3 else 0\n",
    "\n",
    "def solution(dots):\n",
    "    if (dots[0][0]-dots[1][0]) / (dots[0][1]-dots[1][1]) == (dots[2][0]-dots[3][0]) / (dots[2][1]-dots[3][1]): return 1\n",
    "    elif (dots[0][0]-dots[2][0]) / (dots[0][1]-dots[2][1]) == (dots[1][0]-dots[3][0]) / (dots[1][1]-dots[3][1]): return 1\n",
    "    elif (dots[0][0]-dots[3][0]) / (dots[0][1]-dots[3][1]) == (dots[1][0]-dots[2][0]) / (dots[1][1]-dots[2][1]): return 1\n",
    "    return 0\n",
    "# 겹치는 선분의 길이\n",
    "# 주사위 게임 3\n",
    "def solution(a, b, c, d):\n",
    "    x=[a,b,c,d]\n",
    "    if len(set(x))==1: return 1111*a\n",
    "    elif len(set(x))==4: return min(x)\n",
    "    elif a==b and c==d: return (a+c)*abs(a-c)\n",
    "    elif a==c and b==d: return (a+b)*abs(a-b)\n",
    "    elif a==d and b==c: return (a+b)*abs(a-b)\n",
    "    \n",
    "    elif len(set(x))==2:\n",
    "        return (10*[x[i] for i in range(4) if x.count(x[i])==3 ][0] + [x[i] for i in range(4) if x.count(x[i])==1][0])**2\n",
    "    elif len(set(x))==3:\n",
    "        y = [x[i] for i in range(4) if x.count(x[i])==1]\n",
    "        return y[0]*y[1]    \n",
    "'''\n",
    "a b c d min(x)\n",
    "p p p p 1111*p\n",
    "\n",
    "p p q q (p+q)*abs(p-q)\n",
    "p p p q (10*p+q)**2\n",
    "p p q r q*r\n",
    "'''\n",
    "# 안전지대\n",
    "# 분수의 덧셈\n",
    "def solution(x1, y1, x2, y2):\n",
    "    a = x1*y2 + x2*y1\n",
    "    b = y1*y2\n",
    "    while b:\n",
    "        a,b = b,a%b\n",
    "    return [(x1*y2 + x2*y1)//a, y1*y2//a]\n",
    "# [PCCE 기출문제] 8번 / 창고 정리\n",
    "# 연속된 수의 합\n",
    "# 다음에 올 숫자\n",
    "# OX퀴즈\n",
    "# 최빈값 구하기\n",
    "def solution(x):\n",
    "    dic = {}\n",
    "    kc = 0\n",
    "    mode = 0\n",
    "    \n",
    "    for i in x:\n",
    "        if i in dic: dic[i] += 1\n",
    "        else: dic[i] = 1\n",
    "\n",
    "    for key,count in dic.items():\n",
    "        if kc == 0: kc, mode = count, key\n",
    "        elif kc < count: kc, mode = count ,key\n",
    "        elif kc == count: mode = -1\n",
    "    return mode\n",
    "# [PCCE 기출문제] 1번 / 출력\n",
    "# 문자열 출력하기\n",
    "# 배열 조각하기\n",
    "# 코드 처리하기\n",
    "# 다항식 더하기\n",
    "def solution(polynomial):\n",
    "    polynomial = polynomial.split(\" + \")\n",
    "    x,n = 0,0\n",
    "    for i in polynomial:\n",
    "        \n",
    "        if 'x' == i[-1]:\n",
    "            if i[:-1]:\n",
    "                x += int(i[:-1])\n",
    "            else:\n",
    "                x += 1\n",
    "        elif i.isnumeric():\n",
    "            n += int(i)\n",
    "    if x > 1:\n",
    "        if n:\n",
    "            return f\"{x}x + {n}\"\n",
    "        else:\n",
    "            return f\"{x}x\"\n",
    "    elif x == 1:\n",
    "        if n:\n",
    "            return f\"x + {n}\"\n",
    "        else:\n",
    "            return \"x\"\n",
    "    else:\n",
    "        return f\"{n}\"\n",
    "# 배열 만들기 2\n",
    "# [PCCE 기출문제] 6번 / 가채점\n",
    "# 특이한 정렬\n",
    "# 문자열 밀기\n",
    "# 유한소수 판별하기\n",
    "# 저주의 숫자 3\n",
    "# 치킨 쿠폰\n",
    "# 등수 매기기\n",
    "# 대소문자 바꿔서 출력하기\n",
    "# \n",
    "# \n",
    "# \n",
    "# \n",
    "# \n",
    "# \n",
    "# \n",
    "# \n",
    "# \n",
    "# \n",
    "# \n",
    "# \n",
    "# \n",
    "# \n",
    "# \n",
    "# \n",
    "# \n",
    "# \n",
    "# \n",
    "# \n",
    "# \n",
    "# "
   ]
  },
  {
   "cell_type": "code",
   "execution_count": null,
   "metadata": {},
   "outputs": [],
   "source": [
    "# \n",
    "# \n",
    "# \n",
    "# \n",
    "# \n",
    "# \n",
    "# \n",
    "# \n",
    "# \n",
    "# \n",
    "# \n",
    "# \n",
    "# \n",
    "# \n",
    "# \n",
    "# 369게임\n",
    "# 배열 회전시키기\n",
    "# 자릿수 더하기\n",
    "solution=lambda n:sum( map(int,list(str(n))))\n",
    "# flag에 따라 다른 값 반환하기\n",
    "# 약수 구하기\n",
    "# 가까운 1 찾기\n",
    "# 특정 문자 제거하기\n",
    "# 배열의 원소 삭제하기\n",
    "# 인덱스 바꾸기\n",
    "# 양꼬치\n",
    "# 문자열 붙여서 출력하기\n",
    "# 순서쌍의 개수\n",
    "# 문자 반복 출력하기\n",
    "# ad 제거하기\n",
    "# 제곱수 판별하기\n",
    "# 문자열 뒤집기\n",
    "# 공배수\n",
    "# n 번째 원소부터\n",
    "# 카운트 다운\n",
    "# 이어 붙인 수\n",
    "# 주사위의 개수\n",
    "# 삼각형의 완성조건 (1)\n",
    "# n 번째 원소까지\n",
    "# 홀짝에 따라 다른 값 반환하기\n",
    "# 배열 원소의 길이\n",
    "# 첫 번째로 나오는 음수\n",
    "# 피자 나눠 먹기 (3)\n",
    "# 접미사 배열\n",
    "# n보다 커질 때까지 더하기\n",
    "# 편지\n",
    "# 배열 자르기\n",
    "# 모음 제거\n",
    "# 문자열 곱하기\n",
    "# 점의 위치 구하기\n",
    "# 배열의 유사도\n",
    "# 문자열안에 문자열\n",
    "# n개 간격의 원소들\n",
    "# 수 조작하기 2\n",
    "# 조건에 맞게 수열 변환하기 1\n",
    "# 대문자로 바꾸기\n",
    "# 길이에 따른 연산\n",
    "'''solution=lambda l:sum(l)if len(l)>10 else '''\n",
    "solution=lambda l:sum(l)if len(l)>10 else (lambda f, x: f(f, x))(lambda f, x: 1 if not x else x[0] * f(f, x[1:]), l) # 람다재귀 이런건 좀\n",
    "solution=lambda l:sum(l)if len(l)>10 else (1 if not l else l[0] * (lambda f, x: f(f, x))(lambda f, x: 1 if not x else x[0] * f(f, x[1:]), l[1:])) # 람다 재귀2 이것도\n",
    "# 순서 바꾸기\n",
    "'''solution=lambda l,n:l[n:]+l[:n]'''\n",
    "# 특별한 이차원 배열 1\n",
    "'''solution=lambda n:[[int(i==j) for j in range(n)]for i in range(n)]'''\n",
    "# x 사이의 개수\n",
    "'''solution=lambda s:list(map(len,s.split('x')))'''\n",
    "# 할 일 목록\n",
    "'''solution=lambda l,f:[l for l,f in zip(l,f)if f-1]'''\n",
    "# 배열에서 문자열 대소문자 변환하기\n",
    "'''solution=lambda a:[s.upper() if i%2 else s.lower() for i,s in enumerate(a)]'''\n",
    "# A 강조하기\n",
    "'''solution=lambda s:s.lower().replace('a','A')'''\n",
    "# 원하는 문자열 찾기\n",
    "'''solution=lambda s,p:(p.lower() in s.lower())/1'''\n",
    "# 소문자로 바꾸기\n",
    "'''solution=lambda s:s.lower()'''\n",
    "# 특정한 문자를 대문자로 바꾸기\n",
    "''' s.replace(a,a.upper())'''\n",
    "# 직각삼각형 출력하기\n",
    "'''[print(\"*\"*(i+1)) for i in range(int(input()))]'''\n",
    "# 배열 뒤집기\n",
    "'''solution=lambda n:n[::-1]'''\n",
    "# 5명씩\n",
    "'''solution=lambda n:n[::5]'''\n",
    "# rny_string\n",
    "'''solution=lambda s:s.replace('m','rn')'''\n",
    "# 배열 비교하기 # 더 줄일수 있지 않을까\n",
    "'''solution=lambda x,y:int(not len(x)+sum(x)-len(y)-sum(y))+(1 if len(x)>len(y) or (len(x)==len(y) and sum(x)>sum(y)) else -1)'''\n",
    "'''solution=lambda x,y:(len(x)>len(y))-(len(x)<len(y))or(sum(x)>sum(y))-(sum(x)<sum(y))'''\n",
    "# 공백으로 구분하기 2\n",
    "'''solution=lambda s:s.split()'''\n",
    "# 공백으로 구분하기 1\n",
    "'''solution=lambda s:s.split()'''\n",
    "# 정수 부분\n",
    "'''solution=lambda f:f//1'''\n",
    "# 가위 바위 보\n",
    "'''solution=lambda s:''.join({\"0\":\"5\",\"2\":\"0\",\"5\":\"2\"}[i]for i in s)'''\n",
    "# 콜라츠 수열 만들기\n",
    "'''\n",
    "def solution(x):\n",
    "    a=[x]\n",
    "    while x-1:\n",
    "        if x%2:\n",
    "            x=3*x + 1\n",
    "            a.append(x)\n",
    "        else:\n",
    "            x/=2\n",
    "            a.append(x)\n",
    "    return a\n",
    "'''\n",
    "solution=lambda x:[x]+[x:=3*x + 1 if x%2 else x/2 for _ in iter(lambda:x,1)]\n",
    "# l로 만들기\n",
    "'''solution=lambda s:''.join(i if'l'<i else'l'for i in s)'''\n",
    "solution=lambda s: s.translate(str.maketrans('abcdefghijk', 'lllllllllll')) # 새로운 함수\n",
    "# 문자열 바꿔서 찾기\n",
    "'''solution=lambda s,p:int(p in''.join('A'if i!='A'else'B'for i in s))'''\n",
    "# 배열의 원소만큼 추가하기\n",
    "solution=lambda a:[x for a in a for x in[a]*a]\n",
    "solution=lambda a:[i for i in a for j in range(i)]\n",
    "# 뒤에서 5등까지\n",
    "'''solution=lambda l:sorted(l)[:5]'''\n",
    "#주사위 게임 1\n",
    "'''solution=lambda a,b:(a**2+b**2 if x-1 else 2*(a+b))if (x:=a%2+b%2) else abs(a-b)'''\n",
    "solution=lambda a,b:a*a+b*b if a & b & 1 else (a + b) << 1 if (a | b) & 1 else abs(a - b)\n",
    "# 문자열 정수의 합\n",
    "'''solution=lambda l:sum(map(int,l))'''\n",
    "# 뒤에서 5등 위로\n",
    "'''solution=lambda l:sorted(l)[5:]'''\n",
    "# 문자열을 정수로 변환하기\n",
    "'''solution=int'''\n",
    "# 문자열로 변환\n",
    "'''solution=str'''\n",
    "# 배열의 길이에 따라 다른 연산하기\n",
    "'''solution=lambda a,n:[j if i%2 else n+j for i,j in enumerate(a)]if len(a)%2 else[n+j if i%2 else j for i,j in enumerate(a)]'''\n",
    "solution=lambda a,n:[x+n if i%2==(len(a)+1)%2 else x for i,x in enumerate(a)]\n",
    "solution=lambda a,n:[num + n*((len(arr)+i)%2) for i, num in enumerate(arr)]\n",
    "# 0 떼기\n",
    "'''solution=lambda s:s.lstrip('0')'''\n",
    "solution=lambda s:str(int(s))\n",
    "# 부분 문자열인지 확인하기\n",
    "'''solution=lambda s,t:int(t in s)'''\n",
    "# 정수 찾기\n",
    "'''solution=lambda l,n:int(n in l)'''\n",
    "# 홀수 vs 짝수\n",
    "'''solution=lambda l:max(sum(l[::2]),sum(l[1::2]))'''\n",
    "# 부분 문자열\n",
    "'''solution=lambda s1,s2:int(s1 in s2)'''\n",
    "# 꼬리 문자열\n",
    "'''solution=lambda l,s:''.join(i for i in l if s not in i)'''\n",
    "# 조건에 맞게 수열 변환하기 3\n",
    "'''solution=lambda a,k:[k*i for i in a]if k%2 else[k+i for i in a]'''\n",
    "'''solution=lambda a,k:[k*i if k%2 else k+i for i in a]'''\n",
    "# 카운트 업\n",
    "'''solution=lambda s,e:list(range(s,e+1))'''\n",
    "# 홀짝 구분하기\n",
    "'''print(f'{(n:=int(input()))} is {\"odd\"if n%2!=0 else\"even\"}')'''\n",
    "'''while(n:=int(input()))and 1<=n<=1000:print(f'{n} is even')if n%2 ==0 else print(f'{n} is odd');break'''\n",
    "print(f\"{n:=int(input())} is {'eovdedn'[n&1::2]}\") # 미친거같아서 가져온 풀이\n",
    "# 문자 리스트를 문자열로 변환하기\n",
    "'''solution=lambda a:''.join(a)'''\n",
    "# 더 크게 합치기\n",
    "'''solution=lambda x,y: int(max(f'{x}{y}',f'{y}{x}'))'''\n",
    "# 두 수의 연산값 비교하기\n",
    "'''solution=lambda x,y:max(int(f'{x}{y}'), 2*x*y)'''\n",
    "# 원소들의 곱과 합\n",
    "'''solution=lambda l: int(sum(l)**2 > (lambda x,y:[y := y*i for i in l][-1])(l,1))'''\n",
    "'''from functools import reduce\n",
    "solution=lambda nl: 1 if  reduce(lambda x,y: x*y, nl, 1) < sum(nl)**2 else 0'''\n",
    "# 이어 붙인 수  \n",
    "'''solution=lambda l:int(''.join(str(i) for i in l if i%2)) + int(''.join(str(i) for i in l if not i%2))'''\n",
    "# 마지막 두 원소\n",
    "'''solution=lambda l:l+[l[-1]-l[-2] if l[-1]>l[-2] else l[-1]*2]'''\n",
    "# 수 조작하기 1\n",
    "'''solution=lambda n,c:n + c.count('w') - c.count('s') + 10*(c.count('d')-c.count('a'))'''\n",
    "solution=lambda n,c:n+sum([dict(zip(['w','s','d','a'], [1,-1,10,-10]))[i] for i in c])\n",
    "# 접미사인지 확인하기\n",
    "'''solution=lambda x,y: int(x[-len(y):]==y)'''\n",
    "# 접두사인지 확인하기\n",
    "'''solution=lambda x,y:int(x[:len(y)]==y)'''\n",
    "# 배열만들기 1\n",
    "'''solution=lambda n,k:list(range(k,n+1,k))'''\n",
    "# 카운트 다운\n",
    "'''solution=lambda x,y: list(range(x,y-1,-1))'''      \n",
    "# 첫 번째로 나오는 음수\n",
    "'''solution=lambda l:([i for i,j in enumerate(l) if j<0] or [-1])[0]'''\n",
    "# 글자 이어 붙여 문자열 만들기\n",
    "'''solution=lambda s,l:''.join(s[i] for i in l)'''\n",
    "# 부분 문자열 이어 붙여 문자열 만들기\n",
    "'''solution=lambda s,p:''.join(i[j[0]:j[1]+1] for i,j in zip(s,p))'''\n",
    "# 문자열 뒤의 n글자\n",
    "'''solution=lambda s,n:s[-n:]'''\n",
    "# 문자열 앞의 n글자\n",
    "'''solution=lambda s,n:s[:n]'''\n",
    "# n번째 원소부터\n",
    "'''solution=lambda nl,n:nl[n-1:]'''\n",
    "# n번째 원소까지\n",
    "'''solution=lambda nl,n:nl[:n]'''\n",
    "# n개 간격의 원소들\n",
    "'''solution=lambda nl,n: nl[::n]'''\n",
    "# n의 배수 고르기\n",
    "'''solution=lambda n,l:[i for i in l if not i%n]'''\n",
    "# 가장 큰 수 찾기\n",
    "'''solution=lambda a:[max(a),a.index(max(a))]'''\n",
    "# 대문자와 소문자\n",
    "'''solution=lambda s: s.swapcase()'''\n",
    "# 암호 해독\n",
    "''' solution=lambda ci,cd: ci[cd-1::cd] '''\n",
    "# 짝수 홀수 개수\n",
    "''' solution=lambda n: [ len([i for i in n if not i%2]), len([i for i in n if i%2]) ] '''\n",
    "''' solution=lambda n: [ sum(i%2 == 0 for i in n), sum(i%2 != 0 for i in n) ] '''\n",
    "solution=lambda n: [sum(not(n%2) for n in n), sum(n%2 for n in n)]\n",
    "# 숨어있는 숫자의 덧셈 (1)\n",
    "'''solution=lambda s:sum(int(i)for i in s if i.isnumeric())'''\n",
    "# 개미 군단\n",
    "'''solution=lambda hp:hp//5 + hp%5//3 + hp%5%3'''\n",
    "# 모음 제거\n",
    "''' solution=lambda s: s.replace('a','').replace('e','').replace('i','').replace('o','') .replace('u','') '''\n",
    "solution=lambda s: \"\".join([i for i in s if not(i in \"aeiou\")])\n",
    "# 배열 자르기\n",
    "''' solution=lambda n,n1,n2: n[n1:n2+1] '''\n",
    "# 아이스 아메리카노\n",
    "'''solution=lambda m: [m//5500, m%5500]'''\n",
    "solution=lambda m: divmod(m, 5500)\n",
    "# 옷가게 할인 받기\n",
    "''' solution=lambda p: int(p*0.8 if p >= 500000 else p*0.9 if p >= 300000 else p*0.95 if p >= 100000 else p) '''\n",
    "''' solution=lambda p: int(p*(0.8*(p>=500000) + 0.9*(500000>p>=300000) + 0.95*(300000>p>=100000) + (p<100000))) '''\n",
    "# 피자 나눠 먹기 (1)\n",
    "'''solution=lambda n:bool(n%7) + n//7''' # -(-n//7) # (n-1) // 7+1\n",
    "# 짝수는 싫어요\n",
    "'''solution=lambda n: list(range(1,n+1,2))'''\n",
    "# 중앙값 구하기\n",
    "'''solution=lambda x:sorted(x)[len(x)//2]'''\n",
    "# 배열 두 배 만들기\n",
    "'''solution=lambda n:[i*2 for i in n]'''\n",
    "# 머쓱이 보다 키 큰 사람\n",
    "'''solution=lambda a,h:sum(1 for _ in a if _ > h)'''\n",
    "# 중복된 숫자 개수\n",
    "'''solution=lambda a,n:a.count(n)'''\n",
    "# 제곱수 판별하기\n",
    "''' '''\n",
    "# 양꼬치\n",
    "''' solution=lambda n,k: 12000*n + 2000*(k-n//10) ''' # (k-n)//10 != (k-n//10)\n",
    "''' solution=lambda n,k: 2000*(6*n + (k-n//10)) '''\n",
    "# 문자열안에 문자열\n",
    "''' solution=lambda s1,s2: 1 if s2 in s1 else 2 '''\n",
    "# 문자열 뒤집기\n",
    "''' solution=lambda s: s[-1::-1] '''\n",
    "# 편지\n",
    "''' solution=lambda m: 2*len(m) '''\n",
    "solution=lambda m: len(m)<<1\n",
    "# 세균 증식\n",
    "''' solution=lambda n,t: n*2**t '''\n",
    "solution=lambda n,t: n << t\n",
    "# n의 배수\n",
    "''' solution=lambda num,n:0+(num%n==0) '''\n",
    "# 두 수의 합\n",
    "'''solution=lambda *x:sum(x)''' # * ** 튜플 딕셔너리 둘다 된다.\n",
    "# 짝수의 합\n",
    "'''solution=lambda n:sum(range(0,n+1,2))'''\n",
    "solution=lambda n:2*(n//2)*((n//2)+1)/2\n",
    "# 각도기\n",
    "'''solution=lambda r:1 + (r==90) + 2*(90<r<180) + 3*(r==180)'''\n",
    "solution=lambda x: (x//90)*2 + (x%90 > 0)*1\n",
    "# 배열의 평균값\n",
    "'''solution=lambda x:sum(x)/len(x)'''\n",
    "# 두 수의 나눗셈\n",
    "'''solution=lambda x,y:1000*x // y'''\n",
    "# 몫 구하기\n",
    "'''solution=lambda x,y:x//y'''\n",
    "solution=int.__floordiv__\n",
    "# 나머지 구하기\n",
    "'''solution=lambda x,y:x%y'''\n",
    "# 두 수의 곱\n",
    "'''solution=lambda x,y:x*y'''\n",
    "# 두 수의 차\n",
    "'''solution=lambda x,y:x-y'''\n",
    "# 나이출력\n",
    "'''solution=lambda x:2023-x'''\n",
    "# 숫자 비교하기\n",
    "'''solution=lambda x,y:(x==y)*2 - 1'''"
   ]
  },
  {
   "cell_type": "markdown",
   "metadata": {},
   "source": [
    "## 굿 스타터"
   ]
  },
  {
   "cell_type": "markdown",
   "metadata": {},
   "source": [
    "---\n",
    "# CodeUp\n",
    "---"
   ]
  },
  {
   "cell_type": "markdown",
   "metadata": {},
   "source": [
    "## 강의ID 29645) 재귀"
   ]
  },
  {
   "cell_type": "code",
   "execution_count": null,
   "metadata": {},
   "outputs": [],
   "source": [
    "# 피보나치\n",
    "'''\n",
    "영일(01)이는 n개의 계단을 오르려고 한다.\n",
    "영일이는 다리가 짧아 계단을 오를 때 한 번에 1계단 또는 2계단만 오를 수 있다.\n",
    "영일이가 n번째 계단에 도달할 수 있는 방법의 수를 구하시오.\n",
    "예를 들어 n=3인 경우, 1-1-1 , 1-2 , 2-1 , 이렇게 3가지 방법이 있다.\n",
    "'''\n",
    "N = int(input())\n",
    "\n",
    "def fibonacci(n):\n",
    "    if n==0:\n",
    "        return 1\n",
    "    elif n==1:\n",
    "        return 1\n",
    "    return fibonacci(n-1) + fibonacci(n-2)\n",
    "print(fibonacci(N)) \n",
    "# ? 뭐지 왜     틀렸지\n",
    "#오답노트\n",
    "'''\n",
    "def fibonacci(n):\n",
    "    if n==0 or n==1:\n",
    "        return 1\n",
    "    else:\n",
    "        return fibonacci(n-1) + fibonacci(n-2)\n",
    "'''\n",
    "'''\n",
    "def fibonacci(n):\n",
    "    if n==0 or n==1:\n",
    "        return 1\n",
    "    return fibonacci(n-1) + fibonacci(n-2)\n",
    "'''\n",
    "#  모범답안\n",
    "'''\n",
    "def fibonacci(n):\n",
    "    if n == 0:\n",
    "        return 0\n",
    "    elif n == 1:\n",
    "        return 1\n",
    "    \n",
    "    a, b = 0, 1\n",
    "    for _ in range(2, n + 1):\n",
    "        a, b = b, a + b\n",
    "    return b\n",
    "'''\n",
    "# 추가로 메모이제이션 개념 공부하기"
   ]
  }
 ],
 "metadata": {
  "kernelspec": {
   "display_name": "Python 3",
   "language": "python",
   "name": "python3"
  },
  "language_info": {
   "codemirror_mode": {
    "name": "ipython",
    "version": 3
   },
   "file_extension": ".py",
   "mimetype": "text/x-python",
   "name": "python",
   "nbconvert_exporter": "python",
   "pygments_lexer": "ipython3",
   "version": "3.12.4"
  }
 },
 "nbformat": 4,
 "nbformat_minor": 2
}
