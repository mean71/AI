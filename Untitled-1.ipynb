{
 "cells": [
  {
   "cell_type": "code",
   "execution_count": null,
   "metadata": {},
   "outputs": [],
   "source": [
    "print('Hello World\\n'*3)"
   ]
  },
  {
   "cell_type": "code",
   "execution_count": null,
   "metadata": {},
   "outputs": [],
   "source": [
    "from decimal import Decimal\n",
    "a=Decimal(\"0.1\")+Decimal(\"1.1\")\n",
    "print(a)"
   ]
  },
  {
   "cell_type": "code",
   "execution_count": null,
   "metadata": {},
   "outputs": [],
   "source": [
    "def solution(a, d, included):\n",
    "    sums = 0\n",
    "    if 1<=a<=100 and 1<=d<=100 and 1<=len(included)<=100 and 1<=included.count(True):\n",
    "        for i,j in enumerate(included):\n",
    "            e=a+d*i\n",
    "            if j == \"true\":\n",
    "                sums+=e\n",
    "    return sums\n",
    "\n",
    "\n",
    "print(solution(3,4,[True, False, False, True, True]))"
   ]
  },
  {
   "cell_type": "code",
   "execution_count": null,
   "metadata": {},
   "outputs": [],
   "source": [
    "i = list(range(10))\n",
    "print(i)\n",
    "for i in i:\n",
    "  if i == 5:\n",
    "    break\n",
    "  print(i)\n",
    "print(i)"
   ]
  },
  {
   "cell_type": "code",
   "execution_count": null,
   "metadata": {},
   "outputs": [],
   "source": [
    "i = list(range(10))\n",
    "print(i)\n",
    "for a in i:\n",
    "  if a == 5:\n",
    "    break\n",
    "  print(a)\n",
    "  \n",
    "print(a)\n",
    "print(i)"
   ]
  },
  {
   "cell_type": "code",
   "execution_count": null,
   "metadata": {},
   "outputs": [],
   "source": [
    "T = int(input())\n",
    "sum_ab=[]\n",
    "A_B=[]\n",
    "for t in range(T):\n",
    "    A,B = map(int, input().strip().split())\n",
    "    A_B.append((A, B))\n",
    "    sum_ab.append(A + B)\n",
    "for t in range(T):\n",
    "    print(f'Case #{t+1}: {A_B[t][0]} + {A_B[t][1]} = {sum_ab[t]}')"
   ]
  },
  {
   "cell_type": "code",
   "execution_count": null,
   "metadata": {},
   "outputs": [],
   "source": [
    "N = int(input())\n",
    "if 0<N<101:\n",
    "    for n in range(N):\n",
    "        print('*'*(n+1))"
   ]
  },
  {
   "cell_type": "code",
   "execution_count": null,
   "metadata": {},
   "outputs": [],
   "source": [
    "N = int(input())\n",
    "\n",
    "if 0<N<101:\n",
    "    for n in range(N):\n",
    "        print(' '*(N-n-1)+'*'*(n+1))"
   ]
  },
  {
   "cell_type": "code",
   "execution_count": null,
   "metadata": {},
   "outputs": [],
   "source": [
    "sum_AB=[]\n",
    "while True:\n",
    "    A,B = map(int, input().strip().split())\n",
    "    if 0<A<10 and 0<B<10:\n",
    "      sum_AB.append( sum([A,B]) )\n",
    "    else: break\n",
    "for n in range(len(sum_AB)):\n",
    "    print(sum_AB[n])"
   ]
  },
  {
   "cell_type": "code",
   "execution_count": null,
   "metadata": {},
   "outputs": [],
   "source": [
    "sum_AB = []\n",
    "while True:\n",
    "  try:\n",
    "    A,B = map(int, input().strip().split())\n",
    "    if 0<A<10 and 0<B<10:\n",
    "      sum_AB.append(A+B)\n",
    "  except: break\n",
    "  \n",
    "for i in sum_AB:\n",
    "  print(i)"
   ]
  },
  {
   "cell_type": "code",
   "execution_count": null,
   "metadata": {},
   "outputs": [],
   "source": [
    "stack=[]\n",
    "try:\n",
    "  X = map(int, input().strip().split())\n",
    "  stack.extend(X)\n",
    "  print(stack)\n",
    "  stack.pop()\n",
    "  print(stack)\n",
    "except:\n",
    "  "
   ]
  },
  {
   "cell_type": "code",
   "execution_count": null,
   "metadata": {},
   "outputs": [],
   "source": [
    "N = 5\n",
    "print(\"\\n\".join([str(n) * N for n in range(N)]))\n",
    "print(*[f'{n}\\n' * N for n in range(N)], sep='')\n",
    "print(\"\\n\".join(map(lambda n: f'{n}\\n' * N, range(N))))\n",
    "print(\"\\n\".join(f'{n}\\n' * N for n in range(N)))"
   ]
  },
  {
   "cell_type": "code",
   "execution_count": null,
   "metadata": {},
   "outputs": [],
   "source": [
    "N = int(input())\n",
    "print(\"\\n\".join(f'{n+1}' for n in range(N)))\n",
    "# print()는 리턴자료형이아니라 제너레이터자료형은 처리못한다."
   ]
  },
  {
   "cell_type": "code",
   "execution_count": null,
   "metadata": {},
   "outputs": [],
   "source": [
    "N = int(input())\n",
    "a,b = 1,0\n",
    "for n in range(N):\n",
    "  a*=n+1\n",
    "while a%10==0:\n",
    "  b+=1\n",
    "  a//=10\n",
    "\n",
    "print(b)"
   ]
  },
  {
   "cell_type": "code",
   "execution_count": 63,
   "metadata": {},
   "outputs": [
    {
     "name": "stdout",
     "output_type": "stream",
     "text": [
      "1\n"
     ]
    }
   ],
   "source": [
    "N,n=int(input()),0\n",
    "\n",
    "while N>4 :\n",
    "  N//=5\n",
    "  n+=1\n",
    "print(n)"
   ]
  }
 ],
 "metadata": {
  "kernelspec": {
   "display_name": "Python 3",
   "language": "python",
   "name": "python3"
  },
  "language_info": {
   "codemirror_mode": {
    "name": "ipython",
    "version": 3
   },
   "file_extension": ".py",
   "mimetype": "text/x-python",
   "name": "python",
   "nbconvert_exporter": "python",
   "pygments_lexer": "ipython3",
   "version": "3.12.3"
  }
 },
 "nbformat": 4,
 "nbformat_minor": 2
}
