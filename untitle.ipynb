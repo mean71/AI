{
 "cells": [
  {
   "cell_type": "code",
   "execution_count": null,
   "metadata": {},
   "outputs": [],
   "source": [
    "print('Hello World\\n'*3)"
   ]
  },
  {
   "cell_type": "code",
   "execution_count": null,
   "metadata": {},
   "outputs": [],
   "source": [
    "from decimal import Decimal\n",
    "a=Decimal(\"0.1\")+Decimal(\"1.1\")\n",
    "print(a)"
   ]
  },
  {
   "cell_type": "code",
   "execution_count": null,
   "metadata": {},
   "outputs": [],
   "source": [
    "def solution(a, d, included):\n",
    "    sums = 0\n",
    "    if 1<=a<=100 and 1<=d<=100 and 1<=len(included)<=100 and 1<=included.count(True):\n",
    "        for i,j in enumerate(included):\n",
    "            e=a+d*i\n",
    "            if j == \"true\":\n",
    "                sums+=e\n",
    "    return sums\n",
    "\n",
    "\n",
    "print(solution(3,4,[True, False, False, True, True]))"
   ]
  },
  {
   "cell_type": "code",
   "execution_count": null,
   "metadata": {},
   "outputs": [],
   "source": [
    "i = list(range(10))\n",
    "print(i)\n",
    "for i in i:\n",
    "  if i == 5:\n",
    "    break\n",
    "  print(i)\n",
    "print(i)"
   ]
  },
  {
   "cell_type": "code",
   "execution_count": null,
   "metadata": {},
   "outputs": [],
   "source": [
    "i = list(range(10))\n",
    "print(i)\n",
    "for a in i:\n",
    "  if a == 5:\n",
    "    break\n",
    "  print(a)\n",
    "  \n",
    "print(a)\n",
    "print(i)"
   ]
  },
  {
   "cell_type": "code",
   "execution_count": null,
   "metadata": {},
   "outputs": [],
   "source": [
    "T = int(input())\n",
    "sum_ab=[]\n",
    "A_B=[]\n",
    "for t in range(T):\n",
    "    A,B = map(int, input().strip().split())\n",
    "    A_B.append((A, B))\n",
    "    sum_ab.append(A + B)\n",
    "for t in range(T):\n",
    "    print(f'Case #{t+1}: {A_B[t][0]} + {A_B[t][1]} = {sum_ab[t]}')"
   ]
  },
  {
   "cell_type": "code",
   "execution_count": null,
   "metadata": {},
   "outputs": [],
   "source": [
    "N = int(input())\n",
    "if 0<N<101:\n",
    "    for n in range(N):\n",
    "        print('*'*(n+1))"
   ]
  },
  {
   "cell_type": "code",
   "execution_count": null,
   "metadata": {},
   "outputs": [],
   "source": [
    "N = int(input())\n",
    "\n",
    "if 0<N<101:\n",
    "    for n in range(N):\n",
    "        print(' '*(N-n-1)+'*'*(n+1))"
   ]
  },
  {
   "cell_type": "code",
   "execution_count": null,
   "metadata": {},
   "outputs": [],
   "source": [
    "sum_AB=[]\n",
    "while True:\n",
    "    A,B = map(int, input().strip().split())\n",
    "    if 0<A<10 and 0<B<10:\n",
    "      sum_AB.append( sum([A,B]) )\n",
    "    else: break\n",
    "for n in range(len(sum_AB)):\n",
    "    print(sum_AB[n])"
   ]
  },
  {
   "cell_type": "code",
   "execution_count": null,
   "metadata": {},
   "outputs": [],
   "source": [
    "sum_AB = []\n",
    "while True:\n",
    "  try:\n",
    "    A,B = map(int, input().strip().split())\n",
    "    if 0<A<10 and 0<B<10:\n",
    "      sum_AB.append(A+B)\n",
    "  except: break\n",
    "  \n",
    "for i in sum_AB:\n",
    "  print(i)"
   ]
  },
  {
   "cell_type": "code",
   "execution_count": null,
   "metadata": {},
   "outputs": [],
   "source": [
    "stack=[]\n",
    "try:\n",
    "  X = map(int, input().strip().split())\n",
    "  stack.extend(X)\n",
    "  print(stack)\n",
    "  stack.pop()\n",
    "  print(stack)\n",
    "except:\n",
    "  "
   ]
  },
  {
   "cell_type": "code",
   "execution_count": null,
   "metadata": {},
   "outputs": [],
   "source": [
    "N = 5\n",
    "print(\"\\n\".join([str(n) * N for n in range(N)]))\n",
    "print(*[f'{n}\\n' * N for n in range(N)], sep='')\n",
    "print(\"\\n\".join(map(lambda n: f'{n}\\n' * N, range(N))))\n",
    "print(\"\\n\".join(f'{n}\\n' * N for n in range(N)))"
   ]
  },
  {
   "cell_type": "code",
   "execution_count": null,
   "metadata": {},
   "outputs": [],
   "source": [
    "N = int(input())\n",
    "print(\"\\n\".join(f'{n+1}' for n in range(N)))\n",
    "# print()는 리턴자료형이아니라 제너레이터자료형은 처리못한다."
   ]
  },
  {
   "cell_type": "code",
   "execution_count": null,
   "metadata": {},
   "outputs": [],
   "source": [
    "N = int(input())\n",
    "a,b = 1,0\n",
    "for n in range(N):\n",
    "  a*=n+1\n",
    "while a%10==0:\n",
    "  b+=1\n",
    "  a//=10\n",
    "\n",
    "print(b)"
   ]
  },
  {
   "cell_type": "code",
   "execution_count": null,
   "metadata": {},
   "outputs": [],
   "source": [
    "N,n=int(input()),0\n",
    "\n",
    "while N>4 :\n",
    "  N//=5\n",
    "  n+=1\n",
    "print(n)"
   ]
  },
  {
   "cell_type": "code",
   "execution_count": null,
   "metadata": {},
   "outputs": [],
   "source": [
    "assert 6 / 2 == 3\n",
    "6/2"
   ]
  },
  {
   "cell_type": "code",
   "execution_count": null,
   "metadata": {},
   "outputs": [],
   "source": [
    "a = 'hello'\n",
    "b = 'world'\n",
    "\n",
    "c = 'hello world'\n",
    "d = 'hello world hello world'\n",
    "e = f'{a} {b}'\n",
    "d = f'{a} {b} '*2\n",
    "d"
   ]
  },
  {
   "cell_type": "code",
   "execution_count": null,
   "metadata": {},
   "outputs": [],
   "source": [
    "\n",
    "class A:\n",
    "  b=[1,10,1]\n",
    "  a=[ 1,'2',[3],(4),(5,5),{6}, list(range( *b )) ]\n",
    "  \n",
    "print(isinstance(A.a, A))\n",
    "print(isinstance(A.a, list))\n",
    "print(type(A.a))\n",
    "\n",
    "print([ ( type(A.a[i]) ) for i in range(len(A.a)) ])"
   ]
  },
  {
   "cell_type": "code",
   "execution_count": null,
   "metadata": {},
   "outputs": [],
   "source": [
    "all_smallcase_letters = 'abcdefghijklmnopqrstuvwxyz'\n",
    "a = (1,2,3)\n",
    "b = []\n",
    "b.extend(all_smallcase_letters)\n",
    "print(b)\n",
    "print(type(b))\n",
    "print(str(b))\n",
    "B=str(b).upper()\n",
    "print(B)\n",
    "print(type(B))\n",
    "print(B[3]) # 리스트같지만 str로 찍으면 대괄호랑 ' 와 , 도 하나의 문자열이 된다."
   ]
  },
  {
   "cell_type": "code",
   "execution_count": null,
   "metadata": {},
   "outputs": [],
   "source": [
    "# lv1 1. lv1 2.1~4)\n",
    "all_smallcase_letters = 'abcdefghijklmnopqrstuvwxyz'\n",
    "\n",
    "upper_to_lower, lower_to_upper, alpha_to_number, number_to_alphabet = {},{},{},{}\n",
    "a,b = (1,2,3),[]\n",
    "b.extend(all_smallcase_letters)\n",
    "print('1',type(b), b)\n",
    "\n",
    "B=[i.upper() for i in b]\n",
    "print('2_list',type(B), B)\n",
    "for x, y in zip(B,b):\n",
    "  upper_to_lower[x]=y\n",
    "print('2_1',type(upper_to_lower), upper_to_lower)\n",
    "for x, y in zip(b,B):\n",
    "  upper_to_lower[x]=y\n",
    "print('2_2',type(upper_to_lower), upper_to_lower)\n",
    "\n",
    "for x,y in enumerate(all_smallcase_letters):\n",
    "  alpha_to_number[y]=x+1\n",
    "print('3',type(alpha_to_number), alpha_to_number)\n",
    "\n",
    "for x,y in enumerate(tuple(zip(b,B))):\n",
    "  number_to_alphabet[x+1]=y\n",
    "print('4',type(number_to_alphabet), number_to_alphabet)\n",
    "\n",
    "# lv1 3.1~4)\n",
    "A = 'absdf123SAFDSDF'\n",
    "A_upper=[]\n",
    "for a in A:\n",
    "  if 'a'<= a <= 'z':\n",
    "    A_upper.append(a.swapcase())\n",
    "  else:\n",
    "    A_upper.append(a)\n",
    "A_upper=''.join(A_upper)\n",
    "print('31',A_upper)\n",
    "\n",
    "A_lower=[]\n",
    "for a in A:\n",
    "  if 'A'<= a <= 'Z':\n",
    "    A_lower.append(a.swapcase())\n",
    "  else:\n",
    "    A_lower.append(a)\n",
    "A_lower=''.join(A_lower)\n",
    "print('32',A_lower)\n",
    "\n",
    "A_swapcase = A.swapcase()\n",
    "print('33',A_swapcase)\n",
    "\n",
    "print('34 True') if A.isalpha() else print('34 False')"
   ]
  },
  {
   "cell_type": "code",
   "execution_count": null,
   "metadata": {},
   "outputs": [],
   "source": [
    "def mk_str(n):\n",
    "  if n < 1:\n",
    "     return None\n",
    "  elif n != 1:\n",
    "    for i in range(1,n+1):\n",
    "      print( f\"{' '*(n*2-i)}'*'{' '*(i*2-3)}'*'{' '(i*2-3)}'*'{' '*(n*2-i)}\" )\n",
    "  print('  '*n+'*'+'  '*n)\n",
    "  pass\n",
    "\n",
    "N = int(input())\n",
    "mk_str(N)"
   ]
  },
  {
   "cell_type": "code",
   "execution_count": null,
   "metadata": {},
   "outputs": [],
   "source": [
    "# lc2 1.1)\n",
    "N=int(input())\n",
    "def pyramid1(N):\n",
    "    for n in range(N):\n",
    "        print(f'{' '*(N-n)}{\"*\"*(2*n+1)}')\n",
    "    pass\n",
    "pyramid1(N)\n",
    "\n",
    "# N=int(input())\n",
    "# for n in range(N):\n",
    "#   print(f'{' '*(N-n)}{\"*\"*(2*n+1)}')"
   ]
  },
  {
   "cell_type": "code",
   "execution_count": null,
   "metadata": {},
   "outputs": [],
   "source": [
    "# lv2 1.2)\n",
    "def pyramid2(n):\n",
    "    for n in range(1,N+1):\n",
    "        print( ' '*(N-n), end='' )\n",
    "        print( '* '*n)\n",
    "    pass\n",
    "N=int(input())\n",
    "pyramid2(N)\n",
    "\n",
    "# N=int(input())\n",
    "# for n in range(1,N+1):\n",
    "#   print( ' '*(N-n), end='' )\n",
    "#   print( '* '*n)"
   ]
  },
  {
   "cell_type": "code",
   "execution_count": null,
   "metadata": {},
   "outputs": [],
   "source": [
    "# lv2 1.3)\n",
    "def pyramid3(n):\n",
    "    x=\"ABCDEFGHIJKLMNOPQRSTUVWXYZ\"\n",
    "    for n in range(1, N+1):\n",
    "        print( ' '*(N-n), end='' )\n",
    "        for i in range(n):\n",
    "            if i > 25:\n",
    "                print( f'{x[i-26]} ', end = '' ) \n",
    "            else:\n",
    "                print( f'{x[i]} ', end = '' )\n",
    "        print()\n",
    "    pass\n",
    "N = int(input())\n",
    "pyramid3(N)"
   ]
  },
  {
   "cell_type": "code",
   "execution_count": null,
   "metadata": {},
   "outputs": [],
   "source": [
    "# lv2 1.4)\n",
    "def pyramid4(n):\n",
    "    for n in range(1, N+1):\n",
    "        print( ' '*(N-n), end='' )\n",
    "        for i in range(n):\n",
    "            print( f'{x[i]} ', end = '' )\n",
    "        print()\n",
    "    pass\n",
    "N = int(input())\n",
    "pyramid4(N)\n",
    "x1층      x\n",
    "x2층     x x\n",
    "x3층    x 2x x\n",
    "x4층   x 3x 3x x\n",
    "x5층  x 4x 6x 4x x\n",
    "x6층 x 5x 10x 10x 5x x"
   ]
  },
  {
   "cell_type": "code",
   "execution_count": null,
   "metadata": {},
   "outputs": [],
   "source": [
    "# lv2 1.5)\n",
    "def triangle():\n",
    "    print(\n",
    "    '   *    ',\n",
    "    '  * *   ',\n",
    "    ' *   *  ',\n",
    "    '* * * * ', sep=('\\n')\n",
    "    )\n",
    "    pass\n",
    "def sierpinski_triangle(n):\n",
    "    pass\n",
    "# lv2 1.5)\n",
    "triangle()"
   ]
  },
  {
   "cell_type": "code",
   "execution_count": null,
   "metadata": {},
   "outputs": [],
   "source": [
    "# lv2 2.1)\n",
    "def accumulate(lst, function = lambda x, y: x+y):\n",
    "    nlst=[lst[0]]\n",
    "    for i in range(len(lst)-1):\n",
    "      nlst.append(function(lst[i], lst[i+1]))\n",
    "    return nlst\n",
    "lst=[1,2,3,4,5,6,7,8,9,10]\n",
    "print(accumulate(lst))"
   ]
  },
  {
   "cell_type": "code",
   "execution_count": null,
   "metadata": {},
   "outputs": [],
   "source": [
    "# lv2 2.2)"
   ]
  },
  {
   "cell_type": "code",
   "execution_count": null,
   "metadata": {},
   "outputs": [],
   "source": [
    "# lv2 2.3)"
   ]
  },
  {
   "cell_type": "code",
   "execution_count": null,
   "metadata": {},
   "outputs": [],
   "source": [
    "# lv2 2.4)"
   ]
  },
  {
   "cell_type": "code",
   "execution_count": null,
   "metadata": {},
   "outputs": [],
   "source": [
    "# lv2 2.5)"
   ]
  },
  {
   "cell_type": "code",
   "execution_count": null,
   "metadata": {},
   "outputs": [],
   "source": [
    "# lv2 2.6)"
   ]
  },
  {
   "cell_type": "code",
   "execution_count": null,
   "metadata": {},
   "outputs": [],
   "source": [
    "a = [1,2,3,4]\n",
    "print(a[0])\n",
    "print(a[1:3])"
   ]
  },
  {
   "cell_type": "code",
   "execution_count": null,
   "metadata": {},
   "outputs": [],
   "source": [
    "a={1:2, 3:4, 4:5}\n",
    "print(a[1])\n",
    "print(a[3]+a[4])\n",
    "# print(a[1:3])\n",
    "a[5]=3\n",
    "for k,v in a.items():\n",
    "  print (k,v)"
   ]
  },
  {
   "cell_type": "code",
   "execution_count": null,
   "metadata": {},
   "outputs": [],
   "source": [
    "# 백준 10807\n",
    "# N = int(input())\n",
    "# n = map(int, input().strip().split())\n",
    "# v = int(input())\n",
    "N = 11\n",
    "n = '1 4 1 2 4 2 4 2 3 4 4'\n",
    "n=list(map(int, n.split()))\n",
    "print(n)\n",
    "v = 2\n",
    "result = 0\n",
    "for x in range(N):\n",
    "  if v == n[x]: # is 넣었더니 틀림\n",
    "    result += 1\n",
    "print(result)"
   ]
  },
  {
   "cell_type": "code",
   "execution_count": null,
   "metadata": {},
   "outputs": [],
   "source": [
    "# 백준 10807 제출\n",
    "N = int(input())\n",
    "n = list(map(int, input().strip().split()))\n",
    "v = int(input())\n",
    "\n",
    "result = 0\n",
    "for x in range(N):\n",
    "  if v == n[x]:\n",
    "    result += 1\n",
    "print(result)"
   ]
  },
  {
   "cell_type": "code",
   "execution_count": null,
   "metadata": {},
   "outputs": [],
   "source": [
    "# 백준 10828 제출\n",
    "import sys\n",
    "from io import StringIO\n",
    "input_data ='''\n",
    "14\n",
    "push 1\n",
    "push 2\n",
    "top\n",
    "size\n",
    "empty\n",
    "pop\n",
    "pop\n",
    "pop\n",
    "size\n",
    "empty\n",
    "pop\n",
    "push 3\n",
    "empty\n",
    "top'''\n",
    "sys.stdin = StringIO(input_data)\n",
    "\n"
   ]
  }
 ],
 "metadata": {
  "kernelspec": {
   "display_name": "Python 3",
   "language": "python",
   "name": "python3"
  },
  "language_info": {
   "codemirror_mode": {
    "name": "ipython",
    "version": 3
   },
   "file_extension": ".py",
   "mimetype": "text/x-python",
   "name": "python",
   "nbconvert_exporter": "python",
   "pygments_lexer": "ipython3",
   "version": "3.12.4"
  }
 },
 "nbformat": 4,
 "nbformat_minor": 2
}
