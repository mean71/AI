{
 "cells": [
  {
   "cell_type": "markdown",
   "metadata": {},
   "source": [
    "# 1과목 - 빅데이터 분석 기획"
   ]
  },
  {
   "cell_type": "markdown",
   "metadata": {},
   "source": [
    "빅데이터와 분석에 대한 기본적 이해  \n",
    "관련 기본 용어, 기술, 제도  \n",
    "분석, 수집 및 저장 계획 수립과정  \n",
    "다른 파트보다 방대: 이론적 정리를 통한 학습  "
   ]
  },
  {
   "cell_type": "markdown",
   "metadata": {},
   "source": [
    "## 1. 빅데이터의 이해"
   ]
  },
  {
   "cell_type": "markdown",
   "metadata": {},
   "source": [
    "빅데이터 관련기술  \n",
    "단계별 빅데이터 처리  \n",
    "개인정보와 비식별화도 시험에서 중요비중  \n",
    "(1.1 : 1.2) 출제비중 1:9"
   ]
  },
  {
   "cell_type": "markdown",
   "metadata": {},
   "source": [
    "### 1.1 빅데이터 개요 및 활용"
   ]
  },
  {
   "cell_type": "markdown",
   "metadata": {},
   "source": [
    "#### 01. 데이터와 정보"
   ]
  },
  {
   "cell_type": "markdown",
   "metadata": {},
   "source": [
    "1) 정의\n",
    "2) 특징\n",
    "3) 구분\n",
    "4) 유형\n",
    "5) 근원에 따른 분류\n",
    "6) 기능\n",
    "7) 지식창조 메커니즘\n",
    "8) 데이터,정보,지식,지혜"
   ]
  },
  {
   "cell_type": "markdown",
   "metadata": {},
   "source": [
    "#### 02. 데이터베이스"
   ]
  },
  {
   "cell_type": "markdown",
   "metadata": {},
   "source": [
    "1) 정의\n",
    "2) DB관리시스템(DBMS: DataBase Management System)\n",
    "3) 특징\n",
    "4) 활용\n",
    "5) 데이터 웨어하우스(DW: Data Warehouse)"
   ]
  },
  {
   "cell_type": "markdown",
   "metadata": {},
   "source": [
    "#### 03. 빅데이터 개요"
   ]
  },
  {
   "cell_type": "markdown",
   "metadata": {},
   "source": [
    "1) 등장과 변화\n",
    "2) 특징\n",
    "3) 활용"
   ]
  },
  {
   "cell_type": "markdown",
   "metadata": {},
   "source": [
    "#### 04. 빅데이터의 가치"
   ]
  },
  {
   "cell_type": "markdown",
   "metadata": {},
   "source": [
    "1) 기능과 효과\n",
    "2) 가치 측정의 어려움\n",
    "3) 영향"
   ]
  },
  {
   "cell_type": "markdown",
   "metadata": {},
   "source": [
    "#### 05. 데이터 산업의 이해"
   ]
  },
  {
   "cell_type": "markdown",
   "metadata": {},
   "source": [
    "1) data산업의 진화\n",
    "2) 구조"
   ]
  },
  {
   "cell_type": "markdown",
   "metadata": {},
   "source": [
    "#### 06. 빅데이터 조직 및 인력"
   ]
  },
  {
   "cell_type": "markdown",
   "metadata": {},
   "source": [
    "1) 필요성\n",
    "2) 역할\n",
    "3) 구성\n",
    "4) 데이터 사이언스 역량\n",
    "5) 데이터 사이언티스트"
   ]
  },
  {
   "cell_type": "markdown",
   "metadata": {},
   "source": [
    "### 1.2 빅데이터 기술 및 제도"
   ]
  },
  {
   "cell_type": "markdown",
   "metadata": {},
   "source": [
    "#### 01. 빅데이터 플랫폼"
   ]
  },
  {
   "cell_type": "markdown",
   "metadata": {},
   "source": [
    "1) 등장배경\n",
    "2) 기능\n",
    "3) 조건"
   ]
  },
  {
   "cell_type": "markdown",
   "metadata": {},
   "source": [
    "#### 02. 빅데이터 처리기술"
   ]
  },
  {
   "cell_type": "markdown",
   "metadata": {},
   "source": [
    "1) 처리과정과 요소기술\n",
    "2) 수집\n",
    "3) 저장\n",
    "4) 처리\n",
    "5) 분석"
   ]
  },
  {
   "cell_type": "markdown",
   "metadata": {},
   "source": [
    "#### 03. 빅데이터와 인공지능"
   ]
  },
  {
   "cell_type": "markdown",
   "metadata": {},
   "source": [
    "1) 인공지능(AI: Aritifical Inteligence)\n",
    "2) 인공지능 데이터 학습의 진화\n",
    "3) 빅데이터와 인공지능의 관계\n",
    "4) 인공지능의 기술동향\n",
    "5) 인공지능의 한계점과 발전방향"
   ]
  },
  {
   "cell_type": "markdown",
   "metadata": {},
   "source": [
    "#### 04. 개인정보 개요"
   ]
  },
  {
   "cell_type": "markdown",
   "metadata": {},
   "source": [
    "1) 개인정보의 정의와 판단기준\n",
    "2) 개인정보의 처리와 활용\n",
    "3) 개인정보의 보호"
   ]
  },
  {
   "cell_type": "markdown",
   "metadata": {},
   "source": [
    "#### 05. 개인정보 법.제도"
   ]
  },
  {
   "cell_type": "markdown",
   "metadata": {},
   "source": [
    "1) 개인정보보호법\n",
    "2) 정보통신망 이용촉진 및 정보보호 등에 관한 법률(정보통신망법)\n",
    "3) 신용정보의 이용 및 보호에 관한 법률(신용정보보호법)\n",
    "4) 2020년 데이터 3법의 주요 개정내용\n",
    "5) 유럽 연합과 미국의 개인정보보호 체계"
   ]
  },
  {
   "cell_type": "markdown",
   "metadata": {},
   "source": [
    "#### 06. 개인정보 비식별화"
   ]
  },
  {
   "cell_type": "markdown",
   "metadata": {},
   "source": [
    "1) 개요\n",
    "2) 조치 가이드라인"
   ]
  },
  {
   "cell_type": "markdown",
   "metadata": {},
   "source": [
    "#### 07. 개인정보 활용"
   ]
  },
  {
   "cell_type": "markdown",
   "metadata": {},
   "source": [
    "1) 데이터 수집의 위기 요인과 통제 방안\n",
    "2) 데이터 활용의 위기 요인과 통제 방안\n",
    "3) 데이터 처리의 위기 요인과 통제 방안"
   ]
  },
  {
   "cell_type": "markdown",
   "metadata": {},
   "source": [
    "## 2. 빅데이터 기술 및 제도"
   ]
  },
  {
   "cell_type": "markdown",
   "metadata": {},
   "source": [
    "### 2.1 분석 방안 수립"
   ]
  },
  {
   "cell_type": "markdown",
   "metadata": {},
   "source": [
    "### 2.2 분석 작업 계획"
   ]
  },
  {
   "cell_type": "markdown",
   "metadata": {},
   "source": [
    "## 3. 데이터 수집 및 저장 계획"
   ]
  },
  {
   "cell_type": "markdown",
   "metadata": {},
   "source": [
    "### 3.1 데이터 수집 및 전환"
   ]
  },
  {
   "cell_type": "markdown",
   "metadata": {},
   "source": [
    "### 3.2 데이터 적재 및 저장"
   ]
  },
  {
   "cell_type": "markdown",
   "metadata": {},
   "source": [
    "# 2과목 - 빅데이터 탐색"
   ]
  },
  {
   "cell_type": "markdown",
   "metadata": {},
   "source": [
    "- 데이터 처리,탐색이해\n",
    "- 시험 전반의 핵심 베이스"
   ]
  },
  {
   "cell_type": "markdown",
   "metadata": {},
   "source": [
    "## 1. 데이터 전처리"
   ]
  },
  {
   "cell_type": "markdown",
   "metadata": {},
   "source": [
    "- 결측값,이상값 탐지&처리\n",
    "- 변수선택 방법\n",
    "- 차원축소 기법\n",
    "- 파생변수와 변수변환 방법론\n",
    "- 출제비중 1:9"
   ]
  },
  {
   "cell_type": "markdown",
   "metadata": {},
   "source": [
    "### 1.1 데이터 정제"
   ]
  },
  {
   "cell_type": "markdown",
   "metadata": {},
   "source": [
    "#### 01. 데이터에 내재된 변수의 이해"
   ]
  },
  {
   "cell_type": "markdown",
   "metadata": {},
   "source": [
    "1) 데이터 관련 정의\n",
    "   - data : 이론을 세우는 기초가 되는 사실/자료를 지칭, 프로그램을 운용할 수 있는 형태로 기호/수치화한 자료\n",
    "   - 단위(unit) : 관찰되는 항목 또는 대상\n",
    "   - 관측값(Observation) : 각 조사 단위별 기록정보 또는 특성\n",
    "   - 변수(variable) : 각 단위에서 측정된 특성 결과\n",
    "   - 원자료(Raw Data) : 표본에서 조사된 최초의 자료\n",
    "2) 데이터 종류\n",
    "   - 단변량자료 : 대표하는 특성변수가 하나인 자료\n",
    "   - 다변량자료 : 특성변수가 두개이상인 자료\n",
    "   - 질적자료 : 정성적/범주형 자료라고도 하며, 범주의 형태로 분류.\n",
    "       |질적자료|                                  설명                                     |예|\n",
    "       |--------|:--------------------------------------------------------------------------:|:-:|\n",
    "       |명목자료|측정대상이 범주나 종류에 구분되어지는 것을 수치/기호로 분류되는 자료 ex.==/!=  |참/거짓|\n",
    "       |서열자료|명목자료나 비슷하나 수치나 기호가 서열을 나타내는 자료 ex.=/!=,<=,>=          |순위,순서|\n",
    "   - 수치자료() : 정량적/연속형 자료. 수자의 크기에 의미를 부여할 수 있는 자료\n",
    "       |수치자료|                                              설명                                                  |예|\n",
    "       |--------|:-------------------------------------------------------------------------------------------------:|:-:|\n",
    "       |구간자료|명목/서열자료의 의미를 포함, 수치화된 변수에 대해 변수간 관계가 산술적 의미를 가지는 자료               |온도(비율부여불가능)|\n",
    "       |비율자료|명목/서열/구간자료의 의미를 다 보유, 수치화된 변수에 비율의 개념을 도입가능한 자료                      |무게|\n",
    "   - 시계열자료 : 시간개념이 포함된 자료\n",
    "   - 횡적자료 : 횡단면자료, 한 시점에 여러 대상에서 취합된 자료\n",
    "   - 종적자료 : 시계열&횡적자료의 결합, 여러개체를 여러시점에 수집한 자료\n",
    "3) 데이터 정제\n",
    "   - 필요성 : 원하는 결과나 분석을 위해, 분석도구/기법에 맞게 전처리필요\n",
    "   - 비 정제 data : 구성의 일관성이 없어 분석처리가 어렵고 신뢰성이 저하\n",
    "   - 정제과정(Processig)\n",
    "     - data(수집/변환/저장/품질확인/관리)필요\n",
    "     - 정형(Structured)보다 비정형(Un-Structured)data들이 많다. 비정형의 경우 정형으로 변환수행, 변환과정에서 결측치/오류를 수정\n",
    "     - 기존 system data와 비교분석 필요시 Legacy Data와 통합/변환이 필요할 수 있다.\n",
    "         | 구분 | 수행내용 | process |\n",
    "         |:---:|:--------:|:-------:|\n",
    "         |수집|입수방법&정책결정<br>입수경로구조화<br>집계<br>저장소결정|전처리포함<br>(Pre Processing)|\n",
    "         |변환|유형 변화 및 분석가능 형태로 가공<br>ETL(Extraction,Transformation,Loading)<br>일반화<br>정규화||\n",
    "         |교정|결측치/이상치/노이즈 처리<br>비정형data 수집 시 필수||\n",
    "         |통합|분석이 용이하도록 기존/유사 data와 연계<br>레거시data와 함께분석필요한경우||\n",
    "   - 정제 전처리/후처리\n",
    "     - 전처리(Pre Processing) : 저장 전 처리, 대상 data/입수방법/저장방식/장소를 선정\n",
    "     - 후처리(Post Processing) : 저장 후 처리, 저장 data의 품질관리 등의 과정 포함"
   ]
  },
  {
   "cell_type": "markdown",
   "metadata": {},
   "source": [
    "#### 02. 데이터 결측값 처리"
   ]
  },
  {
   "cell_type": "markdown",
   "metadata": {},
   "source": [
    "- 결측치(결측값, Missing Data) : 변수에 저장된 자료값이 없는 것\n",
    "- 임의로 제거 시 : 분석data의 직접손실로 분석에 필요한 유의수준 data수집에 실패할 가능성\n",
    "- 임의로 대체 시 : 데이터의 편향(bias)이 발생하여 분석 결과의 신뢰성 저하 가능성\n",
    "- 제거/대체 시 상기문제를 최소화하는 방법으로 처리"
   ]
  },
  {
   "cell_type": "markdown",
   "metadata": {},
   "source": [
    "1) 결측 데이터의 종류\n",
    "  - 완전 무작위 결측(MCAR: Missing Completely At Random)\n",
    "    - 변수상에 발생한 결측이 다른 변수와 무관\n",
    "    - 결측치를 가진 모든 변수가 MCAR이라면 단순무작위표본추출로 전처리 가능\n",
    "  - 무작위 결측(MAR: Missing At Random)\n",
    "    - 결측이 특정변수와 유관하여 발생하지만, 결과/비관측값 과는 무관\n",
    "  - 비 무작위 결측(NMAR: Not Missing At Random)\n",
    "    - 결측변수값이 다른변수와, 결측여부(이유)와 유관\n",
    "    - EX.(전과여부 분석 시 전과자는 전과를 밝히기 싫어함을 가정)\n",
    "2) 결측값 유형의 분석 및 대치\n",
    "  실제 DataSet에서 결측치 분류 유형에 따라 처리 방법의 선택이 필요\\\n",
    "  일반적으로 결측/무응답 자료 분석 시 완전무작위결측(MCAR)하에 처리\\\n",
    "  즉, 불완전한 자료를 무시하고 완전관측된 자료만을 표준적 분석 시행\\\n",
    "  그러나 결측이 존재하는 data를 이용한 분석은 효율성()/자료처리의 복잡성/편향(bias)3가지고려사항이 발생\n",
    "  - 단순 대치법(Simple Imputation)\n",
    "    - 완전분석(Completes Analysis) : 불완전 자료는 완전하게 무시하고 분석수행. 효율성상실과 통계적추론의 타당성에 문제 발생 가능성\n",
    "    - 평균대치법(Mean Imputation) : 비조건부 평균대치법. data평균으로 결측치를 대치. 효율성 향상, 통계량의 표준오차 과소추정\n",
    "    - 회귀대치법(Regression Imputation) : 조건부 평균 대치법. 회귀분석에 의한 예측치로 결측치를 대치.\n",
    "    - 단순확률대치법(Single Stochastic Imputation) : Hot-deck방법. 확률추출에 의해 전체 데이터중 무작위로 대치하는 방법.\\\n",
    "      평균대치법에서 추정량 표준오차의 과소추정을 보완하는 대치법\n",
    "    - 최근접대치법(Nearest-Neighbor Imputation) : 전체표본을 몇 개의 대체군으로 분류, 각 층에서의 응답자료를 순서대로 정리, 결측값 바로 이전 응답을 결측치로 대치.\n",
    "      응답이 여러번 재활용될 가능성이 단점\n",
    "    - 사회적 조사방법론\n",
    "      - 조사단위 대치법(Substitution Imputation)\n",
    "      - 콜드덱 대치(Cold-deck Imputation) : 결측값을 (유사data, 과거data 등)에서 가져온 값으로 대체\n",
    "      - 이월 대치법(Carry-over Imputation)\n",
    "  - 다중 대치법(Multiple Imputation)\n",
    "      단순대치법을 복수시행하여 통계적 효율/일치성 문제를 보완\n",
    "      n개의 단순 대치를 통해 n개의 새data를 만들어 분석을 시행, 시행결과 얻어진 통계량에 대해 통계량 및 분산결합을 통해 통합\n",
    "    - 1단계 - 대치단계(Imputation Step) : 복수의 대치에 의한, 결측을 대치한 데이터를 생성\n",
    "    - 2단계 - 분석단계(Analysis Step) : 복수개의 dataset에 대한 분석시행\n",
    "    - 3단계 - 결합단계(Combination Step) : 복수개의 분석결과에 대한 통계적결합으로 결과 도출"
   ]
  },
  {
   "cell_type": "markdown",
   "metadata": {},
   "source": [
    "#### 03. 데이터 이상값 처리"
   ]
  },
  {
   "cell_type": "markdown",
   "metadata": {},
   "source": [
    "1) 이상치의 종류 및 발생원인\n",
    "    - 이상치(이상값, Outlier) : 정상범주(data의 전체적 패턴)에서 벗어난 값. 데이터의 전처리 과정에 발생가능한 문제.\n",
    "    - 종류\n",
    "      - 단변수 이상치(Univariate Outlier) : 하나의 데이터 분포에서 발생하는 이상치\n",
    "      - 다변수 이상치(Multivariate Outlier) : 복수의 연결된 데이터 분포공간에서 발생하는 이상치\n",
    "      - 자연적 이상치(Natural outlier) : 후술한 원인 이외의 경우로 발생하는 이상치\n",
    "    - 발생원인\n",
    "      - 입력실수\n",
    "      - 측정오류\n",
    "      - 실험오류\n",
    "      - 의도적 이상치\n",
    "      - 자료처리오류\n",
    "      - 표본오류\n",
    "2) 이상치의 문제점\n",
    "    - 기초(통계적) 분석결과의 신뢰도 저하\n",
    "      - 평균,분산 등에 영향. 단 중앙값은 영향이 적다\n",
    "    - 기초통계에 기반한 다른 고급통계분석의 신뢰성 저하\n",
    "      - 검정/추정 등의 분석,회귀분석 등에 영향.\n",
    "    - 특히 이상치가 비무작위성(Non-Randomly)을 가지고 분포하게 되면 data의 정상성(Normality) 감소를 초래, data자체의 신뢰성저하 가능\n",
    "3) 이상치의 탐지\n",
    "    - 종속변수가 단변량()인지 다변량()인지 data분포를 고려하여 모수적(Parametric)/비모수적(Non-Parametric)인지에 따라 다양한 방법으로 고려\n",
    "    1. 시각화(visualization)를 통한 방법(비모수적, 단변량(2변량)의 경우)\n",
    "      - 상자수염그림\n",
    "      - 산점도 그림\n",
    "    2. Z-Score 통한 방법(모수적 단변량/저변량의 경우)\n",
    "    3. 밀도기반 클러스터링 방법(DBSCAN: )\n",
    "    4. 고립의사나무방법(Isolation Forest)"
   ]
  },
  {
   "cell_type": "markdown",
   "metadata": {},
   "source": [
    "### 1.2 분석 변수 처리"
   ]
  },
  {
   "cell_type": "markdown",
   "metadata": {},
   "source": [
    "#### 01. 변수 선택"
   ]
  },
  {
   "cell_type": "markdown",
   "metadata": {},
   "source": [
    "1) 회귀분석의 사례\n",
    "2) 변수별 모형의 분류\n",
    "3) 변수의 선택 방법"
   ]
  },
  {
   "cell_type": "markdown",
   "metadata": {},
   "source": [
    "#### 02. 차원 축소"
   ]
  },
  {
   "cell_type": "markdown",
   "metadata": {},
   "source": [
    "1) 자료의 차원\n",
    "2) 차원의 축소\n",
    "3) 차원 축소의 필요성\n",
    "4) 차원 축소의 방법"
   ]
  },
  {
   "cell_type": "markdown",
   "metadata": {},
   "source": [
    "#### 03. 파생변수의 생성"
   ]
  },
  {
   "cell_type": "markdown",
   "metadata": {},
   "source": [
    "1) 파생변수\n",
    "2) 요약변수\n",
    "3) 요약변수 vs 파생변수"
   ]
  },
  {
   "cell_type": "markdown",
   "metadata": {},
   "source": [
    "#### 04. 변수 변환"
   ]
  },
  {
   "cell_type": "markdown",
   "metadata": {},
   "source": [
    "1) 변수 변환의 개념\n",
    "2) 변수 변환의 방법"
   ]
  },
  {
   "cell_type": "markdown",
   "metadata": {},
   "source": [
    "#### 05. 불균형 데이터 처리"
   ]
  },
  {
   "cell_type": "markdown",
   "metadata": {},
   "source": [
    "1) 불균형 데이터의 문제점\n",
    "2) 불균형 데이터의 처리 방법"
   ]
  },
  {
   "cell_type": "markdown",
   "metadata": {},
   "source": [
    "## 2. 데이터 탐색"
   ]
  },
  {
   "cell_type": "markdown",
   "metadata": {},
   "source": [
    "- 탐색적 데이터 분석 EDA : 데이터의 특징을 이해하는 방법\n",
    "- 기초통계량과 시각화 도구를 이용한 데이터의 특징 파악\n",
    "- 왜도와 첨도 등을 이용한 데이터의 분포 이해\n",
    "- 변수들 사이 연관성 분석 : 상관분석 방법\n",
    "- 특성에 따른 탐색 기법의 적용\n",
    "- 출제비중 9:1"
   ]
  },
  {
   "cell_type": "markdown",
   "metadata": {},
   "source": [
    "## 3. 통계기법 이해"
   ]
  },
  {
   "cell_type": "markdown",
   "metadata": {},
   "source": [
    "### 3.1 기술통계"
   ]
  },
  {
   "cell_type": "markdown",
   "metadata": {},
   "source": [
    "### 3.2 추론통계"
   ]
  },
  {
   "cell_type": "markdown",
   "metadata": {},
   "source": [
    "# 3과목 - 빅데이터 모델링"
   ]
  },
  {
   "cell_type": "markdown",
   "metadata": {},
   "source": [
    "## 1. 분석모형 설계"
   ]
  },
  {
   "cell_type": "markdown",
   "metadata": {},
   "source": [
    "## 2. 분석기법 적용"
   ]
  },
  {
   "cell_type": "markdown",
   "metadata": {},
   "source": [
    "- 학습유형에 따른 데이터분석모델 구분\n",
    "- 대표적 분석모델\n",
    "  - 회귀분석, 의사결정나무, 인공신경망, 서포트 벡터머신, K-평균 군집분석의 동작원리와 활용분야 매우중요\n",
    "- 다변량/시계열 분석 등 고급분석기법들의 특징과 장단점 위주학습\n",
    "- 출제비중 7:3"
   ]
  },
  {
   "cell_type": "markdown",
   "metadata": {},
   "source": [
    "### 2.1 분석기법"
   ]
  },
  {
   "cell_type": "markdown",
   "metadata": {},
   "source": [
    "- 핵심포인트 - 회귀분석,로지스틱회귀분석, 의사결저나무, 인공신경망, 딥러닝, SVM, 연관성분석, 군집분석"
   ]
  },
  {
   "cell_type": "markdown",
   "metadata": {},
   "source": [
    "#### 01. 분석기법 개요"
   ]
  },
  {
   "cell_type": "markdown",
   "metadata": {},
   "source": [
    "1) 학습 유형에 따른 데이터 분석 모델\n",
    "    - 데이터분석모델은 학습유형에 따라 (지도학습,비지도학습,준지도학습,강화학습)으로 구분\n",
    "    - 지도학습(Supervised Learning)\n",
    "      - 정답(Label, 라벨 또는 레이블)이 있는 데이터를 활용해 데이터를 학습시키는 방법\n",
    "      - 입력값이 주어질 때 정답이 무엇인지 알려주면서 학습시킨다.\n",
    "      - 대표적으로 분류와 회귀로 구분가능\n",
    "        - 분류(Classification) : 주어진 데이터를 분류\n",
    "          - 이진분류 : 주어진 데이터에 대해 두 가지 중 하나로 분류\n",
    "          - 다중분류 : 주어진 데이터에 대해 여러 가지 중 하나로 분류\n",
    "        - 회귀(Regression) : 주어진 데이터의 특징을 기반으로 새로운 데이터 값을 예측\n",
    "      - 지도학습 모델에서 활용되는 대표적인 data분석 기법\n",
    "        - 지도학습 - 분류\n",
    "          - 의사결정트리(분류), 랜덤포레스트, 인공신경망(지도학습), 서포트벡터머신(SVM), 로지스틱 회귀분석\n",
    "        - 지도학습 - 회귀(예측)\n",
    "          - 의사결정트리(회귀), 선형회귀분석, 다중회귀분석\n",
    "      - 지도학습 EX.손글씨로 작성된 숫자 이미지 데이터 분류\n",
    "        - MNIST database : 손으로 쓴 숫자들로 이루어진 대형 database, 레이블은 정답숫자\n",
    "      - data와 label정답을 학습(지도학습-분류)시키며 이때 이용된 Dataset은 (Training Dataset)\n",
    "        지도학습을 마친 뒤 정답레이블이 없는 (Test Dataset)을 새로 입력하여 나오는 출력값을 통해 학습이 잘 되었는지에 대해 학습모델의 성능을 평가\n",
    "    - 비지도학습(Unsupervised Learning)\n",
    "      - 정답이 없는 데이터를 컴퓨터 스스로 학습하여 숨겨진 의미/패턴을 찾아내고 구조화하는 방법\n",
    "      - 입력값은 있으나 정답이 없어 출력값이 존재하지 않으므로 학습모델의 성능평가가 어렵다.\n",
    "    - 준지도학습(Semi-supervised Learning)\n",
    "      - 학습데이터의 일부만 정답(라벨)이 있는 경우 준지도학습을 이용한 트레이닝 방법\n",
    "    - 강화학습(Reinforcement Learning)\n",
    "      - 주어진 환경에서의 보상을 최대화 하도록 에이전트를 학습하는 기법\n",
    "2) 데이터 분석 알고리즘과 분야\n",
    "    |알고리즘|주 활용분야|\n",
    "    |:---:|:---:|\n",
    "    |업리프트 모델링|단계적추정, 예측분석|\n",
    "    |생존분석|의료통계,설비분야 사건예측|\n",
    "    |||\n",
    "    |||\n",
    "    |||\n",
    "    |||\n",
    "    |||\n",
    "    |||\n",
    "    |||\n",
    "    |||\n",
    "    |||\n",
    "    |||\n",
    "    |||\n",
    "    |||\n",
    "    |||\n",
    "    |||\n",
    "    |||\n",
    "    |||\n",
    "    - 업리프트 모델링은 마케팅캠페인에서 자주쓰는 기법, 실제로는 추정모델을 단계별적용하는 기법. A/B test와 같이 환경/조건을 달리한 후 적당한 그룹을 선택하여 다양한 분야에 사용\n",
    "    - 회귀분석은 예측 또는 분류에 사용하는 대중적 알고리즘, 특히 로지스틱 회귀분석은 이진분류에 자주 활용\n",
    "    - 시계열 불량감지는 이자율/주식 예측 등에 자주 사용, 이상치 감지 기법은 사기탐지 등에 사용\n",
    "    - 목적/해석가능여부에 따라 분석기법을 선택"
   ]
  },
  {
   "cell_type": "markdown",
   "metadata": {},
   "source": [
    "#### 02. 회귀분석"
   ]
  },
  {
   "cell_type": "markdown",
   "metadata": {},
   "source": [
    "1) 선형회귀분석\n",
    "    - 특정 변수가 다른 변수에 어떤 영향을 미치는 지를 수학적 모형으로 설명, 예측하는 기법. 독립변수로 종속변수를 예측.\n",
    "      - 독립변수 : 입력값 또는 원인을 설명하는 변수\n",
    "      - 종속변수 : 결과값 또는 효과를 설명하는 변수\n",
    "      - 회귀선(회귀계수)\n",
    "        - 독립변수가 주어질 때의 종속변수의 기댓값으로 일반적으로 최소제곱법을 이용한다.\n",
    "      - 최소제곱법(최소자승법, Method of Least Squares)\n",
    "        - 잔차(residual, 관측값 y와 예측값 y 간 차이) 제곱의 합이 최소가 되게하는 직선을 찾는 방법\n",
    "    - 단순 선형회귀분석\n",
    "    - 다중 선형회귀분석\n",
    "2) 로지스틱 회귀분석\n",
    "    - 단순 로지스틱 회귀분석\n",
    "    - 다중 로지스틱 회귀분석\n",
    "3) 회귀분석의 장단점\n",
    "    - 장점 : 크기와 무관하게 계수들에 대한 명료한 해석과 손쉬운 유의성 검증 가능\n",
    "    - 단점 : data가 선형적인 관계로 구성되어 있어야 적용 가능"
   ]
  },
  {
   "cell_type": "markdown",
   "metadata": {},
   "source": [
    "#### 03. 의사결정나무"
   ]
  },
  {
   "cell_type": "markdown",
   "metadata": {},
   "source": [
    "1) 구성\n",
    "    - 뿌리마디\n",
    "    - 중간마디\n",
    "    - 끝마디\n",
    "    - 자식마디\n",
    "    - 부모마디\n",
    "    - 가지\n",
    "    - 깊이\n",
    "2) 종류\n",
    "    - 분류나무\n",
    "    - 회귀나무\n",
    "3) 분석 과정\n",
    "    - 변수선택\n",
    "    - 의사결정나무 형성\n",
    "    - 가지치기\n",
    "    - 모형 평가 및 예측\n",
    "    - 가지치기\n",
    "4) 대표적 알고리즘\n",
    "    - CART()\n",
    "    - C4.5/C5.0\n",
    "    - CHAID()\n",
    "    - 랜덤포레스트(Random Forest)\n",
    "5) 장단점\n",
    "    - 장점\n",
    "    - 단점"
   ]
  },
  {
   "cell_type": "markdown",
   "metadata": {},
   "source": [
    "#### 04. 인공신경망"
   ]
  },
  {
   "cell_type": "markdown",
   "metadata": {},
   "source": [
    "1) 인공신경망의 특징\n",
    "    - 두뇌 신경세포인 뉴런이 다른 뉴런들과 연결되어 신호를 전달/처리하는 구조를 모방한 기계학습 기법\n",
    "2) 인공신경망의 발전\n",
    "    - 기존 신경망 다층 퍼셉트론이 가진 문제\n",
    "    - 딥러닝()의 등장\n",
    "3) 인공신경망의 원리\n",
    "    - 지도학습의 경우 하나의 뉴런은 입력값(X)과 목표출력값(Y)이 있을 때 다음 뉴런으로 전달하기 적절한 출력 값 생성을 위해 가중치 W(weight)를 곱한 값에 편향(bias)을 더하여,\\\n",
    "      이를 조정하면서 학습/최적화 과정을 거치며, 최종적으로 활성화 함수를 활용한다.\n",
    "      또한 다양한 인공신경망 모델들로 구현된다.\n",
    "    - 인공신경망 구조\n",
    "      - node : 신경계 뉴런. 가중치와 입력값으로 활성함수를 통해 다음 노드로 전달\n",
    "      - weights : 가중치 - 신경계시냅스. 노드와의 연결계수\n",
    "      - input layer : 입력층 - 학습 위한 data 입력\n",
    "      - hidden layers : 은닉층 - 다층 네트워크에서 입력층과 출력층 사이. 데이터를 전파학습\n",
    "      - output layer : 출력층 - 결과값 출력\n",
    "      - 활성함수 : 임계값을 이용, 노드의 활성화 여부를 결정\n",
    "    - 뉴런 간의 연결방법\n",
    "      - 층간연결 : 서로 다른 층에 존재하는 뉴런과 연결\n",
    "      - 층내연결 : 동일 층 내의 뉴런과의 연결\n",
    "      - 순환연결 : 어떠한 뉴런의 출력이 자기 자신에게 입력되는 연결\n",
    "4) 학습\n",
    "    - 손실함수\n",
    "    - 평균제곱 오차\n",
    "    - 교차엔트로피 오차\n",
    "    - 학습 알고리즘\n",
    "    - 오차역전파\n",
    "    - 활성(활성화) 함수\n",
    "    - 과대적합(과적합, Overfitting)\n",
    "5) 딥러닝 모델 종류\n",
    "    - CNN(Convolutional Neural Network, 합성곱 신경망 모델)\n",
    "    - RNN(Recurrent Neural Network)\n",
    "    - LSTM(Long Short-Term Memory Network)\n",
    "    - 오토인코더(Auto-encoder)\n",
    "    - GAN(Generative Adversarial Network)\n",
    "6) 인공신경망의 장단점\n",
    "    - 장점\n",
    "    - 단점"
   ]
  },
  {
   "cell_type": "markdown",
   "metadata": {},
   "source": [
    "#### 05. 서포트벡터머신(SVM)"
   ]
  },
  {
   "cell_type": "markdown",
   "metadata": {},
   "source": [
    "1) 주요 요소\n",
    "    - 벡토\n",
    "    - 결정영역\n",
    "    - 초평면\n",
    "    - 서포트벡터\n",
    "    - 마진\n",
    "2) 핵심적 특징\n",
    "3) 장단점"
   ]
  },
  {
   "cell_type": "markdown",
   "metadata": {},
   "source": [
    "#### 06. 연관성분석"
   ]
  },
  {
   "cell_type": "markdown",
   "metadata": {},
   "source": [
    "1) 연관규칙(Association Rule) 순서\n",
    "2) 아프리오리(Apriori) 알고리즘\n",
    "3) 연관성분석의 장단점"
   ]
  },
  {
   "cell_type": "markdown",
   "metadata": {},
   "source": [
    "#### 07. 군집분석"
   ]
  },
  {
   "cell_type": "markdown",
   "metadata": {},
   "source": [
    "1) 군집분류 시 기본적인 가정\n",
    "2) 군집분석의 척도\n",
    "3) 군집분석의 종류\n",
    "4) 군집분석의 장단점"
   ]
  },
  {
   "cell_type": "markdown",
   "metadata": {},
   "source": [
    "### 2.2 고급 분석기법"
   ]
  },
  {
   "cell_type": "markdown",
   "metadata": {},
   "source": [
    "# 4과목 - 빅데이터 결과 해석"
   ]
  },
  {
   "cell_type": "markdown",
   "metadata": {},
   "source": [
    "## 1. 분석모형 평가 및 개선"
   ]
  },
  {
   "cell_type": "markdown",
   "metadata": {},
   "source": [
    "## 2. 분석결과 해석 및 활용"
   ]
  },
  {
   "cell_type": "markdown",
   "metadata": {},
   "source": [
    "# 정규분포표, t분포표, 카이제곱 분포표, F분포표"
   ]
  }
 ],
 "metadata": {
  "language_info": {
   "name": "python"
  }
 },
 "nbformat": 4,
 "nbformat_minor": 2
}
