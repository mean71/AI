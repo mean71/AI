{
 "cells": [
  {
   "cell_type": "markdown",
   "metadata": {},
   "source": [
    "# 1과목 - 빅데이터 분석 기획"
   ]
  },
  {
   "cell_type": "markdown",
   "metadata": {},
   "source": [
    "빅데이터와 분석에 대한 기본적 이해  \n",
    "관련 기본 용어, 기술, 제도  \n",
    "분석, 수집 및 저장 계획 수립과정  \n",
    "다른 파트보다 방대: 이론적 정리를 통한 학습  "
   ]
  },
  {
   "cell_type": "markdown",
   "metadata": {},
   "source": [
    "## 1. 빅데이터의 이해"
   ]
  },
  {
   "cell_type": "markdown",
   "metadata": {},
   "source": [
    "빅데이터 관련기술  \n",
    "단계별 빅데이터 처리  \n",
    "개인정보와 비식별화도 시험에서 중요비중  \n",
    "(1.1 : 1.2) 출제비중 1:9"
   ]
  },
  {
   "cell_type": "markdown",
   "metadata": {},
   "source": [
    "### 1.1 빅데이터 개요 및 활용"
   ]
  },
  {
   "cell_type": "markdown",
   "metadata": {},
   "source": [
    "#### 01. 데이터와 정보"
   ]
  },
  {
   "cell_type": "markdown",
   "metadata": {},
   "source": [
    "1) 정의\n",
    "2) 특징\n",
    "3) 구분\n",
    "4) 유형\n",
    "5) 근원에 따른 분류\n",
    "6) 기능\n",
    "7) 지식창조 메커니즘\n",
    "8) 데이터,정보,지식,지혜"
   ]
  },
  {
   "cell_type": "markdown",
   "metadata": {},
   "source": [
    "#### 02. 데이터베이스"
   ]
  },
  {
   "cell_type": "markdown",
   "metadata": {},
   "source": [
    "1) 정의\n",
    "2) DB관리시스템(DBMS: DataBase Management System)\n",
    "3) 특징\n",
    "4) 활용\n",
    "5) 데이터 웨어하우스(DW: Data Warehouse)"
   ]
  },
  {
   "cell_type": "markdown",
   "metadata": {},
   "source": [
    "#### 03. 빅데이터 개요"
   ]
  },
  {
   "cell_type": "markdown",
   "metadata": {},
   "source": [
    "1) 등장과 변화\n",
    "2) 특징\n",
    "3) 활용"
   ]
  },
  {
   "cell_type": "markdown",
   "metadata": {},
   "source": [
    "#### 04. 빅데이터의 가치"
   ]
  },
  {
   "cell_type": "markdown",
   "metadata": {},
   "source": [
    "1) 기능과 효과\n",
    "2) 가치 측정의 어려움\n",
    "3) 영향"
   ]
  },
  {
   "cell_type": "markdown",
   "metadata": {},
   "source": [
    "#### 05. 데이터 산업의 이해"
   ]
  },
  {
   "cell_type": "markdown",
   "metadata": {},
   "source": [
    "1) data산업의 진화\n",
    "2) 구조"
   ]
  },
  {
   "cell_type": "markdown",
   "metadata": {},
   "source": [
    "#### 06. 빅데이터 조직 및 인력"
   ]
  },
  {
   "cell_type": "markdown",
   "metadata": {},
   "source": [
    "1) 필요성\n",
    "2) 역할\n",
    "3) 구성\n",
    "4) 데이터 사이언스 역량\n",
    "5) 데이터 사이언티스트"
   ]
  },
  {
   "cell_type": "markdown",
   "metadata": {},
   "source": [
    "### 1.2 빅데이터 기술 및 제도"
   ]
  },
  {
   "cell_type": "markdown",
   "metadata": {},
   "source": [
    "#### 01. 빅데이터 플랫폼"
   ]
  },
  {
   "cell_type": "markdown",
   "metadata": {},
   "source": [
    "1) 등장배경\n",
    "2) 기능\n",
    "3) 조건"
   ]
  },
  {
   "cell_type": "markdown",
   "metadata": {},
   "source": [
    "#### 02. 빅데이터 처리기술"
   ]
  },
  {
   "cell_type": "markdown",
   "metadata": {},
   "source": [
    "1) 처리과정과 요소기술\n",
    "2) 수집\n",
    "3) 저장\n",
    "4) 처리\n",
    "5) 분석"
   ]
  },
  {
   "cell_type": "markdown",
   "metadata": {},
   "source": [
    "#### 03. 빅데이터와 인공지능"
   ]
  },
  {
   "cell_type": "markdown",
   "metadata": {},
   "source": [
    "1) 인공지능(AI: Aritifical Inteligence)\n",
    "2) 인공지능 데이터 학습의 진화\n",
    "3) 빅데이터와 인공지능의 관계\n",
    "4) 인공지능의 기술동향\n",
    "5) 인공지능의 한계점과 발전방향"
   ]
  },
  {
   "cell_type": "markdown",
   "metadata": {},
   "source": [
    "#### 04. 개인정보 개요"
   ]
  },
  {
   "cell_type": "markdown",
   "metadata": {},
   "source": [
    "1) 개인정보의 정의와 판단기준\n",
    "2) 개인정보의 처리와 활용\n",
    "3) 개인정보의 보호"
   ]
  },
  {
   "cell_type": "markdown",
   "metadata": {},
   "source": [
    "#### 05. 개인정보 법.제도"
   ]
  },
  {
   "cell_type": "markdown",
   "metadata": {},
   "source": [
    "1) 개인정보보호법\n",
    "2) 정보통신망 이용촉진 및 정보보호 등에 관한 법률(정보통신망법)\n",
    "3) 신용정보의 이용 및 보호에 관한 법률(신용정보보호법)\n",
    "4) 2020년 데이터 3법의 주요 개정내용\n",
    "5) 유럽 연합과 미국의 개인정보보호 체계"
   ]
  },
  {
   "cell_type": "markdown",
   "metadata": {},
   "source": [
    "#### 06. 개인정보 비식별화"
   ]
  },
  {
   "cell_type": "markdown",
   "metadata": {},
   "source": [
    "1) 개요\n",
    "2) 조치 가이드라인"
   ]
  },
  {
   "cell_type": "markdown",
   "metadata": {},
   "source": [
    "#### 07. 개인정보 활용"
   ]
  },
  {
   "cell_type": "markdown",
   "metadata": {},
   "source": [
    "1) 데이터 수집의 위기 요인과 통제 방안\n",
    "2) 데이터 활용의 위기 요인과 통제 방안\n",
    "3) 데이터 처리의 위기 요인과 통제 방안"
   ]
  },
  {
   "cell_type": "markdown",
   "metadata": {},
   "source": [
    "## 2. 빅데이터 기술 및 제도"
   ]
  },
  {
   "cell_type": "markdown",
   "metadata": {},
   "source": [
    "### 2.1 분석 방안 수립"
   ]
  },
  {
   "cell_type": "markdown",
   "metadata": {},
   "source": [
    "### 2.2 분석 작업 계획"
   ]
  },
  {
   "cell_type": "markdown",
   "metadata": {},
   "source": [
    "# 2과목 - 빅데이터 탐색"
   ]
  },
  {
   "cell_type": "markdown",
   "metadata": {},
   "source": [
    "## 3. 데이터 수집 및 저장 계획"
   ]
  },
  {
   "cell_type": "markdown",
   "metadata": {},
   "source": [
    "### 3.1 데이터 수집 및 전환"
   ]
  },
  {
   "cell_type": "markdown",
   "metadata": {},
   "source": [
    "### 3.2 데이터 적재 및 저장"
   ]
  },
  {
   "cell_type": "markdown",
   "metadata": {},
   "source": [
    "## 1. 데이터 전처리"
   ]
  },
  {
   "cell_type": "markdown",
   "metadata": {},
   "source": [
    "## 2. 데이터 탐색"
   ]
  },
  {
   "cell_type": "markdown",
   "metadata": {},
   "source": [
    "# 3과목 - 빅데이터 모델링"
   ]
  },
  {
   "cell_type": "markdown",
   "metadata": {},
   "source": [
    "## 3. 통계기법 이해"
   ]
  },
  {
   "cell_type": "markdown",
   "metadata": {},
   "source": [
    "## 1. 분석모형 설계"
   ]
  },
  {
   "cell_type": "markdown",
   "metadata": {},
   "source": [
    "## 2. 분석기법 적용"
   ]
  },
  {
   "cell_type": "markdown",
   "metadata": {},
   "source": [
    "학습유형에 따른 데이터분석모델 구분\n",
    "대표적 분석모델\n",
    "    회귀분석, 의사결정나무, 인공신경망, 서포트 벡터머신, K-평균 군집분석의 동작원리와 활용분야 매우중요\n",
    "다변량/시계열 분석 등 고급분석기법들의 특징과 장단점 위주학습"
   ]
  },
  {
   "cell_type": "markdown",
   "metadata": {},
   "source": [
    "### 2.1 분석기법"
   ]
  },
  {
   "cell_type": "markdown",
   "metadata": {},
   "source": [
    "### 2.2 고급 분석기법"
   ]
  },
  {
   "cell_type": "markdown",
   "metadata": {},
   "source": [
    "# 4과목 - 빅데이터 결과 해석"
   ]
  },
  {
   "cell_type": "markdown",
   "metadata": {},
   "source": [
    "## 1. 분석모형 평가 및 개선"
   ]
  },
  {
   "cell_type": "markdown",
   "metadata": {},
   "source": [
    "## 2. 분석결과 해석 및 활용"
   ]
  },
  {
   "cell_type": "markdown",
   "metadata": {},
   "source": [
    "# 정규분포표, t분포표, 카이제곱 분포표, F분포표"
   ]
  }
 ],
 "metadata": {
  "language_info": {
   "name": "python"
  }
 },
 "nbformat": 4,
 "nbformat_minor": 2
}
