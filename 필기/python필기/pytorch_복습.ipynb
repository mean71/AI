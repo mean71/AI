{
  "cells": [
    {
      "cell_type": "markdown",
      "metadata": {
        "id": "lvNb634JHNYQ"
      },
      "source": [
        "## numpy와 닮은 파이토치 (pytorch)"
      ]
    },
    {
      "cell_type": "code",
      "execution_count": null,
      "metadata": {
        "colab": {
          "base_uri": "https://localhost:8080/"
        },
        "id": "br-odZSmEpFl",
        "outputId": "b10be45e-9eb7-4525-e2e9-ccabe2543325"
      },
      "outputs": [
        {
          "name": "stdout",
          "output_type": "stream",
          "text": [
            "tensor([1, 2, 3, 4])\n",
            "<class 'torch.Tensor'>\n",
            "torch.int64\n",
            "torch.Size([4])\n",
            "torch.float32\n",
            "tensor([1.0000, 2.0000, 3.1000, 4.0000])\n"
          ]
        }
      ],
      "source": [
        "import torch\n",
        "a=torch.tensor([1,2,3,4]) # list가 입력으로 들어가는 함수\n",
        "print(a)\n",
        "print(type(a))\n",
        "print(a.dtype) # data type\n",
        "print(a.shape)\n",
        "b=torch.tensor([1,2,3.1,4])\n",
        "print(b.dtype) # 하나라도 실수면 자동으로 실수 타입으로\n",
        "print(b)"
      ]
    },
    {
      "cell_type": "code",
      "execution_count": null,
      "metadata": {
        "colab": {
          "base_uri": "https://localhost:8080/"
        },
        "id": "EHfP8YTiLwgv",
        "outputId": "2c040e69-6f8f-4c4f-df78-9fe9cf9ba111"
      },
      "outputs": [
        {
          "name": "stdout",
          "output_type": "stream",
          "text": [
            "tensor([[1, 2, 3],\n",
            "        [3, 4, 5]])\n",
            "torch.Size([2, 3])\n",
            "2\n",
            "6\n"
          ]
        }
      ],
      "source": [
        "A=torch.tensor([[1,2,3],[3,4,5]]) # 이 셀부터는 import torch 는 실행했다 치고 작성\n",
        "# A=torch.tensor([ [1,2], [3,4,5] ]) # 리스트와는 달리 이제는 행렬이라서 각 행에 해당하는 숫자의 개수가 같아야 함\n",
        "print(A)\n",
        "print(A.shape)\n",
        "print(A.ndim) # 차원의 수\n",
        "print(A.numel()) # 전체 성분의 수"
      ]
    },
    {
      "cell_type": "code",
      "execution_count": null,
      "metadata": {
        "colab": {
          "base_uri": "https://localhost:8080/"
        },
        "id": "VG7Egd2cHhRh",
        "outputId": "88058f8d-451b-4759-83f4-1f1f1fca20ab"
      },
      "outputs": [
        {
          "name": "stdout",
          "output_type": "stream",
          "text": [
            "tensor([0., 0., 0., 0., 0.])\n",
            "tensor([[0, 0, 0],\n",
            "        [0, 0, 0]])\n",
            "tensor([1., 1., 1., 1., 1.])\n",
            "tensor([[0., 0., 0.],\n",
            "        [0., 0., 0.],\n",
            "        [0., 0., 0.]])\n",
            "tensor([3, 5, 7, 9])\n",
            "tensor([0.0000, 0.1000, 0.2000, 0.3000, 0.4000, 0.5000, 0.6000, 0.7000, 0.8000,\n",
            "        0.9000])\n",
            "tensor([0.0000, 0.1111, 0.2222, 0.3333, 0.4444, 0.5556, 0.6667, 0.7778, 0.8889,\n",
            "        1.0000])\n"
          ]
        }
      ],
      "source": [
        "print(torch.zeros(5))\n",
        "print(torch.zeros_like(A))\n",
        "print(torch.ones(5))\n",
        "print(torch.zeros( 3,3 ) )\n",
        "print(torch.arange(3,10,2)) # range랑 같은데 tensor로 만들어줌\n",
        "print(torch.arange(0,1,0.1)) # 소수점 가능\n",
        "print(torch.linspace(0,1,10)) # 0 에서부터 1 포함 10개로"
      ]
    },
    {
      "cell_type": "code",
      "execution_count": null,
      "metadata": {
        "colab": {
          "base_uri": "https://localhost:8080/"
        },
        "id": "eWABbpjAHhRh",
        "outputId": "c3f730e4-9ac0-4986-f48e-e135ee062967"
      },
      "outputs": [
        {
          "name": "stdout",
          "output_type": "stream",
          "text": [
            "tensor([5, 7, 9])\n"
          ]
        }
      ],
      "source": [
        "a=torch.tensor([1,2,3])\n",
        "b=torch.tensor([4,5,6])\n",
        "c=a+b\n",
        "print(c)"
      ]
    },
    {
      "cell_type": "code",
      "execution_count": null,
      "metadata": {
        "colab": {
          "base_uri": "https://localhost:8080/"
        },
        "id": "wvEF1uw_HhRh",
        "outputId": "6819aa76-caa4-4034-fadf-28346533f9b9"
      },
      "outputs": [
        {
          "name": "stdout",
          "output_type": "stream",
          "text": [
            "tensor([[5, 7, 9],\n",
            "        [2, 3, 4]])\n",
            "tensor([[-3, -3, -3],\n",
            "        [ 0,  1,  2]])\n",
            "\n",
            "tensor([[ 4, 10, 18],\n",
            "        [ 1,  2,  3]])\n",
            "tensor([[0.2500, 0.4000, 0.5000],\n",
            "        [1.0000, 2.0000, 3.0000]])\n",
            "tensor([[16, 25, 36],\n",
            "        [ 1,  1,  1]])\n"
          ]
        }
      ],
      "source": [
        "A=torch.tensor([[1,2,3],[1,2,3]])\n",
        "B=torch.tensor([[4,5,6],[1,1,1]])\n",
        "C=A+B\n",
        "D=A-B\n",
        "print(C)\n",
        "print(D)\n",
        "print()\n",
        "print(A*B) # 곱셈은? 성분끼리의 곱! (Hadamard product)\n",
        "print(A/B) # 나누기도 마찬가지\n",
        "print(B**2) # 제곱도 각 성분에 대해서 해준다"
      ]
    },
    {
      "cell_type": "code",
      "execution_count": null,
      "metadata": {
        "colab": {
          "base_uri": "https://localhost:8080/"
        },
        "id": "G_lVXqZEHhRh",
        "outputId": "4e456423-0f51-450a-9730-2089ec0166c8"
      },
      "outputs": [
        {
          "name": "stdout",
          "output_type": "stream",
          "text": [
            "tensor([[ 1,  4],\n",
            "        [ 9, 16]])\n",
            "tensor([[ 7, 10],\n",
            "        [15, 22]])\n"
          ]
        }
      ],
      "source": [
        "A=torch.tensor([[1,2],[3,4]])\n",
        "B=torch.tensor([[1,2],[3,4]])\n",
        "print(A*B)\n",
        "print(A@B) # 이게 진짜 행렬 곱하기"
      ]
    },
    {
      "cell_type": "markdown",
      "metadata": {
        "id": "besorR-GNQIa"
      },
      "source": [
        "## pytorch 의 인덱싱과 슬라이싱"
      ]
    },
    {
      "cell_type": "code",
      "execution_count": null,
      "metadata": {
        "colab": {
          "base_uri": "https://localhost:8080/"
        },
        "id": "-lkV1IvDNQIf",
        "outputId": "79644ccf-9b98-48f3-b4e0-cc6f72fb4c28"
      },
      "outputs": [
        {
          "name": "stdout",
          "output_type": "stream",
          "text": [
            "tensor(1)\n",
            "tensor(2)\n",
            "tensor(9)\n",
            "tensor([2, 3, 4])\n",
            "tensor([8, 9])\n",
            "tensor([1, 2, 3, 4, 5, 6, 7])\n",
            "tensor([1, 2, 3, 4, 5, 6, 7, 8, 9])\n"
          ]
        }
      ],
      "source": [
        "a=torch.tensor([1,2,3,4,5,6,7,8,9])\n",
        "# 인덱싱과 슬라이싱, list할 때와 동일!\n",
        "print(a[0])\n",
        "print(a[1])\n",
        "print(a[-1])\n",
        "print(a[1:4])\n",
        "print(a[7:])\n",
        "print(a[:7])\n",
        "print(a[:])"
      ]
    },
    {
      "cell_type": "code",
      "execution_count": null,
      "metadata": {
        "colab": {
          "base_uri": "https://localhost:8080/"
        },
        "id": "4UGNhyBwNQIg",
        "outputId": "f2daa1b7-2f0f-45c9-8439-6ae2059b024d"
      },
      "outputs": [
        {
          "name": "stdout",
          "output_type": "stream",
          "text": [
            "tensor([1, 2, 3])\n",
            "tensor([7, 8, 9])\n",
            "tensor([[4, 5, 6],\n",
            "        [7, 8, 9]])\n",
            "tensor([[1, 2, 3],\n",
            "        [4, 5, 6],\n",
            "        [7, 8, 9]])\n",
            "tensor(3)\n",
            "tensor(3)\n",
            "[[1, 2, 3, 4], [5, 6, 7, 8]]\n",
            "3\n",
            "tensor([4, 5, 6])\n",
            "tensor([4, 6])\n",
            "tensor([3, 6, 9])\n",
            "tensor([7, 8, 9])\n"
          ]
        }
      ],
      "source": [
        "# 행렬에 대한 인덱싱과 슬라이싱\n",
        "A=torch.tensor([[1,2,3],[4,5,6],[7,8,9]])\n",
        "print(A[0]) # 하나만 쓰면 행에 대한 인덱싱 (리스트 속 리스트 생각)\n",
        "print(A[-1])\n",
        "print(A[1:])\n",
        "print(A[:])\n",
        "print(A[0][2])\n",
        "print(A[0,2]) # 2차원 행렬도 동일한데, 리스트와 달리 이런 것도 됨\n",
        "B=[[1,2,3,4], [5,6,7,8]]\n",
        "print(B)\n",
        "print(B[0][2])\n",
        "# print(B[0,2]) # error!\n",
        "print(A[1,:]) # 1 행, 전부\n",
        "print(A[1,0:3:2])\n",
        "print(A[:,2]) # 전부, 2번째 열\n",
        "print(A[:][2])"
      ]
    },
    {
      "cell_type": "code",
      "execution_count": null,
      "metadata": {
        "colab": {
          "base_uri": "https://localhost:8080/"
        },
        "id": "idV7OinmOMMp",
        "outputId": "415f28a2-a579-4a3b-bdbc-44e02628e9d7"
      },
      "outputs": [
        {
          "name": "stdout",
          "output_type": "stream",
          "text": [
            "tensor([[[ 0,  1,  2,  3],\n",
            "         [ 4,  5,  6,  7],\n",
            "         [ 8,  9, 10, 11]],\n",
            "\n",
            "        [[12, 13, 14, 15],\n",
            "         [16, 17, 18, 19],\n",
            "         [20, 21, 22, 23]]])\n",
            "torch.Size([2, 3, 4])\n",
            "tensor(6)\n",
            "torch.Size([1, 1, 1, 1, 4])\n"
          ]
        }
      ],
      "source": [
        "# 3차원 행렬 인덱싱\n",
        "A=torch.tensor([ [[0,1,2,3],[4,5,6,7],[8,9,10,11]] ,\n",
        "                 [[12,13,14,15],[16,17,18,19],[20,21,22,23]] ])\n",
        "print(A)\n",
        "print(A.shape)\n",
        "print(A[0,1,2])\n",
        "\n",
        "a=torch.tensor([[[[[1,2,3,4]]]]]) # 대괄호가 하나 늘어나면 왼쪽에 shape 값이 추가 된다.\n",
        "print(a.shape)"
      ]
    },
    {
      "cell_type": "code",
      "execution_count": null,
      "metadata": {
        "colab": {
          "base_uri": "https://localhost:8080/"
        },
        "id": "fC8GpUNmgy2Y",
        "outputId": "661bf3c6-8793-4f92-da15-136687241acc"
      },
      "outputs": [
        {
          "name": "stdout",
          "output_type": "stream",
          "text": [
            "tensor([[[ 0,  1,  2,  3],\n",
            "         [ 4,  5,  6,  7],\n",
            "         [ 8,  9, 10, 11]],\n",
            "\n",
            "        [[12, 13, 14, 15],\n",
            "         [16, 17, 18, 19],\n",
            "         [20, 21, 22, 23]]])\n"
          ]
        },
        {
          "data": {
            "text/plain": [
              "tensor([ 3, 19, 22,  5])"
            ]
          },
          "execution_count": 10,
          "metadata": {},
          "output_type": "execute_result"
        }
      ],
      "source": [
        "# 리스트로 인덱싱\n",
        "print(A)\n",
        "A[[0,1,1,0],[0,1,2,1],[3,3,2,1]]"
      ]
    },
    {
      "cell_type": "code",
      "execution_count": null,
      "metadata": {
        "colab": {
          "base_uri": "https://localhost:8080/"
        },
        "id": "-H29UkQPNQIg",
        "outputId": "0fadf22f-fb17-4f89-8a68-f7ab8ec842d7"
      },
      "outputs": [
        {
          "name": "stdout",
          "output_type": "stream",
          "text": [
            "False\n",
            "tensor([[False, False, False,  True],\n",
            "        [ True, False,  True, False]])\n",
            "tensor([4, 5, 7])\n",
            "tensor([[  1,   2,   3, 100],\n",
            "        [100,   3, 100,   3]])\n",
            "tensor([[1, 2],\n",
            "        [7, 8]])\n",
            "tensor([1, 2])\n"
          ]
        }
      ],
      "source": [
        "# boolean 인덱싱\n",
        "a=[1,2,3,4,5,3,3]\n",
        "print(a==3) # 여러개 값 들어있는 리스트랑 3 달랑 하나랑 같냐? 다르다!\n",
        "A=torch.tensor([[1,2,3,4],[5,3,7,3]])\n",
        "print(A>3) # 리스트와 달리 각 성분에 대해 비교해 줌\n",
        "print(A[A>3]) # True, False가 담긴 행렬로 인덱싱 가능!!\n",
        "\n",
        "A[A>3] = 100\n",
        "print(A) # 그러면 이런 것도 가능하다! (3보다 큰 애들을 100으로 바꿔줘)\n",
        "\n",
        "A=torch.tensor([[1,2],[3,4],[5,6],[7,8]])\n",
        "B=torch.tensor([True, False, False, True]) # 행만 bool로 인덱싱 하는 것도 가능\n",
        "print(A[B,:]) # 0행, 3행 슬라이싱\n",
        "\n",
        "b=torch.tensor([1,2,3,4])\n",
        "print(b[ [True,True,False,False] ]) # 참고로 그냥 리스트여도 됨\n",
        "c=[1,2,3,4]\n",
        "# c[[True,True,False,False]] # error!"
      ]
    },
    {
      "cell_type": "code",
      "execution_count": null,
      "metadata": {
        "colab": {
          "base_uri": "https://localhost:8080/",
          "height": 681
        },
        "id": "a0azbkyAOOJh",
        "outputId": "3f087514-4733-4254-e2a8-11e1f11599d0"
      },
      "outputs": [
        {
          "name": "stdout",
          "output_type": "stream",
          "text": [
            "tensor(3)\n",
            "tensor(3)\n",
            "tensor([3, 4, 5])\n",
            "tensor([[3, 3, 3],\n",
            "        [4, 4, 4]])\n",
            "tensor([1, 2, 3])\n",
            "torch.Size([2, 2, 3])\n",
            "tensor([[[1, 2, 3],\n",
            "         [4, 5, 6]],\n",
            "\n",
            "        [[4, 5, 6],\n",
            "         [4, 5, 6]]])\n"
          ]
        },
        {
          "data": {
            "text/plain": [
              "<matplotlib.image.AxesImage at 0x788aa24aed10>"
            ]
          },
          "execution_count": 12,
          "metadata": {},
          "output_type": "execute_result"
        },
        {
          "data": {
            "image/png": "[encoded data removed]",
            "text/plain": [
              "<Figure size 640x480 with 1 Axes>"
            ]
          },
          "metadata": {},
          "output_type": "display_data"
        }
      ],
      "source": [
        "# tensor로 인덱싱\n",
        "a=torch.tensor([1,2,3,4,5])\n",
        "A=a[2]\n",
        "print(A)\n",
        "A=a[ torch.tensor(2) ] # torch.tensor를 안에다가?\n",
        "print(A)\n",
        "A=a[ torch.tensor([2,3,4]) ]\n",
        "print(A)\n",
        "A=a[ torch.tensor([[2,2,2],[3,3,3]]) ]\n",
        "print(A) # 인덱싱된 애들로 2행 3열짜리 행렬을 만든다\n",
        "\n",
        "a=torch.tensor([[1,2,3],[4,5,6]])\n",
        "print(a[ torch.tensor(0) ])\n",
        "A=a[ torch.tensor([[0,1],[1,1]]) ]\n",
        "print(A.shape) # 예를 들어, a[0] = tensor([1,2,3])과 같이 1차원 텐서이므로 한 차원이 뒤에 늘어나서 2,2, \"3\" 이 된다!\n",
        "print(A)\n",
        "\n",
        "# segmentation 결과 그림 보여줄 때 사용!\n",
        "b=torch.tensor([[225,255,0],[255,0,0],[0,0,255],[255,0,255],[70,80,75],[0,0,4],[60,100,255]])\n",
        "import matplotlib.pyplot as plt\n",
        "plt.imshow(b[ torch.tensor([[0,2],[1,2]]) ])"
      ]
    },
    {
      "cell_type": "code",
      "execution_count": null,
      "metadata": {
        "colab": {
          "base_uri": "https://localhost:8080/"
        },
        "id": "h_cVB1_Q7GMJ",
        "outputId": "3e8a9658-b68d-4a09-d5d1-1a0414cb652b"
      },
      "outputs": [
        {
          "name": "stdout",
          "output_type": "stream",
          "text": [
            "tensor([[[1, 2, 3],\n",
            "         [4, 5, 6]],\n",
            "\n",
            "        [[4, 5, 6],\n",
            "         [4, 5, 6]]])\n",
            "tensor([[[1, 2, 3],\n",
            "         [4, 5, 6]],\n",
            "\n",
            "        [[4, 5, 6],\n",
            "         [4, 5, 6]]])\n"
          ]
        }
      ],
      "source": [
        "# 도전해 보세요!\n",
        "a=torch.tensor([[1,2,3],[4,5,6]])\n",
        "\n",
        "A = a[ torch.tensor([[0,1],[1,1]]) ]\n",
        "# A 와 같은 것을 리스트로 인덱싱을 통해 얻으려면?\n",
        "\n",
        "\n",
        "\n",
        "\n",
        "\n",
        "# 정답은 바로..\n",
        "B = a[ [[[0,0,0], [1,1,1]], [[1,1,1], [1,1,1]]], [[[0,1,2], [0,1,2]], [[0,1,2], [0,1,2]]] ]\n",
        "\n",
        "print(A)\n",
        "print(B)\n",
        "# 리스트로 인덱싱하는 것과는 확실히 다르다는 것을 알 수 있습니다."
      ]
    },
    {
      "cell_type": "code",
      "execution_count": null,
      "metadata": {
        "colab": {
          "base_uri": "https://localhost:8080/"
        },
        "id": "xj9-z9hp7JAf",
        "outputId": "fc011693-4ed1-4973-b5e5-8b87bad3a2d4"
      },
      "outputs": [
        {
          "name": "stdout",
          "output_type": "stream",
          "text": [
            "tensor([[1, 2, 6],\n",
            "        [3, 4, 7],\n",
            "        [5, 6, 2],\n",
            "        [7, 8, 9]])\n",
            "torch.Size([4, 3])\n",
            "tensor(2)\n",
            "tensor([2, 6, 7, 3, 5])\n",
            "tensor([[1, 2],\n",
            "        [8, 3]])\n",
            "tensor([2, 6, 2, 8])\n",
            "tensor([2, 2])\n",
            "tensor([2, 6])\n",
            "tensor([[3, 4, 7],\n",
            "        [3, 4, 7],\n",
            "        [5, 6, 2],\n",
            "        [5, 6, 2],\n",
            "        [5, 6, 2]])\n"
          ]
        }
      ],
      "source": [
        "A=torch.tensor([[1,2,6],[3,4,7],[5,6,2],[7,8,9]])\n",
        "print(A)\n",
        "print(A.shape)\n",
        "\n",
        "# 1. A[몇 번째 행이냐, 몇 번째 열이냐]\n",
        "print(A[0,1])\n",
        "# 2-1. A[[몇 번째 행이냐,몇 번째 행이냐], [몇 번째 열이냐,몇 번째 열이냐]]\n",
        "print(A[ [0,2,3,1,2], [1,1,0,0,0] ])\n",
        "# 2-2. A[ [[몇 번째 행이냐], [몇 번째 행이냐]], [[몇 번째 열이냐], [몇 번째 열이냐]] ] => 결과가 행렬 형태가 되도록 인덱싱!\n",
        "print(A[  [[0, 2], [3, 1]],  [[0, 2], [1, 0]]  ])\n",
        "# 3. A[ tensor(bool) ] => A와 같은 shape을 가지는 tensor형 bool이 어디에 True를 가지고 있냐\n",
        "print(A[ torch.tensor([[False,True,True],[False,False,False],[False,False,True],[False,True,False]]) ])\n",
        "print(A[A==2]) # 마스킹같은 걸 할 수 있음\n",
        "# 4. A[몇 번째 값에 True가 있냐, 몇 번째 값에 True가 있냐]\n",
        "print(A[[True,False,False,False],[False,True,True]])\n",
        "# 5. A[ tensor ] => 몇 번째 것을 어떻게 쌓을거냐\n",
        "print(A[ torch.tensor([1,1,2,2,2]) ])"
      ]
    },
    {
      "cell_type": "markdown",
      "metadata": {
        "id": "zm4-ctNFNpQA"
      },
      "source": [
        "## pytorch 의 여러 함수들"
      ]
    },
    {
      "cell_type": "code",
      "execution_count": null,
      "metadata": {
        "colab": {
          "base_uri": "https://localhost:8080/"
        },
        "id": "ettY2DigNpQG",
        "outputId": "741cacf4-ab66-4064-fd87-c16a851b8832"
      },
      "outputs": [
        {
          "name": "stdout",
          "output_type": "stream",
          "text": [
            "tensor([[-3.3159, -0.4941, -0.5799],\n",
            "        [ 1.2218,  0.5580,  0.6505],\n",
            "        [ 1.2456,  0.3585,  0.0564]])\n",
            "tensor([[0.2095, 0.3149, 0.2390],\n",
            "        [0.5525, 0.2996, 0.4630],\n",
            "        [0.0738, 0.2078, 0.2155]])\n"
          ]
        }
      ],
      "source": [
        "A=torch.randn(3,3) # Normal 의 n\n",
        "B=torch.rand(3,3) # 이건 uniform\n",
        "print(A)\n",
        "print(B)"
      ]
    },
    {
      "cell_type": "code",
      "execution_count": null,
      "metadata": {
        "colab": {
          "base_uri": "https://localhost:8080/"
        },
        "id": "MJ2YnFDlNpQG",
        "outputId": "7c191b17-bd7d-49e7-8191-ddf0d47c0605"
      },
      "outputs": [
        {
          "name": "stdout",
          "output_type": "stream",
          "text": [
            "tensor([[ 0.2180, -0.4714, -0.2971],\n",
            "        [ 2.1451, -1.7249,  0.7786],\n",
            "        [ 1.1993, -2.3971,  0.3243]])\n",
            "tensor([[0.2180, 0.4714, 0.2971],\n",
            "        [2.1451, 1.7249, 0.7786],\n",
            "        [1.1993, 2.3971, 0.3243]])\n",
            "tensor([[0.4669, 0.6866, 0.5450],\n",
            "        [1.4646, 1.3133, 0.8824],\n",
            "        [1.0951, 1.5483, 0.5695]])\n",
            "tensor([[1.2435, 0.6241, 0.7430],\n",
            "        [8.5433, 0.1782, 2.1785],\n",
            "        [3.3177, 0.0910, 1.3831]])\n",
            "tensor([[-1.5234, -0.7521, -1.2138],\n",
            "        [ 0.7632,  0.5451, -0.2502],\n",
            "        [ 0.1817,  0.8743, -1.1261]])\n",
            "tensor(1.)\n",
            "tensor(1.)\n",
            "tensor(1.)\n",
            "tensor([[ 0., -0., -0.],\n",
            "        [ 2., -2.,  1.],\n",
            "        [ 1., -2.,  0.]])\n",
            "tensor([[ 0.2200, -0.4700, -0.3000],\n",
            "        [ 2.1500, -1.7200,  0.7800],\n",
            "        [ 1.2000, -2.4000,  0.3200]])\n",
            "tensor([[ 0., -1., -1.],\n",
            "        [ 2., -2.,  0.],\n",
            "        [ 1., -3.,  0.]])\n",
            "tensor([[ 1., -0., -0.],\n",
            "        [ 3., -1.,  1.],\n",
            "        [ 2., -2.,  1.]])\n"
          ]
        }
      ],
      "source": [
        "A=torch.randn(3,3)\n",
        "print(A)\n",
        "print(torch.abs(A))\n",
        "print(torch.sqrt(torch.abs(A)))\n",
        "print(torch.exp(A))\n",
        "print(torch.log(torch.abs(A)))\n",
        "print(torch.log(torch.exp(torch.tensor(1)))) # torch.exp(torch.tensor(1)) = e^1\n",
        "print(torch.log10(torch.tensor(10)))\n",
        "print(torch.log2(torch.tensor(2)))\n",
        "print(torch.round(A)) # 반올림\n",
        "print(torch.round(A,decimals=2)) # 소수점 둘째자리까지\n",
        "print(torch.floor(A)) # 내림\n",
        "print(torch.ceil(A)) # 올림"
      ]
    },
    {
      "cell_type": "code",
      "execution_count": null,
      "metadata": {
        "colab": {
          "base_uri": "https://localhost:8080/"
        },
        "id": "m7I5-t79NpQG",
        "outputId": "61eb9297-a95d-4453-af23-e2ced668cfac"
      },
      "outputs": [
        {
          "name": "stdout",
          "output_type": "stream",
          "text": [
            "tensor(0.5000)\n",
            "tensor(0.5000)\n",
            "tensor(1.)\n",
            "tensor(-1.)\n"
          ]
        },
        {
          "data": {
            "text/plain": [
              "torch.Tensor"
            ]
          },
          "execution_count": 17,
          "metadata": {},
          "output_type": "execute_result"
        }
      ],
      "source": [
        "print(torch.sin(torch.tensor(torch.pi/6))) # type(torch.pi) <- float임 만약 tensor와 연산하면 tensor로 바꿔줌\n",
        "print(torch.cos(torch.tensor(torch.pi/3)))\n",
        "print(torch.tan(torch.tensor(torch.pi/4)))\n",
        "print(torch.tanh(torch.tensor(-10)))\n",
        "\n",
        "type(torch.tensor(1)/6)"
      ]
    },
    {
      "cell_type": "code",
      "execution_count": null,
      "metadata": {
        "colab": {
          "base_uri": "https://localhost:8080/"
        },
        "id": "CC7FdF-bNpQH",
        "outputId": "cd2cb6d0-4608-4027-8413-9753e84c1f30"
      },
      "outputs": [
        {
          "name": "stdout",
          "output_type": "stream",
          "text": [
            "tensor(nan)\n",
            "tensor([False, False,  True, False, False])\n",
            "tensor([False, False, False, False,  True])\n"
          ]
        }
      ],
      "source": [
        "torch.nan # not a number\n",
        "print(torch.log(torch.tensor(-1)))\n",
        "print(torch.isnan(torch.tensor([1,2,torch.nan,3,4])))\n",
        "print(torch.isinf(torch.tensor([1,2,3,4,torch.inf])))"
      ]
    },
    {
      "cell_type": "code",
      "execution_count": null,
      "metadata": {
        "colab": {
          "base_uri": "https://localhost:8080/"
        },
        "id": "GgWQTdynNpQH",
        "outputId": "43f864f2-a100-47af-f44f-d634267ce75d"
      },
      "outputs": [
        {
          "name": "stdout",
          "output_type": "stream",
          "text": [
            "tensor([[ 0.7231, -0.2691,  0.2368,  0.5197],\n",
            "        [ 0.7255,  0.2321,  1.5405,  0.1064],\n",
            "        [-0.0572, -0.3441, -1.4546, -0.5935]])\n",
            "tensor(1.5405)\n",
            "torch.return_types.max(\n",
            "values=tensor([0.7255, 0.2321, 1.5405, 0.5197]),\n",
            "indices=tensor([1, 1, 1, 0]))\n",
            "torch.return_types.max(\n",
            "values=tensor([ 0.7231,  1.5405, -0.0572]),\n",
            "indices=tensor([0, 2, 0]))\n",
            "torch.return_types.max(\n",
            "values=tensor([[0.7255, 0.2321, 1.5405, 0.5197]]),\n",
            "indices=tensor([[1, 1, 1, 0]]))\n",
            "torch.return_types.max(\n",
            "values=tensor([[ 0.7231],\n",
            "        [ 1.5405],\n",
            "        [-0.0572]]),\n",
            "indices=tensor([[0],\n",
            "        [2],\n",
            "        [0]]))\n",
            "tensor(-1.4546)\n",
            "torch.return_types.min(\n",
            "values=tensor([-0.0572, -0.3441, -1.4546, -0.5935]),\n",
            "indices=tensor([2, 2, 2, 2]))\n",
            "torch.return_types.min(\n",
            "values=tensor([-0.2691,  0.1064, -1.4546]),\n",
            "indices=tensor([1, 3, 2]))\n",
            "tensor(6)\n",
            "tensor([1, 1, 1, 0])\n",
            "tensor([0, 2, 0])\n"
          ]
        }
      ],
      "source": [
        "A=torch.randn(3,4)\n",
        "print(A)\n",
        "print(torch.max(A))\n",
        "print(torch.max(A,dim=0))\n",
        "print(torch.max(A,dim=1)) # 1D tensor로 바꿔버림\n",
        "print(torch.max(A,dim=0, keepdims=True))\n",
        "print(torch.max(A,dim=1, keepdims=True)) # 3 행 1열 짜리 2D tensor\n",
        "print(torch.min(A))\n",
        "print(torch.min(A,dim=0))\n",
        "print(torch.min(A,dim=1))\n",
        "print(torch.argmax(A))\n",
        "print(torch.argmax(A,dim=0)) # 각 열에서 가장 큰 애가 존재하는 인덱스\n",
        "print(torch.argmax(A,dim=1)) # 각 행에서 가장 큰 애가 존재하는 인덱스"
      ]
    },
    {
      "cell_type": "code",
      "execution_count": null,
      "metadata": {
        "colab": {
          "base_uri": "https://localhost:8080/"
        },
        "id": "tPkZS_0MvEMU",
        "outputId": "ee32cb8c-af4a-4545-a362-62852cf203ca"
      },
      "outputs": [
        {
          "name": "stdout",
          "output_type": "stream",
          "text": [
            "torch.return_types.sort(\n",
            "values=tensor([[ 1.0324],\n",
            "        [ 0.3474],\n",
            "        [-0.3473],\n",
            "        [-0.4657],\n",
            "        [-0.5525],\n",
            "        [-1.6007]]),\n",
            "indices=tensor([[2],\n",
            "        [3],\n",
            "        [0],\n",
            "        [4],\n",
            "        [1],\n",
            "        [5]]))\n",
            "tensor(1.0324)\n",
            "tensor(1.0324)\n",
            "tensor([[0.3473],\n",
            "        [0.5525],\n",
            "        [1.0324],\n",
            "        [0.3474],\n",
            "        [0.4657],\n",
            "        [1.6007]])\n",
            "tensor([[0.3473],\n",
            "        [0.5525],\n",
            "        [1.0324],\n",
            "        [0.3474],\n",
            "        [0.4657],\n",
            "        [1.6007]])\n"
          ]
        }
      ],
      "source": [
        "# a=torch.randn(6,1)\n",
        "# print(a)\n",
        "# a_sorted=torch.sort(a,dim=0)\n",
        "# print(a_sorted)\n",
        "\n",
        "a=torch.randn(6,1)\n",
        "# print(a)\n",
        "# print(a.sort(dim=0))\n",
        "print(a.sort(dim=0, descending=True))\n",
        "\n",
        "print(torch.max(a))\n",
        "print(a.max())\n",
        "print(torch.abs(a))\n",
        "print(a.abs())"
      ]
    },
    {
      "cell_type": "code",
      "execution_count": null,
      "metadata": {
        "colab": {
          "base_uri": "https://localhost:8080/"
        },
        "id": "jUdsNQ0jNpQH",
        "outputId": "03bff54c-548b-4b3f-b274-7c55bfbc04fa"
      },
      "outputs": [
        {
          "name": "stdout",
          "output_type": "stream",
          "text": [
            "tensor([[ 0.7049,  1.2940,  0.8720, -0.5445],\n",
            "        [ 0.2831, -0.3152, -0.2524,  0.4363],\n",
            "        [-0.8198,  0.7692, -0.6748,  0.3665]])\n",
            "tensor(2.1192)\n",
            "tensor([ 2.3264,  0.1517, -0.3589])\n",
            "tensor([[ 2.3264],\n",
            "        [ 0.1517],\n",
            "        [-0.3589]])\n",
            "tensor(0.1766)\n",
            "tensor([ 0.5816,  0.0379, -0.0897])\n",
            "tensor([[ 0.5816],\n",
            "        [ 0.0379],\n",
            "        [-0.0897]])\n",
            "tensor(0.6836)\n",
            "tensor([[ 2.3264],\n",
            "        [ 0.1517],\n",
            "        [-0.3589]])\n",
            "tensor([[ 0.5816],\n",
            "        [ 0.0379],\n",
            "        [-0.0897]])\n",
            "tensor(0.6836)\n"
          ]
        }
      ],
      "source": [
        "A=torch.randn(3,4)\n",
        "print(A)\n",
        "print(torch.sum(A))\n",
        "print(torch.sum(A,dim=1))\n",
        "print(torch.sum(A,dim=1,keepdims=True))\n",
        "print(torch.mean(A))\n",
        "print(torch.mean(A,dim=1))\n",
        "print(torch.mean(A,dim=1,keepdims=True))\n",
        "print(torch.std(A)) # standard deviation 표준 편차\n",
        "\n",
        "print(A.sum(dim=1, keepdims=True))\n",
        "print(A.mean(dim=1, keepdims=True))\n",
        "print(A.std())"
      ]
    },
    {
      "cell_type": "code",
      "execution_count": null,
      "metadata": {
        "colab": {
          "base_uri": "https://localhost:8080/"
        },
        "id": "xF3r4Y1ENpQH",
        "outputId": "42d4d150-9830-41c0-ebcd-951d9cffd7db"
      },
      "outputs": [
        {
          "name": "stdout",
          "output_type": "stream",
          "text": [
            "tensor([1, 2, 4, 1, 3, 1, 2, 3, 1, 1, 2, 1])\n",
            "torch.Size([12])\n",
            "tensor([[[1, 2, 4],\n",
            "         [1, 3, 1]],\n",
            "\n",
            "        [[2, 3, 1],\n",
            "         [1, 2, 1]]])\n",
            "3\n"
          ]
        }
      ],
      "source": [
        "A=torch.randint(1,5,size=(12,)) # 1부터 5미만 12개 정수 (1 차원은 (N,) 과 같이 표현)\n",
        "print(A)\n",
        "print(A.shape)\n",
        "\n",
        "B=A.reshape(2,2,3)\n",
        "print(B)\n",
        "print(B.ndim) # 3 차원 행렬이다"
      ]
    },
    {
      "cell_type": "code",
      "execution_count": null,
      "metadata": {
        "colab": {
          "base_uri": "https://localhost:8080/"
        },
        "id": "lz2-rSo4dJRd",
        "outputId": "ca947878-bbcf-44c1-8e29-9b8e23ff0141"
      },
      "outputs": [
        {
          "name": "stdout",
          "output_type": "stream",
          "text": [
            "tensor([ 0,  1,  2,  3,  4,  5,  6,  7,  8,  9, 10, 11, 12, 13, 14, 15, 16, 17,\n",
            "        18, 19])\n",
            "tensor([[ 0,  1,  2,  3,  4],\n",
            "        [ 5,  6,  7,  8,  9],\n",
            "        [10, 11, 12, 13, 14],\n",
            "        [15, 16, 17, 18, 19]])\n",
            "torch.Size([4, 5])\n",
            "torch.Size([2, 5, 2])\n",
            "torch.Size([2, 2, 5])\n",
            "torch.Size([1, 20])\n",
            "torch.Size([20, 1])\n"
          ]
        }
      ],
      "source": [
        "A=torch.arange(20,)\n",
        "print(A)\n",
        "print(A.reshape(4,5))\n",
        "print(A.reshape(4,-1).shape) # 4개 행이 되도록 열의 수를 맞춰준다!\n",
        "print(A.reshape(2,5,-1).shape)\n",
        "print(A.reshape(2,-1,5).shape)\n",
        "print(A.reshape(1,-1).shape) # 2차원 행 벡터\n",
        "print(A.reshape(-1,1).shape) # 2차원 열 벡터"
      ]
    },
    {
      "cell_type": "code",
      "execution_count": null,
      "metadata": {
        "colab": {
          "base_uri": "https://localhost:8080/"
        },
        "id": "qZcId-_mNpQH",
        "outputId": "87e50eda-1b7f-4813-b9a0-bfb52a7f5ba5"
      },
      "outputs": [
        {
          "name": "stdout",
          "output_type": "stream",
          "text": [
            "tensor(9)\n",
            "tensor([[9]])\n",
            "tensor([[9]])\n",
            "tensor([[9]])\n",
            "tensor([[9]])\n",
            "torch.Size([3, 6, 4])\n",
            "torch.Size([4, 6, 3])\n"
          ]
        }
      ],
      "source": [
        "a=torch.tensor([1,2,3])\n",
        "b=torch.tensor([2,2,1])\n",
        "print(torch.sum(a*b))\n",
        "\n",
        "a=a.reshape(3,1)\n",
        "b=b.reshape(3,1)\n",
        "print(a.transpose(1,0)@b)\n",
        "print(a.permute(1,0)@b)\n",
        "print(a.T@b)\n",
        "print(a.t()@b)\n",
        "\n",
        "A=torch.randn(4,3,6)\n",
        "print(A.permute(1,2,0).shape)\n",
        "print(A.transpose(2,1).shape) # transpose 는 둘끼리 자리 바꾸기만 가능"
      ]
    },
    {
      "cell_type": "code",
      "execution_count": null,
      "metadata": {
        "colab": {
          "base_uri": "https://localhost:8080/"
        },
        "id": "LbH1bkCbNpQH",
        "outputId": "62438f26-eb2d-4df0-e09d-ce4547adfdde"
      },
      "outputs": [
        {
          "name": "stdout",
          "output_type": "stream",
          "text": [
            "torch.Size([4, 5, 6])\n",
            "torch.Size([4, 5, 6])\n",
            "torch.Size([2, 3, 4, 5])\n",
            "torch.Size([2, 3, 4, 5])\n",
            "torch.Size([3, 4, 6])\n",
            "torch.Size([3, 4, 6])\n"
          ]
        }
      ],
      "source": [
        "x=torch.randn(2,3,4,5,6)\n",
        "print(x[1,2,:,:,:].shape)\n",
        "print(x[1,2,...].shape) # x[1, 2, …] 는 x[1, 2, :, :, :] 와 같습니다.\n",
        "print(x[:,:,:,:,3].shape)\n",
        "print(x[...,3].shape) # x[…, 3] 는 x[:, :, :, :, 3] 와 같습니다.\n",
        "print(x[1,:,:,3,:].shape)\n",
        "print(x[1,...,3,:].shape) # x[1, …, 3, :] 는 x[1, :, :, 3, :] 와 같습니다."
      ]
    },
    {
      "cell_type": "code",
      "execution_count": null,
      "metadata": {
        "colab": {
          "base_uri": "https://localhost:8080/"
        },
        "id": "6siD2dMfNpQI",
        "outputId": "fde3810a-91a7-482e-ccb1-a1a470e95c6f"
      },
      "outputs": [
        {
          "name": "stdout",
          "output_type": "stream",
          "text": [
            "tensor([[1., 1., 1., 1.],\n",
            "        [1., 1., 1., 1.],\n",
            "        [1., 1., 1., 1.],\n",
            "        [0., 0., 0., 0.],\n",
            "        [0., 0., 0., 0.],\n",
            "        [0., 0., 0., 0.]])\n",
            "tensor([[1., 1., 1., 1., 0., 0., 0., 0.],\n",
            "        [1., 1., 1., 1., 0., 0., 0., 0.],\n",
            "        [1., 1., 1., 1., 0., 0., 0., 0.]])\n",
            "tensor([[1., 1., 1., 1.],\n",
            "        [1., 1., 1., 1.],\n",
            "        [1., 1., 1., 1.],\n",
            "        [0., 0., 0., 0.],\n",
            "        [0., 0., 0., 0.],\n",
            "        [0., 0., 0., 0.]])\n",
            "tensor([[1., 1., 1., 1., 0., 0., 0., 0.],\n",
            "        [1., 1., 1., 1., 0., 0., 0., 0.],\n",
            "        [1., 1., 1., 1., 0., 0., 0., 0.]])\n"
          ]
        }
      ],
      "source": [
        "A=torch.ones(3,4)\n",
        "B=torch.zeros(3,4)\n",
        "C=torch.vstack([A,B])\n",
        "D=torch.hstack([A,B]) # v는 0번째 차원, h는 1번째 차원에 쌓는다. (A,B 사이즈 (2,3,4)로 추가 해보기)\n",
        "E=torch.cat([A,B],dim=0)\n",
        "F=torch.cat([A,B],dim=1)\n",
        "\n",
        "print(C)\n",
        "print(D)\n",
        "print(E)\n",
        "print(F)"
      ]
    },
    {
      "cell_type": "code",
      "execution_count": null,
      "metadata": {
        "colab": {
          "base_uri": "https://localhost:8080/"
        },
        "id": "UmgVsO_U8oxQ",
        "outputId": "68d5febd-ca81-469b-cc7f-e7727e6a967c"
      },
      "outputs": [
        {
          "name": "stdout",
          "output_type": "stream",
          "text": [
            "torch.Size([1, 1, 1, 3, 1, 1, 1, 4, 1, 1, 1])\n",
            "torch.Size([3, 4])\n",
            "torch.Size([1, 3, 1, 4, 1, 1, 1])\n"
          ]
        }
      ],
      "source": [
        "A=torch.randn(1,1,1,3,1,1,1,4,1,1,1)\n",
        "# print(A)\n",
        "print(A.shape)\n",
        "print(A.squeeze().shape)\n",
        "print(A.squeeze(dim=(0,2,4,5)).shape)"
      ]
    },
    {
      "cell_type": "code",
      "execution_count": null,
      "metadata": {
        "colab": {
          "base_uri": "https://localhost:8080/"
        },
        "id": "g5Ee_pSB4rPx",
        "outputId": "944cda58-94be-4bcd-e0be-a0939a8bf566"
      },
      "outputs": [
        {
          "name": "stdout",
          "output_type": "stream",
          "text": [
            "torch.Size([1, 3, 4])\n",
            "torch.Size([3, 1, 4])\n",
            "torch.Size([3, 4, 1])\n",
            "torch.Size([1, 3, 4])\n",
            "torch.Size([3, 1, 4])\n",
            "torch.Size([3, 4, 1])\n"
          ]
        }
      ],
      "source": [
        "A = torch.randn(3,4)\n",
        "print(A.unsqueeze(dim=0).shape)\n",
        "print(A.unsqueeze(dim=1).shape)\n",
        "print(A.unsqueeze(dim=2).shape)\n",
        "print(A.reshape(1,3,4).shape)\n",
        "print(A.reshape(3,1,4).shape)\n",
        "print(A.reshape(3,4,1).shape)"
      ]
    },
    {
      "cell_type": "code",
      "execution_count": null,
      "metadata": {
        "colab": {
          "base_uri": "https://localhost:8080/"
        },
        "id": "L1Y6R4ittk1w",
        "outputId": "10bb2999-de28-4fa6-b665-2f7747a9704b"
      },
      "outputs": [
        {
          "name": "stdout",
          "output_type": "stream",
          "text": [
            "tensor([[[1., 1., 1., 1.],\n",
            "         [1., 1., 1., 1.],\n",
            "         [1., 1., 1., 1.]],\n",
            "\n",
            "        [[0., 0., 0., 0.],\n",
            "         [0., 0., 0., 0.],\n",
            "         [0., 0., 0., 0.]]])\n",
            "torch.Size([2, 3, 4])\n"
          ]
        }
      ],
      "source": [
        "A=torch.ones(3,4)\n",
        "B=torch.zeros(3,4)\n",
        "A=A.unsqueeze(dim=0)\n",
        "B=B.unsqueeze(dim=0)\n",
        "C=torch.cat([A,B], dim=0)\n",
        "print(C)\n",
        "print(C.shape)"
      ]
    },
    {
      "cell_type": "code",
      "execution_count": null,
      "metadata": {
        "colab": {
          "base_uri": "https://localhost:8080/"
        },
        "id": "0q6mwC0UpReo",
        "outputId": "098b90e6-4178-465d-f9cb-73b7d4eb3cd4"
      },
      "outputs": [
        {
          "name": "stdout",
          "output_type": "stream",
          "text": [
            "tensor([[[1., 1., 1., 1.],\n",
            "         [1., 1., 1., 1.],\n",
            "         [1., 1., 1., 1.]],\n",
            "\n",
            "        [[0., 0., 0., 0.],\n",
            "         [0., 0., 0., 0.],\n",
            "         [0., 0., 0., 0.]]])\n"
          ]
        }
      ],
      "source": [
        "A=torch.ones(3,4)\n",
        "B=torch.zeros(3,4)\n",
        "C=torch.stack([A,B])\n",
        "print(C) # unsqueeze 안하고 stack 으로 하면 되긴 함. (차원을 추가(default는 dim=0에)해서 쌓아줌)\n",
        "# 근데 차원을 추가해서 쌓는 방식이다보니 A,B shape이 완전히 일치해야 함. concat은 달라도 쌓을 차원 이외 차원들만 맞으면 됨"
      ]
    },
    {
      "cell_type": "code",
      "execution_count": null,
      "metadata": {
        "colab": {
          "base_uri": "https://localhost:8080/"
        },
        "id": "pw5SvtjNo7r2",
        "outputId": "405d0014-3f90-42d4-a882-d4311a3c6172"
      },
      "outputs": [
        {
          "name": "stdout",
          "output_type": "stream",
          "text": [
            "tensor([[100,   2],\n",
            "        [  3,   4]])\n",
            "tensor([[1, 2],\n",
            "        [3, 4]])\n"
          ]
        }
      ],
      "source": [
        "A=torch.tensor([[1,2],[3,4]])\n",
        "B=A.clone()\n",
        "B[0,0]=100\n",
        "\n",
        "print(B)\n",
        "print(A)"
      ]
    },
    {
      "cell_type": "markdown",
      "metadata": {
        "id": "yLRiCEbpywDi"
      },
      "source": [
        "## @ 에 대해 좀만 더"
      ]
    },
    {
      "cell_type": "code",
      "execution_count": null,
      "metadata": {
        "colab": {
          "base_uri": "https://localhost:8080/"
        },
        "id": "ImSTUbNgyxz7",
        "outputId": "659d7154-c2d7-4f2c-c637-a78909ba9758"
      },
      "outputs": [
        {
          "name": "stdout",
          "output_type": "stream",
          "text": [
            "torch.Size([5, 10])\n",
            "torch.Size([32, 5, 10])\n"
          ]
        }
      ],
      "source": [
        "A=torch.randn(5,7)\n",
        "B=torch.randn(7,10)\n",
        "C=A@B\n",
        "print(C.shape)\n",
        "\n",
        "A=torch.randn(32,5,7)\n",
        "B=torch.randn(32,7,10)\n",
        "C=A@B\n",
        "print(C.shape)"
      ]
    },
    {
      "cell_type": "code",
      "execution_count": null,
      "metadata": {
        "colab": {
          "base_uri": "https://localhost:8080/"
        },
        "id": "o0GUPmfJzDp0",
        "outputId": "2488bd41-54e2-45d8-911b-8be9f643c921"
      },
      "outputs": [
        {
          "name": "stdout",
          "output_type": "stream",
          "text": [
            "torch.Size([32, 5, 10])\n"
          ]
        }
      ],
      "source": [
        "A=torch.randn(32,5,7)\n",
        "B=torch.randn(7,10)\n",
        "\n",
        "C = A@B\n",
        "print(C.shape)\n",
        "\n",
        "# 내 필기용 (repeat은 좀 지엽적인듯)\n",
        "# D = A@B.repeat(32,1,1)\n",
        "# print(D.shape)\n",
        "# print((C-D).abs().max())"
      ]
    },
    {
      "cell_type": "code",
      "execution_count": null,
      "metadata": {
        "id": "itXmZnnUAY5N"
      },
      "outputs": [],
      "source": [
        "# 내 필기용\n",
        "# A = torch.rand(2,3)\n",
        "# A_repeat=A.repeat(3,1,3,2)\n",
        "# print(A)\n",
        "# print(A_repeat)\n",
        "# print(A_repeat.shape)"
      ]
    },
    {
      "cell_type": "markdown",
      "metadata": {
        "id": "6L4TSO42N-zF"
      },
      "source": [
        "## numpy <-> torch 왔다갔다 가능"
      ]
    },
    {
      "cell_type": "code",
      "execution_count": null,
      "metadata": {
        "colab": {
          "base_uri": "https://localhost:8080/"
        },
        "id": "C6bYHh1-HhRh",
        "outputId": "31773c14-8142-4066-ffbb-39a293683445"
      },
      "outputs": [
        {
          "name": "stdout",
          "output_type": "stream",
          "text": [
            "<class 'torch.Tensor'>\n",
            "<class 'numpy.ndarray'>\n"
          ]
        }
      ],
      "source": [
        "import numpy as np\n",
        "import torch\n",
        "\n",
        "a=np.array([1,2,3])\n",
        "b=torch.tensor([1,2,3])\n",
        "A=torch.tensor(a) # A=torch.from_numpy(a)\n",
        "B=b.numpy() # B=np.array(b)\n",
        "print(type(A))\n",
        "print(type(B))"
      ]
    },
    {
      "cell_type": "markdown",
      "metadata": {
        "id": "VZviHAE_Paoc"
      },
      "source": [
        "## 딥러닝을 가능케한 autograd"
      ]
    },
    {
      "cell_type": "code",
      "execution_count": null,
      "metadata": {
        "colab": {
          "base_uri": "https://localhost:8080/"
        },
        "id": "5pPk_FVNPZ8i",
        "outputId": "8e43327a-5b2c-40fe-e9c2-330205410953"
      },
      "outputs": [
        {
          "name": "stdout",
          "output_type": "stream",
          "text": [
            "tensor([1.], requires_grad=True)\n"
          ]
        }
      ],
      "source": [
        "x=torch.tensor([1.],requires_grad=True) # float 이여야해서 1.\n",
        "print(x)"
      ]
    },
    {
      "cell_type": "code",
      "execution_count": null,
      "metadata": {
        "colab": {
          "base_uri": "https://localhost:8080/"
        },
        "id": "Qn8UTwD6_g5N",
        "outputId": "ce3ec9cc-c7d4-4618-e638-c6e1ded1ab54"
      },
      "outputs": [
        {
          "name": "stdout",
          "output_type": "stream",
          "text": [
            "tensor([1.])\n",
            "False\n",
            "tensor([1.], requires_grad=True)\n",
            "True\n"
          ]
        }
      ],
      "source": [
        "x=torch.tensor([1.])\n",
        "print(x)\n",
        "print(x.requires_grad)\n",
        "\n",
        "x.requires_grad=True\n",
        "print(x)\n",
        "print(x.requires_grad)"
      ]
    },
    {
      "cell_type": "code",
      "execution_count": null,
      "metadata": {
        "colab": {
          "base_uri": "https://localhost:8080/"
        },
        "id": "zhHKmFGm_yKt",
        "outputId": "9234dfc0-5e03-46d5-e321-13bbfffadbaf"
      },
      "outputs": [
        {
          "name": "stdout",
          "output_type": "stream",
          "text": [
            "tensor([1.], grad_fn=<PowBackward0>)\n",
            "None\n",
            "tensor([2.])\n"
          ]
        }
      ],
      "source": [
        "x=torch.tensor([1.],requires_grad=True)\n",
        "y=x**2\n",
        "print(y) # PowBackward0 가 붙어있다!\n",
        "\n",
        "print(x.grad)\n",
        "y.backward()\n",
        "print(x.grad) # y=x**2을 미분한 2x의 x 값에 1을 대입한 gradient 값"
      ]
    },
    {
      "cell_type": "code",
      "execution_count": null,
      "metadata": {
        "colab": {
          "base_uri": "https://localhost:8080/"
        },
        "id": "Zf8zLsIdAFMz",
        "outputId": "ff6e95e5-c7f0-4f7c-cf81-6e4b5099d7f0"
      },
      "outputs": [
        {
          "name": "stdout",
          "output_type": "stream",
          "text": [
            "tensor([1.], grad_fn=<PowBackward0>)\n",
            "tensor([3.], grad_fn=<MulBackward0>)\n",
            "tensor([6.])\n",
            "None\n"
          ]
        },
        {
          "name": "stderr",
          "output_type": "stream",
          "text": [
            "<ipython-input-71-44e4def70b9f>:11: UserWarning: The .grad attribute of a Tensor that is not a leaf Tensor is being accessed. Its .grad attribute won't be populated during autograd.backward(). If you indeed want the .grad field to be populated for a non-leaf Tensor, use .retain_grad() on the non-leaf Tensor. If you access the non-leaf Tensor by mistake, make sure you access the leaf Tensor instead. See github.com/pytorch/pytorch/pull/30531 for more informations. (Triggered internally at aten/src/ATen/core/TensorBody.h:489.)\n",
            "  print(y.grad) # warning! 중간건 안된다\n"
          ]
        }
      ],
      "source": [
        "x=torch.tensor([1.], requires_grad=True)\n",
        "y=x**2\n",
        "print(y)\n",
        "# y.retain_grad() # 이걸 하면 y.grad도 볼 수 있다\n",
        "\n",
        "z=3*y\n",
        "print(z) # MulBackward0 가 붙어있다!\n",
        "\n",
        "z.backward()\n",
        "print(x.grad) # chain rule로 알아냄\n",
        "print(y.grad) # warning! 중간건 안된다"
      ]
    },
    {
      "cell_type": "code",
      "execution_count": null,
      "metadata": {
        "colab": {
          "base_uri": "https://localhost:8080/"
        },
        "id": "7gel19cTAyg2",
        "outputId": "6164b300-a253-4ff5-c224-c3fa868c9a6d"
      },
      "outputs": [
        {
          "name": "stdout",
          "output_type": "stream",
          "text": [
            "tensor([2.])\n"
          ]
        }
      ],
      "source": [
        "x=torch.tensor([1.], requires_grad=True)\n",
        "y=x**2\n",
        "z=3*y\n",
        "\n",
        "y.backward() # 이렇게하면 y에서부터 뒤로 넘어감 (backward!)\n",
        "print(x.grad)"
      ]
    },
    {
      "cell_type": "code",
      "execution_count": null,
      "metadata": {
        "colab": {
          "base_uri": "https://localhost:8080/"
        },
        "id": "zsYJrM1wiPGo",
        "outputId": "10582744-b225-40eb-97ae-aaf7687d2b66"
      },
      "outputs": [
        {
          "name": "stdout",
          "output_type": "stream",
          "text": [
            "tensor([2.], grad_fn=<AddBackward0>)\n",
            "tensor([8.])\n"
          ]
        }
      ],
      "source": [
        "x=torch.tensor([1.], requires_grad=True)\n",
        "a=x**2\n",
        "b=a+1\n",
        "print(b) # AddBackward0 가 붙어있다!\n",
        "c=b**2\n",
        "c.backward()\n",
        "print(x.grad)"
      ]
    },
    {
      "cell_type": "code",
      "execution_count": null,
      "metadata": {
        "colab": {
          "base_uri": "https://localhost:8080/"
        },
        "id": "cV5d0q1w_59z",
        "outputId": "5dfb1cb7-5ede-490f-df89-6618370617ab"
      },
      "outputs": [
        {
          "name": "stdout",
          "output_type": "stream",
          "text": [
            "tensor([3.], grad_fn=<AddBackward0>)\n",
            "tensor([4.])\n",
            "tensor([2.])\n"
          ]
        }
      ],
      "source": [
        "x=torch.tensor([1.],requires_grad=True)\n",
        "y=torch.tensor([1.],requires_grad=True)\n",
        "z= 2*x**2 + y**2\n",
        "print(z)\n",
        "z.backward()\n",
        "print(x.grad)\n",
        "print(y.grad)"
      ]
    },
    {
      "cell_type": "code",
      "execution_count": null,
      "metadata": {
        "colab": {
          "base_uri": "https://localhost:8080/"
        },
        "id": "rZLlg-zABE_a",
        "outputId": "d8e9a5ff-1859-43bd-d361-283e8e4ee99e"
      },
      "outputs": [
        {
          "name": "stdout",
          "output_type": "stream",
          "text": [
            "tensor([2.])\n",
            "tensor([1.])\n"
          ]
        }
      ],
      "source": [
        "x=torch.tensor([1.],requires_grad=True)\n",
        "y=torch.tensor([1.],requires_grad=True)\n",
        "z= y*x**2\n",
        "z.backward()\n",
        "print(x.grad)\n",
        "print(y.grad)"
      ]
    },
    {
      "cell_type": "code",
      "execution_count": null,
      "metadata": {
        "colab": {
          "base_uri": "https://localhost:8080/"
        },
        "id": "yzCj78r5Kjio",
        "outputId": "700377ec-aa0d-4d67-8110-299a0bf873fa"
      },
      "outputs": [
        {
          "name": "stdout",
          "output_type": "stream",
          "text": [
            "tensor(14., grad_fn=<SumBackward0>)\n",
            "tensor([2., 4., 6.])\n"
          ]
        }
      ],
      "source": [
        "x=torch.tensor([1., 2., 3.] ,requires_grad=True)\n",
        "y=torch.sum(x**2) # x1**2 + x2**2 + x3**2\n",
        "y.backward()\n",
        "\n",
        "print(y)\n",
        "print(x.grad) # 스칼라를 벡터로 미분"
      ]
    },
    {
      "cell_type": "code",
      "execution_count": null,
      "metadata": {
        "colab": {
          "base_uri": "https://localhost:8080/"
        },
        "id": "kGK9xoEICN9y",
        "outputId": "1770dd8f-544f-492d-d319-0c68f1155964"
      },
      "outputs": [
        {
          "name": "stdout",
          "output_type": "stream",
          "text": [
            "tensor([1.])\n"
          ]
        }
      ],
      "source": [
        "x=torch.tensor([1.] ,requires_grad=True)\n",
        "x.requires_grad=False\n",
        "# transfer learning 할 때 필요\n",
        "y=x**2\n",
        "print(y)\n",
        "# y.backward() # error!"
      ]
    },
    {
      "cell_type": "code",
      "execution_count": null,
      "metadata": {
        "colab": {
          "base_uri": "https://localhost:8080/"
        },
        "id": "L9GjlyLkCZPS",
        "outputId": "3922c178-3bb8-4d99-9059-477022f39578"
      },
      "outputs": [
        {
          "name": "stdout",
          "output_type": "stream",
          "text": [
            "tensor([2.], requires_grad=True)\n",
            "tensor([2.])\n",
            "tensor([4.], grad_fn=<PowBackward0>)\n",
            "tensor([4.])\n"
          ]
        }
      ],
      "source": [
        "x=torch.tensor([2.] ,requires_grad=True)\n",
        "x2=x.detach() # detach는 requires_grad=False 인 새로운 텐서를 만드는 것\n",
        "print(x)\n",
        "print(x2)\n",
        "y=x**2\n",
        "print(y)\n",
        "y2=x2**2\n",
        "print(y2)"
      ]
    },
    {
      "cell_type": "code",
      "execution_count": null,
      "metadata": {
        "colab": {
          "base_uri": "https://localhost:8080/"
        },
        "id": "O6E-3vtW0UPa",
        "outputId": "c5272a3e-8834-4d2a-c1b3-4ddc233b0cc7"
      },
      "outputs": [
        {
          "name": "stdout",
          "output_type": "stream",
          "text": [
            "tensor([2.])\n"
          ]
        }
      ],
      "source": [
        "# detach 사용 용도\n",
        "x=torch.tensor([1.], requires_grad=True)\n",
        "y=x**2\n",
        "z=y.detach() # x로 만든 것을 상수로 사용하고 싶은 것. y.requires_grad=False 뭐 이런 식으로 중간에 상수로 바꿀 수는 없다\n",
        "w=y+z # x**2+1 과 같다\n",
        "\n",
        "w.backward()\n",
        "print(x.grad)"
      ]
    },
    {
      "cell_type": "code",
      "execution_count": null,
      "metadata": {
        "colab": {
          "base_uri": "https://localhost:8080/"
        },
        "id": "N3CxsBcRlVgJ",
        "outputId": "a3f3fb0e-7d67-44be-9907-66e6961dd5b4"
      },
      "outputs": [
        {
          "name": "stdout",
          "output_type": "stream",
          "text": [
            "True\n",
            "tensor([1.])\n",
            "True\n",
            "tensor([1.], grad_fn=<PowBackward0>)\n",
            "False\n",
            "tensor([1.])\n"
          ]
        }
      ],
      "source": [
        "# 많이 쓰이는 torch.no_grad\n",
        "x=torch.tensor([1.], requires_grad=True)\n",
        "# chain rule을 위해 계속 grad_fn을 update 하니까 grad_fn 잠시 안 계산하고 싶을 때 torch.no_grad\n",
        "# 모델 테스트 시에는 불필요하게 메모리 쓸 필요 없기 때문!\n",
        "with torch.no_grad():\n",
        "    y = x**2\n",
        "    print(x.requires_grad)\n",
        "    print(y) # with 안에서 계산되는 애는 grad_fn 이 안붙음\n",
        "print(x.requires_grad)\n",
        "# y.backward() # error!\n",
        "y=x**2\n",
        "print(y)\n",
        "\n",
        "x=torch.tensor([1.], requires_grad=True)\n",
        "x.requires_grad=False\n",
        "y = x**2\n",
        "print(x.requires_grad)\n",
        "print(y)\n",
        "# y.backward() # error!"
      ]
    },
    {
      "cell_type": "code",
      "execution_count": null,
      "metadata": {
        "colab": {
          "base_uri": "https://localhost:8080/"
        },
        "id": "bMK0w0KEKL_U",
        "outputId": "1f34a0ec-7eda-4fd4-a74d-2e915bf63ee4"
      },
      "outputs": [
        {
          "name": "stdout",
          "output_type": "stream",
          "text": [
            "tensor([1., 4., 9.], grad_fn=<PowBackward0>)\n",
            "None\n"
          ]
        }
      ],
      "source": [
        "# 이건 내 필기용으로 남기자\n",
        "x=torch.tensor([1., 2., 3.] ,requires_grad=True)\n",
        "y=x**2\n",
        "print(y)\n",
        "# y.backward() # error!\n",
        "\n",
        "print(x.grad)"
      ]
    },
    {
      "cell_type": "code",
      "execution_count": null,
      "metadata": {
        "colab": {
          "base_uri": "https://localhost:8080/"
        },
        "id": "EvhNtBzqkcoZ",
        "outputId": "753439b7-6787-4863-b462-77e1e8d5f69b"
      },
      "outputs": [
        {
          "name": "stdout",
          "output_type": "stream",
          "text": [
            "(tensor([1.]), tensor([1.]))\n",
            "(tensor([ 1.5730, -0.6364,  0.8738]), tensor([2.0000e-01, 2.0000e+00, 2.0000e-04]))\n",
            "tensor([ 1.5730, -0.6364,  0.8738], grad_fn=<MulBackward0>)\n"
          ]
        }
      ],
      "source": [
        "# 이건 내 필기용으로 남기자\n",
        "def square(x, y):\n",
        "    return x**2, y**2\n",
        "\n",
        "inputs = (torch.tensor([1.]), torch.tensor([1.]) ) # arguments for the function\n",
        "print(inputs)\n",
        "torch.autograd.functional.jacobian(square, inputs)\n",
        "\n",
        "# 이건 내 필기용으로 남기자 vjp\n",
        "def do_some_doubling(x):\n",
        "    y = x * 2\n",
        "    return y\n",
        "inputs = torch.randn(3)\n",
        "my_gradients = torch.tensor([0.1, 1.0, 0.0001])\n",
        "print(torch.autograd.functional.vjp(do_some_doubling, inputs, v=my_gradients))\n",
        "# vjp와 backward 똑같은 듯?\n",
        "inputs.requires_grad=True\n",
        "c=2*inputs\n",
        "c.backward(my_gradients)\n",
        "print(c) # .vjp 결과와 똑같다!"
      ]
    },
    {
      "cell_type": "code",
      "execution_count": null,
      "metadata": {
        "colab": {
          "base_uri": "https://localhost:8080/"
        },
        "id": "1FwOPsuJJ3Xy",
        "outputId": "3f69e7a0-077a-4d7e-bff2-18fb75b54980"
      },
      "outputs": [
        {
          "name": "stdout",
          "output_type": "stream",
          "text": [
            "tensor([[1.],\n",
            "        [4.],\n",
            "        [9.]], grad_fn=<PowBackward0>)\n",
            "tensor([[2.],\n",
            "        [4.],\n",
            "        [6.]])\n"
          ]
        }
      ],
      "source": [
        "# 이건 내 필기용으로 남기자\n",
        "x=torch.tensor([[1.], [2.], [3.]] ,requires_grad=True)\n",
        "y=x**2\n",
        "print(y)\n",
        "\n",
        "v=torch.ones_like(x)\n",
        "y.backward(v)\n",
        "\n",
        "print(x.grad)"
      ]
    },
    {
      "cell_type": "code",
      "execution_count": null,
      "metadata": {
        "colab": {
          "base_uri": "https://localhost:8080/"
        },
        "id": "lSAWPEPU2ja2",
        "outputId": "a63b2d5e-10e0-4323-dd86-da7a40cd9151"
      },
      "outputs": [
        {
          "name": "stdout",
          "output_type": "stream",
          "text": [
            "tensor([[2.0555, 0.8123],\n",
            "        [1.6440, 2.1179]], grad_fn=<MmBackward0>)\n",
            "tensor([[-0.3979, -2.0855,  1.5287],\n",
            "        [-1.8928,  2.2909, -0.8693]])\n"
          ]
        },
        {
          "data": {
            "text/plain": [
              "tensor([[-0.3979, -2.0855,  1.5287],\n",
              "        [-1.8928,  2.2909, -0.8693]])"
            ]
          },
          "execution_count": 52,
          "metadata": {},
          "output_type": "execute_result"
        }
      ],
      "source": [
        "# 이건 내 필기용으로 남기자\n",
        "X=torch.randn((2,3), requires_grad=True)\n",
        "A=torch.randn((3,2), requires_grad=False)\n",
        "\n",
        "Y=X@A\n",
        "print(Y)\n",
        "V=torch.randn((2,2))\n",
        "\n",
        "Y.backward(V)\n",
        "\n",
        "print(X.grad)\n",
        "\n",
        "V@A.T"
      ]
    },
    {
      "cell_type": "code",
      "execution_count": null,
      "metadata": {
        "colab": {
          "base_uri": "https://localhost:8080/",
          "height": 590
        },
        "id": "L5Bk_1LQ_wO9",
        "outputId": "7b274da2-8bd2-4b8b-8604-109195c2fba4"
      },
      "outputs": [
        {
          "name": "stdout",
          "output_type": "stream",
          "text": [
            "Collecting torchviz\n",
            "  Downloading torchviz-0.0.3-py3-none-any.whl.metadata (2.1 kB)\n",
            "Requirement already satisfied: torch in /usr/local/lib/python3.10/dist-packages (from torchviz) (2.5.1+cu121)\n",
            "Requirement already satisfied: graphviz in /usr/local/lib/python3.10/dist-packages (from torchviz) (0.20.3)\n",
            "Requirement already satisfied: filelock in /usr/local/lib/python3.10/dist-packages (from torch->torchviz) (3.16.1)\n",
            "Requirement already satisfied: typing-extensions>=4.8.0 in /usr/local/lib/python3.10/dist-packages (from torch->torchviz) (4.12.2)\n",
            "Requirement already satisfied: networkx in /usr/local/lib/python3.10/dist-packages (from torch->torchviz) (3.4.2)\n",
            "Requirement already satisfied: jinja2 in /usr/local/lib/python3.10/dist-packages (from torch->torchviz) (3.1.4)\n",
            "Requirement already satisfied: fsspec in /usr/local/lib/python3.10/dist-packages (from torch->torchviz) (2024.10.0)\n",
            "Requirement already satisfied: sympy==1.13.1 in /usr/local/lib/python3.10/dist-packages (from torch->torchviz) (1.13.1)\n",
            "Requirement already satisfied: mpmath<1.4,>=1.1.0 in /usr/local/lib/python3.10/dist-packages (from sympy==1.13.1->torch->torchviz) (1.3.0)\n",
            "Requirement already satisfied: MarkupSafe>=2.0 in /usr/local/lib/python3.10/dist-packages (from jinja2->torch->torchviz) (3.0.2)\n",
            "Downloading torchviz-0.0.3-py3-none-any.whl (5.7 kB)\n",
            "Installing collected packages: torchviz\n",
            "Successfully installed torchviz-0.0.3\n"
          ]
        },
        {
          "data": {
            "image/svg+xml": [
              "<?xml version=\"1.0\" encoding=\"UTF-8\" standalone=\"no\"?>\n",
              "<!DOCTYPE svg PUBLIC \"-//W3C//DTD SVG 1.1//EN\"\n",
              " \"http://www.w3.org/Graphics/SVG/1.1/DTD/svg11.dtd\">\n",
              "<!-- Generated by graphviz version 2.43.0 (0)\n",
              " -->\n",
              "<!-- Title: %3 Pages: 1 -->\n",
              "<svg width=\"109pt\" height=\"216pt\"\n",
              " viewBox=\"0.00 0.00 109.00 216.00\" xmlns=\"http://www.w3.org/2000/svg\" xmlns:xlink=\"http://www.w3.org/1999/xlink\">\n",
              "<g id=\"graph0\" class=\"graph\" transform=\"scale(1 1) rotate(0) translate(4 212)\">\n",
              "<title>%3</title>\n",
              "<polygon fill=\"white\" stroke=\"transparent\" points=\"-4,4 -4,-212 105,-212 105,4 -4,4\"/>\n",
              "<!-- 132540336812848 -->\n",
              "<g id=\"node1\" class=\"node\">\n",
              "<title>132540336812848</title>\n",
              "<polygon fill=\"#caff70\" stroke=\"black\" points=\"77.5,-31 23.5,-31 23.5,0 77.5,0 77.5,-31\"/>\n",
              "<text text-anchor=\"middle\" x=\"50.5\" y=\"-7\" font-family=\"monospace\" font-size=\"10.00\"> (1)</text>\n",
              "</g>\n",
              "<!-- 132536700906144 -->\n",
              "<g id=\"node2\" class=\"node\">\n",
              "<title>132536700906144</title>\n",
              "<polygon fill=\"lightgrey\" stroke=\"black\" points=\"95,-86 6,-86 6,-67 95,-67 95,-86\"/>\n",
              "<text text-anchor=\"middle\" x=\"50.5\" y=\"-74\" font-family=\"monospace\" font-size=\"10.00\">PowBackward0</text>\n",
              "</g>\n",
              "<!-- 132536700906144&#45;&gt;132540336812848 -->\n",
              "<g id=\"edge3\" class=\"edge\">\n",
              "<title>132536700906144&#45;&gt;132540336812848</title>\n",
              "<path fill=\"none\" stroke=\"black\" d=\"M50.5,-66.79C50.5,-60.07 50.5,-50.4 50.5,-41.34\"/>\n",
              "<polygon fill=\"black\" stroke=\"black\" points=\"54,-41.19 50.5,-31.19 47,-41.19 54,-41.19\"/>\n",
              "</g>\n",
              "<!-- 132536700895488 -->\n",
              "<g id=\"node3\" class=\"node\">\n",
              "<title>132536700895488</title>\n",
              "<polygon fill=\"lightgrey\" stroke=\"black\" points=\"101,-141 0,-141 0,-122 101,-122 101,-141\"/>\n",
              "<text text-anchor=\"middle\" x=\"50.5\" y=\"-129\" font-family=\"monospace\" font-size=\"10.00\">AccumulateGrad</text>\n",
              "</g>\n",
              "<!-- 132536700895488&#45;&gt;132536700906144 -->\n",
              "<g id=\"edge1\" class=\"edge\">\n",
              "<title>132536700895488&#45;&gt;132536700906144</title>\n",
              "<path fill=\"none\" stroke=\"black\" d=\"M50.5,-121.75C50.5,-114.8 50.5,-104.85 50.5,-96.13\"/>\n",
              "<polygon fill=\"black\" stroke=\"black\" points=\"54,-96.09 50.5,-86.09 47,-96.09 54,-96.09\"/>\n",
              "</g>\n",
              "<!-- 132536714114000 -->\n",
              "<g id=\"node4\" class=\"node\">\n",
              "<title>132536714114000</title>\n",
              "<polygon fill=\"lightblue\" stroke=\"black\" points=\"77.5,-208 23.5,-208 23.5,-177 77.5,-177 77.5,-208\"/>\n",
              "<text text-anchor=\"middle\" x=\"50.5\" y=\"-184\" font-family=\"monospace\" font-size=\"10.00\"> (1)</text>\n",
              "</g>\n",
              "<!-- 132536714114000&#45;&gt;132536700895488 -->\n",
              "<g id=\"edge2\" class=\"edge\">\n",
              "<title>132536714114000&#45;&gt;132536700895488</title>\n",
              "<path fill=\"none\" stroke=\"black\" d=\"M50.5,-176.92C50.5,-169.22 50.5,-159.69 50.5,-151.43\"/>\n",
              "<polygon fill=\"black\" stroke=\"black\" points=\"54,-151.25 50.5,-141.25 47,-151.25 54,-151.25\"/>\n",
              "</g>\n",
              "</g>\n",
              "</svg>\n"
            ],
            "text/plain": [
              "<graphviz.graphs.Digraph at 0x788a9afa2a70>"
            ]
          },
          "execution_count": 53,
          "metadata": {},
          "output_type": "execute_result"
        }
      ],
      "source": [
        "!pip install torchviz\n",
        "from torchviz import make_dot\n",
        "x=torch.tensor([1.],requires_grad=True)\n",
        "# make_dot(x)\n",
        "make_dot(x**2) # (1) 이라고 써있는 것은 shape 을 나타냄\n",
        "# make_dot(x**2+1)\n",
        "# make_dot((x**2+1)**2)\n",
        "\n",
        "# y=2*x\n",
        "# z=3+x\n",
        "# r=y+z\n",
        "# make_dot(r)"
      ]
    },
    {
      "cell_type": "markdown",
      "metadata": {
        "id": "Ggv5j9GAI3xp"
      },
      "source": [
        "## 간단한 인공신경망 만들기"
      ]
    },
    {
      "cell_type": "code",
      "execution_count": null,
      "metadata": {
        "colab": {
          "base_uri": "https://localhost:8080/",
          "height": 630
        },
        "id": "QVxicLquIvey",
        "outputId": "a15cfad2-0fc3-4957-e721-75a7e0f078d3"
      },
      "outputs": [
        {
          "name": "stdout",
          "output_type": "stream",
          "text": [
            "Linear(in_features=1, out_features=1, bias=True)\n",
            "Parameter containing:\n",
            "tensor([[-0.3998]], requires_grad=True)\n",
            "Parameter containing:\n",
            "tensor([-0.6670], requires_grad=True)\n",
            "tensor([-1.0668], grad_fn=<ViewBackward0>)\n",
            "tensor([-1.0668], grad_fn=<AddBackward0>)\n"
          ]
        },
        {
          "data": {
            "image/svg+xml": [
              "<?xml version=\"1.0\" encoding=\"UTF-8\" standalone=\"no\"?>\n",
              "<!DOCTYPE svg PUBLIC \"-//W3C//DTD SVG 1.1//EN\"\n",
              " \"http://www.w3.org/Graphics/SVG/1.1/DTD/svg11.dtd\">\n",
              "<!-- Generated by graphviz version 2.43.0 (0)\n",
              " -->\n",
              "<!-- Title: %3 Pages: 1 -->\n",
              "<svg width=\"216pt\" height=\"350pt\"\n",
              " viewBox=\"0.00 0.00 216.00 350.00\" xmlns=\"http://www.w3.org/2000/svg\" xmlns:xlink=\"http://www.w3.org/1999/xlink\">\n",
              "<g id=\"graph0\" class=\"graph\" transform=\"scale(1 1) rotate(0) translate(4 346)\">\n",
              "<title>%3</title>\n",
              "<polygon fill=\"white\" stroke=\"transparent\" points=\"-4,4 -4,-346 212,-346 212,4 -4,4\"/>\n",
              "<!-- 132539932878112 -->\n",
              "<g id=\"node1\" class=\"node\">\n",
              "<title>132539932878112</title>\n",
              "<polygon fill=\"#caff70\" stroke=\"black\" points=\"130.5,-31 76.5,-31 76.5,0 130.5,0 130.5,-31\"/>\n",
              "<text text-anchor=\"middle\" x=\"103.5\" y=\"-7\" font-family=\"monospace\" font-size=\"10.00\"> (1)</text>\n",
              "</g>\n",
              "<!-- 132536700896736 -->\n",
              "<g id=\"node2\" class=\"node\">\n",
              "<title>132536700896736</title>\n",
              "<polygon fill=\"lightgrey\" stroke=\"black\" points=\"104,-92 9,-92 9,-73 104,-73 104,-92\"/>\n",
              "<text text-anchor=\"middle\" x=\"56.5\" y=\"-80\" font-family=\"monospace\" font-size=\"10.00\">ViewBackward0</text>\n",
              "</g>\n",
              "<!-- 132536700896736&#45;&gt;132539932878112 -->\n",
              "<g id=\"edge7\" class=\"edge\">\n",
              "<title>132536700896736&#45;&gt;132539932878112</title>\n",
              "<path fill=\"none\" stroke=\"black\" d=\"M62.84,-72.73C68.99,-64.23 78.59,-50.96 86.91,-39.44\"/>\n",
              "<polygon fill=\"black\" stroke=\"black\" points=\"89.93,-41.24 92.95,-31.08 84.26,-37.14 89.93,-41.24\"/>\n",
              "</g>\n",
              "<!-- 132536700906240 -->\n",
              "<g id=\"node3\" class=\"node\">\n",
              "<title>132536700906240</title>\n",
              "<polygon fill=\"lightgrey\" stroke=\"black\" points=\"154,-153 53,-153 53,-134 154,-134 154,-153\"/>\n",
              "<text text-anchor=\"middle\" x=\"103.5\" y=\"-141\" font-family=\"monospace\" font-size=\"10.00\">AddmmBackward0</text>\n",
              "</g>\n",
              "<!-- 132536700906240&#45;&gt;132536700896736 -->\n",
              "<g id=\"edge1\" class=\"edge\">\n",
              "<title>132536700906240&#45;&gt;132536700896736</title>\n",
              "<path fill=\"none\" stroke=\"black\" d=\"M96.56,-133.79C89.55,-124.99 78.54,-111.17 69.83,-100.23\"/>\n",
              "<polygon fill=\"black\" stroke=\"black\" points=\"72.43,-97.88 63.46,-92.24 66.96,-102.24 72.43,-97.88\"/>\n",
              "</g>\n",
              "<!-- 132536700605664 -->\n",
              "<g id=\"node9\" class=\"node\">\n",
              "<title>132536700605664</title>\n",
              "<polygon fill=\"#a2cd5a\" stroke=\"black\" points=\"181,-98 122,-98 122,-67 181,-67 181,-98\"/>\n",
              "<text text-anchor=\"middle\" x=\"151.5\" y=\"-74\" font-family=\"monospace\" font-size=\"10.00\"> (1, 1)</text>\n",
              "</g>\n",
              "<!-- 132536700906240&#45;&gt;132536700605664 -->\n",
              "<g id=\"edge8\" class=\"edge\">\n",
              "<title>132536700906240&#45;&gt;132536700605664</title>\n",
              "<path fill=\"none\" stroke=\"black\" d=\"M110.58,-133.79C116.53,-126.48 125.3,-115.7 133.2,-105.99\"/>\n",
              "<polygon fill=\"black\" stroke=\"black\" points=\"135.95,-108.16 139.55,-98.19 130.52,-103.74 135.95,-108.16\"/>\n",
              "</g>\n",
              "<!-- 132536700898656 -->\n",
              "<g id=\"node4\" class=\"node\">\n",
              "<title>132536700898656</title>\n",
              "<polygon fill=\"lightgrey\" stroke=\"black\" points=\"101,-208 0,-208 0,-189 101,-189 101,-208\"/>\n",
              "<text text-anchor=\"middle\" x=\"50.5\" y=\"-196\" font-family=\"monospace\" font-size=\"10.00\">AccumulateGrad</text>\n",
              "</g>\n",
              "<!-- 132536700898656&#45;&gt;132536700906240 -->\n",
              "<g id=\"edge2\" class=\"edge\">\n",
              "<title>132536700898656&#45;&gt;132536700906240</title>\n",
              "<path fill=\"none\" stroke=\"black\" d=\"M59.25,-188.75C66.97,-181.03 78.4,-169.6 87.72,-160.28\"/>\n",
              "<polygon fill=\"black\" stroke=\"black\" points=\"90.31,-162.64 94.91,-153.09 85.36,-157.69 90.31,-162.64\"/>\n",
              "</g>\n",
              "<!-- 132536696127328 -->\n",
              "<g id=\"node5\" class=\"node\">\n",
              "<title>132536696127328</title>\n",
              "<polygon fill=\"lightblue\" stroke=\"black\" points=\"77.5,-275 23.5,-275 23.5,-244 77.5,-244 77.5,-275\"/>\n",
              "<text text-anchor=\"middle\" x=\"50.5\" y=\"-251\" font-family=\"monospace\" font-size=\"10.00\"> (1)</text>\n",
              "</g>\n",
              "<!-- 132536696127328&#45;&gt;132536700898656 -->\n",
              "<g id=\"edge3\" class=\"edge\">\n",
              "<title>132536696127328&#45;&gt;132536700898656</title>\n",
              "<path fill=\"none\" stroke=\"black\" d=\"M50.5,-243.92C50.5,-236.22 50.5,-226.69 50.5,-218.43\"/>\n",
              "<polygon fill=\"black\" stroke=\"black\" points=\"54,-218.25 50.5,-208.25 47,-218.25 54,-218.25\"/>\n",
              "</g>\n",
              "<!-- 132536700906144 -->\n",
              "<g id=\"node6\" class=\"node\">\n",
              "<title>132536700906144</title>\n",
              "<polygon fill=\"lightgrey\" stroke=\"black\" points=\"196,-208 119,-208 119,-189 196,-189 196,-208\"/>\n",
              "<text text-anchor=\"middle\" x=\"157.5\" y=\"-196\" font-family=\"monospace\" font-size=\"10.00\">TBackward0</text>\n",
              "</g>\n",
              "<!-- 132536700906144&#45;&gt;132536700906240 -->\n",
              "<g id=\"edge4\" class=\"edge\">\n",
              "<title>132536700906144&#45;&gt;132536700906240</title>\n",
              "<path fill=\"none\" stroke=\"black\" d=\"M148.58,-188.75C140.72,-181.03 129.07,-169.6 119.58,-160.28\"/>\n",
              "<polygon fill=\"black\" stroke=\"black\" points=\"121.84,-157.6 112.25,-153.09 116.94,-162.59 121.84,-157.6\"/>\n",
              "</g>\n",
              "<!-- 132536700906480 -->\n",
              "<g id=\"node7\" class=\"node\">\n",
              "<title>132536700906480</title>\n",
              "<polygon fill=\"lightgrey\" stroke=\"black\" points=\"208,-269 107,-269 107,-250 208,-250 208,-269\"/>\n",
              "<text text-anchor=\"middle\" x=\"157.5\" y=\"-257\" font-family=\"monospace\" font-size=\"10.00\">AccumulateGrad</text>\n",
              "</g>\n",
              "<!-- 132536700906480&#45;&gt;132536700906144 -->\n",
              "<g id=\"edge5\" class=\"edge\">\n",
              "<title>132536700906480&#45;&gt;132536700906144</title>\n",
              "<path fill=\"none\" stroke=\"black\" d=\"M157.5,-249.79C157.5,-241.6 157.5,-229.06 157.5,-218.55\"/>\n",
              "<polygon fill=\"black\" stroke=\"black\" points=\"161,-218.24 157.5,-208.24 154,-218.24 161,-218.24\"/>\n",
              "</g>\n",
              "<!-- 132536822674064 -->\n",
              "<g id=\"node8\" class=\"node\">\n",
              "<title>132536822674064</title>\n",
              "<polygon fill=\"lightblue\" stroke=\"black\" points=\"187,-342 128,-342 128,-311 187,-311 187,-342\"/>\n",
              "<text text-anchor=\"middle\" x=\"157.5\" y=\"-318\" font-family=\"monospace\" font-size=\"10.00\"> (1, 1)</text>\n",
              "</g>\n",
              "<!-- 132536822674064&#45;&gt;132536700906480 -->\n",
              "<g id=\"edge6\" class=\"edge\">\n",
              "<title>132536822674064&#45;&gt;132536700906480</title>\n",
              "<path fill=\"none\" stroke=\"black\" d=\"M157.5,-310.75C157.5,-301.39 157.5,-289.19 157.5,-279.16\"/>\n",
              "<polygon fill=\"black\" stroke=\"black\" points=\"161,-279.02 157.5,-269.02 154,-279.02 161,-279.02\"/>\n",
              "</g>\n",
              "<!-- 132536700605664&#45;&gt;132539932878112 -->\n",
              "<g id=\"edge9\" class=\"edge\">\n",
              "<title>132536700605664&#45;&gt;132539932878112</title>\n",
              "<path fill=\"none\" stroke=\"black\" stroke-dasharray=\"1,5\" d=\"M140.61,-66.75C134.66,-58.69 127.15,-48.53 120.45,-39.45\"/>\n",
              "<polygon fill=\"black\" stroke=\"black\" points=\"123.1,-37.16 114.35,-31.19 117.47,-41.31 123.1,-37.16\"/>\n",
              "</g>\n",
              "</g>\n",
              "</svg>\n"
            ],
            "text/plain": [
              "<graphviz.graphs.Digraph at 0x788a9afa2290>"
            ]
          },
          "execution_count": 54,
          "metadata": {},
          "output_type": "execute_result"
        }
      ],
      "source": [
        "from torch import nn\n",
        "\n",
        "x=torch.tensor([1.])\n",
        "model=nn.Linear(1,1) # 입력 node 한 개, 출력 node 한 개인 layer 만듦\n",
        "print(model)\n",
        "\n",
        "print(model.weight) # 만들면서 initialize 함\n",
        "print(model.bias)\n",
        "\n",
        "y=model(x)\n",
        "print(y)\n",
        "\n",
        "y2 = x @ model.weight + model.bias # 식으로 나타내 본다면..\n",
        "print(y2)\n",
        "\n",
        "make_dot(y)"
      ]
    },
    {
      "cell_type": "code",
      "execution_count": null,
      "metadata": {
        "colab": {
          "base_uri": "https://localhost:8080/",
          "height": 986
        },
        "id": "jdzHUc5_dIG6",
        "outputId": "802fb081-16b3-466c-e18f-4908a2b5c2b8"
      },
      "outputs": [
        {
          "name": "stdout",
          "output_type": "stream",
          "text": [
            "Parameter containing:\n",
            "tensor([[-0.0523],\n",
            "        [-0.7019],\n",
            "        [-0.8769]], requires_grad=True)\n",
            "Parameter containing:\n",
            "tensor([ 0.0517, -0.0063, -0.6814], requires_grad=True)\n",
            "Parameter containing:\n",
            "tensor([[-0.3093, -0.3949, -0.5193]], requires_grad=True)\n",
            "Parameter containing:\n",
            "tensor([-0.5176], requires_grad=True)\n",
            "tensor([-5.8746e-04, -7.0825e-01, -1.5583e+00], grad_fn=<ViewBackward0>)\n",
            "tensor([0.5714], grad_fn=<ViewBackward0>)\n",
            "tensor([0.5714], grad_fn=<AddBackward0>)\n"
          ]
        },
        {
          "data": {
            "image/svg+xml": [
              "<?xml version=\"1.0\" encoding=\"UTF-8\" standalone=\"no\"?>\n",
              "<!DOCTYPE svg PUBLIC \"-//W3C//DTD SVG 1.1//EN\"\n",
              " \"http://www.w3.org/Graphics/SVG/1.1/DTD/svg11.dtd\">\n",
              "<!-- Generated by graphviz version 2.43.0 (0)\n",
              " -->\n",
              "<!-- Title: %3 Pages: 1 -->\n",
              "<svg width=\"338pt\" height=\"539pt\"\n",
              " viewBox=\"0.00 0.00 338.00 539.00\" xmlns=\"http://www.w3.org/2000/svg\" xmlns:xlink=\"http://www.w3.org/1999/xlink\">\n",
              "<g id=\"graph0\" class=\"graph\" transform=\"scale(1 1) rotate(0) translate(4 535)\">\n",
              "<title>%3</title>\n",
              "<polygon fill=\"white\" stroke=\"transparent\" points=\"-4,4 -4,-535 334,-535 334,4 -4,4\"/>\n",
              "<!-- 132536696588784 -->\n",
              "<g id=\"node1\" class=\"node\">\n",
              "<title>132536696588784</title>\n",
              "<polygon fill=\"#caff70\" stroke=\"black\" points=\"193.5,-31 139.5,-31 139.5,0 193.5,0 193.5,-31\"/>\n",
              "<text text-anchor=\"middle\" x=\"166.5\" y=\"-7\" font-family=\"monospace\" font-size=\"10.00\"> (1)</text>\n",
              "</g>\n",
              "<!-- 132536700903216 -->\n",
              "<g id=\"node2\" class=\"node\">\n",
              "<title>132536700903216</title>\n",
              "<polygon fill=\"lightgrey\" stroke=\"black\" points=\"167,-92 72,-92 72,-73 167,-73 167,-92\"/>\n",
              "<text text-anchor=\"middle\" x=\"119.5\" y=\"-80\" font-family=\"monospace\" font-size=\"10.00\">ViewBackward0</text>\n",
              "</g>\n",
              "<!-- 132536700903216&#45;&gt;132536696588784 -->\n",
              "<g id=\"edge15\" class=\"edge\">\n",
              "<title>132536700903216&#45;&gt;132536696588784</title>\n",
              "<path fill=\"none\" stroke=\"black\" d=\"M125.84,-72.73C131.99,-64.23 141.59,-50.96 149.91,-39.44\"/>\n",
              "<polygon fill=\"black\" stroke=\"black\" points=\"152.93,-41.24 155.95,-31.08 147.26,-37.14 152.93,-41.24\"/>\n",
              "</g>\n",
              "<!-- 132536700906528 -->\n",
              "<g id=\"node3\" class=\"node\">\n",
              "<title>132536700906528</title>\n",
              "<polygon fill=\"lightgrey\" stroke=\"black\" points=\"217,-153 116,-153 116,-134 217,-134 217,-153\"/>\n",
              "<text text-anchor=\"middle\" x=\"166.5\" y=\"-141\" font-family=\"monospace\" font-size=\"10.00\">AddmmBackward0</text>\n",
              "</g>\n",
              "<!-- 132536700906528&#45;&gt;132536700903216 -->\n",
              "<g id=\"edge1\" class=\"edge\">\n",
              "<title>132536700906528&#45;&gt;132536700903216</title>\n",
              "<path fill=\"none\" stroke=\"black\" d=\"M159.56,-133.79C152.55,-124.99 141.54,-111.17 132.83,-100.23\"/>\n",
              "<polygon fill=\"black\" stroke=\"black\" points=\"135.43,-97.88 126.46,-92.24 129.96,-102.24 135.43,-97.88\"/>\n",
              "</g>\n",
              "<!-- 132539932043168 -->\n",
              "<g id=\"node17\" class=\"node\">\n",
              "<title>132539932043168</title>\n",
              "<polygon fill=\"#a2cd5a\" stroke=\"black\" points=\"244,-98 185,-98 185,-67 244,-67 244,-98\"/>\n",
              "<text text-anchor=\"middle\" x=\"214.5\" y=\"-74\" font-family=\"monospace\" font-size=\"10.00\"> (1, 1)</text>\n",
              "</g>\n",
              "<!-- 132536700906528&#45;&gt;132539932043168 -->\n",
              "<g id=\"edge16\" class=\"edge\">\n",
              "<title>132536700906528&#45;&gt;132539932043168</title>\n",
              "<path fill=\"none\" stroke=\"black\" d=\"M173.58,-133.79C179.53,-126.48 188.3,-115.7 196.2,-105.99\"/>\n",
              "<polygon fill=\"black\" stroke=\"black\" points=\"198.95,-108.16 202.55,-98.19 193.52,-103.74 198.95,-108.16\"/>\n",
              "</g>\n",
              "<!-- 132536700908688 -->\n",
              "<g id=\"node4\" class=\"node\">\n",
              "<title>132536700908688</title>\n",
              "<polygon fill=\"lightgrey\" stroke=\"black\" points=\"101,-208 0,-208 0,-189 101,-189 101,-208\"/>\n",
              "<text text-anchor=\"middle\" x=\"50.5\" y=\"-196\" font-family=\"monospace\" font-size=\"10.00\">AccumulateGrad</text>\n",
              "</g>\n",
              "<!-- 132536700908688&#45;&gt;132536700906528 -->\n",
              "<g id=\"edge2\" class=\"edge\">\n",
              "<title>132536700908688&#45;&gt;132536700906528</title>\n",
              "<path fill=\"none\" stroke=\"black\" d=\"M69.14,-188.98C87.8,-180.46 116.75,-167.23 138.24,-157.41\"/>\n",
              "<polygon fill=\"black\" stroke=\"black\" points=\"139.88,-160.51 147.52,-153.17 136.97,-154.14 139.88,-160.51\"/>\n",
              "</g>\n",
              "<!-- 132536696588704 -->\n",
              "<g id=\"node5\" class=\"node\">\n",
              "<title>132536696588704</title>\n",
              "<polygon fill=\"lightblue\" stroke=\"black\" points=\"77.5,-275 23.5,-275 23.5,-244 77.5,-244 77.5,-275\"/>\n",
              "<text text-anchor=\"middle\" x=\"50.5\" y=\"-251\" font-family=\"monospace\" font-size=\"10.00\"> (1)</text>\n",
              "</g>\n",
              "<!-- 132536696588704&#45;&gt;132536700908688 -->\n",
              "<g id=\"edge3\" class=\"edge\">\n",
              "<title>132536696588704&#45;&gt;132536700908688</title>\n",
              "<path fill=\"none\" stroke=\"black\" d=\"M50.5,-243.92C50.5,-236.22 50.5,-226.69 50.5,-218.43\"/>\n",
              "<polygon fill=\"black\" stroke=\"black\" points=\"54,-218.25 50.5,-208.25 47,-218.25 54,-218.25\"/>\n",
              "</g>\n",
              "<!-- 132536700906576 -->\n",
              "<g id=\"node6\" class=\"node\">\n",
              "<title>132536700906576</title>\n",
              "<polygon fill=\"lightgrey\" stroke=\"black\" points=\"214,-208 119,-208 119,-189 214,-189 214,-208\"/>\n",
              "<text text-anchor=\"middle\" x=\"166.5\" y=\"-196\" font-family=\"monospace\" font-size=\"10.00\">ViewBackward0</text>\n",
              "</g>\n",
              "<!-- 132536700906576&#45;&gt;132536700906528 -->\n",
              "<g id=\"edge4\" class=\"edge\">\n",
              "<title>132536700906576&#45;&gt;132536700906528</title>\n",
              "<path fill=\"none\" stroke=\"black\" d=\"M166.5,-188.75C166.5,-181.8 166.5,-171.85 166.5,-163.13\"/>\n",
              "<polygon fill=\"black\" stroke=\"black\" points=\"170,-163.09 166.5,-153.09 163,-163.09 170,-163.09\"/>\n",
              "</g>\n",
              "<!-- 132536700897744 -->\n",
              "<g id=\"node7\" class=\"node\">\n",
              "<title>132536700897744</title>\n",
              "<polygon fill=\"lightgrey\" stroke=\"black\" points=\"211,-269 116,-269 116,-250 211,-250 211,-269\"/>\n",
              "<text text-anchor=\"middle\" x=\"163.5\" y=\"-257\" font-family=\"monospace\" font-size=\"10.00\">ViewBackward0</text>\n",
              "</g>\n",
              "<!-- 132536700897744&#45;&gt;132536700906576 -->\n",
              "<g id=\"edge5\" class=\"edge\">\n",
              "<title>132536700897744&#45;&gt;132536700906576</title>\n",
              "<path fill=\"none\" stroke=\"black\" d=\"M163.94,-249.79C164.36,-241.6 165,-229.06 165.53,-218.55\"/>\n",
              "<polygon fill=\"black\" stroke=\"black\" points=\"169.04,-218.41 166.06,-208.24 162.05,-218.05 169.04,-218.41\"/>\n",
              "</g>\n",
              "<!-- 132536700906816 -->\n",
              "<g id=\"node8\" class=\"node\">\n",
              "<title>132536700906816</title>\n",
              "<polygon fill=\"lightgrey\" stroke=\"black\" points=\"214,-336 113,-336 113,-317 214,-317 214,-336\"/>\n",
              "<text text-anchor=\"middle\" x=\"163.5\" y=\"-324\" font-family=\"monospace\" font-size=\"10.00\">AddmmBackward0</text>\n",
              "</g>\n",
              "<!-- 132536700906816&#45;&gt;132536700897744 -->\n",
              "<g id=\"edge6\" class=\"edge\">\n",
              "<title>132536700906816&#45;&gt;132536700897744</title>\n",
              "<path fill=\"none\" stroke=\"black\" d=\"M163.5,-316.73C163.5,-307.18 163.5,-291.62 163.5,-279.28\"/>\n",
              "<polygon fill=\"black\" stroke=\"black\" points=\"167,-279.13 163.5,-269.13 160,-279.13 167,-279.13\"/>\n",
              "</g>\n",
              "<!-- 132536700906912 -->\n",
              "<g id=\"node9\" class=\"node\">\n",
              "<title>132536700906912</title>\n",
              "<polygon fill=\"lightgrey\" stroke=\"black\" points=\"161,-397 60,-397 60,-378 161,-378 161,-397\"/>\n",
              "<text text-anchor=\"middle\" x=\"110.5\" y=\"-385\" font-family=\"monospace\" font-size=\"10.00\">AccumulateGrad</text>\n",
              "</g>\n",
              "<!-- 132536700906912&#45;&gt;132536700906816 -->\n",
              "<g id=\"edge7\" class=\"edge\">\n",
              "<title>132536700906912&#45;&gt;132536700906816</title>\n",
              "<path fill=\"none\" stroke=\"black\" d=\"M118.32,-377.79C126.31,-368.91 138.89,-354.89 148.76,-343.91\"/>\n",
              "<polygon fill=\"black\" stroke=\"black\" points=\"151.57,-346.02 155.65,-336.24 146.36,-341.34 151.57,-346.02\"/>\n",
              "</g>\n",
              "<!-- 132536696588624 -->\n",
              "<g id=\"node10\" class=\"node\">\n",
              "<title>132536696588624</title>\n",
              "<polygon fill=\"lightblue\" stroke=\"black\" points=\"137.5,-464 83.5,-464 83.5,-433 137.5,-433 137.5,-464\"/>\n",
              "<text text-anchor=\"middle\" x=\"110.5\" y=\"-440\" font-family=\"monospace\" font-size=\"10.00\"> (3)</text>\n",
              "</g>\n",
              "<!-- 132536696588624&#45;&gt;132536700906912 -->\n",
              "<g id=\"edge8\" class=\"edge\">\n",
              "<title>132536696588624&#45;&gt;132536700906912</title>\n",
              "<path fill=\"none\" stroke=\"black\" d=\"M110.5,-432.92C110.5,-425.22 110.5,-415.69 110.5,-407.43\"/>\n",
              "<polygon fill=\"black\" stroke=\"black\" points=\"114,-407.25 110.5,-397.25 107,-407.25 114,-407.25\"/>\n",
              "</g>\n",
              "<!-- 132536700906768 -->\n",
              "<g id=\"node11\" class=\"node\">\n",
              "<title>132536700906768</title>\n",
              "<polygon fill=\"lightgrey\" stroke=\"black\" points=\"256,-397 179,-397 179,-378 256,-378 256,-397\"/>\n",
              "<text text-anchor=\"middle\" x=\"217.5\" y=\"-385\" font-family=\"monospace\" font-size=\"10.00\">TBackward0</text>\n",
              "</g>\n",
              "<!-- 132536700906768&#45;&gt;132536700906816 -->\n",
              "<g id=\"edge9\" class=\"edge\">\n",
              "<title>132536700906768&#45;&gt;132536700906816</title>\n",
              "<path fill=\"none\" stroke=\"black\" d=\"M209.53,-377.79C201.4,-368.91 188.57,-354.89 178.52,-343.91\"/>\n",
              "<polygon fill=\"black\" stroke=\"black\" points=\"180.83,-341.26 171.5,-336.24 175.67,-345.98 180.83,-341.26\"/>\n",
              "</g>\n",
              "<!-- 132536700906960 -->\n",
              "<g id=\"node12\" class=\"node\">\n",
              "<title>132536700906960</title>\n",
              "<polygon fill=\"lightgrey\" stroke=\"black\" points=\"268,-458 167,-458 167,-439 268,-439 268,-458\"/>\n",
              "<text text-anchor=\"middle\" x=\"217.5\" y=\"-446\" font-family=\"monospace\" font-size=\"10.00\">AccumulateGrad</text>\n",
              "</g>\n",
              "<!-- 132536700906960&#45;&gt;132536700906768 -->\n",
              "<g id=\"edge10\" class=\"edge\">\n",
              "<title>132536700906960&#45;&gt;132536700906768</title>\n",
              "<path fill=\"none\" stroke=\"black\" d=\"M217.5,-438.79C217.5,-430.6 217.5,-418.06 217.5,-407.55\"/>\n",
              "<polygon fill=\"black\" stroke=\"black\" points=\"221,-407.24 217.5,-397.24 214,-407.24 221,-407.24\"/>\n",
              "</g>\n",
              "<!-- 132536696588544 -->\n",
              "<g id=\"node13\" class=\"node\">\n",
              "<title>132536696588544</title>\n",
              "<polygon fill=\"lightblue\" stroke=\"black\" points=\"247,-531 188,-531 188,-500 247,-500 247,-531\"/>\n",
              "<text text-anchor=\"middle\" x=\"217.5\" y=\"-507\" font-family=\"monospace\" font-size=\"10.00\"> (3, 1)</text>\n",
              "</g>\n",
              "<!-- 132536696588544&#45;&gt;132536700906960 -->\n",
              "<g id=\"edge11\" class=\"edge\">\n",
              "<title>132536696588544&#45;&gt;132536700906960</title>\n",
              "<path fill=\"none\" stroke=\"black\" d=\"M217.5,-499.75C217.5,-490.39 217.5,-478.19 217.5,-468.16\"/>\n",
              "<polygon fill=\"black\" stroke=\"black\" points=\"221,-468.02 217.5,-458.02 214,-468.02 221,-468.02\"/>\n",
              "</g>\n",
              "<!-- 132536700903744 -->\n",
              "<g id=\"node14\" class=\"node\">\n",
              "<title>132536700903744</title>\n",
              "<polygon fill=\"lightgrey\" stroke=\"black\" points=\"315,-208 238,-208 238,-189 315,-189 315,-208\"/>\n",
              "<text text-anchor=\"middle\" x=\"276.5\" y=\"-196\" font-family=\"monospace\" font-size=\"10.00\">TBackward0</text>\n",
              "</g>\n",
              "<!-- 132536700903744&#45;&gt;132536700906528 -->\n",
              "<g id=\"edge12\" class=\"edge\">\n",
              "<title>132536700903744&#45;&gt;132536700906528</title>\n",
              "<path fill=\"none\" stroke=\"black\" d=\"M258.83,-188.98C241.21,-180.5 213.92,-167.35 193.57,-157.54\"/>\n",
              "<polygon fill=\"black\" stroke=\"black\" points=\"195.02,-154.36 184.49,-153.17 191.98,-160.66 195.02,-154.36\"/>\n",
              "</g>\n",
              "<!-- 132536700906624 -->\n",
              "<g id=\"node15\" class=\"node\">\n",
              "<title>132536700906624</title>\n",
              "<polygon fill=\"lightgrey\" stroke=\"black\" points=\"330,-269 229,-269 229,-250 330,-250 330,-269\"/>\n",
              "<text text-anchor=\"middle\" x=\"279.5\" y=\"-257\" font-family=\"monospace\" font-size=\"10.00\">AccumulateGrad</text>\n",
              "</g>\n",
              "<!-- 132536700906624&#45;&gt;132536700903744 -->\n",
              "<g id=\"edge13\" class=\"edge\">\n",
              "<title>132536700906624&#45;&gt;132536700903744</title>\n",
              "<path fill=\"none\" stroke=\"black\" d=\"M279.06,-249.79C278.64,-241.6 278,-229.06 277.47,-218.55\"/>\n",
              "<polygon fill=\"black\" stroke=\"black\" points=\"280.95,-218.05 276.94,-208.24 273.96,-218.41 280.95,-218.05\"/>\n",
              "</g>\n",
              "<!-- 132536696588384 -->\n",
              "<g id=\"node16\" class=\"node\">\n",
              "<title>132536696588384</title>\n",
              "<polygon fill=\"lightblue\" stroke=\"black\" points=\"309,-342 250,-342 250,-311 309,-311 309,-342\"/>\n",
              "<text text-anchor=\"middle\" x=\"279.5\" y=\"-318\" font-family=\"monospace\" font-size=\"10.00\"> (1, 3)</text>\n",
              "</g>\n",
              "<!-- 132536696588384&#45;&gt;132536700906624 -->\n",
              "<g id=\"edge14\" class=\"edge\">\n",
              "<title>132536696588384&#45;&gt;132536700906624</title>\n",
              "<path fill=\"none\" stroke=\"black\" d=\"M279.5,-310.75C279.5,-301.39 279.5,-289.19 279.5,-279.16\"/>\n",
              "<polygon fill=\"black\" stroke=\"black\" points=\"283,-279.02 279.5,-269.02 276,-279.02 283,-279.02\"/>\n",
              "</g>\n",
              "<!-- 132539932043168&#45;&gt;132536696588784 -->\n",
              "<g id=\"edge17\" class=\"edge\">\n",
              "<title>132539932043168&#45;&gt;132536696588784</title>\n",
              "<path fill=\"none\" stroke=\"black\" stroke-dasharray=\"1,5\" d=\"M203.61,-66.75C197.66,-58.69 190.15,-48.53 183.45,-39.45\"/>\n",
              "<polygon fill=\"black\" stroke=\"black\" points=\"186.1,-37.16 177.35,-31.19 180.47,-41.31 186.1,-37.16\"/>\n",
              "</g>\n",
              "</g>\n",
              "</svg>\n"
            ],
            "text/plain": [
              "<graphviz.graphs.Digraph at 0x788a9afa0dc0>"
            ]
          },
          "execution_count": 55,
          "metadata": {},
          "output_type": "execute_result"
        }
      ],
      "source": [
        "fc1=nn.Linear(1,3) # fully-connected\n",
        "fc2=nn.Linear(3,1)\n",
        "\n",
        "print(fc1.weight)\n",
        "print(fc1.bias)\n",
        "print(fc2.weight)\n",
        "print(fc2.bias)\n",
        "\n",
        "x=torch.tensor([1.])\n",
        "x=fc1(x)\n",
        "print(x)\n",
        "y=fc2(x)\n",
        "print(y)\n",
        "\n",
        "x = torch.tensor([1.])\n",
        "y2 = (x@fc1.weight.T + fc1.bias) @ fc2.weight.T + fc2.bias\n",
        "print(y2)\n",
        "\n",
        "# input size: 1\n",
        "# fc1.weight.T size: 1x3\n",
        "# fc1.bias size: 3\n",
        "# fc2.weight.T size: 3x1\n",
        "# fc2.bias size: 1\n",
        "\n",
        "make_dot(y)"
      ]
    },
    {
      "cell_type": "code",
      "execution_count": null,
      "metadata": {
        "colab": {
          "base_uri": "https://localhost:8080/",
          "height": 543
        },
        "id": "hVLox8B0uhya",
        "outputId": "fcbada58-4e0a-4e06-ba74-554679185ee9"
      },
      "outputs": [
        {
          "name": "stdout",
          "output_type": "stream",
          "text": [
            "tensor([0.9913, 0.4277])\n",
            "tensor([0.9834, 0.1354, 0.1677], grad_fn=<ViewBackward0>)\n"
          ]
        },
        {
          "data": {
            "image/svg+xml": [
              "<?xml version=\"1.0\" encoding=\"UTF-8\" standalone=\"no\"?>\n",
              "<!DOCTYPE svg PUBLIC \"-//W3C//DTD SVG 1.1//EN\"\n",
              " \"http://www.w3.org/Graphics/SVG/1.1/DTD/svg11.dtd\">\n",
              "<!-- Generated by graphviz version 2.43.0 (0)\n",
              " -->\n",
              "<!-- Title: %3 Pages: 1 -->\n",
              "<svg width=\"216pt\" height=\"350pt\"\n",
              " viewBox=\"0.00 0.00 216.00 350.00\" xmlns=\"http://www.w3.org/2000/svg\" xmlns:xlink=\"http://www.w3.org/1999/xlink\">\n",
              "<g id=\"graph0\" class=\"graph\" transform=\"scale(1 1) rotate(0) translate(4 346)\">\n",
              "<title>%3</title>\n",
              "<polygon fill=\"white\" stroke=\"transparent\" points=\"-4,4 -4,-346 212,-346 212,4 -4,4\"/>\n",
              "<!-- 132536696287728 -->\n",
              "<g id=\"node1\" class=\"node\">\n",
              "<title>132536696287728</title>\n",
              "<polygon fill=\"#caff70\" stroke=\"black\" points=\"130.5,-31 76.5,-31 76.5,0 130.5,0 130.5,-31\"/>\n",
              "<text text-anchor=\"middle\" x=\"103.5\" y=\"-7\" font-family=\"monospace\" font-size=\"10.00\"> (3)</text>\n",
              "</g>\n",
              "<!-- 132536700899760 -->\n",
              "<g id=\"node2\" class=\"node\">\n",
              "<title>132536700899760</title>\n",
              "<polygon fill=\"lightgrey\" stroke=\"black\" points=\"104,-92 9,-92 9,-73 104,-73 104,-92\"/>\n",
              "<text text-anchor=\"middle\" x=\"56.5\" y=\"-80\" font-family=\"monospace\" font-size=\"10.00\">ViewBackward0</text>\n",
              "</g>\n",
              "<!-- 132536700899760&#45;&gt;132536696287728 -->\n",
              "<g id=\"edge7\" class=\"edge\">\n",
              "<title>132536700899760&#45;&gt;132536696287728</title>\n",
              "<path fill=\"none\" stroke=\"black\" d=\"M62.84,-72.73C68.99,-64.23 78.59,-50.96 86.91,-39.44\"/>\n",
              "<polygon fill=\"black\" stroke=\"black\" points=\"89.93,-41.24 92.95,-31.08 84.26,-37.14 89.93,-41.24\"/>\n",
              "</g>\n",
              "<!-- 132536700895920 -->\n",
              "<g id=\"node3\" class=\"node\">\n",
              "<title>132536700895920</title>\n",
              "<polygon fill=\"lightgrey\" stroke=\"black\" points=\"154,-153 53,-153 53,-134 154,-134 154,-153\"/>\n",
              "<text text-anchor=\"middle\" x=\"103.5\" y=\"-141\" font-family=\"monospace\" font-size=\"10.00\">AddmmBackward0</text>\n",
              "</g>\n",
              "<!-- 132536700895920&#45;&gt;132536700899760 -->\n",
              "<g id=\"edge1\" class=\"edge\">\n",
              "<title>132536700895920&#45;&gt;132536700899760</title>\n",
              "<path fill=\"none\" stroke=\"black\" d=\"M96.56,-133.79C89.55,-124.99 78.54,-111.17 69.83,-100.23\"/>\n",
              "<polygon fill=\"black\" stroke=\"black\" points=\"72.43,-97.88 63.46,-92.24 66.96,-102.24 72.43,-97.88\"/>\n",
              "</g>\n",
              "<!-- 132536698018752 -->\n",
              "<g id=\"node9\" class=\"node\">\n",
              "<title>132536698018752</title>\n",
              "<polygon fill=\"#a2cd5a\" stroke=\"black\" points=\"181,-98 122,-98 122,-67 181,-67 181,-98\"/>\n",
              "<text text-anchor=\"middle\" x=\"151.5\" y=\"-74\" font-family=\"monospace\" font-size=\"10.00\"> (1, 3)</text>\n",
              "</g>\n",
              "<!-- 132536700895920&#45;&gt;132536698018752 -->\n",
              "<g id=\"edge8\" class=\"edge\">\n",
              "<title>132536700895920&#45;&gt;132536698018752</title>\n",
              "<path fill=\"none\" stroke=\"black\" d=\"M110.58,-133.79C116.53,-126.48 125.3,-115.7 133.2,-105.99\"/>\n",
              "<polygon fill=\"black\" stroke=\"black\" points=\"135.95,-108.16 139.55,-98.19 130.52,-103.74 135.95,-108.16\"/>\n",
              "</g>\n",
              "<!-- 132536700904032 -->\n",
              "<g id=\"node4\" class=\"node\">\n",
              "<title>132536700904032</title>\n",
              "<polygon fill=\"lightgrey\" stroke=\"black\" points=\"101,-208 0,-208 0,-189 101,-189 101,-208\"/>\n",
              "<text text-anchor=\"middle\" x=\"50.5\" y=\"-196\" font-family=\"monospace\" font-size=\"10.00\">AccumulateGrad</text>\n",
              "</g>\n",
              "<!-- 132536700904032&#45;&gt;132536700895920 -->\n",
              "<g id=\"edge2\" class=\"edge\">\n",
              "<title>132536700904032&#45;&gt;132536700895920</title>\n",
              "<path fill=\"none\" stroke=\"black\" d=\"M59.25,-188.75C66.97,-181.03 78.4,-169.6 87.72,-160.28\"/>\n",
              "<polygon fill=\"black\" stroke=\"black\" points=\"90.31,-162.64 94.91,-153.09 85.36,-157.69 90.31,-162.64\"/>\n",
              "</g>\n",
              "<!-- 132536696287568 -->\n",
              "<g id=\"node5\" class=\"node\">\n",
              "<title>132536696287568</title>\n",
              "<polygon fill=\"lightblue\" stroke=\"black\" points=\"77.5,-275 23.5,-275 23.5,-244 77.5,-244 77.5,-275\"/>\n",
              "<text text-anchor=\"middle\" x=\"50.5\" y=\"-251\" font-family=\"monospace\" font-size=\"10.00\"> (3)</text>\n",
              "</g>\n",
              "<!-- 132536696287568&#45;&gt;132536700904032 -->\n",
              "<g id=\"edge3\" class=\"edge\">\n",
              "<title>132536696287568&#45;&gt;132536700904032</title>\n",
              "<path fill=\"none\" stroke=\"black\" d=\"M50.5,-243.92C50.5,-236.22 50.5,-226.69 50.5,-218.43\"/>\n",
              "<polygon fill=\"black\" stroke=\"black\" points=\"54,-218.25 50.5,-208.25 47,-218.25 54,-218.25\"/>\n",
              "</g>\n",
              "<!-- 132536700908304 -->\n",
              "<g id=\"node6\" class=\"node\">\n",
              "<title>132536700908304</title>\n",
              "<polygon fill=\"lightgrey\" stroke=\"black\" points=\"196,-208 119,-208 119,-189 196,-189 196,-208\"/>\n",
              "<text text-anchor=\"middle\" x=\"157.5\" y=\"-196\" font-family=\"monospace\" font-size=\"10.00\">TBackward0</text>\n",
              "</g>\n",
              "<!-- 132536700908304&#45;&gt;132536700895920 -->\n",
              "<g id=\"edge4\" class=\"edge\">\n",
              "<title>132536700908304&#45;&gt;132536700895920</title>\n",
              "<path fill=\"none\" stroke=\"black\" d=\"M148.58,-188.75C140.72,-181.03 129.07,-169.6 119.58,-160.28\"/>\n",
              "<polygon fill=\"black\" stroke=\"black\" points=\"121.84,-157.6 112.25,-153.09 116.94,-162.59 121.84,-157.6\"/>\n",
              "</g>\n",
              "<!-- 132536700907968 -->\n",
              "<g id=\"node7\" class=\"node\">\n",
              "<title>132536700907968</title>\n",
              "<polygon fill=\"lightgrey\" stroke=\"black\" points=\"208,-269 107,-269 107,-250 208,-250 208,-269\"/>\n",
              "<text text-anchor=\"middle\" x=\"157.5\" y=\"-257\" font-family=\"monospace\" font-size=\"10.00\">AccumulateGrad</text>\n",
              "</g>\n",
              "<!-- 132536700907968&#45;&gt;132536700908304 -->\n",
              "<g id=\"edge5\" class=\"edge\">\n",
              "<title>132536700907968&#45;&gt;132536700908304</title>\n",
              "<path fill=\"none\" stroke=\"black\" d=\"M157.5,-249.79C157.5,-241.6 157.5,-229.06 157.5,-218.55\"/>\n",
              "<polygon fill=\"black\" stroke=\"black\" points=\"161,-218.24 157.5,-208.24 154,-218.24 161,-218.24\"/>\n",
              "</g>\n",
              "<!-- 132536696287488 -->\n",
              "<g id=\"node8\" class=\"node\">\n",
              "<title>132536696287488</title>\n",
              "<polygon fill=\"lightblue\" stroke=\"black\" points=\"187,-342 128,-342 128,-311 187,-311 187,-342\"/>\n",
              "<text text-anchor=\"middle\" x=\"157.5\" y=\"-318\" font-family=\"monospace\" font-size=\"10.00\"> (3, 2)</text>\n",
              "</g>\n",
              "<!-- 132536696287488&#45;&gt;132536700907968 -->\n",
              "<g id=\"edge6\" class=\"edge\">\n",
              "<title>132536696287488&#45;&gt;132536700907968</title>\n",
              "<path fill=\"none\" stroke=\"black\" d=\"M157.5,-310.75C157.5,-301.39 157.5,-289.19 157.5,-279.16\"/>\n",
              "<polygon fill=\"black\" stroke=\"black\" points=\"161,-279.02 157.5,-269.02 154,-279.02 161,-279.02\"/>\n",
              "</g>\n",
              "<!-- 132536698018752&#45;&gt;132536696287728 -->\n",
              "<g id=\"edge9\" class=\"edge\">\n",
              "<title>132536698018752&#45;&gt;132536696287728</title>\n",
              "<path fill=\"none\" stroke=\"black\" stroke-dasharray=\"1,5\" d=\"M140.61,-66.75C134.66,-58.69 127.15,-48.53 120.45,-39.45\"/>\n",
              "<polygon fill=\"black\" stroke=\"black\" points=\"123.1,-37.16 114.35,-31.19 117.47,-41.31 123.1,-37.16\"/>\n",
              "</g>\n",
              "</g>\n",
              "</svg>\n"
            ],
            "text/plain": [
              "<graphviz.graphs.Digraph at 0x788a9afa2e60>"
            ]
          },
          "execution_count": 56,
          "metadata": {},
          "output_type": "execute_result"
        }
      ],
      "source": [
        "model = nn.Linear(2,3)\n",
        "x = torch.randn(2)\n",
        "print(x)\n",
        "print(model(x))\n",
        "# nn.Linear는 데이터의 shape의 마지막 차원이 '채'로(1D data) 들어오길 기대하는 녀석이다\n",
        "# (입력 노드 하나가 곧 하나의 채널(피쳐) 값을 의미)\n",
        "# ('채널'은 'TV 채널'의 '채널' 같이 특정 유형의 정보를 전달하는 통로. 즉, 피쳐(특징)와 의미적으로 거의 비슷함)\n",
        "make_dot(model(x))"
      ]
    },
    {
      "cell_type": "code",
      "execution_count": null,
      "metadata": {
        "colab": {
          "base_uri": "https://localhost:8080/",
          "height": 716
        },
        "id": "7JjrLw9SH-ch",
        "outputId": "c09a5fe7-c746-4b5f-9df4-8f6b8c00b509"
      },
      "outputs": [
        {
          "name": "stdout",
          "output_type": "stream",
          "text": [
            "tensor([[ 0.4826, -1.6537],\n",
            "        [-1.4554,  1.2706],\n",
            "        [-0.2268, -0.0421],\n",
            "        [ 0.3414, -0.6483],\n",
            "        [ 1.5130,  0.8158]])\n",
            "tensor([[ 0.0095,  0.8416, -1.0888],\n",
            "        [ 1.1586, -0.5660,  0.2166],\n",
            "        [ 0.6088,  0.1762, -0.2534],\n",
            "        [ 0.3548,  0.5192, -0.4702],\n",
            "        [ 0.7274,  0.4735,  0.8760]], grad_fn=<AddmmBackward0>)\n",
            "torch.Size([4, 5, 3])\n",
            "torch.Size([2, 3, 6, 4, 5, 3])\n"
          ]
        },
        {
          "data": {
            "image/svg+xml": [
              "<?xml version=\"1.0\" encoding=\"UTF-8\" standalone=\"no\"?>\n",
              "<!DOCTYPE svg PUBLIC \"-//W3C//DTD SVG 1.1//EN\"\n",
              " \"http://www.w3.org/Graphics/SVG/1.1/DTD/svg11.dtd\">\n",
              "<!-- Generated by graphviz version 2.43.0 (0)\n",
              " -->\n",
              "<!-- Title: %3 Pages: 1 -->\n",
              "<svg width=\"216pt\" height=\"350pt\"\n",
              " viewBox=\"0.00 0.00 216.00 350.00\" xmlns=\"http://www.w3.org/2000/svg\" xmlns:xlink=\"http://www.w3.org/1999/xlink\">\n",
              "<g id=\"graph0\" class=\"graph\" transform=\"scale(1 1) rotate(0) translate(4 346)\">\n",
              "<title>%3</title>\n",
              "<polygon fill=\"white\" stroke=\"transparent\" points=\"-4,4 -4,-346 212,-346 212,4 -4,4\"/>\n",
              "<!-- 132536696591024 -->\n",
              "<g id=\"node1\" class=\"node\">\n",
              "<title>132536696591024</title>\n",
              "<polygon fill=\"#caff70\" stroke=\"black\" points=\"169,-31 38,-31 38,0 169,0 169,-31\"/>\n",
              "<text text-anchor=\"middle\" x=\"103.5\" y=\"-7\" font-family=\"monospace\" font-size=\"10.00\"> (2, 3, 6, 4, 5, 3)</text>\n",
              "</g>\n",
              "<!-- 132536700899184 -->\n",
              "<g id=\"node2\" class=\"node\">\n",
              "<title>132536700899184</title>\n",
              "<polygon fill=\"lightgrey\" stroke=\"black\" points=\"101,-92 6,-92 6,-73 101,-73 101,-92\"/>\n",
              "<text text-anchor=\"middle\" x=\"53.5\" y=\"-80\" font-family=\"monospace\" font-size=\"10.00\">ViewBackward0</text>\n",
              "</g>\n",
              "<!-- 132536700899184&#45;&gt;132536696591024 -->\n",
              "<g id=\"edge7\" class=\"edge\">\n",
              "<title>132536700899184&#45;&gt;132536696591024</title>\n",
              "<path fill=\"none\" stroke=\"black\" d=\"M60.24,-72.73C66.85,-64.15 77.2,-50.69 86.11,-39.1\"/>\n",
              "<polygon fill=\"black\" stroke=\"black\" points=\"88.96,-41.14 92.28,-31.08 83.41,-36.88 88.96,-41.14\"/>\n",
              "</g>\n",
              "<!-- 132536700899664 -->\n",
              "<g id=\"node3\" class=\"node\">\n",
              "<title>132536700899664</title>\n",
              "<polygon fill=\"lightgrey\" stroke=\"black\" points=\"154,-153 53,-153 53,-134 154,-134 154,-153\"/>\n",
              "<text text-anchor=\"middle\" x=\"103.5\" y=\"-141\" font-family=\"monospace\" font-size=\"10.00\">AddmmBackward0</text>\n",
              "</g>\n",
              "<!-- 132536700899664&#45;&gt;132536700899184 -->\n",
              "<g id=\"edge1\" class=\"edge\">\n",
              "<title>132536700899664&#45;&gt;132536700899184</title>\n",
              "<path fill=\"none\" stroke=\"black\" d=\"M96.12,-133.79C88.59,-124.91 76.71,-110.89 67.41,-99.91\"/>\n",
              "<polygon fill=\"black\" stroke=\"black\" points=\"70.04,-97.61 60.91,-92.24 64.7,-102.13 70.04,-97.61\"/>\n",
              "</g>\n",
              "<!-- 132536696591344 -->\n",
              "<g id=\"node9\" class=\"node\">\n",
              "<title>132536696591344</title>\n",
              "<polygon fill=\"#a2cd5a\" stroke=\"black\" points=\"190,-98 119,-98 119,-67 190,-67 190,-98\"/>\n",
              "<text text-anchor=\"middle\" x=\"154.5\" y=\"-74\" font-family=\"monospace\" font-size=\"10.00\"> (720, 3)</text>\n",
              "</g>\n",
              "<!-- 132536700899664&#45;&gt;132536696591344 -->\n",
              "<g id=\"edge8\" class=\"edge\">\n",
              "<title>132536700899664&#45;&gt;132536696591344</title>\n",
              "<path fill=\"none\" stroke=\"black\" d=\"M111.03,-133.79C117.35,-126.48 126.67,-115.7 135.06,-105.99\"/>\n",
              "<polygon fill=\"black\" stroke=\"black\" points=\"137.91,-108.05 141.8,-98.19 132.61,-103.47 137.91,-108.05\"/>\n",
              "</g>\n",
              "<!-- 132536700907344 -->\n",
              "<g id=\"node4\" class=\"node\">\n",
              "<title>132536700907344</title>\n",
              "<polygon fill=\"lightgrey\" stroke=\"black\" points=\"101,-208 0,-208 0,-189 101,-189 101,-208\"/>\n",
              "<text text-anchor=\"middle\" x=\"50.5\" y=\"-196\" font-family=\"monospace\" font-size=\"10.00\">AccumulateGrad</text>\n",
              "</g>\n",
              "<!-- 132536700907344&#45;&gt;132536700899664 -->\n",
              "<g id=\"edge2\" class=\"edge\">\n",
              "<title>132536700907344&#45;&gt;132536700899664</title>\n",
              "<path fill=\"none\" stroke=\"black\" d=\"M59.25,-188.75C66.97,-181.03 78.4,-169.6 87.72,-160.28\"/>\n",
              "<polygon fill=\"black\" stroke=\"black\" points=\"90.31,-162.64 94.91,-153.09 85.36,-157.69 90.31,-162.64\"/>\n",
              "</g>\n",
              "<!-- 132536697651744 -->\n",
              "<g id=\"node5\" class=\"node\">\n",
              "<title>132536697651744</title>\n",
              "<polygon fill=\"lightblue\" stroke=\"black\" points=\"77.5,-275 23.5,-275 23.5,-244 77.5,-244 77.5,-275\"/>\n",
              "<text text-anchor=\"middle\" x=\"50.5\" y=\"-251\" font-family=\"monospace\" font-size=\"10.00\"> (3)</text>\n",
              "</g>\n",
              "<!-- 132536697651744&#45;&gt;132536700907344 -->\n",
              "<g id=\"edge3\" class=\"edge\">\n",
              "<title>132536697651744&#45;&gt;132536700907344</title>\n",
              "<path fill=\"none\" stroke=\"black\" d=\"M50.5,-243.92C50.5,-236.22 50.5,-226.69 50.5,-218.43\"/>\n",
              "<polygon fill=\"black\" stroke=\"black\" points=\"54,-218.25 50.5,-208.25 47,-218.25 54,-218.25\"/>\n",
              "</g>\n",
              "<!-- 132536700901536 -->\n",
              "<g id=\"node6\" class=\"node\">\n",
              "<title>132536700901536</title>\n",
              "<polygon fill=\"lightgrey\" stroke=\"black\" points=\"196,-208 119,-208 119,-189 196,-189 196,-208\"/>\n",
              "<text text-anchor=\"middle\" x=\"157.5\" y=\"-196\" font-family=\"monospace\" font-size=\"10.00\">TBackward0</text>\n",
              "</g>\n",
              "<!-- 132536700901536&#45;&gt;132536700899664 -->\n",
              "<g id=\"edge4\" class=\"edge\">\n",
              "<title>132536700901536&#45;&gt;132536700899664</title>\n",
              "<path fill=\"none\" stroke=\"black\" d=\"M148.58,-188.75C140.72,-181.03 129.07,-169.6 119.58,-160.28\"/>\n",
              "<polygon fill=\"black\" stroke=\"black\" points=\"121.84,-157.6 112.25,-153.09 116.94,-162.59 121.84,-157.6\"/>\n",
              "</g>\n",
              "<!-- 132536700907536 -->\n",
              "<g id=\"node7\" class=\"node\">\n",
              "<title>132536700907536</title>\n",
              "<polygon fill=\"lightgrey\" stroke=\"black\" points=\"208,-269 107,-269 107,-250 208,-250 208,-269\"/>\n",
              "<text text-anchor=\"middle\" x=\"157.5\" y=\"-257\" font-family=\"monospace\" font-size=\"10.00\">AccumulateGrad</text>\n",
              "</g>\n",
              "<!-- 132536700907536&#45;&gt;132536700901536 -->\n",
              "<g id=\"edge5\" class=\"edge\">\n",
              "<title>132536700907536&#45;&gt;132536700901536</title>\n",
              "<path fill=\"none\" stroke=\"black\" d=\"M157.5,-249.79C157.5,-241.6 157.5,-229.06 157.5,-218.55\"/>\n",
              "<polygon fill=\"black\" stroke=\"black\" points=\"161,-218.24 157.5,-208.24 154,-218.24 161,-218.24\"/>\n",
              "</g>\n",
              "<!-- 132536701477216 -->\n",
              "<g id=\"node8\" class=\"node\">\n",
              "<title>132536701477216</title>\n",
              "<polygon fill=\"lightblue\" stroke=\"black\" points=\"187,-342 128,-342 128,-311 187,-311 187,-342\"/>\n",
              "<text text-anchor=\"middle\" x=\"157.5\" y=\"-318\" font-family=\"monospace\" font-size=\"10.00\"> (3, 2)</text>\n",
              "</g>\n",
              "<!-- 132536701477216&#45;&gt;132536700907536 -->\n",
              "<g id=\"edge6\" class=\"edge\">\n",
              "<title>132536701477216&#45;&gt;132536700907536</title>\n",
              "<path fill=\"none\" stroke=\"black\" d=\"M157.5,-310.75C157.5,-301.39 157.5,-289.19 157.5,-279.16\"/>\n",
              "<polygon fill=\"black\" stroke=\"black\" points=\"161,-279.02 157.5,-269.02 154,-279.02 161,-279.02\"/>\n",
              "</g>\n",
              "<!-- 132536696591344&#45;&gt;132536696591024 -->\n",
              "<g id=\"edge9\" class=\"edge\">\n",
              "<title>132536696591344&#45;&gt;132536696591024</title>\n",
              "<path fill=\"none\" stroke=\"black\" stroke-dasharray=\"1,5\" d=\"M142.93,-66.75C136.54,-58.61 128.46,-48.32 121.29,-39.17\"/>\n",
              "<polygon fill=\"black\" stroke=\"black\" points=\"123.95,-36.9 115.03,-31.19 118.45,-41.22 123.95,-36.9\"/>\n",
              "</g>\n",
              "</g>\n",
              "</svg>\n"
            ],
            "text/plain": [
              "<graphviz.graphs.Digraph at 0x788a9afa0070>"
            ]
          },
          "execution_count": 57,
          "metadata": {},
          "output_type": "execute_result"
        }
      ],
      "source": [
        "model = nn.Linear(2,3)\n",
        "# 따라서, 데이터 여러 개를 통과시키고 싶다면 개x채 의 형태로 줘야 함 ('채x개'나 '개*채' 이런 식으로 말고!)\n",
        "x=torch.randn(5,2) # 개x채 => 두 개의 채널(키, 몸무게)을 가지는 데이터(사람) 5개\n",
        "\n",
        "print(x)\n",
        "print(model(x))\n",
        "\n",
        "x=torch.randn(4,5,2) # nn.Linear는 이거를 개x개x채로 들어왔다고 생각함\n",
        "print(model(x).shape)\n",
        "\n",
        "x=torch.randn(2,3,6,4,5,2)\n",
        "print(model(x).shape)\n",
        "\n",
        "make_dot(model(x))\n",
        "\n",
        "# 그렇다면 왜 웨이트 행렬에 T? weight 도 데이터와 마찬가지로 개x채 형태로 만들기 위함!\n",
        "# 예를 들어, nn.Linear(2,3) 이면 두 채널 값을 사용하는 세 '개'의 필터를 통과하는 것이라 3x2 가 된다!\n",
        "# 데이터의 개채는 두 채널 값을  가지는  열 개의 데이터 (10x2)\n",
        "# 웨이트의 개채는 두 채널 값을 이용하는 세 개의 필터 (3x2)"
      ]
    },
    {
      "cell_type": "code",
      "execution_count": null,
      "metadata": {
        "colab": {
          "base_uri": "https://localhost:8080/",
          "height": 812
        },
        "id": "hXCNxF5-ITEg",
        "outputId": "d85097e0-79cc-49cb-840c-a136dd3fc849"
      },
      "outputs": [
        {
          "name": "stdout",
          "output_type": "stream",
          "text": [
            "tensor([ 0.4204,  1.3758, -1.2946], grad_fn=<ViewBackward0>)\n",
            "tensor([-0.3740], grad_fn=<ViewBackward0>)\n",
            "tensor([-0.3740], grad_fn=<ViewBackward0>)\n"
          ]
        },
        {
          "data": {
            "image/svg+xml": [
              "<?xml version=\"1.0\" encoding=\"UTF-8\" standalone=\"no\"?>\n",
              "<!DOCTYPE svg PUBLIC \"-//W3C//DTD SVG 1.1//EN\"\n",
              " \"http://www.w3.org/Graphics/SVG/1.1/DTD/svg11.dtd\">\n",
              "<!-- Generated by graphviz version 2.43.0 (0)\n",
              " -->\n",
              "<!-- Title: %3 Pages: 1 -->\n",
              "<svg width=\"338pt\" height=\"539pt\"\n",
              " viewBox=\"0.00 0.00 338.00 539.00\" xmlns=\"http://www.w3.org/2000/svg\" xmlns:xlink=\"http://www.w3.org/1999/xlink\">\n",
              "<g id=\"graph0\" class=\"graph\" transform=\"scale(1 1) rotate(0) translate(4 535)\">\n",
              "<title>%3</title>\n",
              "<polygon fill=\"white\" stroke=\"transparent\" points=\"-4,4 -4,-535 334,-535 334,4 -4,4\"/>\n",
              "<!-- 132536696593664 -->\n",
              "<g id=\"node1\" class=\"node\">\n",
              "<title>132536696593664</title>\n",
              "<polygon fill=\"#caff70\" stroke=\"black\" points=\"193.5,-31 139.5,-31 139.5,0 193.5,0 193.5,-31\"/>\n",
              "<text text-anchor=\"middle\" x=\"166.5\" y=\"-7\" font-family=\"monospace\" font-size=\"10.00\"> (1)</text>\n",
              "</g>\n",
              "<!-- 132536700903792 -->\n",
              "<g id=\"node2\" class=\"node\">\n",
              "<title>132536700903792</title>\n",
              "<polygon fill=\"lightgrey\" stroke=\"black\" points=\"167,-92 72,-92 72,-73 167,-73 167,-92\"/>\n",
              "<text text-anchor=\"middle\" x=\"119.5\" y=\"-80\" font-family=\"monospace\" font-size=\"10.00\">ViewBackward0</text>\n",
              "</g>\n",
              "<!-- 132536700903792&#45;&gt;132536696593664 -->\n",
              "<g id=\"edge15\" class=\"edge\">\n",
              "<title>132536700903792&#45;&gt;132536696593664</title>\n",
              "<path fill=\"none\" stroke=\"black\" d=\"M125.84,-72.73C131.99,-64.23 141.59,-50.96 149.91,-39.44\"/>\n",
              "<polygon fill=\"black\" stroke=\"black\" points=\"152.93,-41.24 155.95,-31.08 147.26,-37.14 152.93,-41.24\"/>\n",
              "</g>\n",
              "<!-- 132536700903840 -->\n",
              "<g id=\"node3\" class=\"node\">\n",
              "<title>132536700903840</title>\n",
              "<polygon fill=\"lightgrey\" stroke=\"black\" points=\"217,-153 116,-153 116,-134 217,-134 217,-153\"/>\n",
              "<text text-anchor=\"middle\" x=\"166.5\" y=\"-141\" font-family=\"monospace\" font-size=\"10.00\">AddmmBackward0</text>\n",
              "</g>\n",
              "<!-- 132536700903840&#45;&gt;132536700903792 -->\n",
              "<g id=\"edge1\" class=\"edge\">\n",
              "<title>132536700903840&#45;&gt;132536700903792</title>\n",
              "<path fill=\"none\" stroke=\"black\" d=\"M159.56,-133.79C152.55,-124.99 141.54,-111.17 132.83,-100.23\"/>\n",
              "<polygon fill=\"black\" stroke=\"black\" points=\"135.43,-97.88 126.46,-92.24 129.96,-102.24 135.43,-97.88\"/>\n",
              "</g>\n",
              "<!-- 132536698016912 -->\n",
              "<g id=\"node17\" class=\"node\">\n",
              "<title>132536698016912</title>\n",
              "<polygon fill=\"#a2cd5a\" stroke=\"black\" points=\"244,-98 185,-98 185,-67 244,-67 244,-98\"/>\n",
              "<text text-anchor=\"middle\" x=\"214.5\" y=\"-74\" font-family=\"monospace\" font-size=\"10.00\"> (1, 1)</text>\n",
              "</g>\n",
              "<!-- 132536700903840&#45;&gt;132536698016912 -->\n",
              "<g id=\"edge16\" class=\"edge\">\n",
              "<title>132536700903840&#45;&gt;132536698016912</title>\n",
              "<path fill=\"none\" stroke=\"black\" d=\"M173.58,-133.79C179.53,-126.48 188.3,-115.7 196.2,-105.99\"/>\n",
              "<polygon fill=\"black\" stroke=\"black\" points=\"198.95,-108.16 202.55,-98.19 193.52,-103.74 198.95,-108.16\"/>\n",
              "</g>\n",
              "<!-- 132536700900480 -->\n",
              "<g id=\"node4\" class=\"node\">\n",
              "<title>132536700900480</title>\n",
              "<polygon fill=\"lightgrey\" stroke=\"black\" points=\"101,-208 0,-208 0,-189 101,-189 101,-208\"/>\n",
              "<text text-anchor=\"middle\" x=\"50.5\" y=\"-196\" font-family=\"monospace\" font-size=\"10.00\">AccumulateGrad</text>\n",
              "</g>\n",
              "<!-- 132536700900480&#45;&gt;132536700903840 -->\n",
              "<g id=\"edge2\" class=\"edge\">\n",
              "<title>132536700900480&#45;&gt;132536700903840</title>\n",
              "<path fill=\"none\" stroke=\"black\" d=\"M69.14,-188.98C87.8,-180.46 116.75,-167.23 138.24,-157.41\"/>\n",
              "<polygon fill=\"black\" stroke=\"black\" points=\"139.88,-160.51 147.52,-153.17 136.97,-154.14 139.88,-160.51\"/>\n",
              "</g>\n",
              "<!-- 132536696593424 -->\n",
              "<g id=\"node5\" class=\"node\">\n",
              "<title>132536696593424</title>\n",
              "<polygon fill=\"lightblue\" stroke=\"black\" points=\"77.5,-275 23.5,-275 23.5,-244 77.5,-244 77.5,-275\"/>\n",
              "<text text-anchor=\"middle\" x=\"50.5\" y=\"-251\" font-family=\"monospace\" font-size=\"10.00\"> (1)</text>\n",
              "</g>\n",
              "<!-- 132536696593424&#45;&gt;132536700900480 -->\n",
              "<g id=\"edge3\" class=\"edge\">\n",
              "<title>132536696593424&#45;&gt;132536700900480</title>\n",
              "<path fill=\"none\" stroke=\"black\" d=\"M50.5,-243.92C50.5,-236.22 50.5,-226.69 50.5,-218.43\"/>\n",
              "<polygon fill=\"black\" stroke=\"black\" points=\"54,-218.25 50.5,-208.25 47,-218.25 54,-218.25\"/>\n",
              "</g>\n",
              "<!-- 132536700903600 -->\n",
              "<g id=\"node6\" class=\"node\">\n",
              "<title>132536700903600</title>\n",
              "<polygon fill=\"lightgrey\" stroke=\"black\" points=\"214,-208 119,-208 119,-189 214,-189 214,-208\"/>\n",
              "<text text-anchor=\"middle\" x=\"166.5\" y=\"-196\" font-family=\"monospace\" font-size=\"10.00\">ViewBackward0</text>\n",
              "</g>\n",
              "<!-- 132536700903600&#45;&gt;132536700903840 -->\n",
              "<g id=\"edge4\" class=\"edge\">\n",
              "<title>132536700903600&#45;&gt;132536700903840</title>\n",
              "<path fill=\"none\" stroke=\"black\" d=\"M166.5,-188.75C166.5,-181.8 166.5,-171.85 166.5,-163.13\"/>\n",
              "<polygon fill=\"black\" stroke=\"black\" points=\"170,-163.09 166.5,-153.09 163,-163.09 170,-163.09\"/>\n",
              "</g>\n",
              "<!-- 132536700901632 -->\n",
              "<g id=\"node7\" class=\"node\">\n",
              "<title>132536700901632</title>\n",
              "<polygon fill=\"lightgrey\" stroke=\"black\" points=\"211,-269 116,-269 116,-250 211,-250 211,-269\"/>\n",
              "<text text-anchor=\"middle\" x=\"163.5\" y=\"-257\" font-family=\"monospace\" font-size=\"10.00\">ViewBackward0</text>\n",
              "</g>\n",
              "<!-- 132536700901632&#45;&gt;132536700903600 -->\n",
              "<g id=\"edge5\" class=\"edge\">\n",
              "<title>132536700901632&#45;&gt;132536700903600</title>\n",
              "<path fill=\"none\" stroke=\"black\" d=\"M163.94,-249.79C164.36,-241.6 165,-229.06 165.53,-218.55\"/>\n",
              "<polygon fill=\"black\" stroke=\"black\" points=\"169.04,-218.41 166.06,-208.24 162.05,-218.05 169.04,-218.41\"/>\n",
              "</g>\n",
              "<!-- 132536700898704 -->\n",
              "<g id=\"node8\" class=\"node\">\n",
              "<title>132536700898704</title>\n",
              "<polygon fill=\"lightgrey\" stroke=\"black\" points=\"214,-336 113,-336 113,-317 214,-317 214,-336\"/>\n",
              "<text text-anchor=\"middle\" x=\"163.5\" y=\"-324\" font-family=\"monospace\" font-size=\"10.00\">AddmmBackward0</text>\n",
              "</g>\n",
              "<!-- 132536700898704&#45;&gt;132536700901632 -->\n",
              "<g id=\"edge6\" class=\"edge\">\n",
              "<title>132536700898704&#45;&gt;132536700901632</title>\n",
              "<path fill=\"none\" stroke=\"black\" d=\"M163.5,-316.73C163.5,-307.18 163.5,-291.62 163.5,-279.28\"/>\n",
              "<polygon fill=\"black\" stroke=\"black\" points=\"167,-279.13 163.5,-269.13 160,-279.13 167,-279.13\"/>\n",
              "</g>\n",
              "<!-- 132536700905184 -->\n",
              "<g id=\"node9\" class=\"node\">\n",
              "<title>132536700905184</title>\n",
              "<polygon fill=\"lightgrey\" stroke=\"black\" points=\"161,-397 60,-397 60,-378 161,-378 161,-397\"/>\n",
              "<text text-anchor=\"middle\" x=\"110.5\" y=\"-385\" font-family=\"monospace\" font-size=\"10.00\">AccumulateGrad</text>\n",
              "</g>\n",
              "<!-- 132536700905184&#45;&gt;132536700898704 -->\n",
              "<g id=\"edge7\" class=\"edge\">\n",
              "<title>132536700905184&#45;&gt;132536700898704</title>\n",
              "<path fill=\"none\" stroke=\"black\" d=\"M118.32,-377.79C126.31,-368.91 138.89,-354.89 148.76,-343.91\"/>\n",
              "<polygon fill=\"black\" stroke=\"black\" points=\"151.57,-346.02 155.65,-336.24 146.36,-341.34 151.57,-346.02\"/>\n",
              "</g>\n",
              "<!-- 132536696593264 -->\n",
              "<g id=\"node10\" class=\"node\">\n",
              "<title>132536696593264</title>\n",
              "<polygon fill=\"lightblue\" stroke=\"black\" points=\"137.5,-464 83.5,-464 83.5,-433 137.5,-433 137.5,-464\"/>\n",
              "<text text-anchor=\"middle\" x=\"110.5\" y=\"-440\" font-family=\"monospace\" font-size=\"10.00\"> (3)</text>\n",
              "</g>\n",
              "<!-- 132536696593264&#45;&gt;132536700905184 -->\n",
              "<g id=\"edge8\" class=\"edge\">\n",
              "<title>132536696593264&#45;&gt;132536700905184</title>\n",
              "<path fill=\"none\" stroke=\"black\" d=\"M110.5,-432.92C110.5,-425.22 110.5,-415.69 110.5,-407.43\"/>\n",
              "<polygon fill=\"black\" stroke=\"black\" points=\"114,-407.25 110.5,-397.25 107,-407.25 114,-407.25\"/>\n",
              "</g>\n",
              "<!-- 132536700904272 -->\n",
              "<g id=\"node11\" class=\"node\">\n",
              "<title>132536700904272</title>\n",
              "<polygon fill=\"lightgrey\" stroke=\"black\" points=\"256,-397 179,-397 179,-378 256,-378 256,-397\"/>\n",
              "<text text-anchor=\"middle\" x=\"217.5\" y=\"-385\" font-family=\"monospace\" font-size=\"10.00\">TBackward0</text>\n",
              "</g>\n",
              "<!-- 132536700904272&#45;&gt;132536700898704 -->\n",
              "<g id=\"edge9\" class=\"edge\">\n",
              "<title>132536700904272&#45;&gt;132536700898704</title>\n",
              "<path fill=\"none\" stroke=\"black\" d=\"M209.53,-377.79C201.4,-368.91 188.57,-354.89 178.52,-343.91\"/>\n",
              "<polygon fill=\"black\" stroke=\"black\" points=\"180.83,-341.26 171.5,-336.24 175.67,-345.98 180.83,-341.26\"/>\n",
              "</g>\n",
              "<!-- 132536700902928 -->\n",
              "<g id=\"node12\" class=\"node\">\n",
              "<title>132536700902928</title>\n",
              "<polygon fill=\"lightgrey\" stroke=\"black\" points=\"268,-458 167,-458 167,-439 268,-439 268,-458\"/>\n",
              "<text text-anchor=\"middle\" x=\"217.5\" y=\"-446\" font-family=\"monospace\" font-size=\"10.00\">AccumulateGrad</text>\n",
              "</g>\n",
              "<!-- 132536700902928&#45;&gt;132536700904272 -->\n",
              "<g id=\"edge10\" class=\"edge\">\n",
              "<title>132536700902928&#45;&gt;132536700904272</title>\n",
              "<path fill=\"none\" stroke=\"black\" d=\"M217.5,-438.79C217.5,-430.6 217.5,-418.06 217.5,-407.55\"/>\n",
              "<polygon fill=\"black\" stroke=\"black\" points=\"221,-407.24 217.5,-397.24 214,-407.24 221,-407.24\"/>\n",
              "</g>\n",
              "<!-- 132536696593184 -->\n",
              "<g id=\"node13\" class=\"node\">\n",
              "<title>132536696593184</title>\n",
              "<polygon fill=\"lightblue\" stroke=\"black\" points=\"247,-531 188,-531 188,-500 247,-500 247,-531\"/>\n",
              "<text text-anchor=\"middle\" x=\"217.5\" y=\"-507\" font-family=\"monospace\" font-size=\"10.00\"> (3, 1)</text>\n",
              "</g>\n",
              "<!-- 132536696593184&#45;&gt;132536700902928 -->\n",
              "<g id=\"edge11\" class=\"edge\">\n",
              "<title>132536696593184&#45;&gt;132536700902928</title>\n",
              "<path fill=\"none\" stroke=\"black\" d=\"M217.5,-499.75C217.5,-490.39 217.5,-478.19 217.5,-468.16\"/>\n",
              "<polygon fill=\"black\" stroke=\"black\" points=\"221,-468.02 217.5,-458.02 214,-468.02 221,-468.02\"/>\n",
              "</g>\n",
              "<!-- 132536700906192 -->\n",
              "<g id=\"node14\" class=\"node\">\n",
              "<title>132536700906192</title>\n",
              "<polygon fill=\"lightgrey\" stroke=\"black\" points=\"315,-208 238,-208 238,-189 315,-189 315,-208\"/>\n",
              "<text text-anchor=\"middle\" x=\"276.5\" y=\"-196\" font-family=\"monospace\" font-size=\"10.00\">TBackward0</text>\n",
              "</g>\n",
              "<!-- 132536700906192&#45;&gt;132536700903840 -->\n",
              "<g id=\"edge12\" class=\"edge\">\n",
              "<title>132536700906192&#45;&gt;132536700903840</title>\n",
              "<path fill=\"none\" stroke=\"black\" d=\"M258.83,-188.98C241.21,-180.5 213.92,-167.35 193.57,-157.54\"/>\n",
              "<polygon fill=\"black\" stroke=\"black\" points=\"195.02,-154.36 184.49,-153.17 191.98,-160.66 195.02,-154.36\"/>\n",
              "</g>\n",
              "<!-- 132536700902832 -->\n",
              "<g id=\"node15\" class=\"node\">\n",
              "<title>132536700902832</title>\n",
              "<polygon fill=\"lightgrey\" stroke=\"black\" points=\"330,-269 229,-269 229,-250 330,-250 330,-269\"/>\n",
              "<text text-anchor=\"middle\" x=\"279.5\" y=\"-257\" font-family=\"monospace\" font-size=\"10.00\">AccumulateGrad</text>\n",
              "</g>\n",
              "<!-- 132536700902832&#45;&gt;132536700906192 -->\n",
              "<g id=\"edge13\" class=\"edge\">\n",
              "<title>132536700902832&#45;&gt;132536700906192</title>\n",
              "<path fill=\"none\" stroke=\"black\" d=\"M279.06,-249.79C278.64,-241.6 278,-229.06 277.47,-218.55\"/>\n",
              "<polygon fill=\"black\" stroke=\"black\" points=\"280.95,-218.05 276.94,-208.24 273.96,-218.41 280.95,-218.05\"/>\n",
              "</g>\n",
              "<!-- 132536696593344 -->\n",
              "<g id=\"node16\" class=\"node\">\n",
              "<title>132536696593344</title>\n",
              "<polygon fill=\"lightblue\" stroke=\"black\" points=\"309,-342 250,-342 250,-311 309,-311 309,-342\"/>\n",
              "<text text-anchor=\"middle\" x=\"279.5\" y=\"-318\" font-family=\"monospace\" font-size=\"10.00\"> (1, 3)</text>\n",
              "</g>\n",
              "<!-- 132536696593344&#45;&gt;132536700902832 -->\n",
              "<g id=\"edge14\" class=\"edge\">\n",
              "<title>132536696593344&#45;&gt;132536700902832</title>\n",
              "<path fill=\"none\" stroke=\"black\" d=\"M279.5,-310.75C279.5,-301.39 279.5,-289.19 279.5,-279.16\"/>\n",
              "<polygon fill=\"black\" stroke=\"black\" points=\"283,-279.02 279.5,-269.02 276,-279.02 283,-279.02\"/>\n",
              "</g>\n",
              "<!-- 132536698016912&#45;&gt;132536696593664 -->\n",
              "<g id=\"edge17\" class=\"edge\">\n",
              "<title>132536698016912&#45;&gt;132536696593664</title>\n",
              "<path fill=\"none\" stroke=\"black\" stroke-dasharray=\"1,5\" d=\"M203.61,-66.75C197.66,-58.69 190.15,-48.53 183.45,-39.45\"/>\n",
              "<polygon fill=\"black\" stroke=\"black\" points=\"186.1,-37.16 177.35,-31.19 180.47,-41.31 186.1,-37.16\"/>\n",
              "</g>\n",
              "</g>\n",
              "</svg>\n"
            ],
            "text/plain": [
              "<graphviz.graphs.Digraph at 0x788a9afa0460>"
            ]
          },
          "execution_count": 58,
          "metadata": {},
          "output_type": "execute_result"
        }
      ],
      "source": [
        "fc1=nn.Linear(1,3)\n",
        "fc2=nn.Linear(3,1)\n",
        "\n",
        "x=torch.tensor([1.])\n",
        "x=fc1(x)\n",
        "print(x)\n",
        "x=fc2(x)\n",
        "print(x)\n",
        "\n",
        "model = nn.Sequential(fc1,fc2) # layer 풀칠\n",
        "x=torch.tensor([1.])\n",
        "print(model(x))\n",
        "\n",
        "make_dot(model(x)) # Sequential은 딱히 표시는 안 함"
      ]
    },
    {
      "cell_type": "code",
      "execution_count": null,
      "metadata": {
        "colab": {
          "base_uri": "https://localhost:8080/"
        },
        "id": "NqWSWru_ITHH",
        "outputId": "cb93706c-cb58-40a9-9acb-096162028c15"
      },
      "outputs": [
        {
          "name": "stdout",
          "output_type": "stream",
          "text": [
            "tensor([[-0.2255, -0.0021],\n",
            "        [-0.4138, -0.5332],\n",
            "        [-0.4556,  1.3299],\n",
            "        [-0.7921,  0.0413],\n",
            "        [-0.0515,  0.8276]])\n",
            "tensor([[-0.3548,  0.0798,  0.2464],\n",
            "        [-0.5675,  0.1372,  0.4003],\n",
            "        [ 0.0727,  0.0344, -0.1046],\n",
            "        [-0.4253,  0.1568,  0.2629],\n",
            "        [-0.0405,  0.0069,  0.0118]], grad_fn=<AddmmBackward0>)\n"
          ]
        }
      ],
      "source": [
        "model = nn.Sequential(nn.Linear(2,5), # (in_채널, out_채널) 니까 연결되는 부분이 같아야 함\n",
        "                      nn.Linear(5,10),\n",
        "                      nn.Linear(10,3))\n",
        "\n",
        "x=torch.randn(5,2)\n",
        "print(x)\n",
        "print(model(x))"
      ]
    },
    {
      "cell_type": "code",
      "execution_count": null,
      "metadata": {
        "colab": {
          "base_uri": "https://localhost:8080/",
          "height": 936
        },
        "id": "zoHhlvgtkojS",
        "outputId": "70e1bc7d-da02-4382-9d87-a98ff4fbf307"
      },
      "outputs": [
        {
          "name": "stdout",
          "output_type": "stream",
          "text": [
            "tensor([[0.5145, 0.3884, 0.5279],\n",
            "        [0.5148, 0.3900, 0.5292],\n",
            "        [0.5173, 0.3897, 0.5324],\n",
            "        [0.5181, 0.3898, 0.5336],\n",
            "        [0.5137, 0.3907, 0.5281]], grad_fn=<SigmoidBackward0>)\n"
          ]
        },
        {
          "data": {
            "image/svg+xml": [
              "<?xml version=\"1.0\" encoding=\"UTF-8\" standalone=\"no\"?>\n",
              "<!DOCTYPE svg PUBLIC \"-//W3C//DTD SVG 1.1//EN\"\n",
              " \"http://www.w3.org/Graphics/SVG/1.1/DTD/svg11.dtd\">\n",
              "<!-- Generated by graphviz version 2.43.0 (0)\n",
              " -->\n",
              "<!-- Title: %3 Pages: 1 -->\n",
              "<svg width=\"418pt\" height=\"606pt\"\n",
              " viewBox=\"0.00 0.00 418.00 606.00\" xmlns=\"http://www.w3.org/2000/svg\" xmlns:xlink=\"http://www.w3.org/1999/xlink\">\n",
              "<g id=\"graph0\" class=\"graph\" transform=\"scale(1 1) rotate(0) translate(4 602)\">\n",
              "<title>%3</title>\n",
              "<polygon fill=\"white\" stroke=\"transparent\" points=\"-4,4 -4,-602 414,-602 414,4 -4,4\"/>\n",
              "<!-- 132536696592544 -->\n",
              "<g id=\"node1\" class=\"node\">\n",
              "<title>132536696592544</title>\n",
              "<polygon fill=\"#caff70\" stroke=\"black\" points=\"246,-31 187,-31 187,0 246,0 246,-31\"/>\n",
              "<text text-anchor=\"middle\" x=\"216.5\" y=\"-7\" font-family=\"monospace\" font-size=\"10.00\"> (5, 3)</text>\n",
              "</g>\n",
              "<!-- 132536700899040 -->\n",
              "<g id=\"node2\" class=\"node\">\n",
              "<title>132536700899040</title>\n",
              "<polygon fill=\"lightgrey\" stroke=\"black\" points=\"273,-86 160,-86 160,-67 273,-67 273,-86\"/>\n",
              "<text text-anchor=\"middle\" x=\"216.5\" y=\"-74\" font-family=\"monospace\" font-size=\"10.00\">SigmoidBackward0</text>\n",
              "</g>\n",
              "<!-- 132536700899040&#45;&gt;132536696592544 -->\n",
              "<g id=\"edge21\" class=\"edge\">\n",
              "<title>132536700899040&#45;&gt;132536696592544</title>\n",
              "<path fill=\"none\" stroke=\"black\" d=\"M216.5,-66.79C216.5,-60.07 216.5,-50.4 216.5,-41.34\"/>\n",
              "<polygon fill=\"black\" stroke=\"black\" points=\"220,-41.19 216.5,-31.19 213,-41.19 220,-41.19\"/>\n",
              "</g>\n",
              "<!-- 132536700907584 -->\n",
              "<g id=\"node3\" class=\"node\">\n",
              "<title>132536700907584</title>\n",
              "<polygon fill=\"lightgrey\" stroke=\"black\" points=\"267,-141 166,-141 166,-122 267,-122 267,-141\"/>\n",
              "<text text-anchor=\"middle\" x=\"216.5\" y=\"-129\" font-family=\"monospace\" font-size=\"10.00\">AddmmBackward0</text>\n",
              "</g>\n",
              "<!-- 132536700907584&#45;&gt;132536700899040 -->\n",
              "<g id=\"edge1\" class=\"edge\">\n",
              "<title>132536700907584&#45;&gt;132536700899040</title>\n",
              "<path fill=\"none\" stroke=\"black\" d=\"M216.5,-121.75C216.5,-114.8 216.5,-104.85 216.5,-96.13\"/>\n",
              "<polygon fill=\"black\" stroke=\"black\" points=\"220,-96.09 216.5,-86.09 213,-96.09 220,-96.09\"/>\n",
              "</g>\n",
              "<!-- 132536700903840 -->\n",
              "<g id=\"node4\" class=\"node\">\n",
              "<title>132536700903840</title>\n",
              "<polygon fill=\"lightgrey\" stroke=\"black\" points=\"142,-196 41,-196 41,-177 142,-177 142,-196\"/>\n",
              "<text text-anchor=\"middle\" x=\"91.5\" y=\"-184\" font-family=\"monospace\" font-size=\"10.00\">AccumulateGrad</text>\n",
              "</g>\n",
              "<!-- 132536700903840&#45;&gt;132536700907584 -->\n",
              "<g id=\"edge2\" class=\"edge\">\n",
              "<title>132536700903840&#45;&gt;132536700907584</title>\n",
              "<path fill=\"none\" stroke=\"black\" d=\"M111.58,-176.98C131.87,-168.38 163.46,-154.99 186.67,-145.15\"/>\n",
              "<polygon fill=\"black\" stroke=\"black\" points=\"188.21,-148.3 196.05,-141.17 185.48,-141.85 188.21,-148.3\"/>\n",
              "</g>\n",
              "<!-- 132536696601184 -->\n",
              "<g id=\"node5\" class=\"node\">\n",
              "<title>132536696601184</title>\n",
              "<polygon fill=\"lightblue\" stroke=\"black\" points=\"118.5,-263 64.5,-263 64.5,-232 118.5,-232 118.5,-263\"/>\n",
              "<text text-anchor=\"middle\" x=\"91.5\" y=\"-239\" font-family=\"monospace\" font-size=\"10.00\"> (3)</text>\n",
              "</g>\n",
              "<!-- 132536696601184&#45;&gt;132536700903840 -->\n",
              "<g id=\"edge3\" class=\"edge\">\n",
              "<title>132536696601184&#45;&gt;132536700903840</title>\n",
              "<path fill=\"none\" stroke=\"black\" d=\"M91.5,-231.92C91.5,-224.22 91.5,-214.69 91.5,-206.43\"/>\n",
              "<polygon fill=\"black\" stroke=\"black\" points=\"95,-206.25 91.5,-196.25 88,-206.25 95,-206.25\"/>\n",
              "</g>\n",
              "<!-- 132536700905760 -->\n",
              "<g id=\"node6\" class=\"node\">\n",
              "<title>132536700905760</title>\n",
              "<polygon fill=\"lightgrey\" stroke=\"black\" points=\"273,-196 160,-196 160,-177 273,-177 273,-196\"/>\n",
              "<text text-anchor=\"middle\" x=\"216.5\" y=\"-184\" font-family=\"monospace\" font-size=\"10.00\">SigmoidBackward0</text>\n",
              "</g>\n",
              "<!-- 132536700905760&#45;&gt;132536700907584 -->\n",
              "<g id=\"edge4\" class=\"edge\">\n",
              "<title>132536700905760&#45;&gt;132536700907584</title>\n",
              "<path fill=\"none\" stroke=\"black\" d=\"M216.5,-176.75C216.5,-169.8 216.5,-159.85 216.5,-151.13\"/>\n",
              "<polygon fill=\"black\" stroke=\"black\" points=\"220,-151.09 216.5,-141.09 213,-151.09 220,-151.09\"/>\n",
              "</g>\n",
              "<!-- 132536700905136 -->\n",
              "<g id=\"node7\" class=\"node\">\n",
              "<title>132536700905136</title>\n",
              "<polygon fill=\"lightgrey\" stroke=\"black\" points=\"262,-257 161,-257 161,-238 262,-238 262,-257\"/>\n",
              "<text text-anchor=\"middle\" x=\"211.5\" y=\"-245\" font-family=\"monospace\" font-size=\"10.00\">AddmmBackward0</text>\n",
              "</g>\n",
              "<!-- 132536700905136&#45;&gt;132536700905760 -->\n",
              "<g id=\"edge5\" class=\"edge\">\n",
              "<title>132536700905136&#45;&gt;132536700905760</title>\n",
              "<path fill=\"none\" stroke=\"black\" d=\"M212.24,-237.79C212.94,-229.52 214.02,-216.79 214.91,-206.21\"/>\n",
              "<polygon fill=\"black\" stroke=\"black\" points=\"218.4,-206.5 215.76,-196.24 211.43,-205.91 218.4,-206.5\"/>\n",
              "</g>\n",
              "<!-- 132536700895296 -->\n",
              "<g id=\"node8\" class=\"node\">\n",
              "<title>132536700895296</title>\n",
              "<polygon fill=\"lightgrey\" stroke=\"black\" points=\"101,-324 0,-324 0,-305 101,-305 101,-324\"/>\n",
              "<text text-anchor=\"middle\" x=\"50.5\" y=\"-312\" font-family=\"monospace\" font-size=\"10.00\">AccumulateGrad</text>\n",
              "</g>\n",
              "<!-- 132536700895296&#45;&gt;132536700905136 -->\n",
              "<g id=\"edge6\" class=\"edge\">\n",
              "<title>132536700895296&#45;&gt;132536700905136</title>\n",
              "<path fill=\"none\" stroke=\"black\" d=\"M71.88,-304.87C99.86,-293.57 149.09,-273.7 180.99,-260.82\"/>\n",
              "<polygon fill=\"black\" stroke=\"black\" points=\"182.33,-264.05 190.29,-257.06 179.71,-257.56 182.33,-264.05\"/>\n",
              "</g>\n",
              "<!-- 132536696601024 -->\n",
              "<g id=\"node9\" class=\"node\">\n",
              "<title>132536696601024</title>\n",
              "<polygon fill=\"lightblue\" stroke=\"black\" points=\"77.5,-397 23.5,-397 23.5,-366 77.5,-366 77.5,-397\"/>\n",
              "<text text-anchor=\"middle\" x=\"50.5\" y=\"-373\" font-family=\"monospace\" font-size=\"10.00\"> (10)</text>\n",
              "</g>\n",
              "<!-- 132536696601024&#45;&gt;132536700895296 -->\n",
              "<g id=\"edge7\" class=\"edge\">\n",
              "<title>132536696601024&#45;&gt;132536700895296</title>\n",
              "<path fill=\"none\" stroke=\"black\" d=\"M50.5,-365.75C50.5,-356.39 50.5,-344.19 50.5,-334.16\"/>\n",
              "<polygon fill=\"black\" stroke=\"black\" points=\"54,-334.02 50.5,-324.02 47,-334.02 54,-334.02\"/>\n",
              "</g>\n",
              "<!-- 132536700901152 -->\n",
              "<g id=\"node10\" class=\"node\">\n",
              "<title>132536700901152</title>\n",
              "<polygon fill=\"lightgrey\" stroke=\"black\" points=\"232,-324 119,-324 119,-305 232,-305 232,-324\"/>\n",
              "<text text-anchor=\"middle\" x=\"175.5\" y=\"-312\" font-family=\"monospace\" font-size=\"10.00\">SigmoidBackward0</text>\n",
              "</g>\n",
              "<!-- 132536700901152&#45;&gt;132536700905136 -->\n",
              "<g id=\"edge8\" class=\"edge\">\n",
              "<title>132536700901152&#45;&gt;132536700905136</title>\n",
              "<path fill=\"none\" stroke=\"black\" d=\"M180.36,-304.73C185.81,-294.89 194.8,-278.66 201.72,-266.16\"/>\n",
              "<polygon fill=\"black\" stroke=\"black\" points=\"204.94,-267.57 206.72,-257.13 198.81,-264.18 204.94,-267.57\"/>\n",
              "</g>\n",
              "<!-- 132536700910224 -->\n",
              "<g id=\"node11\" class=\"node\">\n",
              "<title>132536700910224</title>\n",
              "<polygon fill=\"lightgrey\" stroke=\"black\" points=\"223,-391 122,-391 122,-372 223,-372 223,-391\"/>\n",
              "<text text-anchor=\"middle\" x=\"172.5\" y=\"-379\" font-family=\"monospace\" font-size=\"10.00\">AddmmBackward0</text>\n",
              "</g>\n",
              "<!-- 132536700910224&#45;&gt;132536700901152 -->\n",
              "<g id=\"edge9\" class=\"edge\">\n",
              "<title>132536700910224&#45;&gt;132536700901152</title>\n",
              "<path fill=\"none\" stroke=\"black\" d=\"M172.9,-371.73C173.35,-362.18 174.06,-346.62 174.63,-334.28\"/>\n",
              "<polygon fill=\"black\" stroke=\"black\" points=\"178.14,-334.28 175.1,-324.13 171.14,-333.96 178.14,-334.28\"/>\n",
              "</g>\n",
              "<!-- 132536700907008 -->\n",
              "<g id=\"node12\" class=\"node\">\n",
              "<title>132536700907008</title>\n",
              "<polygon fill=\"lightgrey\" stroke=\"black\" points=\"131,-458 30,-458 30,-439 131,-439 131,-458\"/>\n",
              "<text text-anchor=\"middle\" x=\"80.5\" y=\"-446\" font-family=\"monospace\" font-size=\"10.00\">AccumulateGrad</text>\n",
              "</g>\n",
              "<!-- 132536700907008&#45;&gt;132536700910224 -->\n",
              "<g id=\"edge10\" class=\"edge\">\n",
              "<title>132536700907008&#45;&gt;132536700910224</title>\n",
              "<path fill=\"none\" stroke=\"black\" d=\"M92.91,-438.73C108.08,-428.01 133.98,-409.72 152.1,-396.91\"/>\n",
              "<polygon fill=\"black\" stroke=\"black\" points=\"154.14,-399.76 160.29,-391.13 150.1,-394.04 154.14,-399.76\"/>\n",
              "</g>\n",
              "<!-- 132536696600864 -->\n",
              "<g id=\"node13\" class=\"node\">\n",
              "<title>132536696600864</title>\n",
              "<polygon fill=\"lightblue\" stroke=\"black\" points=\"107.5,-531 53.5,-531 53.5,-500 107.5,-500 107.5,-531\"/>\n",
              "<text text-anchor=\"middle\" x=\"80.5\" y=\"-507\" font-family=\"monospace\" font-size=\"10.00\"> (5)</text>\n",
              "</g>\n",
              "<!-- 132536696600864&#45;&gt;132536700907008 -->\n",
              "<g id=\"edge11\" class=\"edge\">\n",
              "<title>132536696600864&#45;&gt;132536700907008</title>\n",
              "<path fill=\"none\" stroke=\"black\" d=\"M80.5,-499.75C80.5,-490.39 80.5,-478.19 80.5,-468.16\"/>\n",
              "<polygon fill=\"black\" stroke=\"black\" points=\"84,-468.02 80.5,-458.02 77,-468.02 84,-468.02\"/>\n",
              "</g>\n",
              "<!-- 132536700902544 -->\n",
              "<g id=\"node14\" class=\"node\">\n",
              "<title>132536700902544</title>\n",
              "<polygon fill=\"lightgrey\" stroke=\"black\" points=\"226,-458 149,-458 149,-439 226,-439 226,-458\"/>\n",
              "<text text-anchor=\"middle\" x=\"187.5\" y=\"-446\" font-family=\"monospace\" font-size=\"10.00\">TBackward0</text>\n",
              "</g>\n",
              "<!-- 132536700902544&#45;&gt;132536700910224 -->\n",
              "<g id=\"edge12\" class=\"edge\">\n",
              "<title>132536700902544&#45;&gt;132536700910224</title>\n",
              "<path fill=\"none\" stroke=\"black\" d=\"M185.48,-438.73C183.25,-429.09 179.61,-413.3 176.75,-400.91\"/>\n",
              "<polygon fill=\"black\" stroke=\"black\" points=\"180.15,-400.08 174.49,-391.13 173.33,-401.66 180.15,-400.08\"/>\n",
              "</g>\n",
              "<!-- 132536700902736 -->\n",
              "<g id=\"node15\" class=\"node\">\n",
              "<title>132536700902736</title>\n",
              "<polygon fill=\"lightgrey\" stroke=\"black\" points=\"238,-525 137,-525 137,-506 238,-506 238,-525\"/>\n",
              "<text text-anchor=\"middle\" x=\"187.5\" y=\"-513\" font-family=\"monospace\" font-size=\"10.00\">AccumulateGrad</text>\n",
              "</g>\n",
              "<!-- 132536700902736&#45;&gt;132536700902544 -->\n",
              "<g id=\"edge13\" class=\"edge\">\n",
              "<title>132536700902736&#45;&gt;132536700902544</title>\n",
              "<path fill=\"none\" stroke=\"black\" d=\"M187.5,-505.73C187.5,-496.18 187.5,-480.62 187.5,-468.28\"/>\n",
              "<polygon fill=\"black\" stroke=\"black\" points=\"191,-468.13 187.5,-458.13 184,-468.13 191,-468.13\"/>\n",
              "</g>\n",
              "<!-- 132536696600704 -->\n",
              "<g id=\"node16\" class=\"node\">\n",
              "<title>132536696600704</title>\n",
              "<polygon fill=\"lightblue\" stroke=\"black\" points=\"217,-598 158,-598 158,-567 217,-567 217,-598\"/>\n",
              "<text text-anchor=\"middle\" x=\"187.5\" y=\"-574\" font-family=\"monospace\" font-size=\"10.00\"> (5, 2)</text>\n",
              "</g>\n",
              "<!-- 132536696600704&#45;&gt;132536700902736 -->\n",
              "<g id=\"edge14\" class=\"edge\">\n",
              "<title>132536696600704&#45;&gt;132536700902736</title>\n",
              "<path fill=\"none\" stroke=\"black\" d=\"M187.5,-566.75C187.5,-557.39 187.5,-545.19 187.5,-535.16\"/>\n",
              "<polygon fill=\"black\" stroke=\"black\" points=\"191,-535.02 187.5,-525.02 184,-535.02 191,-535.02\"/>\n",
              "</g>\n",
              "<!-- 132536700902160 -->\n",
              "<g id=\"node17\" class=\"node\">\n",
              "<title>132536700902160</title>\n",
              "<polygon fill=\"lightgrey\" stroke=\"black\" points=\"327,-324 250,-324 250,-305 327,-305 327,-324\"/>\n",
              "<text text-anchor=\"middle\" x=\"288.5\" y=\"-312\" font-family=\"monospace\" font-size=\"10.00\">TBackward0</text>\n",
              "</g>\n",
              "<!-- 132536700902160&#45;&gt;132536700905136 -->\n",
              "<g id=\"edge15\" class=\"edge\">\n",
              "<title>132536700902160&#45;&gt;132536700905136</title>\n",
              "<path fill=\"none\" stroke=\"black\" d=\"M278.12,-304.73C265.65,-294.21 244.53,-276.38 229.41,-263.62\"/>\n",
              "<polygon fill=\"black\" stroke=\"black\" points=\"231.62,-260.9 221.72,-257.13 227.1,-266.25 231.62,-260.9\"/>\n",
              "</g>\n",
              "<!-- 132536700909072 -->\n",
              "<g id=\"node18\" class=\"node\">\n",
              "<title>132536700909072</title>\n",
              "<polygon fill=\"lightgrey\" stroke=\"black\" points=\"342,-391 241,-391 241,-372 342,-372 342,-391\"/>\n",
              "<text text-anchor=\"middle\" x=\"291.5\" y=\"-379\" font-family=\"monospace\" font-size=\"10.00\">AccumulateGrad</text>\n",
              "</g>\n",
              "<!-- 132536700909072&#45;&gt;132536700902160 -->\n",
              "<g id=\"edge16\" class=\"edge\">\n",
              "<title>132536700909072&#45;&gt;132536700902160</title>\n",
              "<path fill=\"none\" stroke=\"black\" d=\"M291.1,-371.73C290.65,-362.18 289.94,-346.62 289.37,-334.28\"/>\n",
              "<polygon fill=\"black\" stroke=\"black\" points=\"292.86,-333.96 288.9,-324.13 285.86,-334.28 292.86,-333.96\"/>\n",
              "</g>\n",
              "<!-- 132536696600944 -->\n",
              "<g id=\"node19\" class=\"node\">\n",
              "<title>132536696600944</title>\n",
              "<polygon fill=\"lightblue\" stroke=\"black\" points=\"324,-464 259,-464 259,-433 324,-433 324,-464\"/>\n",
              "<text text-anchor=\"middle\" x=\"291.5\" y=\"-440\" font-family=\"monospace\" font-size=\"10.00\"> (10, 5)</text>\n",
              "</g>\n",
              "<!-- 132536696600944&#45;&gt;132536700909072 -->\n",
              "<g id=\"edge17\" class=\"edge\">\n",
              "<title>132536696600944&#45;&gt;132536700909072</title>\n",
              "<path fill=\"none\" stroke=\"black\" d=\"M291.5,-432.75C291.5,-423.39 291.5,-411.19 291.5,-401.16\"/>\n",
              "<polygon fill=\"black\" stroke=\"black\" points=\"295,-401.02 291.5,-391.02 288,-401.02 295,-401.02\"/>\n",
              "</g>\n",
              "<!-- 132536700900384 -->\n",
              "<g id=\"node20\" class=\"node\">\n",
              "<title>132536700900384</title>\n",
              "<polygon fill=\"lightgrey\" stroke=\"black\" points=\"376,-196 299,-196 299,-177 376,-177 376,-196\"/>\n",
              "<text text-anchor=\"middle\" x=\"337.5\" y=\"-184\" font-family=\"monospace\" font-size=\"10.00\">TBackward0</text>\n",
              "</g>\n",
              "<!-- 132536700900384&#45;&gt;132536700907584 -->\n",
              "<g id=\"edge18\" class=\"edge\">\n",
              "<title>132536700900384&#45;&gt;132536700907584</title>\n",
              "<path fill=\"none\" stroke=\"black\" d=\"M318.06,-176.98C298.51,-168.42 268.12,-155.11 245.68,-145.28\"/>\n",
              "<polygon fill=\"black\" stroke=\"black\" points=\"246.86,-141.98 236.29,-141.17 244.05,-148.39 246.86,-141.98\"/>\n",
              "</g>\n",
              "<!-- 132536700902784 -->\n",
              "<g id=\"node21\" class=\"node\">\n",
              "<title>132536700902784</title>\n",
              "<polygon fill=\"lightgrey\" stroke=\"black\" points=\"392,-257 291,-257 291,-238 392,-238 392,-257\"/>\n",
              "<text text-anchor=\"middle\" x=\"341.5\" y=\"-245\" font-family=\"monospace\" font-size=\"10.00\">AccumulateGrad</text>\n",
              "</g>\n",
              "<!-- 132536700902784&#45;&gt;132536700900384 -->\n",
              "<g id=\"edge19\" class=\"edge\">\n",
              "<title>132536700902784&#45;&gt;132536700900384</title>\n",
              "<path fill=\"none\" stroke=\"black\" d=\"M340.91,-237.79C340.35,-229.6 339.5,-217.06 338.79,-206.55\"/>\n",
              "<polygon fill=\"black\" stroke=\"black\" points=\"342.26,-205.98 338.09,-196.24 335.28,-206.46 342.26,-205.98\"/>\n",
              "</g>\n",
              "<!-- 132536696601104 -->\n",
              "<g id=\"node22\" class=\"node\">\n",
              "<title>132536696601104</title>\n",
              "<polygon fill=\"lightblue\" stroke=\"black\" points=\"410,-330 345,-330 345,-299 410,-299 410,-330\"/>\n",
              "<text text-anchor=\"middle\" x=\"377.5\" y=\"-306\" font-family=\"monospace\" font-size=\"10.00\"> (3, 10)</text>\n",
              "</g>\n",
              "<!-- 132536696601104&#45;&gt;132536700902784 -->\n",
              "<g id=\"edge20\" class=\"edge\">\n",
              "<title>132536696601104&#45;&gt;132536700902784</title>\n",
              "<path fill=\"none\" stroke=\"black\" d=\"M369.33,-298.75C363.92,-288.99 356.81,-276.14 351.12,-265.88\"/>\n",
              "<polygon fill=\"black\" stroke=\"black\" points=\"354.12,-264.07 346.22,-257.02 348,-267.46 354.12,-264.07\"/>\n",
              "</g>\n",
              "</g>\n",
              "</svg>\n"
            ],
            "text/plain": [
              "<graphviz.graphs.Digraph at 0x788a9afa19f0>"
            ]
          },
          "execution_count": 60,
          "metadata": {},
          "output_type": "execute_result"
        }
      ],
      "source": [
        "class MyModel(nn.Module):\n",
        "    def __init__(self):\n",
        "        super().__init__()\n",
        "\n",
        "        self.fc1 = nn.Linear(2,5)\n",
        "        self.fc2 = nn.Linear(5,10)\n",
        "        self.fc3 = nn.Linear(10,3)\n",
        "        self.act = nn.Sigmoid()\n",
        "\n",
        "    def forward(self, x):\n",
        "        x = self.fc1(x)\n",
        "        x = self.act(x)\n",
        "        x = self.fc2(x)\n",
        "        x = self.act(x)\n",
        "        x = self.fc3(x)\n",
        "        x = self.act(x)\n",
        "        return x\n",
        "\n",
        "model = MyModel()\n",
        "x = torch.randn(5,2)\n",
        "y = model(x) # model.forward(x) (nn.Module의 __call__에서 forward를 통과시킴) (__call__은 인스턴스()로 호출하는 메서드)\n",
        "print(y)\n",
        "\n",
        "make_dot(y)"
      ]
    },
    {
      "cell_type": "code",
      "execution_count": null,
      "metadata": {
        "colab": {
          "base_uri": "https://localhost:8080/"
        },
        "id": "o7QHCRnKl_R6",
        "outputId": "a7883ea7-cb95-4fb1-e680-20870de9172f"
      },
      "outputs": [
        {
          "name": "stdout",
          "output_type": "stream",
          "text": [
            "MyModel(\n",
            "  (fc1): Linear(in_features=2, out_features=5, bias=True)\n",
            "  (fc2): Linear(in_features=5, out_features=10, bias=True)\n",
            "  (fc3): Linear(in_features=10, out_features=3, bias=True)\n",
            "  (act): Sigmoid()\n",
            ")\n",
            "Parameter containing:\n",
            "tensor([[-0.0041, -0.4349],\n",
            "        [-0.2583,  0.1797],\n",
            "        [-0.1272, -0.3419],\n",
            "        [ 0.2105,  0.6681],\n",
            "        [-0.1110, -0.0587]], requires_grad=True)\n",
            "Parameter containing:\n",
            "tensor([-0.0567,  0.1862, -0.0468, -0.3064,  0.1295,  0.0734, -0.1124, -0.0791,\n",
            "         0.0056,  0.2184], requires_grad=True)\n"
          ]
        }
      ],
      "source": [
        "print(model)\n",
        "print(model.fc1.weight)\n",
        "print(model.fc2.bias)"
      ]
    },
    {
      "cell_type": "code",
      "execution_count": null,
      "metadata": {
        "colab": {
          "base_uri": "https://localhost:8080/",
          "height": 936
        },
        "id": "Iyxzl7kpLMfF",
        "outputId": "92d83f01-1bf5-4973-d420-fcbc9c4c57fe"
      },
      "outputs": [
        {
          "name": "stdout",
          "output_type": "stream",
          "text": [
            "tensor([[0.6086, 0.5050, 0.6044],\n",
            "        [0.6069, 0.5030, 0.6055],\n",
            "        [0.6067, 0.5023, 0.6048],\n",
            "        [0.6070, 0.5023, 0.6038],\n",
            "        [0.6064, 0.5029, 0.6067]], grad_fn=<SigmoidBackward0>)\n"
          ]
        },
        {
          "data": {
            "image/svg+xml": [
              "<?xml version=\"1.0\" encoding=\"UTF-8\" standalone=\"no\"?>\n",
              "<!DOCTYPE svg PUBLIC \"-//W3C//DTD SVG 1.1//EN\"\n",
              " \"http://www.w3.org/Graphics/SVG/1.1/DTD/svg11.dtd\">\n",
              "<!-- Generated by graphviz version 2.43.0 (0)\n",
              " -->\n",
              "<!-- Title: %3 Pages: 1 -->\n",
              "<svg width=\"418pt\" height=\"606pt\"\n",
              " viewBox=\"0.00 0.00 418.00 606.00\" xmlns=\"http://www.w3.org/2000/svg\" xmlns:xlink=\"http://www.w3.org/1999/xlink\">\n",
              "<g id=\"graph0\" class=\"graph\" transform=\"scale(1 1) rotate(0) translate(4 602)\">\n",
              "<title>%3</title>\n",
              "<polygon fill=\"white\" stroke=\"transparent\" points=\"-4,4 -4,-602 414,-602 414,4 -4,4\"/>\n",
              "<!-- 132536696602064 -->\n",
              "<g id=\"node1\" class=\"node\">\n",
              "<title>132536696602064</title>\n",
              "<polygon fill=\"#caff70\" stroke=\"black\" points=\"246,-31 187,-31 187,0 246,0 246,-31\"/>\n",
              "<text text-anchor=\"middle\" x=\"216.5\" y=\"-7\" font-family=\"monospace\" font-size=\"10.00\"> (5, 3)</text>\n",
              "</g>\n",
              "<!-- 132536700896160 -->\n",
              "<g id=\"node2\" class=\"node\">\n",
              "<title>132536700896160</title>\n",
              "<polygon fill=\"lightgrey\" stroke=\"black\" points=\"273,-86 160,-86 160,-67 273,-67 273,-86\"/>\n",
              "<text text-anchor=\"middle\" x=\"216.5\" y=\"-74\" font-family=\"monospace\" font-size=\"10.00\">SigmoidBackward0</text>\n",
              "</g>\n",
              "<!-- 132536700896160&#45;&gt;132536696602064 -->\n",
              "<g id=\"edge21\" class=\"edge\">\n",
              "<title>132536700896160&#45;&gt;132536696602064</title>\n",
              "<path fill=\"none\" stroke=\"black\" d=\"M216.5,-66.79C216.5,-60.07 216.5,-50.4 216.5,-41.34\"/>\n",
              "<polygon fill=\"black\" stroke=\"black\" points=\"220,-41.19 216.5,-31.19 213,-41.19 220,-41.19\"/>\n",
              "</g>\n",
              "<!-- 132536700897216 -->\n",
              "<g id=\"node3\" class=\"node\">\n",
              "<title>132536700897216</title>\n",
              "<polygon fill=\"lightgrey\" stroke=\"black\" points=\"267,-141 166,-141 166,-122 267,-122 267,-141\"/>\n",
              "<text text-anchor=\"middle\" x=\"216.5\" y=\"-129\" font-family=\"monospace\" font-size=\"10.00\">AddmmBackward0</text>\n",
              "</g>\n",
              "<!-- 132536700897216&#45;&gt;132536700896160 -->\n",
              "<g id=\"edge1\" class=\"edge\">\n",
              "<title>132536700897216&#45;&gt;132536700896160</title>\n",
              "<path fill=\"none\" stroke=\"black\" d=\"M216.5,-121.75C216.5,-114.8 216.5,-104.85 216.5,-96.13\"/>\n",
              "<polygon fill=\"black\" stroke=\"black\" points=\"220,-96.09 216.5,-86.09 213,-96.09 220,-96.09\"/>\n",
              "</g>\n",
              "<!-- 132536700906576 -->\n",
              "<g id=\"node4\" class=\"node\">\n",
              "<title>132536700906576</title>\n",
              "<polygon fill=\"lightgrey\" stroke=\"black\" points=\"142,-196 41,-196 41,-177 142,-177 142,-196\"/>\n",
              "<text text-anchor=\"middle\" x=\"91.5\" y=\"-184\" font-family=\"monospace\" font-size=\"10.00\">AccumulateGrad</text>\n",
              "</g>\n",
              "<!-- 132536700906576&#45;&gt;132536700897216 -->\n",
              "<g id=\"edge2\" class=\"edge\">\n",
              "<title>132536700906576&#45;&gt;132536700897216</title>\n",
              "<path fill=\"none\" stroke=\"black\" d=\"M111.58,-176.98C131.87,-168.38 163.46,-154.99 186.67,-145.15\"/>\n",
              "<polygon fill=\"black\" stroke=\"black\" points=\"188.21,-148.3 196.05,-141.17 185.48,-141.85 188.21,-148.3\"/>\n",
              "</g>\n",
              "<!-- 132536696601744 -->\n",
              "<g id=\"node5\" class=\"node\">\n",
              "<title>132536696601744</title>\n",
              "<polygon fill=\"lightblue\" stroke=\"black\" points=\"118.5,-263 64.5,-263 64.5,-232 118.5,-232 118.5,-263\"/>\n",
              "<text text-anchor=\"middle\" x=\"91.5\" y=\"-239\" font-family=\"monospace\" font-size=\"10.00\"> (3)</text>\n",
              "</g>\n",
              "<!-- 132536696601744&#45;&gt;132536700906576 -->\n",
              "<g id=\"edge3\" class=\"edge\">\n",
              "<title>132536696601744&#45;&gt;132536700906576</title>\n",
              "<path fill=\"none\" stroke=\"black\" d=\"M91.5,-231.92C91.5,-224.22 91.5,-214.69 91.5,-206.43\"/>\n",
              "<polygon fill=\"black\" stroke=\"black\" points=\"95,-206.25 91.5,-196.25 88,-206.25 95,-206.25\"/>\n",
              "</g>\n",
              "<!-- 132536700908688 -->\n",
              "<g id=\"node6\" class=\"node\">\n",
              "<title>132536700908688</title>\n",
              "<polygon fill=\"lightgrey\" stroke=\"black\" points=\"273,-196 160,-196 160,-177 273,-177 273,-196\"/>\n",
              "<text text-anchor=\"middle\" x=\"216.5\" y=\"-184\" font-family=\"monospace\" font-size=\"10.00\">SigmoidBackward0</text>\n",
              "</g>\n",
              "<!-- 132536700908688&#45;&gt;132536700897216 -->\n",
              "<g id=\"edge4\" class=\"edge\">\n",
              "<title>132536700908688&#45;&gt;132536700897216</title>\n",
              "<path fill=\"none\" stroke=\"black\" d=\"M216.5,-176.75C216.5,-169.8 216.5,-159.85 216.5,-151.13\"/>\n",
              "<polygon fill=\"black\" stroke=\"black\" points=\"220,-151.09 216.5,-141.09 213,-151.09 220,-151.09\"/>\n",
              "</g>\n",
              "<!-- 132536700903024 -->\n",
              "<g id=\"node7\" class=\"node\">\n",
              "<title>132536700903024</title>\n",
              "<polygon fill=\"lightgrey\" stroke=\"black\" points=\"262,-257 161,-257 161,-238 262,-238 262,-257\"/>\n",
              "<text text-anchor=\"middle\" x=\"211.5\" y=\"-245\" font-family=\"monospace\" font-size=\"10.00\">AddmmBackward0</text>\n",
              "</g>\n",
              "<!-- 132536700903024&#45;&gt;132536700908688 -->\n",
              "<g id=\"edge5\" class=\"edge\">\n",
              "<title>132536700903024&#45;&gt;132536700908688</title>\n",
              "<path fill=\"none\" stroke=\"black\" d=\"M212.24,-237.79C212.94,-229.52 214.02,-216.79 214.91,-206.21\"/>\n",
              "<polygon fill=\"black\" stroke=\"black\" points=\"218.4,-206.5 215.76,-196.24 211.43,-205.91 218.4,-206.5\"/>\n",
              "</g>\n",
              "<!-- 132536700907680 -->\n",
              "<g id=\"node8\" class=\"node\">\n",
              "<title>132536700907680</title>\n",
              "<polygon fill=\"lightgrey\" stroke=\"black\" points=\"101,-324 0,-324 0,-305 101,-305 101,-324\"/>\n",
              "<text text-anchor=\"middle\" x=\"50.5\" y=\"-312\" font-family=\"monospace\" font-size=\"10.00\">AccumulateGrad</text>\n",
              "</g>\n",
              "<!-- 132536700907680&#45;&gt;132536700903024 -->\n",
              "<g id=\"edge6\" class=\"edge\">\n",
              "<title>132536700907680&#45;&gt;132536700903024</title>\n",
              "<path fill=\"none\" stroke=\"black\" d=\"M71.88,-304.87C99.86,-293.57 149.09,-273.7 180.99,-260.82\"/>\n",
              "<polygon fill=\"black\" stroke=\"black\" points=\"182.33,-264.05 190.29,-257.06 179.71,-257.56 182.33,-264.05\"/>\n",
              "</g>\n",
              "<!-- 132536696592624 -->\n",
              "<g id=\"node9\" class=\"node\">\n",
              "<title>132536696592624</title>\n",
              "<polygon fill=\"lightblue\" stroke=\"black\" points=\"77.5,-397 23.5,-397 23.5,-366 77.5,-366 77.5,-397\"/>\n",
              "<text text-anchor=\"middle\" x=\"50.5\" y=\"-373\" font-family=\"monospace\" font-size=\"10.00\"> (10)</text>\n",
              "</g>\n",
              "<!-- 132536696592624&#45;&gt;132536700907680 -->\n",
              "<g id=\"edge7\" class=\"edge\">\n",
              "<title>132536696592624&#45;&gt;132536700907680</title>\n",
              "<path fill=\"none\" stroke=\"black\" d=\"M50.5,-365.75C50.5,-356.39 50.5,-344.19 50.5,-334.16\"/>\n",
              "<polygon fill=\"black\" stroke=\"black\" points=\"54,-334.02 50.5,-324.02 47,-334.02 54,-334.02\"/>\n",
              "</g>\n",
              "<!-- 132539933490240 -->\n",
              "<g id=\"node10\" class=\"node\">\n",
              "<title>132539933490240</title>\n",
              "<polygon fill=\"lightgrey\" stroke=\"black\" points=\"232,-324 119,-324 119,-305 232,-305 232,-324\"/>\n",
              "<text text-anchor=\"middle\" x=\"175.5\" y=\"-312\" font-family=\"monospace\" font-size=\"10.00\">SigmoidBackward0</text>\n",
              "</g>\n",
              "<!-- 132539933490240&#45;&gt;132536700903024 -->\n",
              "<g id=\"edge8\" class=\"edge\">\n",
              "<title>132539933490240&#45;&gt;132536700903024</title>\n",
              "<path fill=\"none\" stroke=\"black\" d=\"M180.36,-304.73C185.81,-294.89 194.8,-278.66 201.72,-266.16\"/>\n",
              "<polygon fill=\"black\" stroke=\"black\" points=\"204.94,-267.57 206.72,-257.13 198.81,-264.18 204.94,-267.57\"/>\n",
              "</g>\n",
              "<!-- 132539933489232 -->\n",
              "<g id=\"node11\" class=\"node\">\n",
              "<title>132539933489232</title>\n",
              "<polygon fill=\"lightgrey\" stroke=\"black\" points=\"223,-391 122,-391 122,-372 223,-372 223,-391\"/>\n",
              "<text text-anchor=\"middle\" x=\"172.5\" y=\"-379\" font-family=\"monospace\" font-size=\"10.00\">AddmmBackward0</text>\n",
              "</g>\n",
              "<!-- 132539933489232&#45;&gt;132539933490240 -->\n",
              "<g id=\"edge9\" class=\"edge\">\n",
              "<title>132539933489232&#45;&gt;132539933490240</title>\n",
              "<path fill=\"none\" stroke=\"black\" d=\"M172.9,-371.73C173.35,-362.18 174.06,-346.62 174.63,-334.28\"/>\n",
              "<polygon fill=\"black\" stroke=\"black\" points=\"178.14,-334.28 175.1,-324.13 171.14,-333.96 178.14,-334.28\"/>\n",
              "</g>\n",
              "<!-- 132539933486208 -->\n",
              "<g id=\"node12\" class=\"node\">\n",
              "<title>132539933486208</title>\n",
              "<polygon fill=\"lightgrey\" stroke=\"black\" points=\"131,-458 30,-458 30,-439 131,-439 131,-458\"/>\n",
              "<text text-anchor=\"middle\" x=\"80.5\" y=\"-446\" font-family=\"monospace\" font-size=\"10.00\">AccumulateGrad</text>\n",
              "</g>\n",
              "<!-- 132539933486208&#45;&gt;132539933489232 -->\n",
              "<g id=\"edge10\" class=\"edge\">\n",
              "<title>132539933486208&#45;&gt;132539933489232</title>\n",
              "<path fill=\"none\" stroke=\"black\" d=\"M92.91,-438.73C108.08,-428.01 133.98,-409.72 152.1,-396.91\"/>\n",
              "<polygon fill=\"black\" stroke=\"black\" points=\"154.14,-399.76 160.29,-391.13 150.1,-394.04 154.14,-399.76\"/>\n",
              "</g>\n",
              "<!-- 132536696287568 -->\n",
              "<g id=\"node13\" class=\"node\">\n",
              "<title>132536696287568</title>\n",
              "<polygon fill=\"lightblue\" stroke=\"black\" points=\"107.5,-531 53.5,-531 53.5,-500 107.5,-500 107.5,-531\"/>\n",
              "<text text-anchor=\"middle\" x=\"80.5\" y=\"-507\" font-family=\"monospace\" font-size=\"10.00\"> (5)</text>\n",
              "</g>\n",
              "<!-- 132536696287568&#45;&gt;132539933486208 -->\n",
              "<g id=\"edge11\" class=\"edge\">\n",
              "<title>132536696287568&#45;&gt;132539933486208</title>\n",
              "<path fill=\"none\" stroke=\"black\" d=\"M80.5,-499.75C80.5,-490.39 80.5,-478.19 80.5,-468.16\"/>\n",
              "<polygon fill=\"black\" stroke=\"black\" points=\"84,-468.02 80.5,-458.02 77,-468.02 84,-468.02\"/>\n",
              "</g>\n",
              "<!-- 132539933483184 -->\n",
              "<g id=\"node14\" class=\"node\">\n",
              "<title>132539933483184</title>\n",
              "<polygon fill=\"lightgrey\" stroke=\"black\" points=\"226,-458 149,-458 149,-439 226,-439 226,-458\"/>\n",
              "<text text-anchor=\"middle\" x=\"187.5\" y=\"-446\" font-family=\"monospace\" font-size=\"10.00\">TBackward0</text>\n",
              "</g>\n",
              "<!-- 132539933483184&#45;&gt;132539933489232 -->\n",
              "<g id=\"edge12\" class=\"edge\">\n",
              "<title>132539933483184&#45;&gt;132539933489232</title>\n",
              "<path fill=\"none\" stroke=\"black\" d=\"M185.48,-438.73C183.25,-429.09 179.61,-413.3 176.75,-400.91\"/>\n",
              "<polygon fill=\"black\" stroke=\"black\" points=\"180.15,-400.08 174.49,-391.13 173.33,-401.66 180.15,-400.08\"/>\n",
              "</g>\n",
              "<!-- 132539933486640 -->\n",
              "<g id=\"node15\" class=\"node\">\n",
              "<title>132539933486640</title>\n",
              "<polygon fill=\"lightgrey\" stroke=\"black\" points=\"238,-525 137,-525 137,-506 238,-506 238,-525\"/>\n",
              "<text text-anchor=\"middle\" x=\"187.5\" y=\"-513\" font-family=\"monospace\" font-size=\"10.00\">AccumulateGrad</text>\n",
              "</g>\n",
              "<!-- 132539933486640&#45;&gt;132539933483184 -->\n",
              "<g id=\"edge13\" class=\"edge\">\n",
              "<title>132539933486640&#45;&gt;132539933483184</title>\n",
              "<path fill=\"none\" stroke=\"black\" d=\"M187.5,-505.73C187.5,-496.18 187.5,-480.62 187.5,-468.28\"/>\n",
              "<polygon fill=\"black\" stroke=\"black\" points=\"191,-468.13 187.5,-458.13 184,-468.13 191,-468.13\"/>\n",
              "</g>\n",
              "<!-- 132536698023952 -->\n",
              "<g id=\"node16\" class=\"node\">\n",
              "<title>132536698023952</title>\n",
              "<polygon fill=\"lightblue\" stroke=\"black\" points=\"217,-598 158,-598 158,-567 217,-567 217,-598\"/>\n",
              "<text text-anchor=\"middle\" x=\"187.5\" y=\"-574\" font-family=\"monospace\" font-size=\"10.00\"> (5, 2)</text>\n",
              "</g>\n",
              "<!-- 132536698023952&#45;&gt;132539933486640 -->\n",
              "<g id=\"edge14\" class=\"edge\">\n",
              "<title>132536698023952&#45;&gt;132539933486640</title>\n",
              "<path fill=\"none\" stroke=\"black\" d=\"M187.5,-566.75C187.5,-557.39 187.5,-545.19 187.5,-535.16\"/>\n",
              "<polygon fill=\"black\" stroke=\"black\" points=\"191,-535.02 187.5,-525.02 184,-535.02 191,-535.02\"/>\n",
              "</g>\n",
              "<!-- 132539933490144 -->\n",
              "<g id=\"node17\" class=\"node\">\n",
              "<title>132539933490144</title>\n",
              "<polygon fill=\"lightgrey\" stroke=\"black\" points=\"327,-324 250,-324 250,-305 327,-305 327,-324\"/>\n",
              "<text text-anchor=\"middle\" x=\"288.5\" y=\"-312\" font-family=\"monospace\" font-size=\"10.00\">TBackward0</text>\n",
              "</g>\n",
              "<!-- 132539933490144&#45;&gt;132536700903024 -->\n",
              "<g id=\"edge15\" class=\"edge\">\n",
              "<title>132539933490144&#45;&gt;132536700903024</title>\n",
              "<path fill=\"none\" stroke=\"black\" d=\"M278.12,-304.73C265.65,-294.21 244.53,-276.38 229.41,-263.62\"/>\n",
              "<polygon fill=\"black\" stroke=\"black\" points=\"231.62,-260.9 221.72,-257.13 227.1,-266.25 231.62,-260.9\"/>\n",
              "</g>\n",
              "<!-- 132539933484672 -->\n",
              "<g id=\"node18\" class=\"node\">\n",
              "<title>132539933484672</title>\n",
              "<polygon fill=\"lightgrey\" stroke=\"black\" points=\"342,-391 241,-391 241,-372 342,-372 342,-391\"/>\n",
              "<text text-anchor=\"middle\" x=\"291.5\" y=\"-379\" font-family=\"monospace\" font-size=\"10.00\">AccumulateGrad</text>\n",
              "</g>\n",
              "<!-- 132539933484672&#45;&gt;132539933490144 -->\n",
              "<g id=\"edge16\" class=\"edge\">\n",
              "<title>132539933484672&#45;&gt;132539933490144</title>\n",
              "<path fill=\"none\" stroke=\"black\" d=\"M291.1,-371.73C290.65,-362.18 289.94,-346.62 289.37,-334.28\"/>\n",
              "<polygon fill=\"black\" stroke=\"black\" points=\"292.86,-333.96 288.9,-324.13 285.86,-334.28 292.86,-333.96\"/>\n",
              "</g>\n",
              "<!-- 132536696601584 -->\n",
              "<g id=\"node19\" class=\"node\">\n",
              "<title>132536696601584</title>\n",
              "<polygon fill=\"lightblue\" stroke=\"black\" points=\"324,-464 259,-464 259,-433 324,-433 324,-464\"/>\n",
              "<text text-anchor=\"middle\" x=\"291.5\" y=\"-440\" font-family=\"monospace\" font-size=\"10.00\"> (10, 5)</text>\n",
              "</g>\n",
              "<!-- 132536696601584&#45;&gt;132539933484672 -->\n",
              "<g id=\"edge17\" class=\"edge\">\n",
              "<title>132536696601584&#45;&gt;132539933484672</title>\n",
              "<path fill=\"none\" stroke=\"black\" d=\"M291.5,-432.75C291.5,-423.39 291.5,-411.19 291.5,-401.16\"/>\n",
              "<polygon fill=\"black\" stroke=\"black\" points=\"295,-401.02 291.5,-391.02 288,-401.02 295,-401.02\"/>\n",
              "</g>\n",
              "<!-- 132536700900864 -->\n",
              "<g id=\"node20\" class=\"node\">\n",
              "<title>132536700900864</title>\n",
              "<polygon fill=\"lightgrey\" stroke=\"black\" points=\"376,-196 299,-196 299,-177 376,-177 376,-196\"/>\n",
              "<text text-anchor=\"middle\" x=\"337.5\" y=\"-184\" font-family=\"monospace\" font-size=\"10.00\">TBackward0</text>\n",
              "</g>\n",
              "<!-- 132536700900864&#45;&gt;132536700897216 -->\n",
              "<g id=\"edge18\" class=\"edge\">\n",
              "<title>132536700900864&#45;&gt;132536700897216</title>\n",
              "<path fill=\"none\" stroke=\"black\" d=\"M318.06,-176.98C298.51,-168.42 268.12,-155.11 245.68,-145.28\"/>\n",
              "<polygon fill=\"black\" stroke=\"black\" points=\"246.86,-141.98 236.29,-141.17 244.05,-148.39 246.86,-141.98\"/>\n",
              "</g>\n",
              "<!-- 132536700900000 -->\n",
              "<g id=\"node21\" class=\"node\">\n",
              "<title>132536700900000</title>\n",
              "<polygon fill=\"lightgrey\" stroke=\"black\" points=\"392,-257 291,-257 291,-238 392,-238 392,-257\"/>\n",
              "<text text-anchor=\"middle\" x=\"341.5\" y=\"-245\" font-family=\"monospace\" font-size=\"10.00\">AccumulateGrad</text>\n",
              "</g>\n",
              "<!-- 132536700900000&#45;&gt;132536700900864 -->\n",
              "<g id=\"edge19\" class=\"edge\">\n",
              "<title>132536700900000&#45;&gt;132536700900864</title>\n",
              "<path fill=\"none\" stroke=\"black\" d=\"M340.91,-237.79C340.35,-229.6 339.5,-217.06 338.79,-206.55\"/>\n",
              "<polygon fill=\"black\" stroke=\"black\" points=\"342.26,-205.98 338.09,-196.24 335.28,-206.46 342.26,-205.98\"/>\n",
              "</g>\n",
              "<!-- 132536696601664 -->\n",
              "<g id=\"node22\" class=\"node\">\n",
              "<title>132536696601664</title>\n",
              "<polygon fill=\"lightblue\" stroke=\"black\" points=\"410,-330 345,-330 345,-299 410,-299 410,-330\"/>\n",
              "<text text-anchor=\"middle\" x=\"377.5\" y=\"-306\" font-family=\"monospace\" font-size=\"10.00\"> (3, 10)</text>\n",
              "</g>\n",
              "<!-- 132536696601664&#45;&gt;132536700900000 -->\n",
              "<g id=\"edge20\" class=\"edge\">\n",
              "<title>132536696601664&#45;&gt;132536700900000</title>\n",
              "<path fill=\"none\" stroke=\"black\" d=\"M369.33,-298.75C363.92,-288.99 356.81,-276.14 351.12,-265.88\"/>\n",
              "<polygon fill=\"black\" stroke=\"black\" points=\"354.12,-264.07 346.22,-257.02 348,-267.46 354.12,-264.07\"/>\n",
              "</g>\n",
              "</g>\n",
              "</svg>\n"
            ],
            "text/plain": [
              "<graphviz.graphs.Digraph at 0x788a9afa0550>"
            ]
          },
          "execution_count": 62,
          "metadata": {},
          "output_type": "execute_result"
        }
      ],
      "source": [
        "class MyModel2(nn.Module):\n",
        "    def __init__(self):\n",
        "        super().__init__()\n",
        "\n",
        "        self.linear = nn.Sequential(nn.Linear(2,5),\n",
        "                                    nn.Sigmoid(),\n",
        "                                    nn.Linear(5,10),\n",
        "                                    nn.Sigmoid(),\n",
        "                                    nn.Linear(10,3),\n",
        "                                    nn.Sigmoid())\n",
        "\n",
        "    def forward(self, x):\n",
        "        x = self.linear(x)\n",
        "        return x\n",
        "\n",
        "model2 = MyModel2()\n",
        "x = torch.randn(5,2)\n",
        "y = model2(x)\n",
        "print(y)\n",
        "\n",
        "make_dot(y)"
      ]
    },
    {
      "cell_type": "code",
      "execution_count": null,
      "metadata": {
        "colab": {
          "base_uri": "https://localhost:8080/"
        },
        "id": "YKDDoAfkmG8p",
        "outputId": "2228f18a-b1af-43ef-d54f-c2956c3aae97"
      },
      "outputs": [
        {
          "name": "stdout",
          "output_type": "stream",
          "text": [
            "MyModel2(\n",
            "  (linear): Sequential(\n",
            "    (0): Linear(in_features=2, out_features=5, bias=True)\n",
            "    (1): Sigmoid()\n",
            "    (2): Linear(in_features=5, out_features=10, bias=True)\n",
            "    (3): Sigmoid()\n",
            "    (4): Linear(in_features=10, out_features=3, bias=True)\n",
            "    (5): Sigmoid()\n",
            "  )\n",
            ")\n",
            "Parameter containing:\n",
            "tensor([[ 0.3175, -0.3152],\n",
            "        [-0.2648,  0.5539],\n",
            "        [ 0.2754, -0.5639],\n",
            "        [-0.2525,  0.5133],\n",
            "        [ 0.1786, -0.2729]], requires_grad=True)\n",
            "Parameter containing:\n",
            "tensor([0.2050, 0.2464, 0.3089], requires_grad=True)\n"
          ]
        }
      ],
      "source": [
        "print(model2)\n",
        "print(model2.linear[0].weight)\n",
        "print(model2.linear[-2].bias)"
      ]
    },
    {
      "cell_type": "code",
      "execution_count": null,
      "metadata": {
        "colab": {
          "base_uri": "https://localhost:8080/"
        },
        "id": "EORR8ClCham2",
        "outputId": "6e9ef1c2-67b0-4927-86f1-01351dfb17b6"
      },
      "outputs": [
        {
          "data": {
            "text/plain": [
              "[Parameter containing:\n",
              " tensor([[-0.0041, -0.4349],\n",
              "         [-0.2583,  0.1797],\n",
              "         [-0.1272, -0.3419],\n",
              "         [ 0.2105,  0.6681],\n",
              "         [-0.1110, -0.0587]], requires_grad=True),\n",
              " Parameter containing:\n",
              " tensor([-0.0020, -0.3750,  0.4929,  0.5871,  0.5339], requires_grad=True),\n",
              " Parameter containing:\n",
              " tensor([[ 0.3664,  0.0549,  0.2472,  0.2657, -0.0054],\n",
              "         [ 0.0687,  0.4045,  0.1635, -0.1517,  0.3720],\n",
              "         [ 0.2641,  0.0998, -0.0943, -0.0851,  0.2624],\n",
              "         [-0.4471, -0.0442, -0.0926,  0.3978, -0.3026],\n",
              "         [ 0.2780, -0.3890,  0.2069, -0.0285,  0.4315],\n",
              "         [-0.2090,  0.0790,  0.1302, -0.3274,  0.3265],\n",
              "         [ 0.2237, -0.1763, -0.0756, -0.1341, -0.0156],\n",
              "         [-0.4255,  0.1125, -0.1846, -0.2177, -0.0201],\n",
              "         [-0.0739,  0.3859,  0.1143, -0.1263, -0.4059],\n",
              "         [ 0.3175,  0.2878, -0.1105, -0.1511, -0.4406]], requires_grad=True),\n",
              " Parameter containing:\n",
              " tensor([-0.0567,  0.1862, -0.0468, -0.3064,  0.1295,  0.0734, -0.1124, -0.0791,\n",
              "          0.0056,  0.2184], requires_grad=True),\n",
              " Parameter containing:\n",
              " tensor([[-0.0490,  0.1369,  0.1548, -0.1661,  0.1325, -0.0808, -0.0394,  0.1985,\n",
              "          -0.0372,  0.0702],\n",
              "         [-0.2202, -0.1781, -0.0804, -0.0304,  0.0685, -0.0318,  0.2450,  0.0330,\n",
              "          -0.2286, -0.3078],\n",
              "         [-0.2657, -0.1136,  0.1054, -0.1892,  0.2220, -0.0348,  0.1408,  0.0403,\n",
              "           0.2858, -0.0260]], requires_grad=True),\n",
              " Parameter containing:\n",
              " tensor([-0.1370, -0.0242,  0.0516], requires_grad=True)]"
            ]
          },
          "execution_count": 64,
          "metadata": {},
          "output_type": "execute_result"
        }
      ],
      "source": [
        "list(model.parameters())"
      ]
    },
    {
      "cell_type": "code",
      "execution_count": null,
      "metadata": {
        "colab": {
          "base_uri": "https://localhost:8080/"
        },
        "id": "RkrQl1KVmeMJ",
        "outputId": "785071a1-40a6-4eba-9cde-c32a4caad59c"
      },
      "outputs": [
        {
          "name": "stdout",
          "output_type": "stream",
          "text": [
            "108\n"
          ]
        }
      ],
      "source": [
        "# 파라미터 수 구하기\n",
        "num = sum([p.numel() for p in model.parameters() if p.requires_grad])\n",
        "print(num)"
      ]
    },
    {
      "cell_type": "markdown",
      "metadata": {
        "id": "GNX7PS1Q6JIU"
      },
      "source": [
        "## weight initialization"
      ]
    },
    {
      "cell_type": "code",
      "execution_count": null,
      "metadata": {
        "colab": {
          "base_uri": "https://localhost:8080/"
        },
        "id": "6FUSy0O66KS7",
        "outputId": "26acb6ef-dbf2-4c68-a95c-c56b60d5fc25"
      },
      "outputs": [
        {
          "name": "stdout",
          "output_type": "stream",
          "text": [
            "tensor(0.0200)\n",
            "tensor(0.0200)\n",
            "tensor(0.0446)\n",
            "tensor(0.0447)\n",
            "tensor(0.0228)\n",
            "tensor(0.0228)\n",
            "tensor(0.0323)\n",
            "tensor(0.0323)\n"
          ]
        }
      ],
      "source": [
        "# 내 필기용 : He initialization 이 공식 문서랑 다르다? => paper에 맞게 구현됐고 torch 공식 문서만 틀림\n",
        "import torch\n",
        "from torch import nn\n",
        "Fin=5000\n",
        "Fout=1000\n",
        "w = torch.zeros(100, Fin)\n",
        "nn.init.kaiming_uniform_(w, mode='fan_in', nonlinearity='relu') # forward pass에서 값의 범위를 유지시켜주기 위함\n",
        "print(w.std())\n",
        "print(torch.sqrt(torch.tensor(2/Fin)))\n",
        "w = torch.zeros(Fout, 100)\n",
        "nn.init.kaiming_uniform_(w, mode='fan_out', nonlinearity='relu') # backward pass에서 값의 범위를 유지시켜주기 위함\n",
        "print(w.std())\n",
        "print(torch.sqrt(torch.tensor(2/Fout)))\n",
        "\n",
        "# CNN?\n",
        "N=32\n",
        "C=64\n",
        "H=6\n",
        "W=10\n",
        "w = torch.zeros(N,C,H,W)\n",
        "nn.init.kaiming_uniform_(w, mode='fan_in', nonlinearity='relu')\n",
        "print(w.std())\n",
        "print(torch.sqrt(torch.tensor(2/(C*H*W))))\n",
        "\n",
        "w = torch.zeros(N,C,H,W)\n",
        "nn.init.kaiming_uniform_(w, mode='fan_out', nonlinearity='relu')\n",
        "print(w.std())\n",
        "print(torch.sqrt(torch.tensor(2/(N*H*W))))"
      ]
    }
  ],
  "metadata": {
    "colab": {
      "provenance": []
    },
    "kernelspec": {
      "display_name": "Python 3",
      "name": "python3"
    },
    "language_info": {
      "name": "python"
    }
  },
  "nbformat": 4,
  "nbformat_minor": 0
}
