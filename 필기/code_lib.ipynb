{
 "cells": [
  {
   "cell_type": "markdown",
   "metadata": {},
   "source": [
    "# 코테 TestCase Input config"
   ]
  },
  {
   "cell_type": "code",
   "execution_count": null,
   "metadata": {},
   "outputs": [],
   "source": [
    "import sys\n",
    "from io import StringIO\n",
    "input_data ='''\n",
    "'''\n",
    "sys.stdin = StringIO(input_data)\n",
    "\n",
    "import sys\n",
    "input = sys.stdin.readline\n",
    "print = sys.stdout.write"
   ]
  },
  {
   "cell_type": "markdown",
   "metadata": {},
   "source": [
    "# 내장함수 이해"
   ]
  },
  {
   "cell_type": "code",
   "execution_count": null,
   "metadata": {},
   "outputs": [],
   "source": [
    "import sys\n",
    "\n",
    "def custom_input():\n",
    "    return sys.stdin.readline().strip()  # 개행 문자를 제거한 후 반환\n",
    "input = custom_input  # input()을 동일한기능의 custom_input()으로 대체\n",
    "\n",
    "def custom_print(*args, sep=' ', end='\\n'):\n",
    "    sys.stdout.write(sep.join(map(str, args)) + end)\n",
    "print = custom_print  # print()를 동일한 기능의 custom_print()로 대체"
   ]
  },
  {
   "cell_type": "markdown",
   "metadata": {},
   "source": [
    "# 재활용 코드조각"
   ]
  },
  {
   "cell_type": "code",
   "execution_count": null,
   "metadata": {},
   "outputs": [],
   "source": [
    "a= (1,2,3,4,5)\n",
    "b='asdfsdg'\n",
    "print(str(list(b)))"
   ]
  },
  {
   "cell_type": "code",
   "execution_count": null,
   "metadata": {},
   "outputs": [],
   "source": [
    "# input print 개조\n",
    "import sys\n",
    "input = sys.stdin.readline\n",
    "print = sys.stdout.write\n",
    "# input, \n",
    "import sys\n",
    "def readline():\n",
    "  return sys.stdin.readline()\n",
    "def read():\n",
    "  return sys.stdin.read()\n",
    "def ii():\n",
    "  return int(input())\n",
    "def mi():\n",
    "  return map(int,input().split())\n",
    "def fi():\n",
    "  return float(input())\n",
    "def mfi():\n",
    "  return map(float,input().split())\n",
    "def lii():\n",
    "  return [*map(int,input().split())]\n",
    "def lin(n):\n",
    "  return [ii() for i in range(n)]\n",
    "def plist(arr,sep=' '):\n",
    "  print(sep.join(map(str,arr)))\n",
    "def r45(f):\n",
    "  return int(f + 0.5)\n",
    "\n",
    "li = lambda: int(input())"
   ]
  },
  {
   "cell_type": "code",
   "execution_count": null,
   "metadata": {},
   "outputs": [],
   "source": [
    "# 이진탐색 알고리즘\n",
    "from bisect import bisect_left\n",
    "\n",
    "def binary_search(arr, x):\n",
    "    idx = bisect_left(arr, x)\n",
    "    if idx != len(arr) and arr[idx] == x:\n",
    "        return idx\n",
    "    return -1"
   ]
  },
  {
   "cell_type": "code",
   "execution_count": null,
   "metadata": {},
   "outputs": [],
   "source": [
    "import math\n",
    "# 유클리드 알고리즘 : GCD: Greatest Common Divisor (최대공약수)\n",
    "def gcd_math(a, b):\n",
    "    return math.gcd(a, b)\n",
    "def GCD(a, b):\n",
    "    while b:\n",
    "        a, b = b, a % b\n",
    "    return a\n",
    "# LCM: Least Common Multiple (최소공배수)\n",
    "def LCM(a, b):\n",
    "    return abs(a * b) // math.gcd(a, b)\n",
    "\n",
    "print(gcd_math(54, 24))  # 6\n",
    "print(LCM(12, 15))  # 60"
   ]
  },
  {
   "cell_type": "code",
   "execution_count": 7,
   "metadata": {},
   "outputs": [
    {
     "data": {
      "text/plain": [
       "222232244629420445529739893461909967206666939096499764990979600"
      ]
     },
     "execution_count": 7,
     "metadata": {},
     "output_type": "execute_result"
    }
   ],
   "source": [
    "# 메모이제이션기법 피보나치 수열\n",
    "from functools import lru_cache\n",
    "\n",
    "@lru_cache(maxsize=None)\n",
    "def fibonacci(n):\n",
    "    if n < 2:\n",
    "        return n\n",
    "    return fibonacci(n-1) + fibonacci(n-2)\n",
    "fibonacci(300)  # 55\n"
   ]
  },
  {
   "cell_type": "code",
   "execution_count": null,
   "metadata": {},
   "outputs": [],
   "source": [
    "import pandas as pd\n",
    "import numpy as np\n",
    "\n",
    "df = pd.DataFrame({\n",
    "    'A': np.random.rand(10),\n",
    "    'B': np.random.rand(10)\n",
    "})\n",
    "\n",
    "df['C'] = df['A'] + df['B']  # 열 연산"
   ]
  },
  {
   "cell_type": "code",
   "execution_count": null,
   "metadata": {},
   "outputs": [],
   "source": [
    "# 디렉토리 구조 시각화2\n",
    "def visualize_directory_tree(base_path, indent=0, prefix=\"\"):\n",
    "    base = Path(base_path)\n",
    "    items = list(base.iterdir())\n",
    "    pointers = ['├── '] * (len(items) - 1) + ['└── ']\n",
    "    for pointer, item in zip(pointers, items):\n",
    "        print(prefix + pointer + item.name)\n",
    "        if item.is_dir():\n",
    "            extend_prefix = '│   ' if pointer == '├── ' else '    '\n",
    "            visualize_directory_tree(item, indent + 1, prefix + extend_prefix)\n",
    "\n",
    "visualize_directory_tree(\".\")"
   ]
  },
  {
   "cell_type": "markdown",
   "metadata": {},
   "source": [
    "# ?"
   ]
  },
  {
   "cell_type": "code",
   "execution_count": null,
   "metadata": {},
   "outputs": [],
   "source": [
    "# 조건을 만족하는 리스트 필터링 : 리스트컴프리헨션\n",
    "numbers = [1, 2, 3, 4, 5]\n",
    "even_numbers = [n for n in numbers if n % 2 == 0]"
   ]
  },
  {
   "cell_type": "code",
   "execution_count": null,
   "metadata": {},
   "outputs": [],
   "source": [
    "# 예시: 기존 딕셔너리의 값을 제곱한 새로운 딕셔너리 생성 : 딕셔너리컴프리헨션\n",
    "original = {'a': 1, 'b': 2, 'c': 3}\n",
    "squared = {k: v**2 for k, v in original.items()}"
   ]
  },
  {
   "cell_type": "code",
   "execution_count": null,
   "metadata": {},
   "outputs": [],
   "source": [
    "def flexible_function(*args, **kwargs):\n",
    "    for arg in args:\n",
    "        print(f\"Arg: {arg}\")\n",
    "    for key, value in kwargs.items():\n",
    "        print(f\"{key}: {value}\")\n",
    "\n",
    "flexible_function(1, 2, 3, name=\"Alice\", age=30)"
   ]
  },
  {
   "cell_type": "code",
   "execution_count": null,
   "metadata": {},
   "outputs": [],
   "source": [
    "# @ 데코레이터\n",
    "def logger(func):\n",
    "    def wrapper(*args, **kwargs):\n",
    "        print(f\"Function {func.__name__} called with {args} and {kwargs}\")\n",
    "        result = func(*args, **kwargs)\n",
    "        print(f\"Function {func.__name__} returned {result}\")\n",
    "        return result\n",
    "    return wrapper\n",
    "\n",
    "@logger\n",
    "def add(a, b):\n",
    "    return a + b\n",
    "\n",
    "add(3, 4)"
   ]
  },
  {
   "cell_type": "code",
   "execution_count": null,
   "metadata": {},
   "outputs": [],
   "source": [
    "# 정규표현식\n",
    "import re\n",
    "\n",
    "def find_dates(text):\n",
    "    pattern = r'\\d{2}/\\d{2}/\\d{4}'\n",
    "    return re.findall(pattern, text)"
   ]
  },
  {
   "cell_type": "code",
   "execution_count": null,
   "metadata": {},
   "outputs": [],
   "source": [
    "# 데이터직렬화(JSON)\n",
    "# 데이터를 JSON 형식으로 직렬화하고 역직렬화하는 것은 웹 애플리케이션 및 API 작업에서 필수적\n",
    "import json\n",
    "\n",
    "def save_data(data, filename):\n",
    "    with open(filename, 'w') as f:\n",
    "        json.dump(data, f)\n",
    "\n",
    "def load_data(filename):\n",
    "    with open(filename, 'r') as f:\n",
    "        return json.load(f)"
   ]
  },
  {
   "cell_type": "code",
   "execution_count": null,
   "metadata": {},
   "outputs": [],
   "source": [
    "# 타임힌트 기능\n",
    "def greet(name: str) -> str:\n",
    "    return f\"Hello, {name}\"\n",
    "\n",
    "print(greet(\"Alice\"))\n",
    "\n",
    "a : int = 1 #  타입을 명시가능하지만 기능은 없는 주석같은것\n",
    "print(a)\n",
    "\n",
    "# mypy를 사용한 정적 타입 검사\n",
    "# $ mypy script.py\n"
   ]
  },
  {
   "cell_type": "code",
   "execution_count": null,
   "metadata": {},
   "outputs": [],
   "source": [
    "# print 대신 logging?\n",
    "import logging\n",
    "\n",
    "logging.basicConfig(level=logging.INFO)\n",
    "logging.info(\"This is an info message\")\n",
    "logging.warning(\"This is a warning message\")"
   ]
  },
  {
   "cell_type": "code",
   "execution_count": null,
   "metadata": {},
   "outputs": [],
   "source": [
    "# 파이썬 병목현상 프로파일링?\n",
    "import cProfile\n",
    "\n",
    "def my_function():\n",
    "    # Some computation\n",
    "    pass\n",
    "\n",
    "cProfile.run('my_function()')"
   ]
  },
  {
   "cell_type": "code",
   "execution_count": null,
   "metadata": {},
   "outputs": [],
   "source": [
    "import pandas, Numpy, \n",
    "from contextlib import contextmanager\n",
    "from collections import Counter, defaultdict"
   ]
  },
  {
   "cell_type": "code",
   "execution_count": null,
   "metadata": {},
   "outputs": [],
   "source": [
    "import sys\n",
    "input = sys.stdin.readline\n",
    "print = sys.stdout.write\n",
    "\n",
    "n = int(input())\n",
    "\n",
    "strs = list(map(input, []*n))\n",
    "\n",
    "print(strs.sort())"
   ]
  },
  {
   "cell_type": "markdown",
   "metadata": {},
   "source": [
    "# 미제"
   ]
  },
  {
   "cell_type": "code",
   "execution_count": null,
   "metadata": {},
   "outputs": [],
   "source": [
    "a = *map(input().strip().split(),['']*5 ),\n",
    "print(a)"
   ]
  },
  {
   "cell_type": "code",
   "execution_count": null,
   "metadata": {},
   "outputs": [],
   "source": [
    "a=*map(input,['']*5),\n",
    "for i in range(15):\n",
    " for j in a:print(end=j[i:i+1])"
   ]
  },
  {
   "cell_type": "code",
   "execution_count": null,
   "metadata": {},
   "outputs": [],
   "source": [
    "a=*map(input,['']*5),\n",
    "print(a)"
   ]
  },
  {
   "cell_type": "code",
   "execution_count": null,
   "metadata": {},
   "outputs": [],
   "source": [
    "let mut input = input.split_ascii_whitespace();"
   ]
  },
  {
   "cell_type": "code",
   "execution_count": null,
   "metadata": {},
   "outputs": [],
   "source": [
    "my_string_ascii_lowercase = (string.ascii_lowercase)\n",
    "my_string_ascii_uppercase = \"ascii_uppercase\"\n",
    "print(my_string_ascii_lowercase.capitalize())"
   ]
  },
  {
   "cell_type": "markdown",
   "metadata": {},
   "source": [
    "# 예시)"
   ]
  },
  {
   "cell_type": "code",
   "execution_count": null,
   "metadata": {},
   "outputs": [],
   "source": [
    "squares = [x**2 for x in range(10)]  # 간결하고 효율적인 리스트 생성"
   ]
  },
  {
   "cell_type": "code",
   "execution_count": null,
   "metadata": {},
   "outputs": [],
   "source": [
    "def large_sequence():\n",
    "    for i in range(10**6):\n",
    "        yield i  # 메모리 절약"
   ]
  },
  {
   "cell_type": "code",
   "execution_count": null,
   "metadata": {},
   "outputs": [],
   "source": [
    "# 멀티코어 시스템에서 작업을 병렬 처리하는 것은 성능을 크게 향상시킬 수 있습니다. concurrent.futures를 사용하여 병렬 작업을 쉽게 구현\n",
    "# 공부 필요\n",
    "from concurrent.futures import ThreadPoolExecutor\n",
    "\n",
    "def task(n):\n",
    "    return n * n\n",
    "\n",
    "with ThreadPoolExecutor(max_workers=4) as executor:\n",
    "    results = list(executor.map(task, range(10)))"
   ]
  }
 ],
 "metadata": {
  "kernelspec": {
   "display_name": "Python 3",
   "language": "python",
   "name": "python3"
  },
  "language_info": {
   "codemirror_mode": {
    "name": "ipython",
    "version": 3
   },
   "file_extension": ".py",
   "mimetype": "text/x-python",
   "name": "python",
   "nbconvert_exporter": "python",
   "pygments_lexer": "ipython3",
   "version": "3.11.8"
  }
 },
 "nbformat": 4,
 "nbformat_minor": 2
}
