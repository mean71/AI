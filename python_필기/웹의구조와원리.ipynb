{
 "cells": [
  {
   "cell_type": "markdown",
   "metadata": {},
   "source": [
    "---\n",
    "# 웹의 구조와 기본 원리\n",
    "---"
   ]
  },
  {
   "cell_type": "markdown",
   "metadata": {},
   "source": [
    "# 3일간의 목차\n",
    "\n",
    "크로미움이라는 웹? 표준? 이있다.  \n",
    "웹을 하는데 자바스크립트를 안배운다는것은 여행가서 언어를 모르는 것\n",
    "\n",
    "- 웹 구조의 이해\n",
    "  - 인터넷의 전체 구조\n",
    "  - 웹브라우저의 이해\n",
    "  - 실습: javascript기초 - 기본 자바스크립트 문법 , 그리고 B\"OM/DOM을  이용한 브라우저 조작 해보기\n",
    "  - 실습: 간단한 크롤링 해보기 (네이버 뉴스, 랭킹, 언론사, 기자 목록)\n",
    "- 조금 더 복잡한 크롤링\n",
    "  - 크롬드라이버: 긁고 싶은 내용이 소스 코드에 없는 경우에는 어떻게 하는지?\n",
    "  - await / async에 대한 이해 - 웹이 다 이걸로 되어있다 - 앞으로도 많이 쓰게된다.\n",
    "  - 실습: await 기초 실습\n",
    "  - 실습: 네이버 댓글, 기자별 댓글 양상 알아보기\n",
    "- 자동화 매크로 작성\n",
    "  - 테스트 자동화를 응용한 매그로 작성해보기\n",
    "  - 실습: 로그인 이후 ktx 예매 매크로 작성해보기 (회원가입 진행할 것)"
   ]
  },
  {
   "cell_type": "markdown",
   "metadata": {},
   "source": [
    "# 웹의 기본 구조 - 서버와 클라이언트"
   ]
  },
  {
   "cell_type": "markdown",
   "metadata": {},
   "source": [
    "- 서버 = PC\n",
    "- \n",
    "- 클라이언트 = 대게의 경우 , 사용자\n",
    "- 요청 보낼 때 생각해야 할 2가지\n",
    "- 클라이언트 -> Request -> Server 반대는 Response, 아무튼 이게 많으면 디도스공격이다\n",
    "- 도메인,라우터,컴퓨터"
   ]
  },
  {
   "cell_type": "markdown",
   "metadata": {},
   "source": [
    "cisco : 미국의 인터넷 장비 제조 및 서비스 기업.\n",
    "네트워크, 사물인터넷, 유·무선 네트워크 인프라, 사이버보안, 데이터센터, 클라우드 컴퓨팅, 협업툴 등 B2B 위주로 인터넷 관련 대부분 분야에 진출해있으며 특히, 스위치, 라우터 등 유선 통신장비 분야에서 업계 1위를 기록하고 있다.\n",
    "- IP Address\n",
    "  - PUblic IP\n",
    "  - Private IP\n",
    "    - 포트포워딩 : 프라이빗IP와 퍼블릭IP를 연결해주는 과정\n",
    "  - localhost\n",
    "    - 호스팅 : 소스코드를 던져주면 도메인이랑 연결해서 밖에서 볼수 있게 하는것\n",
    "      - 호스팅\n",
    "      - 호스팅\n",
    "      - 호스팅\n",
    "      - 호스팅\n",
    "- Mac Address\n",
    "  - physical Address"
   ]
  },
  {
   "cell_type": "markdown",
   "metadata": {},
   "source": [
    "## PUblic IP address vs Private IP address\n",
    "- Public IP Address (공인 IP 주소)\n",
    "   - 외부에서 내 IP 주소를 볼 때 사용: 공인 IP 주소는 인터넷 상에서 고유하게 할당되는 IP 주소로, 전 세계에서 유일합니다. 이 주소를 통해 외부에서 내 네트워크 또는 디바이스에 접근할 수 있습니다.\n",
    "   - 내부에서 외부 IP 주소를 볼 때 사용: 내가 외부 사이트에 접속할 때도 내 공인 IP 주소가 외부 서버에 보입니다. 예를 들어, 웹사이트에 접속할 때 해당 사이트는 내가 사용하는 공인 IP 주소를 통해 내 위치와 ISP(인터넷 서비스 제공자)를 식별할 수 있습니다.\n",
    "   - 주로 사용처: 웹 서버, 이메일 서버, FTP 서버 등 인터넷 상에서 접근 가능한 서비스를 운영할 때 사용됩니다.\n",
    "   - 할당 방법: 인터넷 서비스 제공자(ISP)가 할당하며, 일반적으로 유동 IP(변동 가능)와 고정 IP(변하지 않음)로 나뉩니다.\n",
    "- Private IP Address (사설 IP 주소)\n",
    "   - 내부 네트워크에서만 사용: 사설 IP 주소는 주로 가정이나 회사 내부 네트워크에서 사용되며, 외부 인터넷에서는 직접적으로 접근할 수 없습니다.\n",
    "   - 내부에서 다른 디바이스의 IP 주소를 볼 때 사용: 내 컴퓨터나 스마트폰이 내부 네트워크 내에서 다른 디바이스와 통신할 때 사설 IP 주소를 사용합니다. 예를 들어, 집 안의 컴퓨터가 프린터와 통신할 때 사용되는 IP 주소는 사설 IP입니다.\n",
    "   - 주로 사용처: 가정, 회사, 학교 등에서 라우터를 통해 여러 장치에 네트워크를 제공할 때 각 장치에 할당됩니다.\n",
    "   - 할당 방법: 일반적으로 라우터가 자동으로 할당하며, 주소 범위는 주로 192.168.x.x, 10.x.x.x, 172.16.x.x ~ 172.31.x.x 범위를 사용합니다."
   ]
  },
  {
   "cell_type": "markdown",
   "metadata": {},
   "source": [
    "## Request / Response\n",
    "- 정해진대로 = protocol, 의전\n",
    "- 인터넷 상에서 정해진 규약은 HTTP\n",
    "  - HTTP = HyperText Transfer Protocol\n",
    "  - 비슷하게 뒤에 P 붙은 건 보통 protocol (ex.FTP)\n",
    "- 대부분의 웹은 HTTP Request / Response 로 되어있다."
   ]
  },
  {
   "cell_type": "markdown",
   "metadata": {},
   "source": [
    "## HTTP Request의 구조\n",
    "- Header\n",
    "  - 일반적으로 메타데이터 등을 넣음\n",
    "  - 사람이 한 거 같은 요청으로 만들 때 가장 많이 바꿀 것\n",
    "    - 키랑 벨류로 되어있다.\n",
    "- Body\n",
    "  - 요청에 필요한 데이터 그 자체를 넣음\n",
    "  - post등에서 필요하고, 우리는 크롤링에서는 거의 쓸 일 없음\n",
    "    - 키랑 벨류로 되어있다.\n",
    "- Query Parameter\n",
    "  - url에 노출되는 데이터"
   ]
  },
  {
   "cell_type": "markdown",
   "metadata": {},
   "source": [
    "크롤링은 꼼꼼한 노가다와 눈치밥이다."
   ]
  },
  {
   "cell_type": "markdown",
   "metadata": {},
   "source": [
    "## HTTP Request의 종류\n",
    "- 많은 종류가 있으나, 사실상 GET/POST가 거의 대부분\n",
    "  - 다 동사형이고, request가 어떤 역할을 하는지 말해주는 것\n",
    "- GET: 서버에서 무언가를 받아오는 것\n",
    "  - 뉴스 목록 받아오기 등등\n",
    "- POST: 서버에 무언가를 올리는 것\n",
    "  - input submit(로그인) 등등"
   ]
  },
  {
   "cell_type": "markdown",
   "metadata": {},
   "source": [
    "## HTTP Response의 종류\n",
    "- 서버에서의 방향에 따라 다양한 종류가 존재함\n",
    "- 보통 코드를 보고 어떤 종류의 response인지 알 수 있음\n",
    "  - 1xx: 정보성. 어떤 request를 받았고 지금 처리중이라는 걸 알려주는 것\n",
    "  - 2xx: 성공적으로 처리되었을 경우 (200 등)\n",
    "  - 3xx: 다른 액션이 필요하여 그 액션으로 리디렉션 하는 경우\n",
    "  - 4xx: 클라이언트 쪽의 사유로 뭔가 문제가 생김\n",
    "  - 5xx: 서버 쪽의 사유로 뭔가 문제가 생김"
   ]
  },
  {
   "cell_type": "markdown",
   "metadata": {},
   "source": [
    "## HTML 문서란?\n",
    "- 웹이서의 모든 문서들의 표준 양식 (공무원에서의 hwp라고 보면 무방)\n",
    "- html문서들의 구조: 사실상 트리로 되어있음\n",
    "```\n",
    "    <태그명 속성1 = 값1 속성2 = 값2 ...>\n",
    "        내용(역시 html 코드)\n",
    "    </태그명>\n",
    "```\n",
    "헤더에는 파이썬으로 따지면 임포트 문같은것들이 많고  \n",
    "body에는 실제로 겉으로 보이는 대부분의 구조가 답겨있다.  \n",
    "div 는 division 분할: 화면쪼가리  \n",
    "ctrl + u :  \n",
    "F12 :  "
   ]
  },
  {
   "cell_type": "markdown",
   "metadata": {},
   "source": [
    "## 예제: 네이버 뉴스로 보는 예시\n",
    "- 네이버 뉴스 -> ctrl + u\n",
    "  - 링크 앞에 view-source: 붙여도 됨\n",
    "  - html 코드를 바로 볼 수 있음.\n",
    "- 웹은 원론적으로 숨기기가 불가능함. 그러므로 시간은 들어도 무조건 뜯어보면 원하는 것을 대부분의 경우 알 수 있음."
   ]
  },
  {
   "cell_type": "markdown",
   "metadata": {},
   "source": [
    "## API란?\n",
    "- 서로서로 어떤 식으로 내용을 주고 받을지 정해놓은 것\n",
    "- HTTP Request / Response랑은 다른가요?\n",
    "  - 조금다름\n",
    "  - HTTP는 정보를 주고 받는 양식, API는 그 양식에 맞춰서 어떤 정보를 주고 받을지에 대한 내용\n",
    "  - 형식과 내용의 차이\n",
    "- 앞으로 마르고 닳도록 쓸 것\n",
    "\n",
    "- 서버에서 받아서 클라이언트와 상호작용하는게 API\n",
    "- 로컬에 받아서 쓰면 라이브러리"
   ]
  },
  {
   "cell_type": "markdown",
   "metadata": {},
   "source": [
    "문서를 받아서 잘 랜더링해서 보기 좋게 보여주는게 크롬이 하는 일"
   ]
  },
  {
   "cell_type": "markdown",
   "metadata": {},
   "source": [
    "## 웹브라우저의 이해\n",
    "- 웹브라우저 = html 문서 리더\n",
    "  - epub ->킨들, hwp -> hwp 뷰어, html -> 크롬 등등\n",
    "  - 웹의 최고 장점?"
   ]
  },
  {
   "cell_type": "markdown",
   "metadata": {},
   "source": [
    "요소, 콘솔, 소스, 네트워크를 대부분 본다  \n",
    "요소 - 웹이서 상호작용하면서 어쩌고  \n",
    "네트워크 - 네트워크를 잘 까서 보다보니  \n",
    "\n",
    "3가지 크롤링 접근  \n",
    "1번째 HTML을 뜯어 원하는것을 찾는경우  \n",
    "2번째 ㅇㄹ아러안 찾아보니 API가 노출되어있는 경우  \n",
    "3번쨰  "
   ]
  },
  {
   "cell_type": "markdown",
   "metadata": {},
   "source": [
    "## 웹브라우저의 Back Stage: 개발자 도구\n",
    "- Elements\n",
    "  - html코드\n",
    "  - javascript로 생성된 html 코드 포함\n",
    "  - 크롤링할 때 주로 많이 보게 될 것\n",
    "- Network\n",
    "  - api를 따서 크롤링할 때 주로 많이 보게 됨\n",
    "  - 뭔가 하다가 막힐때 많이 참고할 것\n",
    "- Console\n",
    "  - javascript를 이용할 때 사용\n",
    "- Sources\n",
    "  - 혹시 javascript 등 소스를 봐야 할 때, 여기를 참고"
   ]
  },
  {
   "cell_type": "markdown",
   "metadata": {},
   "source": [
    "## 문서에 생명을 불어넣어주는 Javascript\n",
    "- Java와 아무상관 없음\n",
    "  - 인도네시아 - 인도정도 상관 있음\n",
    "- 웹에 있는 문서들을 다 javascript를 이용하여 다룸\n",
    "  - html documentㅡㄹ javascript로 다루는 법 -> DOM\n",
    "  - chrome browser를 javascript로 다루는 법 -> BOM\n",
    "- 이걸 파이썬을 이용하여 하는 법\n",
    "  - selenium - 파이썬으로 잘못만듬 - 로딩끝나기전에 멋대로 뻑내고 없다시전함\n",
    "  - puppeteer - 유지보수가 안됨\n",
    "  - playwright - 자료가 가장 없음 - 이걸사용한다\n",
    "- 파이썬은 깊게 파서 얻을 수 있는 이득이 별로 없지만 javascript와 c++은 깊게 파면 얻을 수 있는 이득이 많다. c++ 는 근데 어렵다.."
   ]
  },
  {
   "cell_type": "markdown",
   "metadata": {},
   "source": [
    "## javascript 기본 문법\n",
    "- 파이썬 기본 문법과 비슷한 부분이 많음\n",
    "  - 다만, javascript는 자체적으로 문법이 굉장히 이상한 편이기에 javascript문법을 잘 아는 건 그 자체로 대단히 어려운 일\n",
    "- 어느 언어던, 맨 처음에 문법을 알아야 할 때는\n",
    "  - 줄을 어떻게 쪼개는지? / 한 줄 안에서 어떤 식으로 쪼개는지?\n",
    "  - 어떤 type들이 있는지? / 그 타입들에서 많이 쓰는 함수들은 뭐가 있는지?\n",
    "  - if/elif/else, for/while 문을 어떤 식으로 쓰는지?\n",
    "  - 함수/클래스 정의를 어떻게 하는지?"
   ]
  },
  {
   "cell_type": "markdown",
   "metadata": {},
   "source": [
    "## javascrit 기본 문법 - 줄 쪼개기\n",
    "- F12눌러서 콘솔들어간것이 cmd에서 파이선 실행한것과 비슷하다\n",
    "\n",
    "- javascript는 줄 기준이 무조건; 이다.\n",
    "- 파이썬과는 다르게, 인덴트는 중요하지 않음. 괄호는 중요\n",
    "- 문법이 let{변수명} = {값}; 형식\n",
    "- 파이썬에서의 print = console.og"
   ]
  },
  {
   "cell_type": "markdown",
   "metadata": {},
   "source": [
    "## javascript 기본 문법 - 기본 type들과 문법\n",
    "- number (int, float)\n",
    "- string (str)\n",
    "- boolean (bool)\n",
    "- Null (None)\n",
    "- Array (= python list)\n",
    "- Object (= python dict)"
   ]
  },
  {
   "cell_type": "markdown",
   "metadata": {},
   "source": [
    "## javascript 기본 문법 - if/elif/else, for/while\n",
    "- for ... in range() -> for (let i=0; i < n; i++) {...}\n",
    "```\n",
    "for i in range(5):\n",
    "    print(i)\n",
    "||\n",
    "for (let i=0; i <5; i++) {\n",
    "    console.log(i)\n",
    "}\n",
    "```\n",
    "- for x in y: ... -> for (let x of y) {...} // y is a Array\n",
    "```\n",
    "for x in [1,2,3]:\n",
    "    print(i)\n",
    "||\n",
    "for (let x of [1,2,3]){\n",
    "    console.log(i)\n",
    "}\n",
    "```"
   ]
  },
  {
   "cell_type": "code",
   "execution_count": null,
   "metadata": {},
   "outputs": [],
   "source": [
    "d=1\n",
    "let d = 1;\n",
    "const e = e.71828;\n",
    "d = 2\n",
    "d\n",
    "e = 2\n",
    "console.log(d)\n",
    "d\n",
    "let a = [1,2,3,4];\n",
    "a[0]\n",
    "a[1]\n",
    "let hello = 'hello world';\n",
    "hello[0]\n",
    "hello[2]\n",
    "hello.replace('o', 'k');\n",
    "hello.replaceAll('o', 'k');\n",
    "let d = {hello:1, bye:'goodbye'};\n",
    "\n",
    "앗 뭔가 놓침\n",
    "let i = 10;\n",
    "i = 10\n",
    "if (i < 0){\n",
    "    console.log('i is negative');\n",
    "} else if (i % 2 == 0) {\n",
    "    console.log('i is even');\n",
    "} else {\n",
    "    console.log('i is odd'); }\n",
    "i is negative\n",
    "0 == '' # true\n",
    "\n",
    "for (let j = 0; j < 10; j++){\n",
    "    // j++ <=> j+=1\n",
    "    console.log(j);\n",
    "}\n",
    "\n",
    "for (let j = 2; j < 10; j = j +2){\n",
    "    // j++ <=> j+=1\n",
    "    console.log(j);\n",
    "}\n",
    "range10 = [0, 1, 2, 3, 4, 5, 6, 7, 8, 9] # (10) [0, 1, 2, 3, 4, 5, 6, 7, 8, 9]\n",
    "\n",
    "for (let idx of range10){\n",
    "    console.log(idx * 10);\n",
    "}# 0 10 20 30 40 50 60 70 80 90  (sep='\\n')\n",
    "lst = ['a','b','c']; # (3) ['a','b','c']\n",
    "idx = 0;\n",
    "for (let elem of lst){\n",
    "    console.log(idx, elem);\n",
    "    idx++;\n",
    "} # 0 'a'   1 'b'  2 'c'\n",
    "\n",
    "let d = {hello: 'world', bye: 'goodbye'};\n",
    "\n",
    "for (let key in d){\n",
    "    console.log(key, d[key]);\n",
    "}\n",
    "hello world\n",
    "bye goodbye\n",
    "\n",
    "// 화살표 함수\n",
    "let multiply = (a, b) => { return a * b; };\n",
    "\n",
    "function multiply(a,b) {\n",
    "    console.log(a); console.log(b);\n",
    "    return a * b;}\n",
    "\n",
    "multiply(1,2) # 1,2\n",
    "let multiply = (a, b) => {return a*b;}; # 마지막이 콜론인지 세미콜론인지\n",
    "\n",
    "times(3, 4) # 12\n",
    "let enumerate = (lst) => {\n",
    "    retrun };\n",
    "\n",
    "let enumerate = (lst) => {\n",
    "    sfsdfsdf\n",
    "};\n",
    "let enumerate = (lst) => {\n",
    "    sfsdfsdf\n",
    "};\n",
    "\n",
    "\n",
    "- javascript를 괴랄하게 만드는 여러 요소들\n",
    "1. 자바스크립트는 함수가 요상망측한게 많다\n",
    "2. eval과 뭐를 안쓸수가 없다.\n",
    "3. 파이썬이 타입이 없어서 헷갈리기 좋지만 자바스크립트는 근본이 없는 수준 하지만 버그있어도 잘 돌아는 가서 웹에 잘맞는다?"
   ]
  },
  {
   "cell_type": "markdown",
   "metadata": {},
   "source": [
    "모든문법에 조건문과 반복문은 있는 것. return 도 모든 언어에서 있는 문법인듯 함  \n",
    "크롤링은 일정수준 이상은 구글링해도 안나오고 일정수준이하는 데이터가 너무많아 gpt돌리면 잘된다.  "
   ]
  },
  {
   "cell_type": "markdown",
   "metadata": {},
   "source": [
    "## DOM: 문서 각 부분을 javascript로 접근하기\n",
    "- document. 으로 시작함 \n",
    "- 문서에서 특정 element를 얻기 # 함수명 대소문자 주의\n",
    "  - document.getElementById\n",
    "  - document.getElementByClassName / TagName\n",
    "  - document.querySelector / querySelectorAll # 정규표현식 쿼리 날려서 원하는 형식 다 긁기\n",
    "- element 안의 속성 접근/변경 (크롤링할때는 보통 접근만 있음)\n",
    "  - element.innerHTML\n",
    "  - element.textContent\n",
    "  - element.getAttribute / element.setAttribute"
   ]
  },
  {
   "cell_type": "code",
   "execution_count": null,
   "metadata": {},
   "outputs": [],
   "source": [
    "# 웹툰에서 이미지 찾기, 코레일예매일 날짜 선택값 쿼리로 지정해보기\n",
    "# wt_viewer\n",
    "wt_viewer\n",
    "webtoon_images = document.querySelectorAll('img[id^=\"content_image_\"]');\n",
    "\n",
    "for (let i of webtoon_images){\n",
    "    console.log(i.src)\n",
    "}\n",
    "# 코레일 https://www.letskorail.com/ebizprd/EbizPrdTicketpr21100W_pr21110.do\n",
    "elem = document.querySelector('option[value = \"08\"]');\n",
    "elem.setAttribute(\"selected\",\"selected\");"
   ]
  },
  {
   "cell_type": "markdown",
   "metadata": {},
   "source": [
    "## 그래서 지금부터 해볼 것\n",
    "- 파이썬으로 request를 보내고 받기\n",
    "- html 문서의 구조와 그 파싱\n",
    "- 크롤링 해보기"
   ]
  },
  {
   "cell_type": "markdown",
   "metadata": {},
   "source": [
    "## \n",
    "find / find_all  만 거의 사용 # 조건에 맞는거 하나만, 조건에 맞는 모든것\n",
    "find_all(tag_name, (attr_dict)) 로 사용이 거의 대부분 # 클래스, (속성)"
   ]
  }
 ],
 "metadata": {
  "kernelspec": {
   "display_name": "Python 3",
   "language": "python",
   "name": "python3"
  },
  "language_info": {
   "codemirror_mode": {
    "name": "ipython",
    "version": 3
   },
   "file_extension": ".py",
   "mimetype": "text/x-python",
   "name": "python",
   "nbconvert_exporter": "python",
   "pygments_lexer": "ipython3",
   "version": "3.12.4"
  }
 },
 "nbformat": 4,
 "nbformat_minor": 2
}
