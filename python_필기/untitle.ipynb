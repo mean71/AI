{
 "cells": [
  {
   "cell_type": "code",
   "execution_count": null,
   "metadata": {},
   "outputs": [],
   "source": [
    "print('Hello World\\n'*3)"
   ]
  },
  {
   "cell_type": "code",
   "execution_count": null,
   "metadata": {},
   "outputs": [],
   "source": [
    "from decimal import Decimal\n",
    "a=Decimal(\"0.1\")+Decimal(\"1.1\")\n",
    "print(a)"
   ]
  },
  {
   "cell_type": "code",
   "execution_count": null,
   "metadata": {},
   "outputs": [],
   "source": [
    "def solution(a, d, included):\n",
    "    sums = 0\n",
    "    if 1<=a<=100 and 1<=d<=100 and 1<=len(included)<=100 and 1<=included.count(True):\n",
    "        for i,j in enumerate(included):\n",
    "            e=a+d*i\n",
    "            if j == \"true\":\n",
    "                sums+=e\n",
    "    return sums\n",
    "\n",
    "\n",
    "print(solution(3,4,[True, False, False, True, True]))"
   ]
  },
  {
   "cell_type": "code",
   "execution_count": null,
   "metadata": {},
   "outputs": [],
   "source": [
    "i = list(range(10))\n",
    "print(i)\n",
    "for i in i:\n",
    "  if i == 5:\n",
    "    break\n",
    "  print(i)\n",
    "print(i)"
   ]
  },
  {
   "cell_type": "code",
   "execution_count": null,
   "metadata": {},
   "outputs": [],
   "source": [
    "i = list(range(10))\n",
    "print(i)\n",
    "for a in i:\n",
    "  if a == 5:\n",
    "    break\n",
    "  print(a)\n",
    "  \n",
    "print(a)\n",
    "print(i)"
   ]
  },
  {
   "cell_type": "code",
   "execution_count": null,
   "metadata": {},
   "outputs": [],
   "source": [
    "T = int(input())\n",
    "sum_ab=[]\n",
    "A_B=[]\n",
    "for t in range(T):\n",
    "    A,B = map(int, input().strip().split())\n",
    "    A_B.append((A, B))\n",
    "    sum_ab.append(A + B)\n",
    "for t in range(T):\n",
    "    print(f'Case #{t+1}: {A_B[t][0]} + {A_B[t][1]} = {sum_ab[t]}')"
   ]
  },
  {
   "cell_type": "code",
   "execution_count": null,
   "metadata": {},
   "outputs": [],
   "source": [
    "N = int(input())\n",
    "if 0<N<101:\n",
    "    for n in range(N):\n",
    "        print('*'*(n+1))"
   ]
  },
  {
   "cell_type": "code",
   "execution_count": null,
   "metadata": {},
   "outputs": [],
   "source": [
    "N = int(input())\n",
    "\n",
    "if 0<N<101:\n",
    "    for n in range(N):\n",
    "        print(' '*(N-n-1)+'*'*(n+1))"
   ]
  },
  {
   "cell_type": "code",
   "execution_count": null,
   "metadata": {},
   "outputs": [],
   "source": [
    "sum_AB=[]\n",
    "while True:\n",
    "    A,B = map(int, input().strip().split())\n",
    "    if 0<A<10 and 0<B<10:\n",
    "      sum_AB.append( sum([A,B]) )\n",
    "    else: break\n",
    "for n in range(len(sum_AB)):\n",
    "    print(sum_AB[n])"
   ]
  },
  {
   "cell_type": "code",
   "execution_count": null,
   "metadata": {},
   "outputs": [],
   "source": [
    "sum_AB = []\n",
    "while True:\n",
    "  try:\n",
    "    A,B = map(int, input().strip().split())\n",
    "    if 0<A<10 and 0<B<10:\n",
    "      sum_AB.append(A+B)\n",
    "  except: break\n",
    "  \n",
    "for i in sum_AB:\n",
    "  print(i)"
   ]
  },
  {
   "cell_type": "code",
   "execution_count": null,
   "metadata": {},
   "outputs": [],
   "source": [
    "stack=[]\n",
    "try:\n",
    "  X = map(int, input().strip().split())\n",
    "  stack.extend(X)\n",
    "  print(stack)\n",
    "  stack.pop()\n",
    "  print(stack)\n",
    "except:\n",
    "  "
   ]
  },
  {
   "cell_type": "code",
   "execution_count": null,
   "metadata": {},
   "outputs": [],
   "source": [
    "N = 5\n",
    "print(\"\\n\".join([str(n) * N for n in range(N)]))\n",
    "print(*[f'{n}\\n' * N for n in range(N)], sep='')\n",
    "print(\"\\n\".join(map(lambda n: f'{n}\\n' * N, range(N))))\n",
    "print(\"\\n\".join(f'{n}\\n' * N for n in range(N)))"
   ]
  },
  {
   "cell_type": "code",
   "execution_count": null,
   "metadata": {},
   "outputs": [],
   "source": [
    "N = int(input())\n",
    "print(\"\\n\".join(f'{n+1}' for n in range(N)))\n",
    "# print()는 리턴자료형이아니라 제너레이터자료형은 처리못한다."
   ]
  },
  {
   "cell_type": "code",
   "execution_count": null,
   "metadata": {},
   "outputs": [],
   "source": [
    "N = int(input())\n",
    "a,b = 1,0\n",
    "for n in range(N):\n",
    "  a*=n+1\n",
    "while a%10==0:\n",
    "  b+=1\n",
    "  a//=10\n",
    "\n",
    "print(b)"
   ]
  },
  {
   "cell_type": "code",
   "execution_count": null,
   "metadata": {},
   "outputs": [],
   "source": [
    "N,n=int(input()),0\n",
    "\n",
    "while N>4 :\n",
    "  N//=5\n",
    "  n+=1\n",
    "print(n)"
   ]
  },
  {
   "cell_type": "code",
   "execution_count": null,
   "metadata": {},
   "outputs": [],
   "source": [
    "assert 6 / 2 == 3\n",
    "6/2"
   ]
  },
  {
   "cell_type": "code",
   "execution_count": null,
   "metadata": {},
   "outputs": [],
   "source": [
    "a = 'hello'\n",
    "b = 'world'\n",
    "\n",
    "c = 'hello world'\n",
    "d = 'hello world hello world'\n",
    "e = f'{a} {b}'\n",
    "d = f'{a} {b} '*2\n",
    "d"
   ]
  },
  {
   "cell_type": "code",
   "execution_count": null,
   "metadata": {},
   "outputs": [],
   "source": [
    "\n",
    "class A:\n",
    "  b=[1,10,1]\n",
    "  a=[ 1,'2',[3],(4),(5,5),{6}, list(range( *b )) ]\n",
    "  \n",
    "print(isinstance(A.a, A))\n",
    "print(isinstance(A.a, list))\n",
    "print(type(A.a))\n",
    "\n",
    "print([ ( type(A.a[i]) ) for i in range(len(A.a)) ])"
   ]
  },
  {
   "cell_type": "code",
   "execution_count": null,
   "metadata": {},
   "outputs": [],
   "source": [
    "all_smallcase_letters = 'abcdefghijklmnopqrstuvwxyz'\n",
    "a = (1,2,3)\n",
    "b = []\n",
    "b.extend(all_smallcase_letters)\n",
    "print(b)\n",
    "print(type(b))\n",
    "print(str(b))\n",
    "B=str(b).upper()\n",
    "print(B)\n",
    "print(type(B))\n",
    "print(B[3]) # 리스트같지만 str로 찍으면 대괄호랑 ' 와 , 도 하나의 문자열이 된다."
   ]
  },
  {
   "cell_type": "code",
   "execution_count": null,
   "metadata": {},
   "outputs": [],
   "source": [
    "# lv1 1. lv1 2.1~4)\n",
    "all_smallcase_letters = 'abcdefghijklmnopqrstuvwxyz'\n",
    "\n",
    "upper_to_lower, lower_to_upper, alpha_to_number, number_to_alphabet = {},{},{},{}\n",
    "a,b = (1,2,3),[]\n",
    "b.extend(all_smallcase_letters)\n",
    "print('1',type(b), b)\n",
    "\n",
    "B=[i.upper() for i in b]\n",
    "print('2_list',type(B), B)\n",
    "for x, y in zip(B,b):\n",
    "  upper_to_lower[x]=y\n",
    "print('2_1',type(upper_to_lower), upper_to_lower)\n",
    "for x, y in zip(b,B):\n",
    "  upper_to_lower[x]=y\n",
    "print('2_2',type(upper_to_lower), upper_to_lower)\n",
    "\n",
    "for x,y in enumerate(all_smallcase_letters):\n",
    "  alpha_to_number[y]=x+1\n",
    "print('3',type(alpha_to_number), alpha_to_number)\n",
    "\n",
    "for x,y in enumerate(tuple(zip(b,B))):\n",
    "  number_to_alphabet[x+1]=y\n",
    "print('4',type(number_to_alphabet), number_to_alphabet)\n",
    "\n",
    "# lv1 3.1~4)\n",
    "A = 'absdf123SAFDSDF'\n",
    "A_upper=[]\n",
    "for a in A:\n",
    "  if 'a'<= a <= 'z':\n",
    "    A_upper.append(a.swapcase())\n",
    "  else:\n",
    "    A_upper.append(a)\n",
    "A_upper=''.join(A_upper)\n",
    "print('31',A_upper)\n",
    "\n",
    "A_lower=[]\n",
    "for a in A:\n",
    "  if 'A'<= a <= 'Z':\n",
    "    A_lower.append(a.swapcase())\n",
    "  else:\n",
    "    A_lower.append(a)\n",
    "A_lower=''.join(A_lower)\n",
    "print('32',A_lower)\n",
    "\n",
    "A_swapcase = A.swapcase()\n",
    "print('33',A_swapcase)\n",
    "\n",
    "print('34 True') if A.isalpha() else print('34 False')"
   ]
  },
  {
   "cell_type": "code",
   "execution_count": null,
   "metadata": {},
   "outputs": [],
   "source": [
    "def mk_str(n):\n",
    "  if n < 1:\n",
    "     return None\n",
    "  elif n != 1:\n",
    "    for i in range(1,n+1):\n",
    "      print( f\"{' '*(n*2-i)}'*'{' '*(i*2-3)}'*'{' '(i*2-3)}'*'{' '*(n*2-i)}\" )\n",
    "  print('  '*n+'*'+'  '*n)\n",
    "  pass\n",
    "\n",
    "N = int(input())\n",
    "mk_str(N)"
   ]
  },
  {
   "cell_type": "code",
   "execution_count": null,
   "metadata": {},
   "outputs": [],
   "source": [
    "# lc2 1.1)\n",
    "N=int(input())\n",
    "def pyramid1(N):\n",
    "    for n in range(N):\n",
    "        print(f'{' '*(N-n)}{\"*\"*(2*n+1)}')\n",
    "    pass\n",
    "pyramid1(N)\n",
    "\n",
    "# N=int(input())\n",
    "# for n in range(N):\n",
    "#   print(f'{' '*(N-n)}{\"*\"*(2*n+1)}')"
   ]
  },
  {
   "cell_type": "code",
   "execution_count": null,
   "metadata": {},
   "outputs": [],
   "source": [
    "# lv2 1.2)\n",
    "def pyramid2(n):\n",
    "    for n in range(1,N+1):\n",
    "        print( ' '*(N-n), end='' )\n",
    "        print( '* '*n)\n",
    "    pass\n",
    "N=int(input())\n",
    "pyramid2(N)\n",
    "\n",
    "# N=int(input())\n",
    "# for n in range(1,N+1):\n",
    "#   print( ' '*(N-n), end='' )\n",
    "#   print( '* '*n)"
   ]
  },
  {
   "cell_type": "code",
   "execution_count": null,
   "metadata": {},
   "outputs": [],
   "source": [
    "# lv2 1.3)\n",
    "def pyramid3(n):\n",
    "    x=\"ABCDEFGHIJKLMNOPQRSTUVWXYZ\"\n",
    "    for n in range(1, N+1):\n",
    "        print( ' '*(N-n), end='' )\n",
    "        for i in range(n):\n",
    "            if i > 25:\n",
    "                print( f'{x[i-26]} ', end = '' ) \n",
    "            else:\n",
    "                print( f'{x[i]} ', end = '' )\n",
    "        print()\n",
    "    pass\n",
    "N = int(input())\n",
    "pyramid3(N)"
   ]
  },
  {
   "cell_type": "code",
   "execution_count": null,
   "metadata": {},
   "outputs": [],
   "source": [
    "# lv2 1.4)\n",
    "def pyramid4(n):\n",
    "    for n in range(1, N+1):\n",
    "        print( ' '*(N-n), end='' )\n",
    "        for i in range(n):\n",
    "            print( f'{x[i]} ', end = '' )\n",
    "        print()\n",
    "    pass\n",
    "N = int(input())\n",
    "pyramid4(N)\n",
    "x1층      x\n",
    "x2층     x x\n",
    "x3층    x 2x x\n",
    "x4층   x 3x 3x x\n",
    "x5층  x 4x 6x 4x x\n",
    "x6층 x 5x 10x 10x 5x x"
   ]
  },
  {
   "cell_type": "code",
   "execution_count": null,
   "metadata": {},
   "outputs": [],
   "source": [
    "# lv2 1.5)\n",
    "def triangle():\n",
    "    print(\n",
    "    '   *    ',\n",
    "    '  * *   ',\n",
    "    ' *   *  ',\n",
    "    '* * * * ', sep=('\\n')\n",
    "    )\n",
    "    pass\n",
    "def sierpinski_triangle(n):\n",
    "    pass\n",
    "# lv2 1.5)\n",
    "triangle()"
   ]
  },
  {
   "cell_type": "code",
   "execution_count": null,
   "metadata": {},
   "outputs": [],
   "source": [
    "# lv2 2.1)\n",
    "def accumulate(lst, function = lambda x, y: x+y):\n",
    "    nlst=[lst[0]]\n",
    "    for i in range(len(lst)-1):\n",
    "      nlst.append(function(lst[i], lst[i+1]))\n",
    "    return nlst\n",
    "lst=[1,2,3,4,5,6,7,8,9,10]\n",
    "print(accumulate(lst))"
   ]
  },
  {
   "cell_type": "code",
   "execution_count": null,
   "metadata": {},
   "outputs": [],
   "source": [
    "# lv2 2.2)"
   ]
  },
  {
   "cell_type": "code",
   "execution_count": null,
   "metadata": {},
   "outputs": [],
   "source": [
    "# lv2 2.3)"
   ]
  },
  {
   "cell_type": "code",
   "execution_count": null,
   "metadata": {},
   "outputs": [],
   "source": [
    "# lv2 2.4)"
   ]
  },
  {
   "cell_type": "code",
   "execution_count": null,
   "metadata": {},
   "outputs": [],
   "source": [
    "# lv2 2.5)"
   ]
  },
  {
   "cell_type": "code",
   "execution_count": null,
   "metadata": {},
   "outputs": [],
   "source": [
    "# lv2 2.6)"
   ]
  },
  {
   "cell_type": "code",
   "execution_count": null,
   "metadata": {},
   "outputs": [],
   "source": [
    "a = [1,2,3,4]\n",
    "print(a[0])\n",
    "print(a[1:3])"
   ]
  },
  {
   "cell_type": "code",
   "execution_count": null,
   "metadata": {},
   "outputs": [],
   "source": [
    "a={1:2, 3:4, 4:5}\n",
    "print(a[1])\n",
    "print(a[3]+a[4])\n",
    "# print(a[1:3])\n",
    "a[5]=3\n",
    "for k,v in a.items():\n",
    "  print (k,v)"
   ]
  },
  {
   "cell_type": "code",
   "execution_count": null,
   "metadata": {},
   "outputs": [],
   "source": [
    "# 백준 10807\n",
    "# N = int(input())\n",
    "# n = map(int, input().strip().split())\n",
    "# v = int(input())\n",
    "N = 11\n",
    "n = '1 4 1 2 4 2 4 2 3 4 4'\n",
    "n=list(map(int, n.split()))\n",
    "print(n)\n",
    "v = 2\n",
    "result = 0\n",
    "for x in range(N):\n",
    "  if v == n[x]: # is 넣었더니 틀림\n",
    "    result += 1\n",
    "print(result)"
   ]
  },
  {
   "cell_type": "code",
   "execution_count": null,
   "metadata": {},
   "outputs": [],
   "source": [
    "# 백준 10807 제출\n",
    "N = int(input())\n",
    "n = list(map(int, input().strip().split()))\n",
    "v = int(input())\n",
    "\n",
    "result = 0\n",
    "for x in range(N):\n",
    "  if v == n[x]:\n",
    "    result += 1\n",
    "print(result)"
   ]
  },
  {
   "cell_type": "code",
   "execution_count": null,
   "metadata": {},
   "outputs": [],
   "source": [
    "# 백준 10828 제출\n",
    "import sys\n",
    "from io import StringIO\n",
    "input_data ='''\n",
    "14\n",
    "push 1\n",
    "push 2\n",
    "top\n",
    "size\n",
    "empty\n",
    "pop\n",
    "pop\n",
    "pop\n",
    "size\n",
    "empty\n",
    "pop\n",
    "push 3\n",
    "empty\n",
    "top'''\n",
    "sys.stdin = StringIO(input_data)\n",
    "\n"
   ]
  },
  {
   "cell_type": "code",
   "execution_count": null,
   "metadata": {},
   "outputs": [],
   "source": [
    "class MyDate:\n",
    "\n",
    "    def __init__(self, year = 0, month = 0, day = 0, hour = 0, minute = 0, sec = 0): #__init__(self, ...): 생성자 메서드로, 객체가 생성될 때 호출됩니다. 객체의 초기 상태를 설정하는 데 사용됩니다.\n",
    "        self.year = year\n",
    "        self.month = month\n",
    "        self.day = day\n",
    "        self.hour = hour\n",
    "        self.minute = minute\n",
    "        self.sec = sec\n",
    "        self.check_DB()\n",
    "        # print(f'{year:04d}-{month:02d}-{day:02d}-{hour:02d}:{minute:02d}:{sec:02d}')\n",
    "\n",
    "    def all_date(self):\n",
    "        return (self.year, self.month, self.day, self.hour, self.minute, self.sec)\n",
    "\n",
    "    def check_DB(self): # 범위지정\n",
    "        assert 0 <= self.year, f'RangeErrorYear ({self.year:04d}-{self.month:02d}-{self.day:02d}-{self.hour:02d}:{self.minute:02d}:{self.sec:02d})'\n",
    "        assert 0 <= self.month <= 12, f'RangeErrorMonth ({self.year:04d}-{self.month:02d}-{self.day:02d}-{self.hour:02d}:{self.minute:02d}:{self.sec:02d})'\n",
    "        assert 0 <= self.day <= self.count_month_day(self.year, self.month), f'RangeErrorDay ({self.year:04d}-{self.month:02d}-{self.day:02d}-{self.hour:02d}:{self.minute:02d}:{self.sec:02d})'\n",
    "        assert 0 <= self.hour < 24, f'RangeErrorHour ({self.year:04d}-{self.month:02d}-{self.day:02d}-{self.hour:02d}:{self.minute:02d}:{self.sec:02d})'\n",
    "        assert 0 <= self.minute < 60, f'RangeErrorMinute ({self.year:04d}-{self.month:02d}-{self.day:02d}-{self.hour:02d}:{self.minute:02d}:{self.sec:02d})'\n",
    "        assert 0 <= self.sec < 60, f'RangeErrorSec ({self.year:04d}-{self.month:02d}-{self.day:02d}-{self.hour:02d}:{self.minute:02d}:{self.sec:02d})'\n",
    "        # print('good')\n",
    "\n",
    "    def what_y(self, year):\n",
    "        return (year % 4 == 0 and year % 100 != 0) or year % 400 == 0\n",
    "\n",
    "    def count_month_day(self, year, month):\n",
    "        if month == 2:\n",
    "            return 29 if self.what_y(year) else 28\n",
    "        return [31, 0, 31, 30, 31, 30, 31, 31, 30, 31, 30, 31][month - 1]\n",
    "\n",
    "    @classmethod\n",
    "    def cm(cls): pass\n",
    "    @staticmethod\n",
    "    def sm(data): pass\n",
    "    \n",
    "   \n",
    "    def __add__(self, other): # a + b는 a.__add__(b)        # a+b #a는 기준 시간이고, b는 그n년뒤n달뒤n일뒤n시n분의 세월로 간주하고 따로 추가해본다.\n",
    "        year = self.year + other.year\n",
    "        month = self.month + other.month\n",
    "        day = self.day + other.day\n",
    "        hour = self.hour + other.hour\n",
    "        minute = self.minute + other.minute\n",
    "        # print('__add__',MyDate.all_date(self),MyDate.all_date(other), sep='/')\n",
    "        while month > 12:\n",
    "            month %= 12\n",
    "            year += 1\n",
    "        while minute >= 60:\n",
    "            minute %= 60\n",
    "            hour += 1\n",
    "        while hour > 23:\n",
    "            hour %= 24\n",
    "            day += 1\n",
    "        while day > self.count_month_day(year, month):\n",
    "            day -= self.count_month_day(year, month)\n",
    "            month += 1\n",
    "            if month > 12:\n",
    "                month %= 12\n",
    "                year += 1\n",
    "\n",
    "        # print(year, month, day, hour, minute)\n",
    "        return MyDate(year, month, day, hour, minute)\n",
    "\n",
    "\n",
    "    def __sub__(self, other): # a - b는 a.__sub__(b) \n",
    "        year = self.year - other.year\n",
    "        month = self.month - other.month\n",
    "        day = self.day - other.day\n",
    "        hour = self.hour - other.hour\n",
    "        minute = self.minute - other.minute\n",
    "\n",
    "        while month <= 0:\n",
    "            month += 12\n",
    "            year -= 1\n",
    "        while minute < 0:\n",
    "            minute += 60\n",
    "            hour -= 1\n",
    "        while hour < 0:\n",
    "            hour += 24\n",
    "            day -= 1\n",
    "        while day <= 0:\n",
    "            day += self.count_month_day(year, month-1)\n",
    "            month -= 1\n",
    "            if month <= 0:\n",
    "                month += 12\n",
    "                year -= 1\n",
    "        # print('__sub__',MyDate.all_date(self),MyDate.all_date(other), sep='/')\n",
    "        # print(year, month, day, hour, minute)\n",
    "        return MyDate(year, month, day, hour, minute)\n",
    "\n",
    "\n",
    "    def __eq__(self, other): # a == b는 a.__eq__(b)        # a==b\n",
    "        print(f'{MyDate.all_date(self)} == {MyDate.all_date(other)}')\n",
    "        return MyDate.all_date(self) == MyDate.all_date(other)\n",
    "\n",
    "    def __lt__(self, other): # a < b는 a.__lt__(b)        # a<b\n",
    "        return MyDate.all_date(self) < MyDate.all_date(other)\n",
    "    \n",
    "    def __le__(self, other): # a <= b는 a.__le__(b)        # a<=b\n",
    "        return MyDate.all_date(self) <= MyDate.all_date(other)\n",
    "    def __gt__(self, other): # a > b는 a.__gt__(b)        # a>b\n",
    "        return MyDate.all_date(self) > MyDate.all_date(other)\n",
    "\n",
    "    def __ge__(self, other): # a >= b는 a.__ge__(b)        # a>=b\n",
    "        return MyDate.all_date(self) >= MyDate.all_date(other)\n",
    "    \n",
    "    def __str__(self): # 유사메서드 __repr__# 이러면 작동하나?\n",
    "         return f\"{self.year}-{self.month}-{self.day} {self.hour}:{self.minute}:{self.sec}\"\n",
    "\n",
    "if __name__ == '__main__':\n",
    "    d0 = MyDate()\n",
    "    d1 = MyDate(2022, 4, 1, 14, 30) # 일단 시:분 까지만\n",
    "\n",
    "    # d2 = MyDate(2024, 8, 100, 23, 10) # should raise an error\n",
    "    d2 = MyDate(2024, 8, 30, 23, 10)\n",
    "    # d3 = MyDate(2024, 2, 30)\n",
    "\n",
    "    d3 = MyDate(day = 1)\n",
    "    # assert d1 + d3 == MyDate(2022, 4, 2, 12, 30), f'{d1.all_date()} - {d3.all_date()} is not d1 + d3 {MyDate(2022, 4, 2, 14, 30)}'\n",
    "    # assert d1 - d3 == MyDate(2022, 3, 31, 14, 30), f'{d1.all_date()} - {d3.all_date()} in not d1 - d3 {MyDate(2022, 3, 31, 14, 30)}' # {d1}{d2}이런짓하면 주소값이 나온다\n",
    "    # assert d1 < d2, f'd1 < d2 {d1.all_date()} < {d2.all_date()}'\n",
    "    # assert d1 <= d2, f'd1 <= d2 {d1.all_date()} <= {d2.all_date()}'\n",
    "\n",
    "    d4 = MyDate(2022, 1, 31)\n",
    "    d5 = MyDate(day = 30)\n",
    "    print(d4 + d5)\n",
    "\n",
    "    d6 = MyDate(2022, 1, 1)\n",
    "    print(d6 - d5)\n",
    "    # assert d1 > d2, f'd1 > d2 {d1.all_date()} > {d2.all_date()}'\n",
    "    # assert d1 >= d2, f'd1 >= d2 {d1.all_date()} >= {d2.all_date()}'\n",
    "    # print(d1)\n",
    "    #res = d1+d3\n",
    "    # d1\n",
    "    # d1+d3"
   ]
  },
  {
   "cell_type": "code",
   "execution_count": 15,
   "metadata": {},
   "outputs": [],
   "source": [
    "import sys\n",
    "\n",
    "AB = list(map(int, sys.stdin.readline().strip('\\n').split()))\n",
    "print(sum(range(min(AB),max(AB)+1)))"
   ]
  },
  {
   "cell_type": "code",
   "execution_count": null,
   "metadata": {},
   "outputs": [],
   "source": [
    "# 백준 실5 배열정렬\n",
    "N = int(input())\n",
    "words,word = [],[]\n",
    "for i in range(N):\n",
    "    words.append(input())"
   ]
  },
  {
   "cell_type": "code",
   "execution_count": null,
   "metadata": {},
   "outputs": [],
   "source": [
    "from datetime import datetime\n",
    "today = datetime.today()\n",
    "print(str(today)[0:10])"
   ]
  },
  {
   "cell_type": "code",
   "execution_count": null,
   "metadata": {},
   "outputs": [],
   "source": [
    "words = list(set(words))\n",
    "words.sort(key=lambda x: (len(x),x))\n",
    "print(*words, sep = '\\n')"
   ]
  },
  {
   "cell_type": "markdown",
   "metadata": {},
   "source": [
    "집합의 내장함수"
   ]
  },
  {
   "cell_type": "code",
   "execution_count": null,
   "metadata": {},
   "outputs": [],
   "source": [
    "기본 난수 생성 함수들:\n",
    "\n",
    "random.random(): 0.0과 1.0 사이의 임의의 부동 소수점 숫자를 반환합니다.\n",
    "random.uniform(a, b): a와 b 사이의 임의의 부동 소수점 숫자를 반환합니다.\n",
    "random.randint(a, b): a와 b 사이의 임의의 정수를 반환합니다.\n",
    "random.randrange(start, stop[, step]): 주어진 범위 내에서 임의의 정수를 반환합니다.\n",
    "random.choice(seq): 주어진 시퀀스에서 임의의 요소를 반환합니다.\n",
    "random.choices(population, weights=None, *, cum_weights=None, k=1): 주어진 모집단에서 가중치를 고려하여 중복 허용 k개의 요소를 반환합니다.\n",
    "random.sample(population, k): 모집단에서 k개의 고유한 요소를 무작위로 선택하여 반환합니다.\n",
    "random.shuffle(x[, random]): 시퀀스를 제자리에서 무작위로 섞습니다.\n",
    "\n",
    "분포 함수\n",
    "random.betavariate(alpha, beta): 베타 분포 난수를 반환합니다.\n",
    "random.expovariate(lambd): 지수 분포 난수를 반환합니다."
   ]
  },
  {
   "cell_type": "code",
   "execution_count": null,
   "metadata": {},
   "outputs": [],
   "source": [
    "# 데코레이터 함수란\n",
    "def my_decorator(func):\n",
    "    def wrapper(*args, **kwargs):\n",
    "        # 함수 호출 전 코드\n",
    "        result = func(*args, **kwargs)\n",
    "        # 함수 호출 후 코드\n",
    "        return result\n",
    "    return wrapper"
   ]
  },
  {
   "cell_type": "code",
   "execution_count": 3,
   "metadata": {},
   "outputs": [
    {
     "data": {
      "text/plain": [
       "[1, 1, 2, 3, 4, 4, 5, 34, 456]"
      ]
     },
     "execution_count": 3,
     "metadata": {},
     "output_type": "execute_result"
    }
   ],
   "source": [
    "def sort1(lst):\n",
    "  while True:\n",
    "    good = True\n",
    "    for i in range(1, len(lst)):\n",
    "      if lst[i] < lst[i-1]:\n",
    "        lst[i], lst[i-1] = lst[i-1], lst[i]\n",
    "        good = False\n",
    "    if good:\n",
    "      break\n",
    "  return lst\n",
    "sort1([1,3,4,2,4,5,1,34,456])"
   ]
  },
  {
   "cell_type": "code",
   "execution_count": 12,
   "metadata": {},
   "outputs": [
    {
     "data": {
      "text/plain": [
       "[456, 34, 5, 4, 4, 3, 2, 1, 1]"
      ]
     },
     "execution_count": 12,
     "metadata": {},
     "output_type": "execute_result"
    }
   ],
   "source": [
    "def sort3(lst, upper_to_lower = True, cmp = lambda x, y: x if x >= y else y):\n",
    "    while True:\n",
    "        good = True\n",
    "        for i in range(1, len(lst)):\n",
    "          if lst[i] != cmp(lst[i], lst[i-1]):\n",
    "            lst[i], lst[i-1] = lst[i-1], lst[i]\n",
    "            good = False\n",
    "        if good:\n",
    "            break\n",
    "    if not upper_to_lower:\n",
    "        for x in range(len(lst)-1,-1,-1):\n",
    "            lst.append(lst.pop(x))\n",
    "    return lst\n",
    "sort3([1,3,4,2,4,5,1,34,456],False)"
   ]
  },
  {
   "cell_type": "code",
   "execution_count": 1,
   "metadata": {},
   "outputs": [
    {
     "ename": "ValueError",
     "evalue": "invalid literal for int() with base 10: '-'",
     "output_type": "error",
     "traceback": [
      "\u001b[1;31m---------------------------------------------------------------------------\u001b[0m",
      "\u001b[1;31mValueError\u001b[0m                                Traceback (most recent call last)",
      "Cell \u001b[1;32mIn[1], line 1\u001b[0m\n\u001b[1;32m----> 1\u001b[0m N,M\u001b[38;5;241m=\u001b[39m\u001b[38;5;28mmap\u001b[39m(\u001b[38;5;28mint\u001b[39m,\u001b[38;5;28minput\u001b[39m())\n\u001b[0;32m      2\u001b[0m \u001b[38;5;28mprint\u001b[39m(\u001b[38;5;28mabs\u001b[39m(N\u001b[38;5;241m-\u001b[39mM))\n",
      "\u001b[1;31mValueError\u001b[0m: invalid literal for int() with base 10: '-'"
     ]
    }
   ],
   "source": [
    "N,M=map(int,input().split())\n",
    "print(abs(N-M))\n"
   ]
  }
 ],
 "metadata": {
  "kernelspec": {
   "display_name": "Python 3",
   "language": "python",
   "name": "python3"
  },
  "language_info": {
   "codemirror_mode": {
    "name": "ipython",
    "version": 3
   },
   "file_extension": ".py",
   "mimetype": "text/x-python",
   "name": "python",
   "nbconvert_exporter": "python",
   "pygments_lexer": "ipython3",
   "version": "3.12.4"
  }
 },
 "nbformat": 4,
 "nbformat_minor": 2
}
