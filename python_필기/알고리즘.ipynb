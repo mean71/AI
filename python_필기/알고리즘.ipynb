{
 "cells": [
  {
   "cell_type": "markdown",
   "metadata": {},
   "source": [
    "# 알고리즘\n",
    "---"
   ]
  },
  {
   "cell_type": "code",
   "execution_count": null,
   "metadata": {},
   "outputs": [],
   "source": [
    "# 유클리드 호제법 반복문\n",
    "def Euclidean(a, b):\n",
    "    while b != 0:\n",
    "        [a, b] = [b, a%b]\n",
    "    return a"
   ]
  },
  {
   "cell_type": "code",
   "execution_count": null,
   "metadata": {},
   "outputs": [],
   "source": [
    "# 유클리드 호제법 재귀문\n",
    "def Euclidean(a, b):\n",
    "    if b == 0:\n",
    "        return a\n",
    "    return Euclidean(b, a % b)"
   ]
  }
 ],
 "metadata": {
  "language_info": {
   "name": "python"
  }
 },
 "nbformat": 4,
 "nbformat_minor": 2
}
