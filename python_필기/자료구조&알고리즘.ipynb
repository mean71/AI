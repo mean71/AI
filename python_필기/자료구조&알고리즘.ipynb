{
 "cells": [
  {
   "cell_type": "markdown",
   "metadata": {},
   "source": [
    "# 메모"
   ]
  },
  {
   "cell_type": "markdown",
   "metadata": {},
   "source": [
    "메모이제이션\n",
    "   * 리스트, 튜플, 딕셔너리 활용\n",
    "   * 스택, 큐, 연결 리스트\n",
    "   * 정렬 알고리즘 (버블 정렬, 선택 정렬, 삽입 정렬)\n",
    "   * 탐색 알고리즘 (선형 탐색, 이진 탐색)\n",
    "   * 재귀 알고리즘\n",
    "\n",
    " 1. **해시 테이블 (Hash Table)**\n",
    "    - 정의: 키와 값을 매핑하는 데이터 구조. 해시 함수를 사용하여 키를 해시값으로 변환하고, 이 해시값을 사용해 값을 저장하거나 검색합니다.\n",
    "    - 사용 사례: 효율적인 검색, 삽입, 삭제가 필요할 때.\n",
    "    - 예시: 딕셔너리로 구현된 해시 테이블.  \n",
    "\n",
    "- 해시 테이블 예시 (딕셔너리 사용)\n",
    "hash_table = {}\n",
    "hash_table[\"name\"] = \"Alice\"\n",
    "hash_table[\"age\"] = 30\n",
    "hash_table[\"city\"] = \"Seoul\"\n",
    "\n",
    "print(\"Hash Table:\", hash_table)\n",
    "print(\"Access by key 'name':\", hash_table[\"name\"])\n",
    "- BFS(너비 우선 탐색) 구현\n",
    "def bfs(graph, start):\n",
    "    visited = set()\n",
    "    queue = [start]\n",
    "    \n",
    "    while queue:\n",
    "        vertex = queue.pop(0)\n",
    "        if vertex not in visited:\n",
    "            print(vertex, end=\" \")\n",
    "            visited.add(vertex)\n",
    "            queue.extend(set(graph[vertex]) - visited)\n",
    "\n",
    "print(\"BFS Traversal starting from 'A':\")\n",
    "bfs(graph, \"A\")"
   ]
  },
  {
   "cell_type": "code",
   "execution_count": 9,
   "metadata": {},
   "outputs": [
    {
     "name": "stdout",
     "output_type": "stream",
     "text": [
      "9227465\n"
     ]
    }
   ],
   "source": [
    "def fibonacci(n):\n",
    "    if n <= 1:\n",
    "        return n\n",
    "    else:\n",
    "        return fibonacci(n-1) + fibonacci(n-2)\n",
    "print(fibonacci(35))"
   ]
  },
  {
   "cell_type": "markdown",
   "metadata": {},
   "source": [
    "---\n",
    "# 알고리즘(Algorithms)\n",
    "---"
   ]
  },
  {
   "cell_type": "markdown",
   "metadata": {},
   "source": [
    "알고리즘의 선수과목자료구조\n",
    "- https://namu.wiki/w/%EC%95%8C%EA%B3%A0%EB%A6%AC%EC%A6%98#s-5 알고리즘 나무위키\n",
    "- 자료구조를 얼추 이해하려면 <스택,큐,환형 큐,힙,트리,그래프>6가지숙지?\n",
    "- 표현방법 \n",
    "  - 의사코드\n",
    "  - 순서도\n",
    "  - 코드\n",
    "- 시간복잡도(Time Complexity)\n",
    "  - 시간복잡도(Big-O 표기법)(Big O notation)로 표기\n",
    "  - 입력자료크기 n과 시간복잡도O(n)이 대략 n비례 횟수의 연산 수행\n",
    "  - 검색알고리즘 O(n) , O(log n)선호(해시테이블,..)\n",
    "  - 정렬알고리즘 O(n log n) 선호(퀵,정렬,..)\n",
    "  - n << n log n << n2 << n3 << n4 << (넘사벽) << 2n << (넘사벽) << n! \n",
    "  - 보통 자료를 읽는데 n의 시간이 필요하여 O(n)정도나 O(n log n) 등 log n의 지수승이 붙는정도로 막으면 매우 바람직한 결과 n^3정도만 되어도 급격히 느려짐"
   ]
  },
  {
   "cell_type": "markdown",
   "metadata": {},
   "source": [
    "---\n",
    "# Abstract Data Type, ADT. 추상적 자료형\n",
    "---"
   ]
  },
  {
   "cell_type": "markdown",
   "metadata": {},
   "source": [
    "  - 자료 자체의 형태와 그 자료에 관계된 연산들을 수학적으로만 정의한 것.\n",
    "구현세부 사항을 다루면 자료구조."
   ]
  },
  {
   "cell_type": "markdown",
   "metadata": {},
   "source": [
    "---\n",
    "# 단순 자료구조\n",
    "---"
   ]
  },
  {
   "cell_type": "markdown",
   "metadata": {},
   "source": [
    "---\n",
    "# 복합 자료구조(Data Structure)\n",
    "------\n"
   ]
  },
  {
   "cell_type": "markdown",
   "metadata": {},
   "source": [
    "데이터를 효율적으로 저장하고 관리하는 방식  \n",
    "데이터를 표현하고 조작하는 데 필요한 것으로써 삽입, 수정, 삭제, 검색, 정렬, 병합 및 순회와 같은 기본적인 연산을 지원  \n",
    "데이터와 목적에 맞는 특성을 지닌 자료구조를 선택하는 것은 효율적인 알고리즘 작성에 필수  "
   ]
  },
  {
   "cell_type": "markdown",
   "metadata": {},
   "source": [
    "## 선형 구조 (Linear Structures)"
   ]
  },
  {
   "cell_type": "markdown",
   "metadata": {},
   "source": [
    "한 종류의 데이터가 선처럼 길게 나열된 자료구조  \n",
    "탐색법: 순차탐색, 이진탐색 등"
   ]
  },
  {
   "cell_type": "markdown",
   "metadata": {},
   "source": [
    "### 정적 자료구조"
   ]
  },
  {
   "cell_type": "markdown",
   "metadata": {},
   "source": [
    "#### 1. 배열 (Array)\n",
    "- 컴퓨터과학에서 가장 일반적인 구조\n",
    "- 각각의 변수를 인덱스를 통해 순서대로 그룹화\n",
    "- 파이썬에서는 리스트와 튜플로 구현하고 활용"
   ]
  },
  {
   "cell_type": "markdown",
   "metadata": {},
   "source": [
    " 1. **배열 (Arrays 또는 Python의 리스트)**\n",
    "    - 정의: 고정된 크기의 동일한 데이터 타입 요소들의 모음. 파이썬에서는 리스트가 배열과 유사하지만, 크기가 동적이고 다양한 데이터 타입을 포함할 수 있습니다.\n",
    "    - 사용 사례: 인덱스를 통한 빠른 데이터 접근이 필요할 때.  \n",
    "    - 예시: 숫자 리스트를 저장하고 출력.  \n",
    "\n",
    " 배열 예시 (Python 리스트)  \n",
    "array = [10, 20, 30, 40, 50]  \n",
    "print(\"Array:\", array)  "
   ]
  },
  {
   "cell_type": "markdown",
   "metadata": {},
   "source": [
    "### 동적 자료구조"
   ]
  },
  {
   "cell_type": "markdown",
   "metadata": {},
   "source": [
    "#### 2. 연결 리스트 (Linked List)"
   ]
  },
  {
   "cell_type": "markdown",
   "metadata": {},
   "source": [
    "- 각 노드가 데이터와 포인터를 가지고 한 줄로 연결된 방식의 자료구조\n",
    "- 노드의 포인터가 이전, 다음 노드와의 연결을 담당\n",
    "- 파이썬의 리스트는 배열과 연결리스트의 특징을 동시에 갖고 있다"
   ]
  },
  {
   "cell_type": "markdown",
   "metadata": {},
   "source": [
    " 4. **연결 리스트 (Linked List)**\n",
    "    - 정의: 노드들이 서로 연결된 선형 데이터 구조. 각 노드는 데이터와 다음 노드를 가리키는 포인터를 가짐.\n",
    "    - 사용 사례: 요소 삽입/삭제가 자주 일어나는 경우.\n",
    "    - 예시: 연결 리스트를 생성하고 출력하기.\n",
    "\n",
    "- 연결 리스트 예시\n",
    "class Node:\n",
    "    def __init__(self, data):\n",
    "        self.data = data  # 노드의 데이터를 저장\n",
    "        self.next = None  # 다음 노드를 가리키는 포인터 (None으로 초기화)\n",
    "\n",
    "class LinkedList:\n",
    "    def __init__(self):\n",
    "        self.head = None  # 연결 리스트의 첫 번째 노드 (헤드)\n",
    "\n",
    "    def append(self, data):\n",
    "        if not self.head:\n",
    "            self.head = Node(data)\n",
    "        else:\n",
    "            current = self.head\n",
    "            while current.next:\n",
    "                current = current.next\n",
    "            current.next = Node(data)\n",
    "\n",
    "    def print_list(self):\n",
    "        current = self.head\n",
    "        while current:\n",
    "            print(current.data, end=\" -> \")\n",
    "            current = current.next\n",
    "        print(\"None\")\n",
    "\n",
    " 연결 리스트 생성 및 요소 추가\n",
    "ll = LinkedList()\n",
    "ll.append(1)\n",
    "ll.append(2)\n",
    "ll.append(3)\n",
    "print(\"Linked List:\")\n",
    "ll.print_list()"
   ]
  },
  {
   "cell_type": "markdown",
   "metadata": {},
   "source": [
    "##### 2.1단순 연결리스트(Contiguous List)"
   ]
  },
  {
   "cell_type": "code",
   "execution_count": null,
   "metadata": {},
   "outputs": [],
   "source": [
    "# appendleft(x): 연결 리스트의 처음에 x를 추가한다.\n",
    "# append(x): 연결 리스트의 끝 x를 추가한다.\n",
    "# popleft(): 연결 리스트에서 첫 노드의 값을 반환하고, 노드는 삭제한다.\n",
    "# pop(): 연결 리스트에서 마지막 노드의 값을 반환하고, 노드는 삭제한다.\n",
    "# insert(i, x): 연결 리스트의 i번 인덱스에 x를 추가한다.\n",
    "# remove(x): 연결 리스트에서 값이 x인 노드를 찾아 삭제한다.\n",
    "# reverse(): 연결 리스트를 제자리에서 순서를 뒤집는다.\n",
    "\n",
    "# __len__: len() 함수를 사용할 때 연결 리스트의 길이를 반환한다.\n",
    "# __contains__: 연산자 in과 not in을 사용할 때 연결 리스트 내의 값을 검사하여 True, False를 반환한다.\n",
    "# __str__: str()과 print() 함수를 사용할 때 출력할 문자열을 반환한다."
   ]
  },
  {
   "cell_type": "code",
   "execution_count": null,
   "metadata": {},
   "outputs": [],
   "source": [
    "class Node:\n",
    "    def __init__(self, data):\n",
    "        self.data = data\n",
    "        self.next = None\n",
    "class LinkedList:\n",
    "    def __init__(self):\n",
    "        self.head = None\n",
    "        self.length = 0\n",
    "    def __len__(self):\n",
    "        return self.length\n",
    "    # len()함수사용시 반환"
   ]
  },
  {
   "cell_type": "code",
   "execution_count": 3,
   "metadata": {},
   "outputs": [
    {
     "name": "stdout",
     "output_type": "stream",
     "text": [
      "연결 리스트 생성.  연결 리스트의 길이 = 0\n",
      "\n",
      "0을(를) 추가.  연결 리스트의 길이 = 1\n",
      "1을(를) 추가.  연결 리스트의 길이 = 2\n",
      "2을(를) 추가.  연결 리스트의 길이 = 3\n",
      "3을(를) 추가.  연결 리스트의 길이 = 4\n"
     ]
    }
   ],
   "source": [
    "class Node:\n",
    "    def __init__(self, data):\n",
    "        self.data = data\n",
    "        self.next = None\n",
    "class LinkedList:\n",
    "    def __init__(self):\n",
    "        self.head = None\n",
    "        self.length = 0\n",
    "\n",
    "    def __len__(self):\n",
    "        return self.length\n",
    "    def appendleft(self, data):\n",
    "        if self.head is None:\n",
    "            self.head = Node(data)\n",
    "        else:\n",
    "            node = Node(data)\n",
    "            node.next = self.head\n",
    "            self.head = node\n",
    "        self.length += 1\n",
    "    def append(self, data):\n",
    "        if self.head is None:\n",
    "            self.head = Node(data)\n",
    "        else:\n",
    "            node = self.head\n",
    "            while node.next is not None:\n",
    "                node = node.next\n",
    "            node.next = Node(data)\n",
    "        self.length += 1\n",
    "    def __str__(self):\n",
    "        if self.head is None:\n",
    "            return \"Linked list is empty!\"\n",
    "        res = \"Head\"\n",
    "        node = self.head\n",
    "        while node is not None:\n",
    "            res += \" → \" + str(node.data)\n",
    "            node = node.next\n",
    "        return res\n",
    "\n",
    "\n",
    "if __name__ == \"__main__\":\n",
    "    my_list = LinkedList()\n",
    "    print(f\"연결 리스트 생성.  연결 리스트의 길이 = {len(my_list)}\")\n",
    "    print(my_list)\n",
    "    print()\n",
    "    for i in range(4):\n",
    "        if i % 2:\n",
    "            my_list.append(i)\n",
    "        else:\n",
    "            my_list.appendleft(i)\n",
    "        print(f\"{i}을(를) 추가.  연결 리스트의 길이 = {len(my_list)}\")\n",
    "        print(my_list)\n",
    "        print()"
   ]
  },
  {
   "cell_type": "code",
   "execution_count": 2,
   "metadata": {},
   "outputs": [],
   "source": [
    "class Node:\n",
    "  def __init__(self, data):\n",
    "    self.data = data\n",
    "    self.next = None\n",
    "\n",
    "class LinkedList:\n",
    "  def __init__(self):\n",
    "    init = Node('init')\n",
    "    self.head = init\n",
    "    self.tail = init\n",
    "    self.node = None\n",
    "    self.size = 0\n",
    "  \n",
    "  def append(self, data):\n",
    "    node = Node(data)\n",
    "    self.tail.next = node\n",
    "    self.tail = node\n",
    "    self.size += 1\n",
    "\n",
    "I = LinkedList()\n",
    "I.append(10)\n",
    "I.append(20)\n",
    "I.append(30)\n",
    "I.append(40)\n",
    "I.append(50)\n"
   ]
  },
  {
   "cell_type": "markdown",
   "metadata": {},
   "source": [
    "##### 2.2 이중 연결리스트( List)"
   ]
  },
  {
   "cell_type": "markdown",
   "metadata": {},
   "source": [
    "##### 2.3 원형 연결리스트( List)"
   ]
  },
  {
   "cell_type": "markdown",
   "metadata": {},
   "source": [
    "#### 3. 스택 (Stack)\n",
    "- LIFO(Last In First Out)후입선출 자료구조, 마지막에 입력된 데이터를 먼저 출력"
   ]
  },
  {
   "cell_type": "markdown",
   "metadata": {},
   "source": [
    " 2. **스택 (Stack)**\n",
    "    - 정의: LIFO(Last In First Out) 방식으로 동작하는 선형 데이터 구조. 요소를 추가하거나 제거할 때 마지막에 들어온 요소가 먼저 나갑니다.\n",
    "    - 사용 사례: 함수 호출, 역순 배치, 브라우저 뒤로가기 기능 등.\n",
    "    - 예시: 스택에 요소를 추가하고 제거하기.\n",
    "\n",
    " 스택 예시 (리스트를 스택처럼 사용)  \n",
    "stack = []  \n",
    "stack.append(1)  # 스택에 1 추가  \n",
    "stack.append(2)  # 스택에 2 추가  \n",
    "stack.append(3)  # 스택에 3 추가  \n",
    "print(stack.pop())  # LIFO (Last In First Out)  "
   ]
  },
  {
   "cell_type": "markdown",
   "metadata": {},
   "source": [
    "##### 2.1 배열기반 스택"
   ]
  },
  {
   "cell_type": "markdown",
   "metadata": {},
   "source": [
    "##### 2.2 연결리스트기반 스택"
   ]
  },
  {
   "cell_type": "markdown",
   "metadata": {},
   "source": [
    "#### 4. 큐 (Queue)\n",
    "- FIFO(First In First Out)선입선출 자료구조, 먼저 입력된 데이터를 먼저 출력"
   ]
  },
  {
   "cell_type": "markdown",
   "metadata": {},
   "source": [
    " 3. **큐 (Queue)**\n",
    "    - 정의: FIFO(First In First Out) 방식으로 동작하는 선형 데이터 구조. 먼저 들어온 요소가 먼저 나갑니다.\n",
    "    - 사용 사례: 프린터 대기열, 프로세스 관리 등.\n",
    "    - 예시: 큐에 요소를 추가하고 제거하기.\n",
    "\n",
    "- 큐 예시 (리스트를 큐처럼 사용)\n",
    "from collections import deque\n",
    "queue = deque()\n",
    "queue.append(1)  # 큐에 1 추가\n",
    "queue.append(2)  # 큐에 2 추가\n",
    "queue.append(3)  # 큐에 3 추가\n",
    "- 큐에서 요소를 하나씩 꺼내기 (디큐)\n",
    "print(\"Dequeued element:\", queue.popleft())"
   ]
  },
  {
   "cell_type": "markdown",
   "metadata": {},
   "source": [
    "##### 4.1 환형 큐"
   ]
  },
  {
   "cell_type": "markdown",
   "metadata": {},
   "source": [
    "##### 4.2 링크드 큐"
   ]
  },
  {
   "cell_type": "markdown",
   "metadata": {},
   "source": [
    "#### 5. 덱 (Deque, Double-Ended Queue)\n",
    "- front,rear 양쪽으로 삽입과 삭제가 가능한 데이터 구조"
   ]
  },
  {
   "cell_type": "markdown",
   "metadata": {},
   "source": [
    "## 비선형 구조 (Non-Linear Structures)"
   ]
  },
  {
   "cell_type": "markdown",
   "metadata": {},
   "source": [
    "### 1. 트리 (Tree)\n",
    "- 부모 노드 아래에 여러 자식 노드가 연결되어 있고, 자식 노드가 다시 부모 노드가 되어 각각의 자식 노드가 연결되어 있는 재귀적, 계층적 형태의 자료구조\n",
    "- 노드와 브랜치를 사용, 사이클이 없도록 구성, 계층적인 구조 표현에 사용"
   ]
  },
  {
   "cell_type": "markdown",
   "metadata": {},
   "source": [
    " 5. **트리 (Tree)**\n",
    "    - 정의: 계층적 데이터 구조. 루트 노드에서 시작하여 자식 노드로 확장됩니다. 이진 트리(binary tree)는 각 노드가 최대 두 개의 자식 노드를 가질 수 있는 트리입니다.\n",
    "    - 사용 사례: 계층적 데이터 저장, 탐색 알고리즘 구현.\n",
    "    - 예시: 간단한 이진 트리 생성 및 탐색."
   ]
  },
  {
   "cell_type": "markdown",
   "metadata": {},
   "source": [
    "#### 1.1 일반트리"
   ]
  },
  {
   "cell_type": "markdown",
   "metadata": {},
   "source": [
    "#### 1.2 이진트리"
   ]
  },
  {
   "cell_type": "markdown",
   "metadata": {},
   "source": [
    "- 트리 예시 (이진 트리)\n",
    "class TreeNode:\n",
    "    def __init__(self, data):\n",
    "        self.data = data\n",
    "        self.left = None\n",
    "        self.right = None\n",
    "\n",
    "    def insert_left(self, child_data):\n",
    "        self.left = TreeNode(child_data)\n",
    "        return self.left\n",
    "\n",
    "    def insert_right(self, child_data):\n",
    "        self.right = TreeNode(child_data)\n",
    "        return self.right\n",
    "\n",
    "    def traverse_in_order(self):\n",
    "        if self.left:\n",
    "            self.left.traverse_in_order()\n",
    "        print(self.data, end=\" \")\n",
    "        if self.right:\n",
    "            self.right.traverse_in_order()\n",
    "\n",
    "- 이진 트리 생성\n",
    "root = TreeNode(10)\n",
    "left = root.insert_left(5)\n",
    "right = root.insert_right(15)\n",
    "left.insert_left(3)\n",
    "left.insert_right(7)\n",
    "right.insert_left(12)\n",
    "right.insert_right(18)\n",
    "\n",
    "print(\"In-order Traversal of Tree:\")\n",
    "root.traverse_in_order()"
   ]
  },
  {
   "cell_type": "markdown",
   "metadata": {},
   "source": [
    "##### 1.2.1) 완전이진트리 >> 힙(Heap)"
   ]
  },
  {
   "cell_type": "markdown",
   "metadata": {},
   "source": [
    "### 2. 그래프 (Graph)\n",
    "- 노드와 노드를 연결하는 엣지?간선?을 하나로 모은 데이터 구조"
   ]
  },
  {
   "cell_type": "markdown",
   "metadata": {},
   "source": [
    " 7. **그래프 (Graph)**\n",
    "    - 정의: 노드와 그 노드들을 연결하는 간선으로 구성된 데이터 구조. 방향 그래프와 무방향 그래프가 있습니다.\n",
    "    - 사용 사례: 네트워크, 경로 탐색, 소셜 네트워크 분석.\n",
    "    - 예시: 간단한 그래프 생성 및 탐색.\n",
    "\n",
    " 그래프 예시 (인접 리스트 사용)\n",
    "graph = {\n",
    "    \"A\": [\"B\", \"C\"],\n",
    "    \"B\": [\"A\", \"D\", \"E\"],\n",
    "    \"C\": [\"A\", \"F\"],\n",
    "    \"D\": [\"B\"],\n",
    "    \"E\": [\"B\", \"F\"],\n",
    "    \"F\": [\"C\", \"E\"]\n",
    "}\n",
    "\n",
    "print(\"Graph:\", graph)"
   ]
  },
  {
   "cell_type": "markdown",
   "metadata": {},
   "source": [
    "#### 2.1 방향 그래프"
   ]
  },
  {
   "cell_type": "markdown",
   "metadata": {},
   "source": [
    "#### 2.2 무방향 그래프"
   ]
  },
  {
   "cell_type": "markdown",
   "metadata": {},
   "source": [
    "## 정렬 알고리즘"
   ]
  },
  {
   "cell_type": "markdown",
   "metadata": {},
   "source": [
    "## 기타 데이터 구조 (Other Data Structures)"
   ]
  },
  {
   "cell_type": "markdown",
   "metadata": {},
   "source": [
    "1. 해시 셋 (Hash Set)\n",
    "- 파이썬에서 set으로 구현되는 유일한 요소(Unique elements)들의 집합 \n",
    "2. 해시 맵 (Hash Map)\n",
    "- 파이썬에서 dict으로 구현되는 키-값 쌍 저장\n",
    "3. 힙 (우선순위 큐) (Heap, Priority Queue)\n",
    "- 완전 이진 트리 (Complete binary tree)사용하여 우선순위 큐 유지\n",
    "- 루트 노드는 최대 또는 최소 요소"
   ]
  },
  {
   "cell_type": "markdown",
   "metadata": {},
   "source": [
    "## 파일구조"
   ]
  },
  {
   "cell_type": "markdown",
   "metadata": {},
   "source": [
    "### 1. 순차파일"
   ]
  },
  {
   "cell_type": "markdown",
   "metadata": {},
   "source": [
    "### 2. 색인파일"
   ]
  },
  {
   "cell_type": "markdown",
   "metadata": {},
   "source": [
    "### 3. 직접파일"
   ]
  },
  {
   "cell_type": "markdown",
   "metadata": {},
   "source": [
    "# 객체 지향 프로그래밍(Object-Oriented Programming, OOP)\n",
    "컴퓨터 프로그램을 어떤 데이터를 입력받아 순서대로 처리하고 결과를 도출하는 명령어들의 목록으로 보는 시각에서 벗어나 여러 독립적인 부품들의 조합, 즉 객체들의 유기적인 협력과 결합으로 파악하고자 하는 컴퓨터 프로그래밍의 패러다임\n",
    "- 장점\n",
    "  - 프로그램을 보다 유연하고 변경이 용이하게 만들 수 있다\n",
    "  - 객체 지향적 원리를 잘 적용해 둔 프로그램은 각각의 부품들이 독립적인 역할을 가져 코드변경을 최소화하고 유지보수가 편리\n",
    "  - 코드의 재사용을 통해 반복적인 코드를 최소화하고, 코드를 최대한 간결하게 표현\n",
    "- 객체(object)\n",
    "  - 객체는 객체 지향 프로그래밍의 가장 기본적인 단위이자 시작점, 모든 실제하는 부분이 객체\n",
    "- 객체 지향 프로그래밍의 4가지 특징\n",
    "  1. 추상화(Abstration)\n",
    "     - 객체의 공통적인 속성과 기능을 추출하여 정의하는 것\n",
    "     - 자료,모듈,시스템으로 부터 핵심적인 개념, 기능을 간추려 정의하는 것\n",
    "  2. 상속(Inheritance)\n",
    "     - 기존의 클래스를 재활용하여 새로운 클래스를 작성하는 자바의 문법 요소\n",
    "     - 추상화의 연장선, 상속은 클래스 간 공유될 수 있는 속성,기능들을 상위 클래스로 추상화 시켜 해당 상위 클래스로부터 확장된 여러 개의 하위 클래스들이 모두 상위 클래스의 속성과 기능들을 간편하게 사용\n",
    "  3. 다형성 - OOP의 꽃\n",
    "     - 어떤 객체의 속성이나 기능이 상황에 따라 여러 가지 형태를 가질 수 있는 성질\n",
    "     - 객체 지향 프로그래밍에서 다형성이란 한 타입의 참조변수를 통해 여러 타입 객체를 참조할 수 있도록 만든 것. 구체적으로, 상위 클래스 타입의 참조변수로 하위 클래스의 객체를 참조할 수 있도록 하는 것\n",
    "     - 대표적인 예로 우리가 앞서 본 메서드 오버라이딩과 메서드 오버로딩(method overloading)\n",
    "     -  같은 이름의 메서드가 상황에 따라 다른 역할을 수행하는 것입니다. 또한, 하나의 클래스 내에서 같은 이름의 메서드를 여러 개 중복하여 정의하는 것을 의미하는 메서드 오버로딩도 이와 같은 맥락\n",
    "  4. 캡슐화(Encapsulation)\n",
    "     - d\n"
   ]
  },
  {
   "cell_type": "markdown",
   "metadata": {},
   "source": [
    "명령형 코드(imperative code)(선언형의 반대)\n",
    "- pc가 수행할 명령들을 순서대로 적은 것\n",
    "선언형 코드(declarative code)(명령형의 반대)\n",
    "- 목표를 명시하고 알고리즘을 명시하지 않는 것\n",
    "(duck typing)\n",
    "- 객체의 변수 및 메소드의 집합이 객체의 타입을 결정하는 것\n",
    "시간복잡도(time complexity)\n",
    "- 문제 해결에 걸리는 시간과 입력의 함수관계"
   ]
  },
  {
   "cell_type": "markdown",
   "metadata": {},
   "source": [
    "https://katfun.tistory.com/\n",
    "익스트라, a*, 알고리즘, 레드블랙 트리 ?"
   ]
  },
  {
   "cell_type": "markdown",
   "metadata": {},
   "source": []
  },
  {
   "cell_type": "markdown",
   "metadata": {},
   "source": [
    "---\n",
    "# 알고리즘  \n",
    "---"
   ]
  }
 ],
 "metadata": {
  "kernelspec": {
   "display_name": "Python 3",
   "language": "python",
   "name": "python3"
  },
  "language_info": {
   "codemirror_mode": {
    "name": "ipython",
    "version": 3
   },
   "file_extension": ".py",
   "mimetype": "text/x-python",
   "name": "python",
   "nbconvert_exporter": "python",
   "pygments_lexer": "ipython3",
   "version": "3.12.4"
  }
 },
 "nbformat": 4,
 "nbformat_minor": 2
}
