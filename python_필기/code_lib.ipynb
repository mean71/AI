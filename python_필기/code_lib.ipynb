{
 "cells": [
  {
   "cell_type": "markdown",
   "metadata": {},
   "source": [
    "# 코테 TestCase Input config"
   ]
  },
  {
   "cell_type": "code",
   "execution_count": null,
   "metadata": {},
   "outputs": [],
   "source": [
    "import sys\n",
    "from io import StringIO\n",
    "input_data ='''\n",
    "'''\n",
    "sys.stdin = StringIO(input_data)"
   ]
  },
  {
   "cell_type": "markdown",
   "metadata": {},
   "source": [
    "# 재활용 코드조각"
   ]
  },
  {
   "cell_type": "code",
   "execution_count": 2,
   "metadata": {},
   "outputs": [],
   "source": [
    "import sys\n",
    "def readline():\n",
    "  return sys.stdin.readline()\n",
    "def read():\n",
    "  return sys.stdin.read()\n",
    "\n",
    "def ii():\n",
    "  return int(input())\n",
    "def si():\n",
    "  return input()\n",
    "def mi():\n",
    "  return map(int,input().split())\n",
    "def fi():\n",
    "  return float(input())\n",
    "def mfi():\n",
    "  return map(float,input().split())\n",
    "def li():\n",
    "  return [*map(int,input().split())]\n",
    "def lin(n):\n",
    "  return [ii() for i in range(n)]\n",
    "def plist(arr,sep=' '):\n",
    "  print(sep.join(map(str,arr)))\n",
    "def r45(f):\n",
    "  return int(f + 0.5)\n",
    "\n",
    "\n",
    "\n",
    "\n",
    "li = lambda: int(input())"
   ]
  },
  {
   "cell_type": "markdown",
   "metadata": {},
   "source": [
    "# ?"
   ]
  },
  {
   "cell_type": "code",
   "execution_count": null,
   "metadata": {},
   "outputs": [],
   "source": [
    "import pandas, Numpy, "
   ]
  },
  {
   "cell_type": "markdown",
   "metadata": {},
   "source": [
    "# 미제"
   ]
  },
  {
   "cell_type": "code",
   "execution_count": null,
   "metadata": {},
   "outputs": [],
   "source": []
  },
  {
   "cell_type": "code",
   "execution_count": null,
   "metadata": {},
   "outputs": [],
   "source": [
    "let mut input = input.split_ascii_whitespace();"
   ]
  },
  {
   "cell_type": "code",
   "execution_count": null,
   "metadata": {},
   "outputs": [],
   "source": [
    "my_string_ascii_lowercase = (string.ascii_lowercase)\n",
    "my_string_ascii_uppercase = \"ascii_uppercase\"\n",
    "print(my_string_ascii_lowercase.capitalize())"
   ]
  }
 ],
 "metadata": {
  "kernelspec": {
   "display_name": "Python 3",
   "language": "python",
   "name": "python3"
  },
  "language_info": {
   "codemirror_mode": {
    "name": "ipython",
    "version": 3
   },
   "file_extension": ".py",
   "mimetype": "text/x-python",
   "name": "python",
   "nbconvert_exporter": "python",
   "pygments_lexer": "ipython3",
   "version": "3.12.4"
  }
 },
 "nbformat": 4,
 "nbformat_minor": 2
}
