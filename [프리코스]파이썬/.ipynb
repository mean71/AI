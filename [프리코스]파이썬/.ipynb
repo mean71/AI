{
 "cells": [
  {
   "cell_type": "code",
   "execution_count": 4,
   "metadata": {},
   "outputs": [
    {
     "ename": "SyntaxError",
     "evalue": "expected ':' (273223749.py, line 15)",
     "output_type": "error",
     "traceback": [
      "\u001b[1;36m  Cell \u001b[1;32mIn[4], line 15\u001b[1;36m\u001b[0m\n\u001b[1;33m    if len(man)==2\u001b[0m\n\u001b[1;37m                  ^\u001b[0m\n\u001b[1;31mSyntaxError\u001b[0m\u001b[1;31m:\u001b[0m expected ':'\n"
     ]
    }
   ],
   "source": [
    "class HumanNode:\n",
    "    def __init__(self, id, name=None):\n",
    "        self.id = id\n",
    "        self.name = name\n",
    "\n",
    "class Person:\n",
    "    def __init__(self, root, humans=[]):\n",
    "        if not isinstance(root, Person):\n",
    "            self.root = HumanNode(root)\n",
    "        else: self.root = root\n",
    "\n",
    "        humans = list(humans)\n",
    "        self.humans = []\n",
    "        for i,man in enumerate(humans):\n",
    "            if len(man)==2:\n",
    "                self.humans.append(Person(HumanNode(i,man[0])), Person(man[1]))\n",
    "            else:\n",
    "                self.humans.append(Person(HumanNode(i,man[0])), )\n",
    "\n",
    "    def __iter__(self):\n",
    "        yield self.root\n",
    "        for man in self.humans:\n",
    "            for m in man:\n",
    "                yield m\n",
    "    \n",
    "\n",
    "\n",
    "    def __str__(self):\n",
    "        res = str(self.root.name)\n",
    "        for man in self.humans:\n",
    "            res += '\\n'\n",
    "            if man != self.humans[-1]:\n",
    "                res += '|---- '\n",
    "                res += str(man)\n",
    "            else:\n",
    "                res += 'ㄴ-----'\n",
    "                res += str(man)\n",
    "        return res\n",
    "\n",
    "\n",
    "\n",
    "Lord = Person('Mac.Other',[\n",
    "                 ['a', ['aa','bb','cc']],\n",
    "                 ['b', ['ba','bb','bc']],\n",
    "                 'c',\n",
    "                 ['d',['da','db',['dc',\n",
    "                                   ['dca','dcb']]\n",
    "                       ]],\n",
    "                 'e'\n",
    "])\n",
    "print(Lord)\n",
    "for i in Lord:\n",
    "    print(i)"
   ]
  },
  {
   "cell_type": "code",
   "execution_count": null,
   "metadata": {},
   "outputs": [],
   "source": [
    ":"
   ]
  }
 ],
 "metadata": {
  "kernelspec": {
   "display_name": "Python 3",
   "language": "python",
   "name": "python3"
  },
  "language_info": {
   "codemirror_mode": {
    "name": "ipython",
    "version": 3
   },
   "file_extension": ".py",
   "mimetype": "text/x-python",
   "name": "python",
   "nbconvert_exporter": "python",
   "pygments_lexer": "ipython3",
   "version": "3.12.4"
  }
 },
 "nbformat": 4,
 "nbformat_minor": 2
}
