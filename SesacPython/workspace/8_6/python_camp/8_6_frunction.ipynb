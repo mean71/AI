{
 "cells": [
  {
   "cell_type": "markdown",
   "metadata": {},
   "source": [
    "# function_concept"
   ]
  },
  {
   "cell_type": "code",
   "execution_count": null,
   "metadata": {},
   "outputs": [],
   "source": [
    "# --------------------------------------------\n",
    "# 1. 함수의 다양한 입력들 살펴보기 \n",
    "# 1) input이 없는 함수 \n",
    "# 2) input이 여러 개 있는 함수 \n",
    "# 3) input이 정해지지 않은 갯수만큼 있는 함수 \n",
    "# --------------------------------------------\n",
    "def pi():\n",
    "    \"\"\"원주율을 소숫점 두 자리까지 반환하는 함수\"\"\"\n",
    "    return print( f'{math.pi:.2f}')\n",
    "print(pi())\n",
    "\n",
    "def left_append(lst, elem):\n",
    "    \"\"\"lst의 왼쪽에 elem을 넣고, lst를 반환하는 함수\"\"\"\n",
    "    pass \n",
    "\n",
    "def left_extend(lst, *elem):\n",
    "    \"\"\"lst의 왼쪽에 정해지지 않은 갯수의 elem을 넣고 lst를 반환하는 함수 \"\"\"\n",
    "    pass \n",
    "# --------------------------------------------"
   ]
  },
  {
   "cell_type": "code",
   "execution_count": null,
   "metadata": {},
   "outputs": [],
   "source": [
    "# --------------------------------------------\n",
    "# 2. 함수의 call stack 알아보기 \n",
    "# 1) 아래 함수 b()를 실행할 때, 실행된 함수의 순서는?\n",
    "# --------------------------------------------\n",
    "def a():\n",
    "    return pi()\n",
    "def b():\n",
    "    return a()\n",
    "# --------------------------------------------\n",
    "# 2) 아래 함수 c()를 실행할 때, 실행된 함수의 순서와 각 함수의 input은? \n",
    "# --------------------------------------------\n",
    "def c(lst):\n",
    "    print(lst[0])\n",
    "    return c(lst[1:]) \n",
    "\n",
    "c(list(range(10)))"
   ]
  },
  {
   "cell_type": "markdown",
   "metadata": {},
   "source": [
    "# function_practice.py"
   ]
  },
  {
   "cell_type": "code",
   "execution_count": null,
   "metadata": {},
   "outputs": [],
   "source": [
    "import random"
   ]
  },
  {
   "cell_type": "code",
   "execution_count": null,
   "metadata": {},
   "outputs": [],
   "source": [
    "# function_practice.py\n",
    "# --------------------------------------------\n",
    "# 1. max / min 구현하기 \n",
    "# cmp라는 함수를 이용한 min/max 구현하기. \n",
    "# cmp는 두 원소 중 더 큰 것을 반환하는 함수. \n",
    "# --------------------------------------------\n",
    "def my_max(lst, cmp = lambda x, y: x if x >= y else y):\n",
    "  lst=list(set(lst))\n",
    "  MAX=lst[0]\n",
    "  for i in range(len(lst)):\n",
    "    if i < len(lst)-1:\n",
    "      MAX = cmp(MAX,lst[i+1])\n",
    "  return MAX\n",
    "\n",
    "def my_min(lst, cmp = lambda x, y: x if x >= y else y):\n",
    "  lst=list(set(lst))\n",
    "  MIN=lst[0]\n",
    "  for i in range(len(lst)):\n",
    "    if i < len(lst)-1:\n",
    "      if MIN == cmp(MIN,lst[i+1]):\n",
    "        MIN = lst[i+1]\n",
    "  return MIN\n",
    "\n",
    "a,b=[2,5,4,9,4,3,4],[4,2,2,6,0,6,5,7]\n",
    "print(my_max(a))\n",
    "print(my_min(b))"
   ]
  },
  {
   "cell_type": "code",
   "execution_count": 24,
   "metadata": {},
   "outputs": [
    {
     "name": "stdout",
     "output_type": "stream",
     "text": [
      "[1, 1, 2, 2, 2, 2, 3, 3, 4, 4, 8]\n",
      "[1, 1, 2, 2, 2, 2, 3, 3, 4, 4, 8]\n",
      "[8, 4, 4, 3, 3, 2, 2, 2, 2, 1, 1]\n",
      "[1, 1, 2, 2, 2, 2, 3, 3, 4, 4, 8]\n",
      "[8, 4, 4, 3, 3, 2, 2, 2, 2, 1, 1]\n",
      "None\n",
      "None\n"
     ]
    }
   ],
   "source": [
    "# function_practice.py\n",
    "# --------------------------------------------\n",
    "# 2. sort 구현하기\n",
    "# 1) 그냥 순서대로 오름차순으로 정렬하기\n",
    "# 2) 오름차순, 내림차순으로 정렬하기\n",
    "# 3) 주어진 기준 cmp에 맞춰서 오름차순, 내림차순으로 정렬하기\n",
    "# 4) 주어진 기준 cmp가 큰 element를 출력하거나, 같다는 결과를 출력하게 만들기\n",
    "# 5) cmp상 같은 경우 tie-breaking하는 함수 넣기\n",
    "# --------------------------------------------\n",
    "def sort1(lst):\n",
    "  while True:\n",
    "    good = True\n",
    "    for i in range(1, len(lst)):\n",
    "      if lst[i] < lst[i-1]:\n",
    "        lst[i], lst[i-1] = lst[i-1], lst[i]\n",
    "        good = False\n",
    "    if good:\n",
    "      break\n",
    "  return lst\n",
    "def sort2(lst, upper_to_lower = True):\n",
    "    while True:\n",
    "        good = True\n",
    "        for i in range(1, len(lst)):\n",
    "          if lst[i] < lst[i-1]:\n",
    "            lst[i], lst[i-1] = lst[i-1], lst[i]\n",
    "            good = False\n",
    "        if good:\n",
    "            break\n",
    "    if not upper_to_lower:\n",
    "        for x in range(len(lst)-1,-1,-1):\n",
    "            lst.append(lst.pop(x))\n",
    "    return lst\n",
    "def sort3(lst, upper_to_lower = True, cmp = lambda x, y: x if x >= y else y):\n",
    "    while True:\n",
    "        good = True\n",
    "        for i in range(1, len(lst)):\n",
    "          if lst[i] < lst[i-1]:\n",
    "            lst[i], lst[i-1] = lst[i-1], lst[i]\n",
    "            good = False\n",
    "        if good:\n",
    "            break\n",
    "    if not upper_to_lower:\n",
    "        for x in range(len(lst)-1,-1,-1):\n",
    "            lst.append(lst.pop(x))\n",
    "    return lst\n",
    "def sort4(lst, upper_to_lower = True, cmp = lambda x, y: x if x >= y else y):\n",
    "  \n",
    "  pass\n",
    "def sort5(lst, upper_to_lower = True, cmp = lambda x, y: x if x >= y else y, tie_breaker = lambda x, y: random.choice([x,y])):\n",
    "  \n",
    "  pass\n",
    "\n",
    "lst=[1,2,3,4,8,2,4,2,2,1,3]\n",
    "\n",
    "print(sort1(lst))\n",
    "print(sort2(lst))\n",
    "print(sort2(lst, False))\n",
    "print(sort3(lst, True))\n",
    "print(sort3(lst, False))\n",
    "print(sort4(lst, False))\n",
    "print(sort5(lst, ))"
   ]
  },
  {
   "cell_type": "code",
   "execution_count": null,
   "metadata": {},
   "outputs": [],
   "source": [
    "a= ['s','d','f','D','S','F','1','2','3','2','4','1','4','1','2','3','1','s','D','F']\n",
    "a.sort()\n",
    "print(a)\n",
    "print(''.join(a))\n",
    "\n",
    "if 'a' < 'B': print('B')\n",
    "elif 'a' > 'B': print('a')\n"
   ]
  },
  {
   "cell_type": "code",
   "execution_count": null,
   "metadata": {},
   "outputs": [],
   "source": [
    "c=['a','b']\n",
    "print(c.sort())\n",
    "d=c.sort()\n",
    "print(d)"
   ]
  },
  {
   "cell_type": "code",
   "execution_count": null,
   "metadata": {},
   "outputs": [],
   "source": [
    "i=0\n",
    "lst.insert(i-1, lst.pop(i)) \n",
    "\n",
    "for i in range(len(lst)-1,0,-1):\t\n",
    "    if lst[i]<lst[i-1]:\n",
    "        lst.insert(i-1, lst.pop(i))"
   ]
  }
 ],
 "metadata": {
  "kernelspec": {
   "display_name": "Python 3",
   "language": "python",
   "name": "python3"
  },
  "language_info": {
   "codemirror_mode": {
    "name": "ipython",
    "version": 3
   },
   "file_extension": ".py",
   "mimetype": "text/x-python",
   "name": "python",
   "nbconvert_exporter": "python",
   "pygments_lexer": "ipython3",
   "version": "3.12.4"
  }
 },
 "nbformat": 4,
 "nbformat_minor": 2
}
