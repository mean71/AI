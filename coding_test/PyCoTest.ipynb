{
 "cells": [
  {
   "cell_type": "markdown",
   "metadata": {},
   "source": [
    "---\n",
    "# **`백준`**\n",
    "---"
   ]
  },
  {
   "cell_type": "markdown",
   "metadata": {},
   "source": [
    "## 골드"
   ]
  },
  {
   "cell_type": "code",
   "execution_count": null,
   "metadata": {},
   "outputs": [],
   "source": [
    "# 외판원 순회 문제(TSP): 비트필드를 이용한 DP⁵ g1"
   ]
  },
  {
   "cell_type": "code",
   "execution_count": null,
   "metadata": {},
   "outputs": [],
   "source": [
    "# DP: 분할 정복을 이용한 거듭제곱⁵, 중간에서 만나기(MITM)⁵, LIS: O(n log n)⁵ g2"
   ]
  },
  {
   "cell_type": "code",
   "execution_count": null,
   "metadata": {},
   "outputs": [],
   "source": [
    "# 벨만-포드⁴, DP: 방향 비순환 그래프(DAG)⁵, 위상 정렬⁵, 선분 교차 판정⁵ g3"
   ]
  },
  {
   "cell_type": "code",
   "execution_count": null,
   "metadata": {},
   "outputs": [],
   "source": [
    "# 트리를 사용한 집합과 맵³, 데이크스트라⁴, 플로이드-워셜⁴, 스택: 단조 스택⁴, 트리에서의 DP⁵, 최소 스패닝 트리(MST)⁵, DP: 원형⁵, 이분 그래프 g4"
   ]
  },
  {
   "cell_type": "code",
   "execution_count": null,
   "metadata": {},
   "outputs": [],
   "source": [
    "# 배낭 문제⁴, DP: LCS⁴, 슬라이딩 윈도우⁴, 0-1 너비 우선 탐색⁴, 분리 집합(DSU, Union-find)⁵, 두 포인터⁵, 기하학: CCW⁵, 다각형의 면적⁵ g5"
   ]
  },
  {
   "cell_type": "markdown",
   "metadata": {},
   "source": [
    "## 실버"
   ]
  },
  {
   "cell_type": "code",
   "execution_count": null,
   "metadata": {},
   "outputs": [],
   "source": [
    "# 최단 경로: BFS³, 분할 정복을 이용한 거듭제곱⁴, DP: 역추적⁵ s1"
   ]
  },
  {
   "cell_type": "code",
   "execution_count": null,
   "metadata": {},
   "outputs": [],
   "source": [
    "# 매개 변수 탐색², 깊이 우선 탐색(DFS)³, 너비 우선 탐색(BFS)³, 플러드 필³, 우선순위 큐³, 분할 정복³, 좌표 압축³, 트리⁴, DP: 가장 긴 증가하는 부분 수열(LIS)⁴, DP: 최대 부분합(Kadane 알고리즘)⁴ s2"
   ]
  },
  {
   "cell_type": "code",
   "execution_count": null,
   "metadata": {},
   "outputs": [],
   "source": [
    "# 에라토스테네스의 체(sieve)², 다이나믹 프로그래밍(DP)³, 누적 합³, 백트래킹⁴ s3"
   ]
  },
  {
   "cell_type": "code",
   "execution_count": null,
   "metadata": {},
   "outputs": [],
   "source": [
    "# 스택², 큐², 덱² s4"
   ]
  },
  {
   "cell_type": "code",
   "execution_count": null,
   "metadata": {},
   "outputs": [],
   "source": [
    "# 정렬: O(N log N)², 이분 탐색², 해시를 사용한 집합과 맵³, 재귀³, 비트마스킹³, 선형대수학: 행렬곱⁴ s5"
   ]
  },
  {
   "cell_type": "markdown",
   "metadata": {},
   "source": [
    "## 브론즈"
   ]
  },
  {
   "cell_type": "code",
   "execution_count": null,
   "metadata": {},
   "outputs": [],
   "source": [
    "# 유클리드 호제법², 조합론: 이항 계수², 정렬: 카운팅 정렬² b1"
   ]
  },
  {
   "cell_type": "code",
   "execution_count": null,
   "metadata": {},
   "outputs": [],
   "source": [
    "# 정렬: O(N^2)², 소수 판정², 정수론: 진법 변환 b2"
   ]
  },
  {
   "cell_type": "code",
   "execution_count": null,
   "metadata": {},
   "outputs": [],
   "source": [
    "# 브루트포스 알고리즘², 그리디 알고리즘³, 피타고라스 정리² b3"
   ]
  },
  {
   "cell_type": "code",
   "execution_count": null,
   "metadata": {},
   "outputs": [],
   "source": [
    "# 구현: 빠른 입출력 b4"
   ]
  },
  {
   "cell_type": "code",
   "execution_count": null,
   "metadata": {},
   "outputs": [],
   "source": [
    "# 사칙연산¹, 구현¹, 문자열¹, 기하학¹ b5"
   ]
  },
  {
   "cell_type": "code",
   "execution_count": 26,
   "metadata": {},
   "outputs": [
    {
     "ename": "ValueError",
     "evalue": "not enough values to unpack (expected 2, got 0)",
     "output_type": "error",
     "traceback": [
      "\u001b[1;31m---------------------------------------------------------------------------\u001b[0m",
      "\u001b[1;31mValueError\u001b[0m                                Traceback (most recent call last)",
      "Cell \u001b[1;32mIn[26], line 4\u001b[0m\n\u001b[0;32m      1\u001b[0m \u001b[38;5;28;01mimport\u001b[39;00m \u001b[38;5;21;01msys\u001b[39;00m\n\u001b[0;32m      3\u001b[0m read \u001b[38;5;241m=\u001b[39m sys\u001b[38;5;241m.\u001b[39mstdin\u001b[38;5;241m.\u001b[39mreadline\n\u001b[1;32m----> 4\u001b[0m N, M \u001b[38;5;241m=\u001b[39m read()\u001b[38;5;241m.\u001b[39msplit()\n",
      "\u001b[1;31mValueError\u001b[0m: not enough values to unpack (expected 2, got 0)"
     ]
    }
   ],
   "source": [
    "import sys\n",
    "\n",
    "read = sys.stdin.readline\n",
    "N, M = read().split() # 다시 공부"
   ]
  },
  {
   "cell_type": "code",
   "execution_count": null,
   "metadata": {},
   "outputs": [],
   "source": [
    "# 백준 11654 아스키코드 b5\n",
    "print(ord(input()))\n",
    "# ord() : 주어진문자의 아스키값(유니코드 코드 포인트) 반환\n",
    "# 문자변환 암호화, 문자비교, 문자열처리용 함수"
   ]
  },
  {
   "cell_type": "code",
   "execution_count": null,
   "metadata": {},
   "outputs": [],
   "source": [
    "# 백준 11720 숫자의 합 b5\n",
    "n= input()\n",
    "print(sum(map(int,input())))"
   ]
  },
  {
   "cell_type": "code",
   "execution_count": 5,
   "metadata": {},
   "outputs": [
    {
     "name": "stdout",
     "output_type": "stream",
     "text": [
      "AAABBBCCC/////HHHHHTTTTTPPPPP\n"
     ]
    }
   ],
   "source": [
    "# 백준 2675 문자열 반복\n",
    "T = int(input())\n",
    "str = ''\n",
    "for _ in range(T):\n",
    "  R, S = input().split()\n",
    "  R = int(R)\n",
    "  for i in S:\n",
    "    str += i*R\n",
    "  str += '\\n'\n",
    "print(str)"
   ]
  },
  {
   "cell_type": "code",
   "execution_count": null,
   "metadata": {},
   "outputs": [],
   "source": [
    "import sys\n",
    "from io import StringIO\n",
    "input_data ='''3\n",
    "29\n",
    "38\n",
    "12  \n",
    "57\n",
    "74\n",
    "40\n",
    "85\n",
    "61\n",
    "'''\n",
    "sys.stdin = StringIO(input_data)\n",
    "# 백준 2562 최댓값\n",
    "import sys\n",
    "n = []\n",
    "for i in range(9):\n",
    "  n.append( int(sys.stdin.readline().strip()) )\n",
    "print( f'{max(n)}\\n{n.index(max(n))+1}' )"
   ]
  },
  {
   "cell_type": "code",
   "execution_count": null,
   "metadata": {},
   "outputs": [],
   "source": [
    "import sys\n",
    "from io import StringIO\n",
    "input_data ='''9\n",
    "4\n",
    "1 3\n",
    "1 5\n",
    "3\n",
    "2\n",
    "5\n",
    "2\n",
    "2\n",
    "5\n",
    "'''\n",
    "sys.stdin = StringIO(input_data) # 입력을 받는대신 input_data에서 테스트케이스를 읽어온다\n",
    "\n",
    "# 백준 28278 시간초과코드\n",
    "import sys\n",
    "class Node:\n",
    "    def __init__(self, data, next = None):\n",
    "        self.data = data\n",
    "        self.next = next\n",
    "class Link:\n",
    "    def __init__(self):\n",
    "        self.head = None\n",
    "        self.end = None\n",
    "        self.size = 0\n",
    "    \n",
    "    def one(self, elem): # 정수n[1]를 스택에 넣는다\n",
    "        node = Node(elem)\n",
    "        self.size += 1\n",
    "        if self.head is None:\n",
    "            self.head = node\n",
    "            self.end = self.head\n",
    "        else:\n",
    "            self.end.next = node\n",
    "            self.end = node\n",
    "            \n",
    "    def two(self): # 스택에 정수가 있다면 맨 위 정수 빼고 출력한다. 없다면 -1\n",
    "        if self.head is None: return -1\n",
    "        elif self.head == self.end:\n",
    "            res = self.end.data\n",
    "            self.head = None\n",
    "            self.end = None\n",
    "            self.size -= 1\n",
    "            return res\n",
    "        else:\n",
    "            res = self.end.data\n",
    "            cur = self.head\n",
    "            self.size -= 1\n",
    "            while cur.next != self.end:\n",
    "                cur = cur.next\n",
    "            cur.next = None\n",
    "            self.end = cur\n",
    "            self.size -= 1\n",
    "            return res\n",
    "    def three(self): # 스택에 들어있는 정수 개수 출력\n",
    "        return self.size\n",
    "    def four(self): # 스택이 비어있으면 1, 아니면 0 출력\n",
    "        if self.size == 0: return 1\n",
    "        else: return 0\n",
    "    def five(self): # 스택에 정수가 있다면 맨위 정수 출력한다. 없다면 -1\n",
    "        if self.head is None: return -1\n",
    "        else: return self.end.data\n",
    "        \n",
    "def stack():\n",
    "    N = int(sys.stdin.readline())\n",
    "    link = Link()\n",
    "    for i in range(N):\n",
    "        n = list(map(int, sys.stdin.readline().strip().split()))\n",
    "        if n[0] == 1:# 정수n[1]를 스택에 넣는다\n",
    "            link.one(n[1])\n",
    "        elif n[0] == 2:# 스택에 정수가 있다면 맨 위 정수 빼고 출력한다. 없다면 -1\n",
    "            print(link.two())\n",
    "        elif n[0] == 3:# 스택에 들어있는 정수 개수 출력\n",
    "            print(link.three())\n",
    "        elif n[0] == 4:# 스택이 비어있으면 1, 아니면 0 출력\n",
    "            print(link.four())\n",
    "        elif n[0] == 5:# 스택에 정수가 있다면 맨위 정수 출력한다. 없다면 -1  \n",
    "            print(link.five())\n",
    "stack()"
   ]
  },
  {
   "cell_type": "code",
   "execution_count": null,
   "metadata": {},
   "outputs": [],
   "source": [
    "import sys\n",
    "from io import StringIO\n",
    "input_data ='''9\n",
    "4\n",
    "1 3\n",
    "1 5\n",
    "3\n",
    "2\n",
    "5\n",
    "2\n",
    "2\n",
    "5\n",
    "'''\n",
    "sys.stdin = StringIO(input_data) # 입력을 받는대신 input_data에서 테스트케이스를 읽어온다\n",
    "\n",
    "# 백준 28278 통과코드\n",
    "import sys\n",
    "input = sys.stdin.readline\n",
    "\n",
    "class Stack:\n",
    "    def __init__(self):\n",
    "        self.stack = []\n",
    "\n",
    "    def one(self, elem):\n",
    "        self.stack.append(elem)\n",
    "\n",
    "    def two(self):\n",
    "        if not self.stack:\n",
    "            return -1\n",
    "        return self.stack.pop()\n",
    "\n",
    "    def three(self):\n",
    "        return len(self.stack)\n",
    "    \n",
    "    def four(self):\n",
    "        return 1 if not self.stack else 0\n",
    "    \n",
    "    def five(self):\n",
    "        if not self.stack:\n",
    "            return -1\n",
    "        return self.stack[-1]\n",
    "\n",
    "N = int(input())\n",
    "stack = Stack()\n",
    "\n",
    "for _ in range(N):\n",
    "    n = list(map(int, input().split()))\n",
    "    if n[0] == 1:\n",
    "        stack.one(n[1])\n",
    "    elif n[0] == 2:\n",
    "        print(stack.two())\n",
    "    elif n[0] == 3:\n",
    "        print(stack.three())\n",
    "    elif n[0] == 4:\n",
    "        print(stack.four())\n",
    "    elif n[0] == 5:\n",
    "        print(stack.five())"
   ]
  },
  {
   "cell_type": "code",
   "execution_count": null,
   "metadata": {},
   "outputs": [],
   "source": [
    "import sys\n",
    "from io import StringIO\n",
    "input_data ='''5 4\n",
    "1 2 3\n",
    "3 4 4\n",
    "1 4 1\n",
    "2 2 2\n",
    "'''\n",
    "sys.stdin = StringIO(input_data)\n",
    "\n",
    "# 백준 10810 공넣기 b3\n",
    "import sys\n",
    "\n",
    "read = sys.stdin.readline\n",
    "N, M = map(int, read().strip().split())\n",
    "basket = [0]*N\n",
    "\n",
    "for _ in range(M):\n",
    "  i, j, k = map(int, read().strip().split())\n",
    "  for x in range(i,j+1):\n",
    "    basket[x-1] = k\n",
    "print(*basket)"
   ]
  },
  {
   "cell_type": "code",
   "execution_count": null,
   "metadata": {},
   "outputs": [],
   "source": [
    "x = y = 0\n",
    "x = (y += 10)\n",
    "print(x,y)"
   ]
  },
  {
   "cell_type": "code",
   "execution_count": null,
   "metadata": {},
   "outputs": [],
   "source": [
    "import sys\n",
    "from io import StringIO\n",
    "input_data ='''5 4\n",
    "1 2\n",
    "3 4\n",
    "1 4\n",
    "2 2\n",
    "'''\n",
    "sys.stdin = StringIO(input_data)\n",
    "\n",
    "# 백준 10810 공넣기 b3\n",
    "import sys\n",
    "\n",
    "read = sys.stdin.readline\n",
    "N, M = map(int, read().strip().split())\n",
    "basket = [n+1 for n in range(N)]\n",
    "\n",
    "for _ in range(M):\n",
    "  i, j = map(int, read().strip().split())\n",
    "  i, j = i-1, j-1\n",
    "  basket[i], basket[j] = basket[j], basket[i]\n",
    "print(*basket)"
   ]
  },
  {
   "cell_type": "code",
   "execution_count": 34,
   "metadata": {},
   "outputs": [
    {
     "name": "stdout",
     "output_type": "stream",
     "text": [
      "3 4 1 2 5\n"
     ]
    }
   ],
   "source": [
    "import sys\n",
    "from io import StringIO\n",
    "input_data ='''5 4\n",
    "1 2\n",
    "3 4\n",
    "1 4\n",
    "2 2\n",
    "'''\n",
    "sys.stdin = StringIO(input_data)\n",
    "# 백준 10811 바구니 뒤집기 b2\n",
    "import sys\n",
    "read = sys.stdin.readline\n",
    "# (1 ≤ i ≤ j ≤ N)\n",
    "N, M = map(int, read().split())\n",
    "basket = [n+1 for n in range(N)]\n",
    "for _ in range(M):\n",
    "  i, j = map(int, read().split())\n",
    "  for k in range((j - i + 1)//2):\n",
    "    basket[i+k-1],basket[j-k-1] = basket[j-k-1], basket[i+k-1]\n",
    "print(*basket) \n"
   ]
  },
  {
   "cell_type": "markdown",
   "metadata": {},
   "source": [
    "---\n",
    "# **`프로그래머스`**\n",
    "---"
   ]
  },
  {
   "cell_type": "markdown",
   "metadata": {},
   "source": [
    "## LV3"
   ]
  },
  {
   "cell_type": "markdown",
   "metadata": {},
   "source": [
    "## LV2"
   ]
  },
  {
   "cell_type": "markdown",
   "metadata": {},
   "source": [
    "## LV1"
   ]
  },
  {
   "cell_type": "code",
   "execution_count": null,
   "metadata": {},
   "outputs": [],
   "source": [
    "# 나머지가 1이 되는 수 찾기\n",
    "solution = lambda n: next(x for x in range(2,n) if n % x == 1)\n",
    "\n",
    "# def solution(n):\n",
    "#     if not 3 <= n <= 1000000: return None\n",
    "#     for x in range(2,n):\n",
    "#         if n % x == 1: return x\n",
    "\n",
    "# solution = lambda n: min(list(filter(lambda x:n%x==1,range(1,n+1))))"
   ]
  },
  {
   "cell_type": "code",
   "execution_count": null,
   "metadata": {},
   "outputs": [],
   "source": [
    "# 자릿수 더하기\n",
    "N = 123 #6\n",
    "N = 987 #24\n",
    "solution = lambda N: sum(map(int,str(N)))\n",
    "\n",
    "# def solution(N):\n",
    "#     total = 0\n",
    "#     while N > 0:\n",
    "#         total += N % 10  # 현재 자릿수 더하기\n",
    "#         N //= 10  # 다음 자릿수로 이동\n",
    "#     return total\n",
    "\n",
    "print(solution(N))"
   ]
  },
  {
   "cell_type": "code",
   "execution_count": null,
   "metadata": {},
   "outputs": [],
   "source": [
    "# 핸드폰 번호 가리기\n",
    "pn = \"01033334444\" # \"*******4444\"\n",
    "solution = lambda pn : '*'*(len(pn)-4)+pn[-4:]\n",
    "print(solution(pn))"
   ]
  },
  {
   "cell_type": "code",
   "execution_count": null,
   "metadata": {},
   "outputs": [],
   "source": [
    "# 같은 숫자는 싫어\n",
    "arr = [1,1,3,3,0,1,1] # [1,3,0,1]\n",
    "# arr = [4,4,4,3,3]\t# [4,3]\n",
    "def solution(arr):\n",
    "    x = [arr[0]]\n",
    "    for i in range(0,len(arr)-1):\n",
    "        if arr[i] != arr[i+1]:\n",
    "            x.append(arr[i+1])\n",
    "    return x\n",
    "print(solution(arr))"
   ]
  },
  {
   "cell_type": "code",
   "execution_count": 1,
   "metadata": {},
   "outputs": [
    {
     "name": "stdout",
     "output_type": "stream",
     "text": [
      "[5, 4, 3, 2, 1]\n"
     ]
    }
   ],
   "source": [
    "# 자연수 뒤집어 배열로 만들기\n",
    "solution = lambda n: [int(str(n)[i]) for i in range(-1,-len(str(n))-1,-1)]\n",
    "solution = lambda n: list(map(int, reversed(str(n))))\n",
    "\n",
    "\n",
    "print(solution(12345))"
   ]
  },
  {
   "cell_type": "code",
   "execution_count": 4,
   "metadata": {},
   "outputs": [
    {
     "name": "stdout",
     "output_type": "stream",
     "text": [
      "[2, 7, 3, 8, 1, 1]\n"
     ]
    }
   ],
   "source": [
    "# 정수 내림차순으로 배치하기\n"
   ]
  },
  {
   "cell_type": "markdown",
   "metadata": {},
   "source": [
    "## LV0"
   ]
  },
  {
   "cell_type": "code",
   "execution_count": null,
   "metadata": {},
   "outputs": [],
   "source": [
    "# 중앙값구하기\n",
    "solution = lambda x: sorted(x)[len(x)//2]"
   ]
  },
  {
   "cell_type": "code",
   "execution_count": null,
   "metadata": {},
   "outputs": [],
   "source": [
    "# 이어붙인수\n",
    "def solution(num_list):\n",
    "    even, Odd = '',''\n",
    "    for i in num_list:\n",
    "        if i%2==0:\n",
    "            even += str(i)\n",
    "        else:\n",
    "            Odd += str(i)\n",
    "    return int(even)+int(Odd)\n",
    "print(solution([3, 4, 5, 2, 1])) # 393\n",
    "print(solution([5, 7, 8, 3])) # 581"
   ]
  },
  {
   "cell_type": "code",
   "execution_count": null,
   "metadata": {},
   "outputs": [],
   "source": [
    "# 수조작하기1\n",
    "def solution(n, control):\n",
    "    for i in range(len(control)):\n",
    "        if control[i] == 'w':\n",
    "            n += 1\n",
    "        if control[i] == 's':\n",
    "            n -= 1\n",
    "        if control[i] == 'd':\n",
    "            n += 10\n",
    "        if control[i] == 'a':\n",
    "            n -= 10\n",
    "    return n"
   ]
  },
  {
   "cell_type": "code",
   "execution_count": null,
   "metadata": {},
   "outputs": [],
   "source": [
    "# 수조작하기2\n",
    "def solution(numLog):\n",
    "    for i in range(len(numLog)):\n",
    "        if numLog[i] == 'w':\n",
    "            n += 1\n",
    "        if numLog[i] == 's':\n",
    "            n -= 1\n",
    "        if numLog[i] == 'd':\n",
    "            n += 10\n",
    "        if numLog[i] == 'a':\n",
    "            n -= 10\n",
    "    return n\n",
    "아님"
   ]
  },
  {
   "cell_type": "markdown",
   "metadata": {},
   "source": []
  },
  {
   "cell_type": "code",
   "execution_count": 7,
   "metadata": {},
   "outputs": [
    {
     "data": {
      "text/plain": [
       "30"
      ]
     },
     "execution_count": 7,
     "metadata": {},
     "output_type": "execute_result"
    }
   ],
   "source": [
    "# 짝수의 합\n",
    "solution = lambda n: sum(range(0,n+1,2))\n",
    "solution(10)    "
   ]
  },
  {
   "cell_type": "code",
   "execution_count": 13,
   "metadata": {},
   "outputs": [
    {
     "data": {
      "text/plain": [
       "768000"
      ]
     },
     "execution_count": 13,
     "metadata": {},
     "output_type": "execute_result"
    }
   ],
   "source": [
    "# 양꼬치\n",
    "solution = lambda n,k: 12000*n + 2000*(k-n//10)\n",
    "solution(64,6)"
   ]
  },
  {
   "cell_type": "code",
   "execution_count": 14,
   "metadata": {},
   "outputs": [
    {
     "data": {
      "text/plain": [
       "[2, 3, 3, 6]"
      ]
     },
     "execution_count": 14,
     "metadata": {},
     "output_type": "execute_result"
    }
   ],
   "source": [
    "# 배열 원소의 길이\n",
    "solution = lambda s: list(map(len,s))\n",
    "solution([\"We\", \"are\", \"the\", \"world!\"])"
   ]
  },
  {
   "cell_type": "code",
   "execution_count": 17,
   "metadata": {},
   "outputs": [
    {
     "data": {
      "text/plain": [
       "2"
      ]
     },
     "execution_count": 17,
     "metadata": {},
     "output_type": "execute_result"
    }
   ],
   "source": [
    "# 중복된 숫자 개수\n",
    "solution = lambda a,n: a.count(n)\n",
    "solution([1, 1, 2, 3, 4, 5], 1)"
   ]
  },
  {
   "cell_type": "code",
   "execution_count": 25,
   "metadata": {},
   "outputs": [
    {
     "data": {
      "text/plain": [
       "16"
      ]
     },
     "execution_count": 25,
     "metadata": {},
     "output_type": "execute_result"
    }
   ],
   "source": [
    "# 자릿수 더하기\n",
    "solution = lambda n: sum( map(int,list(str(n))) )\n",
    "solution(930211)"
   ]
  },
  {
   "cell_type": "code",
   "execution_count": 28,
   "metadata": {},
   "outputs": [
    {
     "data": {
      "text/plain": [
       "3"
      ]
     },
     "execution_count": 28,
     "metadata": {},
     "output_type": "execute_result"
    }
   ],
   "source": [
    "# 머쓱이보다 키 큰 사람\n",
    "solution = lambda a, h: [i > h for i in a].count(True)\n",
    "solution([149, 180, 192, 170], 167)\n",
    "\n",
    "# solution = lambda a, h: len(list(filter(lambda v: v > h, a)))"
   ]
  },
  {
   "cell_type": "code",
   "execution_count": 27,
   "metadata": {},
   "outputs": [],
   "source": [
    "# 분수의 덧셈\n",
    "def solution(x1, y1, x2, y2):\n",
    "    a = x1*y2 + x2*y1\n",
    "    b = y1*y2\n",
    "    while b:\n",
    "        a,b = b,a%b\n",
    "    return [(x1*y2 + x2*y1)//a, y1*y2//a]"
   ]
  },
  {
   "cell_type": "code",
   "execution_count": null,
   "metadata": {},
   "outputs": [],
   "source": [
    "# 중앙값 구하기\n",
    "a= [12,3,45,5,3,41,4]\n",
    "a= sorted(a)[len(a)//2]\n",
    "print(a)"
   ]
  },
  {
   "cell_type": "code",
   "execution_count": null,
   "metadata": {},
   "outputs": [],
   "source": [
    "# 최빈값구하기\n",
    "def solution(x):\n",
    "    frequency = {}\n",
    "    key_counts = 0\n",
    "    mode = 0\n",
    "    \n",
    "    for i in x:\n",
    "        if i in frequency: frequency[i] += 1\n",
    "        else: frequency[i] = 1\n",
    "\n",
    "    for key,count in frequency.items():\n",
    "        if key_counts == 0: key_counts, mode = count, key\n",
    "        elif key_counts < count: key_counts, mode = count ,key\n",
    "        elif key_counts == count:  mode = -1\n",
    "    return mode\n",
    "\n",
    "solution([1, 2, 3, 3, 3, 4])"
   ]
  },
  {
   "cell_type": "code",
   "execution_count": null,
   "metadata": {},
   "outputs": [],
   "source": [
    "# 평행\n",
    "from functools import reduce\n",
    "def solution(dots):\n",
    "    return int(max(reduce(lambda dict, x: dict.update({x: dict.get(x, 0)+1}) or dict,[(d1[1] - d2[1])/(d1[0]-d2[0]) if d1[0]-d2[0] else \"x\" for d1 in dots for d2 in dots if not d1==d2], {}).values()) > 2)\n",
    "\n",
    "# def solution(dots):\n",
    "#     [[x1, y1], [x2, y2], [x3, y3], [x4, y4]]=dots\n",
    "#     answer1 = ((y1-y2)*(x3-x4) == (y3-y4)*(x1-x2))\n",
    "#     answer2 = ((y1-y3)*(x2-x4) == (y2-y4)*(x1-x3))\n",
    "#     answer3 = ((y1-y4)*(x2-x3) == (y2-y3)*(x1-x4))\n",
    "#     return 1 if answer1 or answer2 or answer3 else 0\n",
    "\n",
    "# def solution(dots):\n",
    "#     if (dots[0][0]-dots[1][0]) / (dots[0][1]-dots[1][1]) == (dots[2][0]-dots[3][0]) / (dots[2][1]-dots[3][1]): return 1\n",
    "#     elif (dots[0][0]-dots[2][0]) / (dots[0][1]-dots[2][1]) == (dots[1][0]-dots[3][0]) / (dots[1][1]-dots[3][1]): return 1\n",
    "#     elif (dots[0][0]-dots[3][0]) / (dots[0][1]-dots[3][1]) == (dots[1][0]-dots[2][0]) / (dots[1][1]-dots[2][1]): return 1\n",
    "#     return 0"
   ]
  },
  {
   "cell_type": "code",
   "execution_count": null,
   "metadata": {},
   "outputs": [],
   "source": [
    "# 옹알이\n",
    "def solution(babbling):\n",
    "    baby = 'aya', 'ye', 'woo', 'ma'   \n",
    "    count = 0\n",
    "    for ongR in babbling:\n",
    "        for say in baby:\n",
    "            ongR = ongR.replace(say, '0', 1)\n",
    "        if ongR.isdigit():\n",
    "            count += 1\n",
    "    return count"
   ]
  },
  {
   "cell_type": "markdown",
   "metadata": {},
   "source": [
    "## 굿 스타터"
   ]
  }
 ],
 "metadata": {
  "kernelspec": {
   "display_name": "Python 3",
   "language": "python",
   "name": "python3"
  },
  "language_info": {
   "codemirror_mode": {
    "name": "ipython",
    "version": 3
   },
   "file_extension": ".py",
   "mimetype": "text/x-python",
   "name": "python",
   "nbconvert_exporter": "python",
   "pygments_lexer": "ipython3",
   "version": "3.12.4"
  }
 },
 "nbformat": 4,
 "nbformat_minor": 2
}
