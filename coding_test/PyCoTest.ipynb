{
 "cells": [
  {
   "cell_type": "markdown",
   "metadata": {},
   "source": [
    "---\n",
    "# **`백준`**\n",
    "---"
   ]
  },
  {
   "cell_type": "markdown",
   "metadata": {},
   "source": [
    "## 골드"
   ]
  },
  {
   "cell_type": "code",
   "execution_count": null,
   "metadata": {},
   "outputs": [],
   "source": [
    "# 외판원 순회 문제(TSP): 비트필드를 이용한 DP⁵ g1"
   ]
  },
  {
   "cell_type": "code",
   "execution_count": null,
   "metadata": {},
   "outputs": [],
   "source": [
    "# DP: 분할 정복을 이용한 거듭제곱⁵, 중간에서 만나기(MITM)⁵, LIS: O(n log n)⁵ g2"
   ]
  },
  {
   "cell_type": "code",
   "execution_count": null,
   "metadata": {},
   "outputs": [],
   "source": [
    "# 벨만-포드⁴, DP: 방향 비순환 그래프(DAG)⁵, 위상 정렬⁵, 선분 교차 판정⁵ g3"
   ]
  },
  {
   "cell_type": "code",
   "execution_count": null,
   "metadata": {},
   "outputs": [],
   "source": [
    "# 트리를 사용한 집합과 맵³, 데이크스트라⁴, 플로이드-워셜⁴, 스택: 단조 스택⁴, 트리에서의 DP⁵, 최소 스패닝 트리(MST)⁵, DP: 원형⁵, 이분 그래프 g4"
   ]
  },
  {
   "cell_type": "code",
   "execution_count": null,
   "metadata": {},
   "outputs": [],
   "source": [
    "# 배낭 문제⁴, DP: LCS⁴, 슬라이딩 윈도우⁴, 0-1 너비 우선 탐색⁴, 분리 집합(DSU, Union-find)⁵, 두 포인터⁵, 기하학: CCW⁵, 다각형의 면적⁵ g5"
   ]
  },
  {
   "cell_type": "markdown",
   "metadata": {},
   "source": [
    "## 실버"
   ]
  },
  {
   "cell_type": "code",
   "execution_count": null,
   "metadata": {},
   "outputs": [],
   "source": [
    "# 최단 경로: BFS³, 분할 정복을 이용한 거듭제곱⁴, DP: 역추적⁵ s1"
   ]
  },
  {
   "cell_type": "code",
   "execution_count": null,
   "metadata": {},
   "outputs": [],
   "source": [
    "# 매개 변수 탐색², 깊이 우선 탐색(DFS)³, 너비 우선 탐색(BFS)³, 플러드 필³, 우선순위 큐³, 분할 정복³, 좌표 압축³, 트리⁴, DP: 가장 긴 증가하는 부분 수열(LIS)⁴, DP: 최대 부분합(Kadane 알고리즘)⁴ s2"
   ]
  },
  {
   "cell_type": "code",
   "execution_count": null,
   "metadata": {},
   "outputs": [],
   "source": [
    "# 에라토스테네스의 체(sieve)², 다이나믹 프로그래밍(DP)³, 누적 합³, 백트래킹⁴ s3"
   ]
  },
  {
   "cell_type": "code",
   "execution_count": null,
   "metadata": {},
   "outputs": [],
   "source": [
    "# 스택², 큐², 덱² s4"
   ]
  },
  {
   "cell_type": "code",
   "execution_count": null,
   "metadata": {},
   "outputs": [],
   "source": [
    "# 정렬: O(N log N)², 이분 탐색², 해시를 사용한 집합과 맵³, 재귀³, 비트마스킹³, 선형대수학: 행렬곱⁴ s5"
   ]
  },
  {
   "cell_type": "code",
   "execution_count": null,
   "metadata": {},
   "outputs": [],
   "source": [
    "import sys\n",
    "T = int(sys.stdin.readline())\n",
    "for _ in range(T):\n",
    "    x1,y1,r1, x2,y2,r2 = map(int, sys.stdin.readline().split())\n",
    "    x_y, rr = ( (x1-x2)**2 + (y1-y2)**2 )**0.5, r1+r2\n",
    "    \n",
    "    if x_y > rr: print(0) # 멀때\n",
    "    elif x_y == 0: # 중심이 같고 반지름같거나 다를때\n",
    "        if r1 == r2: print(-1)\n",
    "        else: print(0)\n",
    "    elif x_y == rr or x_y == abs(r1-r2): print(1) # 외접 내접\n",
    "    elif x_y < (r1-r2): print(0)\n",
    "    else: print(2)\n",
    "    "
   ]
  },
  {
   "cell_type": "code",
   "execution_count": null,
   "metadata": {},
   "outputs": [],
   "source": [
    "import sys\n",
    "\n",
    "T = int(sys.stdin.readline())\n",
    "for _ in range(T):\n",
    "    x1, y1, r1, x2, y2, r2 = map(int, sys.stdin.readline().split())\n",
    "    \n",
    "    # 두 원의 중심 사이의 거리\n",
    "    x_y = ((x1 - x2) ** 2 + (y1 - y2) ** 2) ** 0.5\n",
    "    r_sum = r1 + r2\n",
    "    r_diff = abs(r1 - r2)\n",
    "\n",
    "    if x_y > r_sum:\n",
    "        print(0)  # 멀때\n",
    "    elif x_y == 0:\n",
    "        if r1 == r2:\n",
    "            print(-1)  # 두 원이 완전히 일치함\n",
    "        else:\n",
    "            print(0)\n",
    "    elif x_y == r_sum:\n",
    "        print(1)  # 외접\n",
    "    elif x_y == r_diff:\n",
    "        print(1)  # 내접\n",
    "    elif x_y < r_diff:\n",
    "        print(0)\n",
    "    else:\n",
    "        print(2)"
   ]
  },
  {
   "cell_type": "code",
   "execution_count": null,
   "metadata": {},
   "outputs": [],
   "source": [
    "# 프로그래머스 lv2 JadenCase 문자열 만들기\n",
    "def solution(s):\n",
    "    s = s.lower()\n",
    "    if s[0].isalpha(): s = s[0].upper() + s[1:]\n",
    "    for i in range(len(s)-1):\n",
    "        if s[i] == ' ':\n",
    "            if s[i+1] != None and s[i+1] != ' ':\n",
    "                s = s[:i+1] + s[i+1].upper() + s[i+2:]\n",
    "    return s\n",
    "\n",
    "  # string = s.split()\n",
    "  # for st in string:\n",
    "  #   # s = s.replace(st, st[0].upper() + st[1:].lower())\n",
    "  #   print(s.replace(st, st[0].upper() + st[1:].lower()))\n",
    "\n",
    "  # for i in range(len(s)):\n",
    "  #   if i == 0 and s[i] != ' ':\n",
    "  #     s[i] = s[i].upper()\n",
    "  #   if s[i] == ' ':\n",
    "  #     is \n",
    "  #     if i+1 != len(s) and s[i+1] != ' ':\n",
    "  #       s[i+1] = s[i+1].upper()\n",
    "      \n",
    "\n",
    "\n",
    "s=\" aB 3pEoPl e             unFollowed   me  dD      \"\n",
    "# s=\"for the l ast    week\"\n",
    "print(solution(s))"
   ]
  },
  {
   "cell_type": "code",
   "execution_count": null,
   "metadata": {},
   "outputs": [],
   "source": [
    "a = 3\n",
    "for i in range(a):\n",
    "  i= a\n",
    "for j in range(i):\n",
    "  j = i\n",
    "j"
   ]
  },
  {
   "cell_type": "markdown",
   "metadata": {},
   "source": [
    "## 브론즈"
   ]
  },
  {
   "cell_type": "code",
   "execution_count": null,
   "metadata": {},
   "outputs": [],
   "source": [
    "# 유클리드 호제법², 조합론: 이항 계수², 정렬: 카운팅 정렬² b1"
   ]
  },
  {
   "cell_type": "code",
   "execution_count": null,
   "metadata": {},
   "outputs": [],
   "source": [
    "# 정렬: O(N^2)², 소수 판정², 정수론: 진법 변환 b2"
   ]
  },
  {
   "cell_type": "code",
   "execution_count": null,
   "metadata": {},
   "outputs": [],
   "source": [
    "# 브루트포스 알고리즘², 그리디 알고리즘³, 피타고라스 정리² b3"
   ]
  },
  {
   "cell_type": "code",
   "execution_count": 27,
   "metadata": {},
   "outputs": [
    {
     "name": "stdout",
     "output_type": "stream",
     "text": [
      "4 4 4\n",
      "6 6 6\n",
      "5 6 100\n"
     ]
    }
   ],
   "source": [
    "import sys\n",
    "from io import StringIO\n",
    "input_data ='''3 3\n",
    "1 1 1\n",
    "2 2 2\n",
    "0 1 0\n",
    "3 3 3\n",
    "4 4 4\n",
    "5 5 100\n",
    "'''\n",
    "sys.stdin = StringIO(input_data)\n",
    "# 백준 2738 행렬 덧셈\n",
    "import sys\n",
    "N, M = map(int, sys.stdin.readline().split())\n",
    "A,B = [],[]\n",
    "for i in range(N):\n",
    "    A.append(list(map(int, sys.stdin.readline().split())))\n",
    "for i in range(N):\n",
    "    B.append(list(map(int, sys.stdin.readline().split())))\n",
    "    for j in range(M):\n",
    "        A[i][j]+=B[i][j]\n",
    "for i in A:\n",
    "    print(*i,end='\\n')"
   ]
  },
  {
   "cell_type": "code",
   "execution_count": null,
   "metadata": {},
   "outputs": [],
   "source": [
    "# 백준 빠른 A+B\n",
    "import sys\n",
    "T = int(input())\n",
    "if 0 <= T <= 1000000:\n",
    "    for t in range(T):\n",
    "        A, B = map(int, sys.stdin.readline().split())\n",
    "        if 1 <= A <= 1000 and 1 <= B <= 1000:\n",
    "            print(A+B)"
   ]
  },
  {
   "cell_type": "code",
   "execution_count": null,
   "metadata": {},
   "outputs": [],
   "source": [
    "# 백준 사칙연산 b5\n",
    "A, B = map(int, input().split())\n",
    "\n",
    "print(A+B)\n",
    "print(A-B)\n",
    "print(A*B)\n",
    "print(A//B)\n",
    "print(A%B)"
   ]
  },
  {
   "cell_type": "code",
   "execution_count": null,
   "metadata": {},
   "outputs": [],
   "source": [
    "import sys\n",
    "\n",
    "read = sys.stdin.readline\n",
    "N, M = read().split() # 다시 공부"
   ]
  },
  {
   "cell_type": "code",
   "execution_count": null,
   "metadata": {},
   "outputs": [],
   "source": [
    "# 백준 11654 아스키코드 b5\n",
    "print(ord(input()))\n",
    "# ord() : 주어진문자의 아스키값(유니코드 코드 포인트) 반환\n",
    "# 문자변환 암호화, 문자비교, 문자열처리용 함수"
   ]
  },
  {
   "cell_type": "code",
   "execution_count": null,
   "metadata": {},
   "outputs": [],
   "source": [
    "# 백준 11720 숫자의 합 b5\n",
    "n= input()\n",
    "print(sum(map(int,input())))"
   ]
  },
  {
   "cell_type": "code",
   "execution_count": null,
   "metadata": {},
   "outputs": [],
   "source": [
    "# 백준 2675 문자열 반복\n",
    "T = int(input())\n",
    "str = ''\n",
    "for _ in range(T):\n",
    "  R, S = input().split()\n",
    "  R = int(R)\n",
    "  for i in S:\n",
    "    str += i*R\n",
    "  str += '\\n'\n",
    "print(str)"
   ]
  },
  {
   "cell_type": "code",
   "execution_count": null,
   "metadata": {},
   "outputs": [],
   "source": [
    "import sys\n",
    "from io import StringIO\n",
    "input_data ='''3\n",
    "29\n",
    "38\n",
    "12  \n",
    "57\n",
    "74\n",
    "40\n",
    "85\n",
    "61\n",
    "'''\n",
    "sys.stdin = StringIO(input_data)\n",
    "# 백준 2562 최댓값\n",
    "import sys\n",
    "n = []\n",
    "for i in range(9):\n",
    "  n.append( int(sys.stdin.readline().strip()) )\n",
    "print( f'{max(n)}\\n{n.index(max(n))+1}' )"
   ]
  },
  {
   "cell_type": "code",
   "execution_count": null,
   "metadata": {},
   "outputs": [],
   "source": [
    "# 백준 3052 나머지 b2\n",
    "N = map(lambda x: x%42,[int(input()) for _ in range(10)])\n",
    "print(len(set(N)))\n"
   ]
  },
  {
   "cell_type": "code",
   "execution_count": null,
   "metadata": {},
   "outputs": [],
   "source": [
    "# 백준 5597 과제 안 내신 분..?\n",
    "student_num = [_ for _ in range(1,31)]\n",
    "n=[]\n",
    "for i in range(28):\n",
    "  n.append(int(input()))\n",
    "for i in student_num:\n",
    "  if i not in n:\n",
    "    print(i)"
   ]
  },
  {
   "cell_type": "code",
   "execution_count": null,
   "metadata": {},
   "outputs": [],
   "source": [
    "import sys\n",
    "from io import StringIO\n",
    "input_data ='''9\n",
    "4\n",
    "1 3\n",
    "1 5\n",
    "3\n",
    "2\n",
    "5\n",
    "2\n",
    "2\n",
    "5\n",
    "'''\n",
    "sys.stdin = StringIO(input_data) # 입력을 받는대신 input_data에서 테스트케이스를 읽어온다\n",
    "\n",
    "# 백준 28278 시간초과코드\n",
    "import sys\n",
    "class Node:\n",
    "    def __init__(self, data, next = None):\n",
    "        self.data = data\n",
    "        self.next = next\n",
    "class Link:\n",
    "    def __init__(self):\n",
    "        self.head = None\n",
    "        self.end = None\n",
    "        self.size = 0\n",
    "    \n",
    "    def one(self, elem): # 정수n[1]를 스택에 넣는다\n",
    "        node = Node(elem)\n",
    "        self.size += 1\n",
    "        if self.head is None:\n",
    "            self.head = node\n",
    "            self.end = self.head\n",
    "        else:\n",
    "            self.end.next = node\n",
    "            self.end = node\n",
    "            \n",
    "    def two(self): # 스택에 정수가 있다면 맨 위 정수 빼고 출력한다. 없다면 -1\n",
    "        if self.head is None: return -1\n",
    "        elif self.head == self.end:\n",
    "            res = self.end.data\n",
    "            self.head = None\n",
    "            self.end = None\n",
    "            self.size -= 1\n",
    "            return res\n",
    "        else:\n",
    "            res = self.end.data\n",
    "            cur = self.head\n",
    "            self.size -= 1\n",
    "            while cur.next != self.end:\n",
    "                cur = cur.next\n",
    "            cur.next = None\n",
    "            self.end = cur\n",
    "            self.size -= 1\n",
    "            return res\n",
    "    def three(self): # 스택에 들어있는 정수 개수 출력\n",
    "        return self.size\n",
    "    def four(self): # 스택이 비어있으면 1, 아니면 0 출력\n",
    "        if self.size == 0: return 1\n",
    "        else: return 0\n",
    "    def five(self): # 스택에 정수가 있다면 맨위 정수 출력한다. 없다면 -1\n",
    "        if self.head is None: return -1\n",
    "        else: return self.end.data\n",
    "        \n",
    "def stack():\n",
    "    N = int(sys.stdin.readline())\n",
    "    link = Link()\n",
    "    for i in range(N):\n",
    "        n = list(map(int, sys.stdin.readline().strip().split()))\n",
    "        if n[0] == 1:# 정수n[1]를 스택에 넣는다\n",
    "            link.one(n[1])\n",
    "        elif n[0] == 2:# 스택에 정수가 있다면 맨 위 정수 빼고 출력한다. 없다면 -1\n",
    "            print(link.two())\n",
    "        elif n[0] == 3:# 스택에 들어있는 정수 개수 출력\n",
    "            print(link.three())\n",
    "        elif n[0] == 4:# 스택이 비어있으면 1, 아니면 0 출력\n",
    "            print(link.four())\n",
    "        elif n[0] == 5:# 스택에 정수가 있다면 맨위 정수 출력한다. 없다면 -1  \n",
    "            print(link.five())\n",
    "stack()"
   ]
  },
  {
   "cell_type": "code",
   "execution_count": null,
   "metadata": {},
   "outputs": [],
   "source": [
    "import sys\n",
    "from io import StringIO\n",
    "input_data ='''9\n",
    "4\n",
    "1 3\n",
    "1 5\n",
    "3\n",
    "2\n",
    "5\n",
    "2\n",
    "2\n",
    "5\n",
    "'''\n",
    "sys.stdin = StringIO(input_data) # 입력을 받는대신 input_data에서 테스트케이스를 읽어온다\n",
    "\n",
    "# 백준 28278 통과코드\n",
    "import sys\n",
    "input = sys.stdin.readline\n",
    "\n",
    "class Stack:\n",
    "    def __init__(self):\n",
    "        self.stack = []\n",
    "\n",
    "    def one(self, elem):\n",
    "        self.stack.append(elem)\n",
    "\n",
    "    def two(self):\n",
    "        if not self.stack:\n",
    "            return -1\n",
    "        return self.stack.pop()\n",
    "\n",
    "    def three(self):\n",
    "        return len(self.stack)\n",
    "    \n",
    "    def four(self):\n",
    "        return 1 if not self.stack else 0\n",
    "    \n",
    "    def five(self):\n",
    "        if not self.stack:\n",
    "            return -1\n",
    "        return self.stack[-1]\n",
    "\n",
    "N = int(input())\n",
    "stack = Stack()\n",
    "\n",
    "for _ in range(N):\n",
    "    n = list(map(int, input().split()))\n",
    "    if n[0] == 1:\n",
    "        stack.one(n[1])\n",
    "    elif n[0] == 2:\n",
    "        print(stack.two())\n",
    "    elif n[0] == 3:\n",
    "        print(stack.three())\n",
    "    elif n[0] == 4:\n",
    "        print(stack.four())\n",
    "    elif n[0] == 5:\n",
    "        print(stack.five())"
   ]
  },
  {
   "cell_type": "code",
   "execution_count": null,
   "metadata": {},
   "outputs": [],
   "source": [
    "import sys\n",
    "from io import StringIO\n",
    "input_data ='''5 4\n",
    "1 2 3\n",
    "3 4 4\n",
    "1 4 1\n",
    "2 2 2\n",
    "'''\n",
    "sys.stdin = StringIO(input_data)\n",
    "\n",
    "# 백준 10810 공넣기 b3\n",
    "import sys\n",
    "\n",
    "read = sys.stdin.readline\n",
    "N, M = map(int, read().strip().split())\n",
    "basket = [0]*N\n",
    "\n",
    "for _ in range(M):\n",
    "  i, j, k = map(int, read().strip().split())\n",
    "  for x in range(i,j+1):\n",
    "    basket[x-1] = k\n",
    "print(*basket)"
   ]
  },
  {
   "cell_type": "code",
   "execution_count": null,
   "metadata": {},
   "outputs": [],
   "source": [
    "import sys\n",
    "from io import StringIO\n",
    "input_data ='''5 4\n",
    "1 2\n",
    "3 4\n",
    "1 4\n",
    "2 2\n",
    "'''\n",
    "sys.stdin = StringIO(input_data)\n",
    "\n",
    "# 백준 10810 공넣기 b3\n",
    "import sys\n",
    "\n",
    "read = sys.stdin.readline\n",
    "N, M = map(int, read().strip().split())\n",
    "basket = [n+1 for n in range(N)]\n",
    "\n",
    "for _ in range(M):\n",
    "  i, j = map(int, read().strip().split())\n",
    "  i, j = i-1, j-1\n",
    "  basket[i], basket[j] = basket[j], basket[i]\n",
    "print(*basket)"
   ]
  },
  {
   "cell_type": "code",
   "execution_count": null,
   "metadata": {},
   "outputs": [],
   "source": [
    "import sys\n",
    "from io import StringIO\n",
    "input_data ='''5 4\n",
    "1 2\n",
    "3 4\n",
    "1 4\n",
    "2 2\n",
    "'''\n",
    "sys.stdin = StringIO(input_data)\n",
    "# 백준 10811 바구니 뒤집기 b2\n",
    "import sys\n",
    "read = sys.stdin.readline\n",
    "# (1 ≤ i ≤ j ≤ N)\n",
    "N, M = map(int, read().split())\n",
    "basket = [n+1 for n in range(N)]\n",
    "for _ in range(M):\n",
    "  i, j = map(int, read().split())\n",
    "  for k in range((j - i + 1)//2):\n",
    "    basket[i+k-1],basket[j-k-1] = basket[j-k-1], basket[i+k-1]\n",
    "print(*basket) \n"
   ]
  },
  {
   "cell_type": "code",
   "execution_count": 17,
   "metadata": {},
   "outputs": [
    {
     "name": "stdout",
     "output_type": "stream",
     "text": [
      "1 0 -1 -1 2 -1 -1 -1 -1 4 3 -1 -1 7 5 -1 -1 -1 -1 -1 -1 -1 -1 -1 -1 -1 "
     ]
    }
   ],
   "source": [
    "# 백준 10809 알파벳 찾기 # find 함수\n",
    "s = input()\n",
    "idx = []\n",
    "for ap in 'abcdefghijklmnopqrstuvwxyz':\n",
    "    print(s.find(ap),end=' ') "
   ]
  },
  {
   "cell_type": "markdown",
   "metadata": {},
   "source": [
    "---\n",
    "# **`프로그래머스`**\n",
    "---"
   ]
  },
  {
   "cell_type": "markdown",
   "metadata": {},
   "source": [
    "## LV3"
   ]
  },
  {
   "cell_type": "markdown",
   "metadata": {},
   "source": [
    "## LV2"
   ]
  },
  {
   "cell_type": "markdown",
   "metadata": {},
   "source": [
    "## LV1"
   ]
  },
  {
   "cell_type": "code",
   "execution_count": null,
   "metadata": {},
   "outputs": [],
   "source": [
    "# 나머지가 1이 되는 수 찾기\n",
    "solution = lambda n: next(x for x in range(2,n) if n % x == 1)\n",
    "\n",
    "# def solution(n):\n",
    "#     if not 3 <= n <= 1000000: return None\n",
    "#     for x in range(2,n):\n",
    "#         if n % x == 1: return x\n",
    "\n",
    "# solution = lambda n: min(list(filter(lambda x:n%x==1,range(1,n+1))))"
   ]
  },
  {
   "cell_type": "code",
   "execution_count": null,
   "metadata": {},
   "outputs": [],
   "source": [
    "# 자릿수 더하기\n",
    "N = 123 #6\n",
    "N = 987 #24\n",
    "solution = lambda N: sum(map(int,str(N)))\n",
    "\n",
    "# def solution(N):\n",
    "#     total = 0\n",
    "#     while N > 0:\n",
    "#         total += N % 10  # 현재 자릿수 더하기\n",
    "#         N //= 10  # 다음 자릿수로 이동\n",
    "#     return total\n",
    "\n",
    "print(solution(N))"
   ]
  },
  {
   "cell_type": "code",
   "execution_count": null,
   "metadata": {},
   "outputs": [],
   "source": [
    "# 핸드폰 번호 가리기\n",
    "pn = \"01033334444\" # \"*******4444\"\n",
    "solution = lambda pn : '*'*(len(pn)-4)+pn[-4:]\n",
    "print(solution(pn))"
   ]
  },
  {
   "cell_type": "code",
   "execution_count": null,
   "metadata": {},
   "outputs": [],
   "source": [
    "# 같은 숫자는 싫어\n",
    "arr = [1,1,3,3,0,1,1] # [1,3,0,1]\n",
    "# arr = [4,4,4,3,3]\t# [4,3]\n",
    "def solution(arr):\n",
    "    x = [arr[0]]\n",
    "    for i in range(0,len(arr)-1):\n",
    "        if arr[i] != arr[i+1]:\n",
    "            x.append(arr[i+1])\n",
    "    return x\n",
    "print(solution(arr))"
   ]
  },
  {
   "cell_type": "code",
   "execution_count": null,
   "metadata": {},
   "outputs": [],
   "source": [
    "# 자연수 뒤집어 배열로 만들기\n",
    "solution = lambda n: [int(str(n)[i]) for i in range(-1,-len(str(n))-1,-1)]\n",
    "solution = lambda n: list(map(int, reversed(str(n))))\n",
    "\n",
    "\n",
    "print(solution(12345))"
   ]
  },
  {
   "cell_type": "code",
   "execution_count": null,
   "metadata": {},
   "outputs": [],
   "source": [
    "# 정수 내림차순으로 배치하기\n"
   ]
  },
  {
   "cell_type": "code",
   "execution_count": null,
   "metadata": {},
   "outputs": [],
   "source": [
    "# 약수의 합\n",
    "def solution(n):\n",
    "    a=0\n",
    "    for i in range(n):\n",
    "        if n%(i+1) == 0:\n",
    "            a += i+1\n",
    "    return a"
   ]
  },
  {
   "cell_type": "code",
   "execution_count": null,
   "metadata": {},
   "outputs": [],
   "source": [
    "# 짝수와 홀수\n",
    "solution = lambda x: 'Odd' if x%2 else 'Even'"
   ]
  },
  {
   "cell_type": "markdown",
   "metadata": {},
   "source": [
    "## LV0"
   ]
  },
  {
   "cell_type": "code",
   "execution_count": null,
   "metadata": {},
   "outputs": [],
   "source": [
    "# 이어붙인수\n",
    "def solution(num_list):\n",
    "    even, Odd = '',''\n",
    "    for i in num_list:\n",
    "        if i%2==0:\n",
    "            even += str(i)\n",
    "        else:\n",
    "            Odd += str(i)\n",
    "    return int(even)+int(Odd)\n",
    "print(solution([3, 4, 5, 2, 1])) # 393  \n",
    "print(solution([5, 7, 8, 3])) # 581"
   ]
  },
  {
   "cell_type": "code",
   "execution_count": null,
   "metadata": {},
   "outputs": [],
   "source": [
    "# 수조작하기1\n",
    "def solution(n, control):\n",
    "    for i in range(len(control)):\n",
    "        if control[i] == 'w':\n",
    "            n += 1\n",
    "        if control[i] == 's':\n",
    "            n -= 1\n",
    "        if control[i] == 'd':\n",
    "            n += 10\n",
    "        if control[i] == 'a':\n",
    "            n -= 10\n",
    "    return n"
   ]
  },
  {
   "cell_type": "code",
   "execution_count": null,
   "metadata": {},
   "outputs": [],
   "source": [
    "# 수조작하기2\n",
    "def solution(numLog):\n",
    "    for i in range(len(numLog)):\n",
    "        if numLog[i] == 'w':\n",
    "            n += 1\n",
    "        if numLog[i] == 's':\n",
    "            n -= 1\n",
    "        if numLog[i] == 'd':\n",
    "            n += 10\n",
    "        if numLog[i] == 'a':\n",
    "            n -= 10\n",
    "    return n\n",
    "아님"
   ]
  },
  {
   "cell_type": "code",
   "execution_count": null,
   "metadata": {},
   "outputs": [],
   "source": [
    "# 배열 원소의 길이\n",
    "solution = lambda s: list(map(len,s))\n",
    "solution([\"We\", \"are\", \"the\", \"world!\"])"
   ]
  },
  {
   "cell_type": "code",
   "execution_count": null,
   "metadata": {},
   "outputs": [],
   "source": [
    "# 중복된 숫자 개수\n",
    "solution = lambda a,n: a.count(n)\n",
    "solution([1, 1, 2, 3, 4, 5], 1)"
   ]
  },
  {
   "cell_type": "code",
   "execution_count": 1,
   "metadata": {},
   "outputs": [
    {
     "data": {
      "text/plain": [
       "16"
      ]
     },
     "execution_count": 1,
     "metadata": {},
     "output_type": "execute_result"
    }
   ],
   "source": [
    "# 자릿수 더하기\n",
    "solution = lambda n: sum( map(int,list(str(n))) )\n",
    "solution(930211)"
   ]
  },
  {
   "cell_type": "code",
   "execution_count": null,
   "metadata": {},
   "outputs": [],
   "source": [
    "# 분수의 덧셈\n",
    "def solution(x1, y1, x2, y2):\n",
    "    a = x1*y2 + x2*y1\n",
    "    b = y1*y2\n",
    "    while b:\n",
    "        a,b = b,a%b\n",
    "    return [(x1*y2 + x2*y1)//a, y1*y2//a]"
   ]
  },
  {
   "cell_type": "code",
   "execution_count": null,
   "metadata": {},
   "outputs": [],
   "source": [
    "# 최빈값구하기\n",
    "def solution(x):\n",
    "    frequency = {}\n",
    "    key_counts = 0\n",
    "    mode = 0\n",
    "    \n",
    "    for i in x:\n",
    "        if i in frequency: frequency[i] += 1\n",
    "        else: frequency[i] = 1\n",
    "\n",
    "    for key,count in frequency.items():\n",
    "        if key_counts == 0: key_counts, mode = count, key\n",
    "        elif key_counts < count: key_counts, mode = count ,key\n",
    "        elif key_counts == count:  mode = -1\n",
    "    return mode\n",
    "\n",
    "solution([1, 2, 3, 3, 3, 4])"
   ]
  },
  {
   "cell_type": "code",
   "execution_count": null,
   "metadata": {},
   "outputs": [],
   "source": [
    "# 평행\n",
    "from functools import reduce\n",
    "def solution(dots):\n",
    "    return int(max(reduce(lambda dict, x: dict.update({x: dict.get(x, 0)+1}) or dict,[(d1[1] - d2[1])/(d1[0]-d2[0]) if d1[0]-d2[0] else \"x\" for d1 in dots for d2 in dots if not d1==d2], {}).values()) > 2)\n",
    "\n",
    "# def solution(dots):\n",
    "#     [[x1, y1], [x2, y2], [x3, y3], [x4, y4]]=dots\n",
    "#     answer1 = ((y1-y2)*(x3-x4) == (y3-y4)*(x1-x2))\n",
    "#     answer2 = ((y1-y3)*(x2-x4) == (y2-y4)*(x1-x3))\n",
    "#     answer3 = ((y1-y4)*(x2-x3) == (y2-y3)*(x1-x4))\n",
    "#     return 1 if answer1 or answer2 or answer3 else 0\n",
    "\n",
    "# def solution(dots):\n",
    "#     if (dots[0][0]-dots[1][0]) / (dots[0][1]-dots[1][1]) == (dots[2][0]-dots[3][0]) / (dots[2][1]-dots[3][1]): return 1\n",
    "#     elif (dots[0][0]-dots[2][0]) / (dots[0][1]-dots[2][1]) == (dots[1][0]-dots[3][0]) / (dots[1][1]-dots[3][1]): return 1\n",
    "#     elif (dots[0][0]-dots[3][0]) / (dots[0][1]-dots[3][1]) == (dots[1][0]-dots[2][0]) / (dots[1][1]-dots[2][1]): return 1\n",
    "#     return 0"
   ]
  },
  {
   "cell_type": "code",
   "execution_count": null,
   "metadata": {},
   "outputs": [],
   "source": []
  },
  {
   "cell_type": "code",
   "execution_count": null,
   "metadata": {},
   "outputs": [],
   "source": [
    "# 옹알이\n",
    "def solution(babbling):\n",
    "    baby = 'aya', 'ye', 'woo', 'ma'\n",
    "    count = 0\n",
    "    for ongR in babbling:\n",
    "        for say in baby:\n",
    "            ongR = ongR.replace(say, '0', 1)\n",
    "        if ongR.isdigit():\n",
    "            count += 1\n",
    "    return count"
   ]
  },
  {
   "cell_type": "markdown",
   "metadata": {},
   "source": [
    "도입\n",
    "1. 과정 참여계기\n",
    "2. 입사지원의 경험\n",
    "\n",
    "\n",
    "\n",
    "\"배움은 성장의 즐거움이며, 시작한 일에 대한 책임감은 나와의 약속입니다.\" – 박민기\n",
    "\n",
    "1. 과거: 성장 과정과 직무 관심 동기\n",
    "\n",
    "재학중에 관심을 가지게 되엇던 동기? 공대나와서 교양 등으로 분야를 접하면서 관심을 가지게 되었다.\n",
    " 다만 재학중에는 개발은 진로로 생각한적이 없었고 주전공이랑 무관하게 느껴져서 교양으로만 듣고 지나쳤다가\n",
    "졸업하고 한두달은 쉬면서 진로고민하면서 준비하다가\n",
    " 커리큘럼과 학습내용 등 서치하면서 7월달에 시작하는 데이터 Ai 훈련과정을 신청하여 5개월간의 부트캠프를 시작하였습니다?'뒷문단 첫줄이랑 중복되지만 잘섞어보세요 챗봇님'\n",
    "\n",
    "\n",
    "서울시에서 지원하는 새싹 데이터 AI 개발자 훈련 과정을 신청하며 5개월간의 부트캠프를 시작했습니다. 이 과정에서 코딩을 처음 공부하고, 파이썬, 판다스, 시본, 사이킷런, 텐서플로우 등 다양한 라이브러리와 프레임워크를 집중적으로 학습하며 데이터 분석과 머신러닝의 기초를 다졌습니다.\n",
    "\n",
    "또한, 매일 인사이트를 서치해서 모르는 것을 찾아나가고, 메모하고 정리하며 공백을 채워나가는 과정에서 즐거움을 느꼈으며,\n",
    "매일 꾸준히 학습하며 다양한 프로젝트에 참여하고 실제 데이터를 다루는 경험을 쌓았습니다.\n",
    "\n",
    "이러한 경험들은 저에게 큰 성취감과 배움의 즐거움을 주었고, ??분야에서 더 넓고 깊게 배워보고 성장하고 숙달되고 싶다는 강한 열망을 가지게 되었습니다.\n",
    "이는 기반지식이 전무한채로 훈련과정에 뛰어들어 5개월의 모든 시간과 동력을 온전히 학습에 쏟고, 방향을 정해서 데이터 분야에서의 전문성을 키우고 방향을 정하는데 데 큰 도움이 되었습니다.\n",
    "\n",
    "재학 중에 교양 과목으로 데이터와 AI 분야를 접하며 흥미를 가지게 되었습니다. 그러나 그 당시에는 데이터나 개발분야를 진로로 생각하지 않았고, 주전공과 무관하게 느껴져 교양 과목으로만 듣고 지나쳤습니다. 졸업 후 한두 달 동안 쉬면서 진로에 대해 고민하고 준비하는 과정에서, 다양한 커리큘럼과 학습 내용을 조사한 결과, 7월에 시작하는 서울시에서 지원하는 새싹 데이터 AI 개발자 훈련 과정을 신청하였습니다.\n",
    "\n",
    "이렇게 시작된 5개월간의 부트캠프에서 코딩을 처음 공부하며, 파이썬, 판다스, 시본, 사이킷런, 텐서플로우 등 다양한 라이브러리와 프레임워크를 집중적으로 학습하여 데이터 분석과 머신러닝의 기초를 다졌습니다. 매일 인사이트를 검색하고 모르는 내용을 찾아내며 메모하고 정리하는 과정에서 큰 즐거움을 느꼈습니다. 또한, 다양한 프로젝트에 참여하고 실제 데이터를 다루는 경험을 쌓으면서 꾸준히 학습하였습니다.\n",
    "\n",
    "이러한 경험들은 저에게 큰 성취감과 배움의 즐거움을 주었고, 데이터 분야에서 더 넓고 깊게 배우고 성장하고 숙달되고 싶다는 강한 열망을 가지게 되었습니다. 이는 기반 지식이 전무한 채로 훈련 과정에 뛰어들어 5개월 동안 모든 시간과 동력을 온전히 학습에 쏟는 데 큰 도움이 되었고, 데이터 분야에서의 전문성을 키우는 방향을 정하는 데 중요한 역할을 했습니다.\n",
    "\n",
    "1. 현재: 직무 장점과 경험 사례\n",
    "직무 장점\n",
    "\n",
    "언어 능력: 여러 언어를 습득하며, 언어의 뉘앙스와 문화적 요소를 이해하는 능력을 갖추고 있습니다.\n",
    "문제 해결 능력: 새로운 정보를 찾아 정리하는 과정에서 문제를 분석하고 해결하는 능력이 강화되었습니다.\n",
    "목표 지향적: 항상 명확한 목표를 설정하고 이를 달성하기 위해 계획적으로 행동합니다.\n",
    "끈기: 어려운 상황에서도 포기하지 않고 끝까지 노력하는 자세로, 지속적인 성장과 발전을 추구합니다.\n",
    "경험 사례\n",
    "\n",
    "[구체적인 경험 1]: [예: 언어 학습 프로젝트, 관련 인턴십 경험 등]에서 정보를 검색하고 정리하는 과정에서 무언가를 배우고, 공백을 채워나가는 보람을 느꼈습니다. 이 과정은 저에게 큰 동기부여가 되었습니다.\n",
    "[구체적인 경험 2]: [프로젝트/자원봉사/팀 활동]을 통해 팀원들과 협력하여 목표를 달성한 경험이 있습니다. 이 경험은 책임감을 더욱 강화시켜 주었고, 팀워크의 중요성을 깨닫게 해주었습니다.\n",
    "\n",
    "1. 미래: 입사 후 계획\n",
    "\n",
    "단기 계획 (신입)\n",
    "\n",
    "입사 초기에는 [특정 업무/프로젝트]에 집중하여 조직의 목표에 기여하고, 팀 내에서의 역할을 확립하고자 합니다.\n",
    "필요한 기술이나 지식을 습득하기 위해 [특정 교육/자격증 과정]에 참여할 계획입니다.\n",
    "중기 계획 (관리자)\n",
    "\n",
    "중기적으로는 [특정 역할]을 맡아 팀을 이끄는 경험을 쌓고, 팀원들의 성장과 발전에 기여하고 싶습니다.\n",
    "관리자로서의 역량을 키우기 위해 리더십 관련 교육을 수강하고, 팀 관리 능력을 배양할 것입니다.\n",
    "장기 계획 (리더)\n",
    "\n",
    "장기적으로는 [회사의 비전/목표]에 맞춰 리더로 성장하여, 조직의 발전에 기여하고 싶습니다.\n",
    "지속적인 자기 관리와 학습을 통해 전문성을 강화하고, 업계의 변화에 능동적으로 대응할 준비를 하겠습니다.\n",
    "\n",
    "\n",
    "\n",
    "\n",
    "\n",
    "\n",
    "\n",
    "\n",
    "\n",
    "\n"
   ]
  },
  {
   "cell_type": "code",
   "execution_count": 6,
   "metadata": {},
   "outputs": [
    {
     "name": "stdout",
     "output_type": "stream",
     "text": [
      "민기\n",
      "민기\n",
      "민기\n",
      "민기\n",
      "민기\n"
     ]
    }
   ],
   "source": [
    "def name(n):\n",
    "  print('민기')\n",
    "  if n>1:\n",
    "    name(n-1)\n",
    "name(5)"
   ]
  },
  {
   "cell_type": "code",
   "execution_count": null,
   "metadata": {},
   "outputs": [],
   "source": [
    "# [PCCE 기출문제] 8번 / 창고 정리70%\n",
    "# [PCCE 기출문제] 1번 / 출력73%\n",
    "# [PCCE 기출문제] 6번 / 가채점77%\n",
    "# [PCCE 기출문제] 7번 / 가습기78%\n",
    "# [PCCE 기출문제] 3번 / 나이 계산79%\n",
    "# [PCCE 기출문제] 2번 / 피타고라스의 정리80%\n",
    "# [PCCE 기출문제] 4번 / 저축84%\n",
    "# [PCCE 기출문제] 5번 / 산책"
   ]
  },
  {
   "cell_type": "code",
   "execution_count": null,
   "metadata": {},
   "outputs": [],
   "source": [
    "# n의 배수 고르기\n",
    "''' solution = lambda n,nl: [i for i in nl if i%n==0] '''\n",
    "# 가장 큰 수 찾기 즐겨찾기\n",
    "''' solution = lambda a: [max(a), *[i for i in range(len(a)) if max(a)==a[i]] ] '''\n",
    "# 대문자와 소문자\n",
    "''' solution = lambda s: s.swapcase() '''\n",
    "# 암호 해독\n",
    "''' solution = lambda ci,cd: ci[cd-1::cd] '''\n",
    "# 짝수 홀수 개수\n",
    "''' solution = lambda n: [ len([i for i in n if not i%2]), len([i for i in n if i%2]) ] '''\n",
    "''' solution = lambda n: [ sum(i%2 == 0 for i in n), sum(i%2 != 0 for i in n) ] '''\n",
    "solution = lambda n: [sum(not(n%2) for n in n), sum(n%2 for n in n)]\n",
    "# 숨어있는 숫자의 덧셈 (1)\n",
    "''' solution = lambda s: sum(int(i) for i in s if i.isdecimal()) '''\n",
    "# 개미 군단\n",
    "''' solution = lambda hp: hp//5 + hp%5//3 + hp%5%3 '''\n",
    "# 모음 제거\n",
    "''' solution = lambda s: s.replace('a','').replace('e','').replace('i','').replace('o','') .replace('u','') '''\n",
    "solution = lambda s: \"\".join([i for i in s if not(i in \"aeiou\")])\n",
    "# 배열 자르기\n",
    "''' solution = lambda n,n1,n2: n[n1:n2+1] '''\n",
    "# 아이스 아메리카노\n",
    "''' solution = lambda m: [m//5500, m%5500] '''\n",
    "solution = lambda m: divmod(m, 5500)\n",
    "# 옷가게 할인 받기\n",
    "''' solution = lambda p: int(p*0.8 if p >= 500000 else p*0.9 if p >= 300000 else p*0.95 if p >= 100000 else p) '''\n",
    "''' solution = lambda p: int(p*(0.8*(p>=500000) + 0.9*(500000>p>=300000) + 0.95*(300000>p>=100000) + (p<100000))) '''\n",
    "# 피자 나눠 먹기 (1)\n",
    "''' solution = lambda n: bool(n%7) + n//7 ''' # -(-n//7) # (n - 1) // 7 + 1\n",
    "# 짝수는 싫어요\n",
    "''' solution = lambda n: list(range(1,n+1,2)) '''\n",
    "# 중앙값 구하기\n",
    "''' solution = lambda x: sorted(x)[len(x)//2] '''\n",
    "# 배열 두 배 만들기\n",
    "''' solution = lambda x: list(map(lambda y:y*2, x)) '''\n",
    "''' solution = lambda x: [2*i for i in x] '''\n",
    "# 머쓱이 보다 키 큰 사람\n",
    "''' solution = lambda a,h: len([_ for _ in a if _ > h]) '''\n",
    "# 중복된 숫자 개수\n",
    "''' solution = lambda a,n: a.count(n) '''\n",
    "# 제곱수 판별하기\n",
    "''' '''\n",
    "# 양꼬치\n",
    "''' solution = lambda n,k: 12000*n + 2000*(k-n//10) ''' # (k-n)//10 != (k-n//10)\n",
    "''' solution = lambda n,k: 2000*(6*n + (k-n//10)) '''\n",
    "# 문자열안에 문자열\n",
    "''' solution = lambda s1,s2: 1 if s2 in s1 else 2 '''\n",
    "# 문자열 뒤집기\n",
    "''' solution = lambda s: s[-1::-1] '''\n",
    "# 편지\n",
    "''' solution = lambda m: 2*len(m) '''\n",
    "solution = lambda m: len(m)<<1\n",
    "# 세균 증식\n",
    "''' solution = lambda n,t: n*2**t '''\n",
    "solution = lambda n,t: n << t\n",
    "# n의 배수\n",
    "''' solution = lambda num, n: 0+(num%n==0) '''\n",
    "# 두 수의 합\n",
    "''' solution = lambda *x:sum(x) ''' # * ** 튜플 딕셔너리 둘다 된다.\n",
    "# 짝수의 합\n",
    "''' solution = lambda n: sum(range(0,n+1,2)) '''\n",
    "solution = lambda n: 2*(n//2)*((n//2)+1)/2\n",
    "# 각도기\n",
    "''' solution=lambda r: 1 if 0<r<90 else 2 if r==90 else 3 if 90<r<180 else 4 '''\n",
    "''' solution=lambda r: 1 + (r==90) + 2*(90<r<180) + 3*(r==180) '''\n",
    "solution = lambda x: (x // 90) * 2 + (x % 90 > 0) * 1\n",
    "\n",
    "def solution(angle):\n",
    "    if angle<=90:\n",
    "        return 1 if angle<90 else 2\n",
    "    else:\n",
    "        return 3 if angle<180 else 4\n",
    "# 배열의 평균값\n",
    "''' solution=lambda x:sum(x)/len(x) '''\n",
    "# 두 수의 나눗셈\n",
    "''' solution = lambda x, y : 1000*x // y '''\n",
    "# 몫 구하기\n",
    "''' solution=lambda x,y:x//y '''\n",
    "solution = int.__floordiv_\n",
    "# 나머지 구하기\n",
    "''' solution=lambda x,y: x%y '''\n",
    "# 두 수의 곱\n",
    "''' solution=lambda x,y:x*y '''\n",
    "# 두 수의 차\n",
    "''' solution=lambda x,y:x-y '''\n",
    "# 나이출력\n",
    "''' solution=lambda x:2023-x '''\n",
    "# 숫자 비교하기\n",
    "''' solution = lambda x,y: 1 if x==y else -1 '''\n",
    "solution = lambda x,y: ((x == y)-0.5)*2"
   ]
  },
  {
   "cell_type": "code",
   "execution_count": null,
   "metadata": {},
   "outputs": [],
   "source": [
    "#프로그래머스1번\n",
    "# str = input()\n",
    "# while True:\n",
    "#     if 1 <= len(str) <= 1000000 and ' ' not in str:\n",
    "#         print(str)\n",
    "#         break\n",
    "#     else:\n",
    "#         continue\n",
    "\n",
    "# while (str := input()) and 1<=len(str)<=1000000 and \" \" not in str:print(str);break\n",
    "\n",
    "#프로그래머스2\n",
    "#while(ab:=input().split(' '))and(all(AB/1==0)for AB in ab)and all(-100000<=len(AB)<=1000000 for AB in ab):print(f'a = {ab[0]}\\nb = {ab[1]}');break\n",
    "\n",
    "# 프로그래머스?\n",
    "# while (ab := input().split(' ')) and (all(AB/1==0) for AB in ab) and all(-100000<=len(AB)<=1000000 for AB in ab):print(sum(map(int,ab)));break\n",
    "\n",
    "#프로그래머스3\n",
    "# str,n = input().split(' ');print(str*int(n))\n",
    "#프로그래머스4\n",
    "# while(str:=input())and 1<= len(str)<=20 and str.isalpha():print(str.swapcase());break\n",
    "#프로그래머스5\n",
    "#print(r'!@#$%^&*(\\'\"<>?:;')\n",
    "#프로그래머스6\n",
    "# while(ab:=list(map(int,input().strip().split(' '))))and ab[0]>=1 and ab[1]<=100:print(f'{ab[0]} + {ab[1]} = {ab[0]+ab[1]}');break\n",
    "#프로그래머스7\n",
    "# while(ab:=input().strip().split(' '))and all(1<=len(x)<=100 for x in ab):print(ab[0]+ab[1]);break\n",
    "# print(input().strip().replace(' ', ''))\n",
    "#프로그래머스8\n",
    "#print('\\n'.join(input()))\n",
    "#print(*input(),sep='\\n')\n",
    "#while(str:=input())and 1<=len(str)<=10:[print(x)for x in str];break\n",
    "#프로그래머스9\n",
    "#while(n:=int(input()))and 1<=n<=1000:print(f'{n} is even')if n%2 ==0 else print(f'{n} is odd'); break\n",
    "#print(f'{(n:=int(input()))} is {\"odd\" if n%2!=0 else \"even\"}')\n",
    "#프로그래머스10\n",
    "'''\n",
    "import re\n",
    "\n",
    "def solution(my_string, overwrite_string, s):\n",
    "    pattern=r'^[0-9A-Za-z]+$'\n",
    "    if re.match(pattern,my_string)and re.match(pattern,overwrite_string)and 1<=len(overwrite_string)<=len(my_string)<=1000 and 0<=s<=len(my_string)-len(overwrite_string):\n",
    "        my_string = my_string[:s]+overwrite_string+my_string[s+len(overwrite_string) :]\n",
    "    return my_string\n",
    "'''\n",
    "\n",
    "#프로그래머스11\n",
    "# 길이가 같은 두 문자열 str1과 str2가 주어집니다.\n",
    "# 두 문자열의 각 문자가 앞에서부터 서로 번갈아가면서 한 번씩 등장하는 문자열을 만들어 return 하는 solution 함수를 완성해 주세요.\n",
    "# def solution(str1, str2):\n",
    "#     answer=''\n",
    "#     while True and(1<=len(str1)==len(str2)<=10)and str1==str1.lower()and str2==str2.lower():answer+=''.join(str1[i]+str2[i]for i in range(0,len(str1)));break\n",
    "#     return answer\n",
    "#프로그래머스12\n",
    "# def solution(arr):\n",
    "#     while not(answer := '') and 1<=len(arr)<=200 and (all(arr[x].islower()) for x in range(len(arr))):answer = ''.join(arr);break\n",
    "#     return answer\n",
    "#주사위 게임 1\n",
    "'''\n",
    "def solution(a, b):\n",
    "    answer = 0\n",
    "    if 1<=a<=6 and 1<=b<=6:\n",
    "        if (a+b)%2==0:\n",
    "            if a%2!=0: return a**2 + b**2\n",
    "            else: return = abs(a-b)\n",
    "        else: return = 2*(a+b)\n",
    "'''\n",
    "'''\n",
    "def solution(a, b):\n",
    "    if a%2 and b%2: return a*a+b*b\n",
    "    elif a%2 or b%2: return 2*(a+b)\n",
    "    return abs(a-b)'''\n",
    "#주사위 게임 2\n",
    "'''\n",
    "def solution(a, b, c):\n",
    "    answer = 0\n",
    "    if (all(1<=x<=6) for x in (a,b,c)):\n",
    "        if a!=b and a!=c and b!=c:\n",
    "            return (a+b+c)\n",
    "        elif  a!=b or b!=c or a!=c:\n",
    "            return (a + b + c)*(a**2 + b**2 + c**2)\n",
    "        else:\n",
    "            return (a+b+c)*(a**2+b**2+c**2)*(a**3+b**3+c**3)\n",
    "    return answer'''\n",
    "'''\n",
    "def solution(a, b, c):\n",
    "    check=len(set([a,b,c]))\n",
    "    if check==1:\n",
    "        return 3*a*3*(a**2)*3*(a**3)\n",
    "    elif check==2:\n",
    "        return (a+b+c)*(a**2+b**2+c**2)\n",
    "    else:\n",
    "        return (a+b+c)'''\n",
    "'''\n",
    "def solution(a, b, c):\n",
    "    answer=a+b+c\n",
    "    if a==b or b==c or a==c: answer*=a**2+b**2+c**2\n",
    "    if a==b==c:answer*=a**3+b**3+c**3\n",
    "    return answer'''\n",
    "#solution = lambda a, b, c: a+b+c if a!=b and b!=c and c!=a else ((a+b+c)*(a**2+b**2+c**2)*(a**3+b**3+c**3) if a==b and b==c else (a+b+c)*(a**2+b**2+c**2))\n",
    "#주사위게임 3\n",
    "'''\n",
    "def solution(a, b, c, d):\n",
    "    x=[a,b,c,d]\n",
    "    if len(set(x))==1: return 1111*a\n",
    "    elif len(set(x))==4: return min(x)\n",
    "    elif a==b and c==d: return (a+c)*abs(a-c)\n",
    "    elif a==c and b==d: return (a+b)*abs(a-b)\n",
    "    elif a==d and b==c: return (a+b)*abs(a-b)\n",
    "    \n",
    "    elif len(set(x))==2:\n",
    "        return (10*[x[i] for i in range(4) if x.count(x[i])==3 ][0] + [x[i] for i in range(4) if x.count(x[i])==1][0])**2\n",
    "    elif len(set(x))==3:\n",
    "        y = [x[i] for i in range(4) if x.count(x[i])==1]\n",
    "        return y[0]*y[1]    \n",
    "''''''\n",
    "a b c d min(x)\n",
    "p p p p 1111*p\n",
    "p p q q (p+q)*abs(p-q)\n",
    "p p p q (10*p+q)**2\n",
    "p p q r q*r\n",
    "\n",
    "'''\n",
    "\n",
    "# while(str:=list(input().strip().split(' ')))and all(1<=len(str[x])<=10)for x in range(len(str)) and\n",
    "# t=(lambda s:(lambda:\"Invalid\" if s.replace('-', '', 1).isdigit() is False else (lambda x: \"Positive\" if x > 0 else \"Negative\" if x < 0 else \"Zero\")(int(s)))())(input(\"Enter an integer: \"))\n",
    "\n",
    "# result=(lambda s:(lambda x:\"Positive\" if x > 0 else \"Negative\" if x < 0 else \"Zero\")(int(s)) if s.replace('-', '', 1).isdigit() else \"Invalid input\")(input(\"Enter an integer: \"))\n"
   ]
  },
  {
   "cell_type": "code",
   "execution_count": 11,
   "metadata": {},
   "outputs": [
    {
     "ename": "TypeError",
     "evalue": "'set' object is not subscriptable",
     "output_type": "error",
     "traceback": [
      "\u001b[1;31m---------------------------------------------------------------------------\u001b[0m",
      "\u001b[1;31mTypeError\u001b[0m                                 Traceback (most recent call last)",
      "Cell \u001b[1;32mIn[11], line 2\u001b[0m\n\u001b[0;32m      1\u001b[0m dice\u001b[38;5;241m=\u001b[39m{\u001b[38;5;241m1\u001b[39m,\u001b[38;5;241m1\u001b[39m,\u001b[38;5;241m1\u001b[39m,\u001b[38;5;241m1\u001b[39m}\n\u001b[1;32m----> 2\u001b[0m \u001b[43mdice\u001b[49m\u001b[43m[\u001b[49m\u001b[38;5;241;43m1\u001b[39;49m\u001b[43m]\u001b[49m\n",
      "\u001b[1;31mTypeError\u001b[0m: 'set' object is not subscriptable"
     ]
    }
   ],
   "source": [
    "dice={1,1,1,1}"
   ]
  },
  {
   "cell_type": "markdown",
   "metadata": {},
   "source": [
    "## 굿 스타터"
   ]
  }
 ],
 "metadata": {
  "kernelspec": {
   "display_name": "Python 3",
   "language": "python",
   "name": "python3"
  },
  "language_info": {
   "codemirror_mode": {
    "name": "ipython",
    "version": 3
   },
   "file_extension": ".py",
   "mimetype": "text/x-python",
   "name": "python",
   "nbconvert_exporter": "python",
   "pygments_lexer": "ipython3",
   "version": "3.12.4"
  }
 },
 "nbformat": 4,
 "nbformat_minor": 2
}
