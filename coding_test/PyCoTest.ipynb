{
 "cells": [
  {
   "cell_type": "markdown",
   "metadata": {},
   "source": [
    "---\n",
    "# **`백준`**\n",
    "---"
   ]
  },
  {
   "cell_type": "code",
   "execution_count": 49,
   "metadata": {},
   "outputs": [
    {
     "name": "stdout",
     "output_type": "stream",
     "text": [
      "85\n",
      "8\n"
     ]
    }
   ],
   "source": [
    "import sys\n",
    "from io import StringIO\n",
    "input_data ='''3\n",
    "29\n",
    "38\n",
    "12\n",
    "57\n",
    "74\n",
    "40\n",
    "85\n",
    "61\n",
    "'''\n",
    "sys.stdin = StringIO(input_data)\n",
    "# 백준 2562 최댓값\n",
    "import sys\n",
    "n = []\n",
    "for i in range(9):\n",
    "  n.append( int(sys.stdin.readline().strip()) )\n",
    "print( f'{max(n)}\\n{n.index(max(n))+1}' )"
   ]
  },
  {
   "cell_type": "code",
   "execution_count": 1,
   "metadata": {},
   "outputs": [
    {
     "name": "stdout",
     "output_type": "stream",
     "text": [
      "1\n",
      "2\n",
      "5\n",
      "3\n",
      "3\n",
      "-1\n",
      "-1\n"
     ]
    }
   ],
   "source": [
    "import sys\n",
    "from io import StringIO\n",
    "input_data ='''9\n",
    "4\n",
    "1 3\n",
    "1 5\n",
    "3\n",
    "2\n",
    "5\n",
    "2\n",
    "2\n",
    "5\n",
    "'''\n",
    "sys.stdin = StringIO(input_data) # 입력을 받는대신 input_data에서 테스트케이스를 읽어온다\n",
    "\n",
    "# 백준 28278 시간초과코드\n",
    "import sys\n",
    "class Node:\n",
    "    def __init__(self, data, next = None):\n",
    "        self.data = data\n",
    "        self.next = next\n",
    "class Link:\n",
    "    def __init__(self):\n",
    "        self.head = None\n",
    "        self.end = None\n",
    "        self.size = 0\n",
    "    \n",
    "    def one(self, elem): # 정수n[1]를 스택에 넣는다\n",
    "        node = Node(elem)\n",
    "        self.size += 1\n",
    "        if self.head is None:\n",
    "            self.head = node\n",
    "            self.end = self.head\n",
    "        else:\n",
    "            self.end.next = node\n",
    "            self.end = node\n",
    "            \n",
    "    def two(self): # 스택에 정수가 있다면 맨 위 정수 빼고 출력한다. 없다면 -1\n",
    "        if self.head is None: return -1\n",
    "        elif self.head == self.end:\n",
    "            res = self.end.data\n",
    "            self.head = None\n",
    "            self.end = None\n",
    "            self.size -= 1\n",
    "            return res\n",
    "        else:\n",
    "            res = self.end.data\n",
    "            cur = self.head\n",
    "            self.size -= 1\n",
    "            while cur.next != self.end:\n",
    "                cur = cur.next\n",
    "            cur.next = None\n",
    "            self.end = cur\n",
    "            self.size -= 1\n",
    "            return res\n",
    "    def three(self): # 스택에 들어있는 정수 개수 출력\n",
    "        return self.size\n",
    "    def four(self): # 스택이 비어있으면 1, 아니면 0 출력\n",
    "        if self.size == 0: return 1\n",
    "        else: return 0\n",
    "    def five(self): # 스택에 정수가 있다면 맨위 정수 출력한다. 없다면 -1\n",
    "        if self.head is None: return -1\n",
    "        else: return self.end.data\n",
    "        \n",
    "def stack():\n",
    "    N = int(sys.stdin.readline())\n",
    "    link = Link()\n",
    "    for i in range(N):\n",
    "        n = list(map(int, sys.stdin.readline().strip().split()))\n",
    "        if n[0] == 1:# 정수n[1]를 스택에 넣는다\n",
    "            link.one(n[1])\n",
    "        elif n[0] == 2:# 스택에 정수가 있다면 맨 위 정수 빼고 출력한다. 없다면 -1\n",
    "            print(link.two())\n",
    "        elif n[0] == 3:# 스택에 들어있는 정수 개수 출력\n",
    "            print(link.three())\n",
    "        elif n[0] == 4:# 스택이 비어있으면 1, 아니면 0 출력\n",
    "            print(link.four())\n",
    "        elif n[0] == 5:# 스택에 정수가 있다면 맨위 정수 출력한다. 없다면 -1  \n",
    "            print(link.five())\n",
    "stack()"
   ]
  },
  {
   "cell_type": "code",
   "execution_count": null,
   "metadata": {},
   "outputs": [],
   "source": [
    "import sys\n",
    "from io import StringIO\n",
    "input_data ='''9\n",
    "4\n",
    "1 3\n",
    "1 5\n",
    "3\n",
    "2\n",
    "5\n",
    "2\n",
    "2\n",
    "5\n",
    "'''\n",
    "sys.stdin = StringIO(input_data) # 입력을 받는대신 input_data에서 테스트케이스를 읽어온다\n",
    "\n",
    "# 백준 28278 통과코드\n",
    "import sys\n",
    "input = sys.stdin.readline\n",
    "\n",
    "class Stack:\n",
    "    def __init__(self):\n",
    "        self.stack = []\n",
    "\n",
    "    def one(self, elem):\n",
    "        self.stack.append(elem)\n",
    "\n",
    "    def two(self):\n",
    "        if not self.stack:\n",
    "            return -1\n",
    "        return self.stack.pop()\n",
    "\n",
    "    def three(self):\n",
    "        return len(self.stack)\n",
    "    \n",
    "    def four(self):\n",
    "        return 1 if not self.stack else 0\n",
    "    \n",
    "    def five(self):\n",
    "        if not self.stack:\n",
    "            return -1\n",
    "        return self.stack[-1]\n",
    "\n",
    "N = int(input())\n",
    "stack = Stack()\n",
    "\n",
    "for _ in range(N):\n",
    "    n = list(map(int, input().split()))\n",
    "    if n[0] == 1:\n",
    "        stack.one(n[1])\n",
    "    elif n[0] == 2:\n",
    "        print(stack.two())\n",
    "    elif n[0] == 3:\n",
    "        print(stack.three())\n",
    "    elif n[0] == 4:\n",
    "        print(stack.four())\n",
    "    elif n[0] == 5:\n",
    "        print(stack.five())"
   ]
  },
  {
   "cell_type": "markdown",
   "metadata": {},
   "source": [
    "---\n",
    "# **`프로그래머스`**\n",
    "---"
   ]
  },
  {
   "cell_type": "code",
   "execution_count": null,
   "metadata": {},
   "outputs": [],
   "source": [
    "# 중앙값구하기\n",
    "solution = lambda x: sorted(x)[len(x)//2]"
   ]
  },
  {
   "cell_type": "code",
   "execution_count": 11,
   "metadata": {},
   "outputs": [
    {
     "name": "stdout",
     "output_type": "stream",
     "text": [
      "393\n",
      "581\n"
     ]
    }
   ],
   "source": [
    "# 이어붙인수\n",
    "def solution(num_list):\n",
    "    even, Odd = '',''\n",
    "    for i in num_list:\n",
    "        if i%2==0:\n",
    "            even += str(i)\n",
    "        else:\n",
    "            Odd += str(i)\n",
    "    return int(even)+int(Odd)\n",
    "print(solution([3, 4, 5, 2, 1])) # 393\n",
    "print(solution([5, 7, 8, 3])) # 581"
   ]
  },
  {
   "cell_type": "code",
   "execution_count": null,
   "metadata": {},
   "outputs": [],
   "source": [
    "# 수조작하기1\n",
    "def solution(n, control):\n",
    "    for i in range(len(control)):\n",
    "        if control[i] == 'w':\n",
    "            n += 1\n",
    "        if control[i] == 's':\n",
    "            n -= 1\n",
    "        if control[i] == 'd':\n",
    "            n += 10\n",
    "        if control[i] == 'a':\n",
    "            n -= 10\n",
    "    return n"
   ]
  },
  {
   "cell_type": "code",
   "execution_count": null,
   "metadata": {},
   "outputs": [],
   "source": [
    "# 수조작하기2\n",
    "def solution(numLog):\n",
    "    for i in range(len(numLog)):\n",
    "        if numLog[i] == 'w':\n",
    "            n += 1\n",
    "        if numLog[i] == 's':\n",
    "            n -= 1\n",
    "        if numLog[i] == 'd':\n",
    "            n += 10\n",
    "        if numLog[i] == 'a':\n",
    "            n -= 10\n",
    "    return n\n",
    "아님"
   ]
  },
  {
   "cell_type": "code",
   "execution_count": null,
   "metadata": {},
   "outputs": [],
   "source": [
    "# 분수의 덧셈\n",
    "def solution(x1, y1, x2, y2):\n",
    "    a = x1*y2 + x2*y1\n",
    "    b = y1*y2\n",
    "    while b:\n",
    "        a,b = b,a%b\n",
    "    return [(x1*y2 + x2*y1)//a, y1*y2//a]"
   ]
  },
  {
   "cell_type": "code",
   "execution_count": 20,
   "metadata": {},
   "outputs": [
    {
     "name": "stdout",
     "output_type": "stream",
     "text": [
      "5\n"
     ]
    }
   ],
   "source": [
    "# 중앙값 구하기\n",
    "a= [12,3,45,5,3,41,4]\n",
    "a= sorted(a)[len(a)//2]\n",
    "print(a)"
   ]
  },
  {
   "cell_type": "code",
   "execution_count": 40,
   "metadata": {},
   "outputs": [
    {
     "data": {
      "text/plain": [
       "3"
      ]
     },
     "execution_count": 40,
     "metadata": {},
     "output_type": "execute_result"
    }
   ],
   "source": [
    "# 최빈값구하기\n",
    "def solution(x):\n",
    "    frequency = {}\n",
    "    key_counts = 0\n",
    "    mode = 0\n",
    "    \n",
    "    for i in x:\n",
    "        if i in frequency: frequency[i] += 1\n",
    "        else: frequency[i] = 1\n",
    "\n",
    "    for key,count in frequency.items():\n",
    "        if key_counts == 0: key_counts, mode = count, key\n",
    "        elif key_counts < count: key_counts, mode = count ,key\n",
    "        elif key_counts == count:  mode = -1\n",
    "    return mode\n",
    "\n",
    "solution([1, 2, 3, 3, 3, 4])"
   ]
  }
 ],
 "metadata": {
  "kernelspec": {
   "display_name": "Python 3",
   "language": "python",
   "name": "python3"
  },
  "language_info": {
   "codemirror_mode": {
    "name": "ipython",
    "version": 3
   },
   "file_extension": ".py",
   "mimetype": "text/x-python",
   "name": "python",
   "nbconvert_exporter": "python",
   "pygments_lexer": "ipython3",
   "version": "3.12.3"
  }
 },
 "nbformat": 4,
 "nbformat_minor": 2
}
